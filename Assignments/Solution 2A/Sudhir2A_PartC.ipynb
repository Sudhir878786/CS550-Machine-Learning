{
 "cells": [
  {
   "cell_type": "code",
   "execution_count": 1,
   "metadata": {},
   "outputs": [],
   "source": [
    "import numpy as np \n",
    "import pandas as pd \n",
    "import seaborn as sns\n",
    "import matplotlib as mpl\n",
    "import matplotlib.pyplot as plt\n",
    "import matplotlib.pylab as pylab\n",
    "from sklearn.preprocessing import OneHotEncoder, LabelEncoder\n",
    "from sklearn.model_selection import train_test_split\n",
    "from sklearn.preprocessing import StandardScaler\n",
    "from sklearn.decomposition import PCA\n",
    "from sklearn.pipeline import Pipeline\n",
    "from sklearn.tree import DecisionTreeRegressor\n",
    "from sklearn.ensemble import RandomForestRegressor\n",
    "from sklearn.linear_model import LinearRegression\n",
    "from xgboost import XGBRegressor\n",
    "from sklearn.neighbors import KNeighborsRegressor\n",
    "from sklearn.model_selection import cross_val_score\n",
    "from sklearn.metrics import mean_squared_error\n",
    "from sklearn import metrics"
   ]
  },
  {
   "cell_type": "code",
   "execution_count": 2,
   "metadata": {},
   "outputs": [
    {
     "data": {
      "text/html": [
       "<div>\n",
       "<style scoped>\n",
       "    .dataframe tbody tr th:only-of-type {\n",
       "        vertical-align: middle;\n",
       "    }\n",
       "\n",
       "    .dataframe tbody tr th {\n",
       "        vertical-align: top;\n",
       "    }\n",
       "\n",
       "    .dataframe thead th {\n",
       "        text-align: right;\n",
       "    }\n",
       "</style>\n",
       "<table border=\"1\" class=\"dataframe\">\n",
       "  <thead>\n",
       "    <tr style=\"text-align: right;\">\n",
       "      <th></th>\n",
       "      <th>Deal_num</th>\n",
       "      <th>Buying_Cost</th>\n",
       "      <th>Maintainance_Cost</th>\n",
       "      <th>Number_of_doors</th>\n",
       "      <th>Number_of_Passenger</th>\n",
       "      <th>Luggage_Space</th>\n",
       "      <th>Safety_Features</th>\n",
       "    </tr>\n",
       "  </thead>\n",
       "  <tbody>\n",
       "    <tr>\n",
       "      <th>0</th>\n",
       "      <td>0</td>\n",
       "      <td>low</td>\n",
       "      <td>low</td>\n",
       "      <td>5more</td>\n",
       "      <td>more</td>\n",
       "      <td>big</td>\n",
       "      <td>high</td>\n",
       "    </tr>\n",
       "    <tr>\n",
       "      <th>1</th>\n",
       "      <td>1</td>\n",
       "      <td>low</td>\n",
       "      <td>low</td>\n",
       "      <td>2</td>\n",
       "      <td>2</td>\n",
       "      <td>small</td>\n",
       "      <td>high</td>\n",
       "    </tr>\n",
       "    <tr>\n",
       "      <th>2</th>\n",
       "      <td>2</td>\n",
       "      <td>low</td>\n",
       "      <td>med</td>\n",
       "      <td>5more</td>\n",
       "      <td>4</td>\n",
       "      <td>med</td>\n",
       "      <td>low</td>\n",
       "    </tr>\n",
       "    <tr>\n",
       "      <th>3</th>\n",
       "      <td>3</td>\n",
       "      <td>low</td>\n",
       "      <td>low</td>\n",
       "      <td>4</td>\n",
       "      <td>2</td>\n",
       "      <td>big</td>\n",
       "      <td>low</td>\n",
       "    </tr>\n",
       "    <tr>\n",
       "      <th>4</th>\n",
       "      <td>4</td>\n",
       "      <td>low</td>\n",
       "      <td>low</td>\n",
       "      <td>4</td>\n",
       "      <td>2</td>\n",
       "      <td>med</td>\n",
       "      <td>high</td>\n",
       "    </tr>\n",
       "    <tr>\n",
       "      <th>...</th>\n",
       "      <td>...</td>\n",
       "      <td>...</td>\n",
       "      <td>...</td>\n",
       "      <td>...</td>\n",
       "      <td>...</td>\n",
       "      <td>...</td>\n",
       "      <td>...</td>\n",
       "    </tr>\n",
       "    <tr>\n",
       "      <th>169</th>\n",
       "      <td>169</td>\n",
       "      <td>low</td>\n",
       "      <td>med</td>\n",
       "      <td>4</td>\n",
       "      <td>2</td>\n",
       "      <td>small</td>\n",
       "      <td>low</td>\n",
       "    </tr>\n",
       "    <tr>\n",
       "      <th>170</th>\n",
       "      <td>170</td>\n",
       "      <td>low</td>\n",
       "      <td>med</td>\n",
       "      <td>5more</td>\n",
       "      <td>2</td>\n",
       "      <td>small</td>\n",
       "      <td>med</td>\n",
       "    </tr>\n",
       "    <tr>\n",
       "      <th>171</th>\n",
       "      <td>171</td>\n",
       "      <td>low</td>\n",
       "      <td>med</td>\n",
       "      <td>5more</td>\n",
       "      <td>more</td>\n",
       "      <td>big</td>\n",
       "      <td>low</td>\n",
       "    </tr>\n",
       "    <tr>\n",
       "      <th>172</th>\n",
       "      <td>172</td>\n",
       "      <td>low</td>\n",
       "      <td>high</td>\n",
       "      <td>5more</td>\n",
       "      <td>4</td>\n",
       "      <td>small</td>\n",
       "      <td>low</td>\n",
       "    </tr>\n",
       "    <tr>\n",
       "      <th>173</th>\n",
       "      <td>173</td>\n",
       "      <td>low</td>\n",
       "      <td>med</td>\n",
       "      <td>5more</td>\n",
       "      <td>more</td>\n",
       "      <td>med</td>\n",
       "      <td>low</td>\n",
       "    </tr>\n",
       "  </tbody>\n",
       "</table>\n",
       "<p>174 rows × 7 columns</p>\n",
       "</div>"
      ],
      "text/plain": [
       "     Deal_num Buying_Cost Maintainance_Cost Number_of_doors  \\\n",
       "0           0         low               low           5more   \n",
       "1           1         low               low               2   \n",
       "2           2         low               med           5more   \n",
       "3           3         low               low               4   \n",
       "4           4         low               low               4   \n",
       "..        ...         ...               ...             ...   \n",
       "169       169         low               med               4   \n",
       "170       170         low               med           5more   \n",
       "171       171         low               med           5more   \n",
       "172       172         low              high           5more   \n",
       "173       173         low               med           5more   \n",
       "\n",
       "    Number_of_Passenger Luggage_Space Safety_Features  \n",
       "0                  more           big            high  \n",
       "1                     2         small            high  \n",
       "2                     4           med             low  \n",
       "3                     2           big             low  \n",
       "4                     2           med            high  \n",
       "..                  ...           ...             ...  \n",
       "169                   2         small             low  \n",
       "170                   2         small             med  \n",
       "171                more           big             low  \n",
       "172                   4         small             low  \n",
       "173                more           med             low  \n",
       "\n",
       "[174 rows x 7 columns]"
      ]
     },
     "execution_count": 2,
     "metadata": {},
     "output_type": "execute_result"
    }
   ],
   "source": [
    "data = pd.read_csv(\"../input/car_selling/training_data.csv\")\n",
    "test = pd.read_csv(\"../input/car_selling/testing_data.csv\")\n",
    "data.head()"
   ]
  },
  {
   "cell_type": "code",
   "execution_count": 3,
   "metadata": {},
   "outputs": [
    {
     "data": {
      "text/plain": [
       "(1554, 7)"
      ]
     },
     "execution_count": 3,
     "metadata": {},
     "output_type": "execute_result"
    }
   ],
   "source": [
    "data.shape"
   ]
  },
  {
   "cell_type": "code",
   "execution_count": 4,
   "metadata": {},
   "outputs": [
    {
     "name": "stdout",
     "output_type": "stream",
     "text": [
      "<class 'pandas.core.frame.DataFrame'>\n",
      "RangeIndex: 1554 entries, 0 to 1553\n",
      "Data columns (total 7 columns):\n",
      " #   Column               Non-Null Count  Dtype \n",
      "---  ------               --------------  ----- \n",
      " 0   Buying_Cost          1554 non-null   object\n",
      " 1   Maintainance_Cost    1554 non-null   object\n",
      " 2   Number_of_doors      1554 non-null   object\n",
      " 3   Number_of_Passenger  1554 non-null   object\n",
      " 4   Luggage_Space        1554 non-null   object\n",
      " 5   Safety_Features      1554 non-null   object\n",
      " 6   How_is_the_deal      1554 non-null   object\n",
      "dtypes: object(7)\n",
      "memory usage: 85.1+ KB\n"
     ]
    }
   ],
   "source": [
    "data.info()"
   ]
  },
  {
   "cell_type": "markdown",
   "metadata": {},
   "source": [
    "No null values"
   ]
  },
  {
   "cell_type": "code",
   "execution_count": 5,
   "metadata": {},
   "outputs": [],
   "source": [
    "col_names = ['buying', 'maint', 'doors', 'persons', 'lug_boot', 'safety', 'class']\n",
    "data.columns = col_names\n",
    "col_names.remove('class')\n",
    "test = test.drop('Deal_num',axis =1 )\n",
    "test.columns = col_names"
   ]
  },
  {
   "cell_type": "code",
   "execution_count": 6,
   "metadata": {},
   "outputs": [
    {
     "data": {
      "text/html": [
       "<div>\n",
       "<style scoped>\n",
       "    .dataframe tbody tr th:only-of-type {\n",
       "        vertical-align: middle;\n",
       "    }\n",
       "\n",
       "    .dataframe tbody tr th {\n",
       "        vertical-align: top;\n",
       "    }\n",
       "\n",
       "    .dataframe thead th {\n",
       "        text-align: right;\n",
       "    }\n",
       "</style>\n",
       "<table border=\"1\" class=\"dataframe\">\n",
       "  <thead>\n",
       "    <tr style=\"text-align: right;\">\n",
       "      <th></th>\n",
       "      <th>buying</th>\n",
       "      <th>maint</th>\n",
       "      <th>doors</th>\n",
       "      <th>persons</th>\n",
       "      <th>lug_boot</th>\n",
       "      <th>safety</th>\n",
       "      <th>class</th>\n",
       "    </tr>\n",
       "  </thead>\n",
       "  <tbody>\n",
       "    <tr>\n",
       "      <th>0</th>\n",
       "      <td>vhigh</td>\n",
       "      <td>med</td>\n",
       "      <td>2</td>\n",
       "      <td>4</td>\n",
       "      <td>small</td>\n",
       "      <td>low</td>\n",
       "      <td>Bad_deal</td>\n",
       "    </tr>\n",
       "    <tr>\n",
       "      <th>1</th>\n",
       "      <td>vhigh</td>\n",
       "      <td>med</td>\n",
       "      <td>5more</td>\n",
       "      <td>4</td>\n",
       "      <td>small</td>\n",
       "      <td>low</td>\n",
       "      <td>Bad_deal</td>\n",
       "    </tr>\n",
       "    <tr>\n",
       "      <th>2</th>\n",
       "      <td>med</td>\n",
       "      <td>vhigh</td>\n",
       "      <td>5more</td>\n",
       "      <td>4</td>\n",
       "      <td>small</td>\n",
       "      <td>low</td>\n",
       "      <td>Bad_deal</td>\n",
       "    </tr>\n",
       "    <tr>\n",
       "      <th>3</th>\n",
       "      <td>high</td>\n",
       "      <td>high</td>\n",
       "      <td>3</td>\n",
       "      <td>2</td>\n",
       "      <td>med</td>\n",
       "      <td>med</td>\n",
       "      <td>Bad_deal</td>\n",
       "    </tr>\n",
       "    <tr>\n",
       "      <th>4</th>\n",
       "      <td>vhigh</td>\n",
       "      <td>vhigh</td>\n",
       "      <td>5more</td>\n",
       "      <td>4</td>\n",
       "      <td>small</td>\n",
       "      <td>med</td>\n",
       "      <td>Bad_deal</td>\n",
       "    </tr>\n",
       "  </tbody>\n",
       "</table>\n",
       "</div>"
      ],
      "text/plain": [
       "  buying  maint  doors persons lug_boot safety     class\n",
       "0  vhigh    med      2       4    small    low  Bad_deal\n",
       "1  vhigh    med  5more       4    small    low  Bad_deal\n",
       "2    med  vhigh  5more       4    small    low  Bad_deal\n",
       "3   high   high      3       2      med    med  Bad_deal\n",
       "4  vhigh  vhigh  5more       4    small    med  Bad_deal"
      ]
     },
     "execution_count": 6,
     "metadata": {},
     "output_type": "execute_result"
    }
   ],
   "source": [
    "data.head()"
   ]
  },
  {
   "cell_type": "code",
   "execution_count": 7,
   "metadata": {},
   "outputs": [],
   "source": [
    "train = data.copy()"
   ]
  },
  {
   "cell_type": "code",
   "execution_count": 8,
   "metadata": {},
   "outputs": [
    {
     "data": {
      "text/plain": [
       "array(['vhigh', 'med', 'high', 'low'], dtype=object)"
      ]
     },
     "execution_count": 8,
     "metadata": {},
     "output_type": "execute_result"
    }
   ],
   "source": [
    "train['buying'].unique()"
   ]
  },
  {
   "cell_type": "code",
   "execution_count": 9,
   "metadata": {},
   "outputs": [
    {
     "data": {
      "text/plain": [
       "array(['med', 'vhigh', 'high', 'low'], dtype=object)"
      ]
     },
     "execution_count": 9,
     "metadata": {},
     "output_type": "execute_result"
    }
   ],
   "source": [
    "train['maint'].unique()"
   ]
  },
  {
   "cell_type": "code",
   "execution_count": 10,
   "metadata": {},
   "outputs": [
    {
     "data": {
      "text/plain": [
       "array(['2', '5more', '3', '4'], dtype=object)"
      ]
     },
     "execution_count": 10,
     "metadata": {},
     "output_type": "execute_result"
    }
   ],
   "source": [
    "train['doors'].unique()"
   ]
  },
  {
   "cell_type": "code",
   "execution_count": 11,
   "metadata": {},
   "outputs": [
    {
     "data": {
      "text/plain": [
       "array(['4', '2', 'more'], dtype=object)"
      ]
     },
     "execution_count": 11,
     "metadata": {},
     "output_type": "execute_result"
    }
   ],
   "source": [
    "train['persons'].unique()"
   ]
  },
  {
   "cell_type": "code",
   "execution_count": 12,
   "metadata": {},
   "outputs": [
    {
     "data": {
      "image/png": "[encoded data removed]",
      "text/plain": [
       "<Figure size 500x500 with 1 Axes>"
      ]
     },
     "metadata": {},
     "output_type": "display_data"
    }
   ],
   "source": [
    "sns.catplot(x='doors', data=train, kind='count');"
   ]
  },
  {
   "cell_type": "markdown",
   "metadata": {},
   "source": [
    "5more seems to be a probematic value."
   ]
  },
  {
   "cell_type": "code",
   "execution_count": 13,
   "metadata": {},
   "outputs": [
    {
     "data": {
      "text/plain": [
       "array(['4', '2', 'more'], dtype=object)"
      ]
     },
     "execution_count": 13,
     "metadata": {},
     "output_type": "execute_result"
    }
   ],
   "source": [
    "train['persons'].unique()"
   ]
  },
  {
   "cell_type": "code",
   "execution_count": 14,
   "metadata": {},
   "outputs": [
    {
     "name": "stdout",
     "output_type": "stream",
     "text": [
      "buying\n",
      "vhigh    432\n",
      "med      432\n",
      "high     432\n",
      "low      258\n",
      "Name: buying, dtype: int64\n",
      "maint\n",
      "vhigh    432\n",
      "high     416\n",
      "med      360\n",
      "low      346\n",
      "Name: maint, dtype: int64\n",
      "doors\n",
      "3        396\n",
      "4        394\n",
      "2        392\n",
      "5more    372\n",
      "Name: doors, dtype: int64\n",
      "persons\n",
      "4       528\n",
      "more    524\n",
      "2       502\n",
      "Name: persons, dtype: int64\n",
      "lug_boot\n",
      "big      524\n",
      "med      520\n",
      "small    510\n",
      "Name: lug_boot, dtype: int64\n",
      "safety\n",
      "high    539\n",
      "med     517\n",
      "low     498\n",
      "Name: safety, dtype: int64\n",
      "class\n",
      "Bad_deal     1434\n",
      "Nice_deal     120\n",
      "Name: class, dtype: int64\n"
     ]
    }
   ],
   "source": [
    "col_names = ['buying', 'maint', 'doors', 'persons', 'lug_boot', 'safety', 'class']\n",
    "\n",
    "\n",
    "for col in col_names:\n",
    "    print(col)\n",
    "    print(train[col].value_counts()) "
   ]
  },
  {
   "cell_type": "code",
   "execution_count": 15,
   "metadata": {},
   "outputs": [],
   "source": [
    "y = train['class']\n",
    "x = train.drop(['class'],axis =1)"
   ]
  },
  {
   "cell_type": "code",
   "execution_count": 16,
   "metadata": {},
   "outputs": [],
   "source": [
    "from sklearn.model_selection import train_test_split\n",
    "\n",
    "x_train, x_test, y_train, y_test = train_test_split(x, y, test_size = 0.3, random_state = 42)"
   ]
  },
  {
   "cell_type": "code",
   "execution_count": 17,
   "metadata": {},
   "outputs": [
    {
     "data": {
      "text/plain": [
       "buying      object\n",
       "maint       object\n",
       "doors       object\n",
       "persons     object\n",
       "lug_boot    object\n",
       "safety      object\n",
       "dtype: object"
      ]
     },
     "execution_count": 17,
     "metadata": {},
     "output_type": "execute_result"
    }
   ],
   "source": [
    "x_train.dtypes"
   ]
  },
  {
   "cell_type": "code",
   "execution_count": 18,
   "metadata": {},
   "outputs": [],
   "source": [
    "import category_encoders as ce"
   ]
  },
  {
   "cell_type": "code",
   "execution_count": 19,
   "metadata": {},
   "outputs": [],
   "source": [
    "encoder = ce.OrdinalEncoder(cols=['buying', 'maint', 'doors', 'persons', 'lug_boot', 'safety'])\n",
    "\n",
    "\n",
    "x_train = encoder.fit_transform(x_train)\n",
    "\n",
    "x_test = encoder.transform(x_test)\n",
    "\n",
    "test = encoder.transform(test)"
   ]
  },
  {
   "cell_type": "code",
   "execution_count": 25,
   "metadata": {},
   "outputs": [],
   "source": [
    "from sklearn.tree import DecisionTreeClassifier"
   ]
  },
  {
   "cell_type": "code",
   "execution_count": 26,
   "metadata": {},
   "outputs": [
    {
     "data": {
      "text/html": [
       "<style>#sk-container-id-1 {color: black;background-color: white;}#sk-container-id-1 pre{padding: 0;}#sk-container-id-1 div.sk-toggleable {background-color: white;}#sk-container-id-1 label.sk-toggleable__label {cursor: pointer;display: block;width: 100%;margin-bottom: 0;padding: 0.3em;box-sizing: border-box;text-align: center;}#sk-container-id-1 label.sk-toggleable__label-arrow:before {content: \"▸\";float: left;margin-right: 0.25em;color: #696969;}#sk-container-id-1 label.sk-toggleable__label-arrow:hover:before {color: black;}#sk-container-id-1 div.sk-estimator:hover label.sk-toggleable__label-arrow:before {color: black;}#sk-container-id-1 div.sk-toggleable__content {max-height: 0;max-width: 0;overflow: hidden;text-align: left;background-color: #f0f8ff;}#sk-container-id-1 div.sk-toggleable__content pre {margin: 0.2em;color: black;border-radius: 0.25em;background-color: #f0f8ff;}#sk-container-id-1 input.sk-toggleable__control:checked~div.sk-toggleable__content {max-height: 200px;max-width: 100%;overflow: auto;}#sk-container-id-1 input.sk-toggleable__control:checked~label.sk-toggleable__label-arrow:before {content: \"▾\";}#sk-container-id-1 div.sk-estimator input.sk-toggleable__control:checked~label.sk-toggleable__label {background-color: #d4ebff;}#sk-container-id-1 div.sk-label input.sk-toggleable__control:checked~label.sk-toggleable__label {background-color: #d4ebff;}#sk-container-id-1 input.sk-hidden--visually {border: 0;clip: rect(1px 1px 1px 1px);clip: rect(1px, 1px, 1px, 1px);height: 1px;margin: -1px;overflow: hidden;padding: 0;position: absolute;width: 1px;}#sk-container-id-1 div.sk-estimator {font-family: monospace;background-color: #f0f8ff;border: 1px dotted black;border-radius: 0.25em;box-sizing: border-box;margin-bottom: 0.5em;}#sk-container-id-1 div.sk-estimator:hover {background-color: #d4ebff;}#sk-container-id-1 div.sk-parallel-item::after {content: \"\";width: 100%;border-bottom: 1px solid gray;flex-grow: 1;}#sk-container-id-1 div.sk-label:hover label.sk-toggleable__label {background-color: #d4ebff;}#sk-container-id-1 div.sk-serial::before {content: \"\";position: absolute;border-left: 1px solid gray;box-sizing: border-box;top: 0;bottom: 0;left: 50%;z-index: 0;}#sk-container-id-1 div.sk-serial {display: flex;flex-direction: column;align-items: center;background-color: white;padding-right: 0.2em;padding-left: 0.2em;position: relative;}#sk-container-id-1 div.sk-item {position: relative;z-index: 1;}#sk-container-id-1 div.sk-parallel {display: flex;align-items: stretch;justify-content: center;background-color: white;position: relative;}#sk-container-id-1 div.sk-item::before, #sk-container-id-1 div.sk-parallel-item::before {content: \"\";position: absolute;border-left: 1px solid gray;box-sizing: border-box;top: 0;bottom: 0;left: 50%;z-index: -1;}#sk-container-id-1 div.sk-parallel-item {display: flex;flex-direction: column;z-index: 1;position: relative;background-color: white;}#sk-container-id-1 div.sk-parallel-item:first-child::after {align-self: flex-end;width: 50%;}#sk-container-id-1 div.sk-parallel-item:last-child::after {align-self: flex-start;width: 50%;}#sk-container-id-1 div.sk-parallel-item:only-child::after {width: 0;}#sk-container-id-1 div.sk-dashed-wrapped {border: 1px dashed gray;margin: 0 0.4em 0.5em 0.4em;box-sizing: border-box;padding-bottom: 0.4em;background-color: white;}#sk-container-id-1 div.sk-label label {font-family: monospace;font-weight: bold;display: inline-block;line-height: 1.2em;}#sk-container-id-1 div.sk-label-container {text-align: center;}#sk-container-id-1 div.sk-container {/* jupyter's `normalize.less` sets `[hidden] { display: none; }` but bootstrap.min.css set `[hidden] { display: none !important; }` so we also need the `!important` here to be able to override the default hidden behavior on the sphinx rendered scikit-learn.org. See: https://github.com/scikit-learn/scikit-learn/issues/21755 */display: inline-block !important;position: relative;}#sk-container-id-1 div.sk-text-repr-fallback {display: none;}</style><div id=\"sk-container-id-1\" class=\"sk-top-container\"><div class=\"sk-text-repr-fallback\"><pre>DecisionTreeClassifier(max_depth=3, random_state=0)</pre><b>In a Jupyter environment, please rerun this cell to show the HTML representation or trust the notebook. <br />On GitHub, the HTML representation is unable to render, please try loading this page with nbviewer.org.</b></div><div class=\"sk-container\" hidden><div class=\"sk-item\"><div class=\"sk-estimator sk-toggleable\"><input class=\"sk-toggleable__control sk-hidden--visually\" id=\"sk-estimator-id-1\" type=\"checkbox\" checked><label for=\"sk-estimator-id-1\" class=\"sk-toggleable__label sk-toggleable__label-arrow\">DecisionTreeClassifier</label><div class=\"sk-toggleable__content\"><pre>DecisionTreeClassifier(max_depth=3, random_state=0)</pre></div></div></div></div></div>"
      ],
      "text/plain": [
       "DecisionTreeClassifier(max_depth=3, random_state=0)"
      ]
     },
     "execution_count": 26,
     "metadata": {},
     "output_type": "execute_result"
    }
   ],
   "source": [
    "clf_gini = DecisionTreeClassifier(criterion='gini', max_depth=3, random_state=0)\n",
    "clf_gini.fit(x_train, y_train)"
   ]
  },
  {
   "cell_type": "code",
   "execution_count": 27,
   "metadata": {},
   "outputs": [],
   "source": [
    "y_pred_gini = clf_gini.predict(x_test)"
   ]
  },
  {
   "cell_type": "code",
   "execution_count": 28,
   "metadata": {},
   "outputs": [
    {
     "name": "stdout",
     "output_type": "stream",
     "text": [
      "Model accuracy score with criterion gini index: 0.9443\n"
     ]
    }
   ],
   "source": [
    "from sklearn.metrics import accuracy_score\n",
    "\n",
    "print('Model accuracy score with criterion gini index: {0:0.4f}'. format(accuracy_score(y_test, y_pred_gini)))"
   ]
  },
  {
   "cell_type": "code",
   "execution_count": 30,
   "metadata": {},
   "outputs": [
    {
     "data": {
      "text/plain": [
       "[Text(0.5555555555555556, 0.875, 'X[0] <= 3.5\\ngini = 0.127\\nsamples = 1087\\nvalue = [1013, 74]'),\n",
       " Text(0.3333333333333333, 0.625, 'X[0] <= 1.5\\ngini = 0.062\\nsamples = 913\\nvalue = [884, 29]'),\n",
       " Text(0.2222222222222222, 0.375, 'X[1] <= 1.5\\ngini = 0.173\\nsamples = 304\\nvalue = [275, 29]'),\n",
       " Text(0.1111111111111111, 0.125, 'gini = 0.418\\nsamples = 74\\nvalue = [52, 22]'),\n",
       " Text(0.3333333333333333, 0.125, 'gini = 0.059\\nsamples = 230\\nvalue = [223, 7]'),\n",
       " Text(0.4444444444444444, 0.375, 'gini = 0.0\\nsamples = 609\\nvalue = [609, 0]'),\n",
       " Text(0.7777777777777778, 0.625, 'X[1] <= 3.5\\ngini = 0.383\\nsamples = 174\\nvalue = [129, 45]'),\n",
       " Text(0.6666666666666666, 0.375, 'X[1] <= 1.5\\ngini = 0.232\\nsamples = 149\\nvalue = [129, 20]'),\n",
       " Text(0.5555555555555556, 0.125, 'gini = 0.0\\nsamples = 13\\nvalue = [0, 13]'),\n",
       " Text(0.7777777777777778, 0.125, 'gini = 0.098\\nsamples = 136\\nvalue = [129, 7]'),\n",
       " Text(0.8888888888888888, 0.375, 'gini = 0.0\\nsamples = 25\\nvalue = [0, 25]')]"
      ]
     },
     "execution_count": 30,
     "metadata": {},
     "output_type": "execute_result"
    }
   ],
   "source": [
    "plt.figure(figsize=(12,8))\n",
    "\n",
    "from sklearn import tree\n",
    "\n",
    "tree.plot_tree(clf_gini.fit(x_train, y_train)) "
   ]
  },
  {
   "cell_type": "code",
   "execution_count": 31,
   "metadata": {},
   "outputs": [
    {
     "data": {
      "text/plain": [
       "array(['Bad_deal', 'Nice_deal', 'Bad_deal', 'Bad_deal', 'Bad_deal',\n",
       "       'Bad_deal', 'Bad_deal', 'Bad_deal', 'Bad_deal', 'Bad_deal',\n",
       "       'Bad_deal', 'Bad_deal', 'Bad_deal', 'Bad_deal', 'Bad_deal',\n",
       "       'Bad_deal', 'Bad_deal', 'Bad_deal', 'Nice_deal', 'Bad_deal',\n",
       "       'Bad_deal', 'Bad_deal', 'Bad_deal', 'Bad_deal', 'Bad_deal',\n",
       "       'Bad_deal', 'Bad_deal', 'Bad_deal', 'Bad_deal', 'Bad_deal',\n",
       "       'Bad_deal', 'Bad_deal', 'Bad_deal', 'Bad_deal', 'Bad_deal',\n",
       "       'Bad_deal', 'Bad_deal', 'Bad_deal', 'Bad_deal', 'Bad_deal',\n",
       "       'Bad_deal', 'Bad_deal', 'Bad_deal', 'Bad_deal', 'Bad_deal',\n",
       "       'Bad_deal', 'Bad_deal', 'Bad_deal', 'Bad_deal', 'Bad_deal',\n",
       "       'Bad_deal', 'Bad_deal', 'Bad_deal', 'Bad_deal', 'Bad_deal',\n",
       "       'Bad_deal', 'Bad_deal', 'Bad_deal', 'Nice_deal', 'Bad_deal',\n",
       "       'Bad_deal', 'Bad_deal', 'Bad_deal', 'Bad_deal', 'Bad_deal',\n",
       "       'Bad_deal', 'Bad_deal', 'Nice_deal', 'Bad_deal', 'Bad_deal',\n",
       "       'Bad_deal', 'Bad_deal', 'Bad_deal', 'Bad_deal', 'Bad_deal',\n",
       "       'Bad_deal', 'Bad_deal', 'Bad_deal', 'Bad_deal', 'Bad_deal',\n",
       "       'Bad_deal', 'Bad_deal', 'Bad_deal', 'Bad_deal', 'Bad_deal',\n",
       "       'Bad_deal', 'Bad_deal', 'Bad_deal', 'Bad_deal', 'Bad_deal',\n",
       "       'Bad_deal', 'Bad_deal', 'Bad_deal', 'Bad_deal', 'Bad_deal',\n",
       "       'Bad_deal', 'Bad_deal', 'Bad_deal', 'Bad_deal', 'Bad_deal',\n",
       "       'Nice_deal', 'Bad_deal', 'Bad_deal', 'Bad_deal', 'Bad_deal',\n",
       "       'Bad_deal', 'Bad_deal', 'Nice_deal', 'Bad_deal', 'Bad_deal',\n",
       "       'Bad_deal', 'Bad_deal', 'Bad_deal', 'Bad_deal', 'Bad_deal',\n",
       "       'Bad_deal', 'Bad_deal', 'Bad_deal', 'Bad_deal', 'Bad_deal',\n",
       "       'Bad_deal', 'Bad_deal', 'Bad_deal', 'Bad_deal', 'Bad_deal',\n",
       "       'Bad_deal', 'Bad_deal', 'Bad_deal', 'Bad_deal', 'Bad_deal',\n",
       "       'Bad_deal', 'Bad_deal', 'Bad_deal', 'Nice_deal', 'Bad_deal',\n",
       "       'Bad_deal', 'Bad_deal', 'Bad_deal', 'Bad_deal', 'Bad_deal',\n",
       "       'Bad_deal', 'Bad_deal', 'Bad_deal', 'Bad_deal', 'Bad_deal',\n",
       "       'Bad_deal', 'Bad_deal', 'Bad_deal', 'Bad_deal', 'Nice_deal',\n",
       "       'Bad_deal', 'Bad_deal', 'Bad_deal', 'Bad_deal', 'Bad_deal',\n",
       "       'Bad_deal', 'Bad_deal', 'Bad_deal', 'Bad_deal', 'Bad_deal',\n",
       "       'Bad_deal', 'Bad_deal', 'Bad_deal', 'Bad_deal', 'Bad_deal',\n",
       "       'Bad_deal', 'Bad_deal', 'Bad_deal', 'Bad_deal', 'Nice_deal',\n",
       "       'Bad_deal', 'Bad_deal', 'Bad_deal', 'Bad_deal', 'Bad_deal',\n",
       "       'Bad_deal', 'Bad_deal', 'Nice_deal', 'Bad_deal', 'Bad_deal',\n",
       "       'Bad_deal', 'Bad_deal', 'Bad_deal', 'Bad_deal', 'Bad_deal',\n",
       "       'Bad_deal', 'Bad_deal', 'Bad_deal', 'Bad_deal', 'Bad_deal',\n",
       "       'Bad_deal', 'Bad_deal', 'Bad_deal', 'Bad_deal', 'Bad_deal',\n",
       "       'Bad_deal', 'Bad_deal', 'Bad_deal', 'Bad_deal', 'Bad_deal',\n",
       "       'Bad_deal', 'Bad_deal', 'Bad_deal', 'Bad_deal', 'Bad_deal',\n",
       "       'Bad_deal', 'Bad_deal', 'Bad_deal', 'Bad_deal', 'Bad_deal',\n",
       "       'Bad_deal', 'Nice_deal', 'Bad_deal', 'Bad_deal', 'Bad_deal',\n",
       "       'Bad_deal', 'Bad_deal', 'Bad_deal', 'Bad_deal', 'Bad_deal',\n",
       "       'Bad_deal', 'Bad_deal', 'Bad_deal', 'Bad_deal', 'Bad_deal',\n",
       "       'Bad_deal', 'Bad_deal', 'Bad_deal', 'Bad_deal', 'Bad_deal',\n",
       "       'Bad_deal', 'Bad_deal', 'Bad_deal', 'Bad_deal', 'Bad_deal',\n",
       "       'Bad_deal', 'Bad_deal', 'Bad_deal', 'Bad_deal', 'Bad_deal',\n",
       "       'Bad_deal', 'Bad_deal', 'Bad_deal', 'Bad_deal', 'Bad_deal',\n",
       "       'Bad_deal', 'Bad_deal', 'Bad_deal', 'Bad_deal', 'Bad_deal',\n",
       "       'Bad_deal', 'Bad_deal', 'Bad_deal', 'Bad_deal', 'Bad_deal',\n",
       "       'Bad_deal', 'Bad_deal', 'Bad_deal', 'Bad_deal', 'Bad_deal',\n",
       "       'Bad_deal', 'Bad_deal', 'Bad_deal', 'Bad_deal', 'Bad_deal',\n",
       "       'Bad_deal', 'Bad_deal', 'Bad_deal', 'Bad_deal', 'Bad_deal',\n",
       "       'Bad_deal', 'Bad_deal', 'Bad_deal', 'Bad_deal', 'Bad_deal',\n",
       "       'Bad_deal', 'Nice_deal', 'Bad_deal', 'Bad_deal', 'Bad_deal',\n",
       "       'Bad_deal', 'Bad_deal', 'Bad_deal', 'Bad_deal', 'Nice_deal',\n",
       "       'Bad_deal', 'Bad_deal', 'Bad_deal', 'Bad_deal', 'Bad_deal',\n",
       "       'Bad_deal', 'Bad_deal', 'Bad_deal', 'Bad_deal', 'Bad_deal',\n",
       "       'Bad_deal', 'Bad_deal', 'Bad_deal', 'Bad_deal', 'Bad_deal',\n",
       "       'Bad_deal', 'Bad_deal', 'Bad_deal', 'Bad_deal', 'Bad_deal',\n",
       "       'Bad_deal', 'Bad_deal', 'Bad_deal', 'Bad_deal', 'Bad_deal',\n",
       "       'Bad_deal', 'Bad_deal', 'Bad_deal', 'Bad_deal', 'Bad_deal',\n",
       "       'Bad_deal', 'Bad_deal', 'Bad_deal', 'Bad_deal', 'Nice_deal',\n",
       "       'Bad_deal', 'Bad_deal', 'Bad_deal', 'Bad_deal', 'Bad_deal',\n",
       "       'Bad_deal', 'Bad_deal', 'Bad_deal', 'Bad_deal', 'Bad_deal',\n",
       "       'Bad_deal', 'Bad_deal', 'Bad_deal', 'Nice_deal', 'Bad_deal',\n",
       "       'Bad_deal', 'Bad_deal', 'Bad_deal', 'Bad_deal', 'Bad_deal',\n",
       "       'Bad_deal', 'Bad_deal', 'Bad_deal', 'Bad_deal', 'Bad_deal',\n",
       "       'Bad_deal', 'Bad_deal', 'Bad_deal', 'Bad_deal', 'Bad_deal',\n",
       "       'Bad_deal', 'Bad_deal', 'Bad_deal', 'Bad_deal', 'Bad_deal',\n",
       "       'Bad_deal', 'Bad_deal', 'Bad_deal', 'Bad_deal', 'Bad_deal',\n",
       "       'Bad_deal', 'Nice_deal', 'Bad_deal', 'Bad_deal', 'Bad_deal',\n",
       "       'Bad_deal', 'Bad_deal', 'Bad_deal', 'Bad_deal', 'Bad_deal',\n",
       "       'Bad_deal', 'Bad_deal', 'Bad_deal', 'Bad_deal', 'Bad_deal',\n",
       "       'Bad_deal', 'Bad_deal', 'Bad_deal', 'Bad_deal', 'Bad_deal',\n",
       "       'Nice_deal', 'Bad_deal', 'Nice_deal', 'Bad_deal', 'Bad_deal',\n",
       "       'Bad_deal', 'Bad_deal', 'Bad_deal', 'Nice_deal', 'Bad_deal',\n",
       "       'Bad_deal', 'Bad_deal', 'Bad_deal', 'Bad_deal', 'Bad_deal',\n",
       "       'Bad_deal', 'Bad_deal', 'Bad_deal', 'Bad_deal', 'Bad_deal',\n",
       "       'Bad_deal', 'Bad_deal', 'Bad_deal', 'Bad_deal', 'Bad_deal',\n",
       "       'Bad_deal', 'Bad_deal', 'Bad_deal', 'Bad_deal', 'Bad_deal',\n",
       "       'Bad_deal', 'Bad_deal', 'Bad_deal', 'Bad_deal', 'Bad_deal',\n",
       "       'Bad_deal', 'Bad_deal', 'Bad_deal', 'Bad_deal', 'Bad_deal',\n",
       "       'Nice_deal', 'Bad_deal', 'Bad_deal', 'Bad_deal', 'Bad_deal',\n",
       "       'Bad_deal', 'Bad_deal', 'Bad_deal', 'Bad_deal', 'Bad_deal',\n",
       "       'Bad_deal', 'Bad_deal', 'Bad_deal', 'Bad_deal', 'Bad_deal',\n",
       "       'Bad_deal', 'Bad_deal', 'Bad_deal', 'Bad_deal', 'Bad_deal',\n",
       "       'Bad_deal', 'Bad_deal', 'Bad_deal', 'Bad_deal', 'Bad_deal',\n",
       "       'Bad_deal', 'Bad_deal', 'Bad_deal', 'Bad_deal', 'Bad_deal',\n",
       "       'Bad_deal', 'Bad_deal', 'Bad_deal', 'Bad_deal', 'Bad_deal',\n",
       "       'Bad_deal', 'Bad_deal', 'Bad_deal', 'Bad_deal', 'Bad_deal',\n",
       "       'Bad_deal', 'Bad_deal', 'Bad_deal', 'Bad_deal', 'Bad_deal',\n",
       "       'Bad_deal', 'Bad_deal'], dtype=object)"
      ]
     },
     "execution_count": 31,
     "metadata": {},
     "output_type": "execute_result"
    }
   ],
   "source": [
    "y_pred_gini"
   ]
  },
  {
   "cell_type": "code",
   "execution_count": 32,
   "metadata": {},
   "outputs": [
    {
     "data": {
      "text/html": [
       "<style>#sk-container-id-2 {color: black;background-color: white;}#sk-container-id-2 pre{padding: 0;}#sk-container-id-2 div.sk-toggleable {background-color: white;}#sk-container-id-2 label.sk-toggleable__label {cursor: pointer;display: block;width: 100%;margin-bottom: 0;padding: 0.3em;box-sizing: border-box;text-align: center;}#sk-container-id-2 label.sk-toggleable__label-arrow:before {content: \"▸\";float: left;margin-right: 0.25em;color: #696969;}#sk-container-id-2 label.sk-toggleable__label-arrow:hover:before {color: black;}#sk-container-id-2 div.sk-estimator:hover label.sk-toggleable__label-arrow:before {color: black;}#sk-container-id-2 div.sk-toggleable__content {max-height: 0;max-width: 0;overflow: hidden;text-align: left;background-color: #f0f8ff;}#sk-container-id-2 div.sk-toggleable__content pre {margin: 0.2em;color: black;border-radius: 0.25em;background-color: #f0f8ff;}#sk-container-id-2 input.sk-toggleable__control:checked~div.sk-toggleable__content {max-height: 200px;max-width: 100%;overflow: auto;}#sk-container-id-2 input.sk-toggleable__control:checked~label.sk-toggleable__label-arrow:before {content: \"▾\";}#sk-container-id-2 div.sk-estimator input.sk-toggleable__control:checked~label.sk-toggleable__label {background-color: #d4ebff;}#sk-container-id-2 div.sk-label input.sk-toggleable__control:checked~label.sk-toggleable__label {background-color: #d4ebff;}#sk-container-id-2 input.sk-hidden--visually {border: 0;clip: rect(1px 1px 1px 1px);clip: rect(1px, 1px, 1px, 1px);height: 1px;margin: -1px;overflow: hidden;padding: 0;position: absolute;width: 1px;}#sk-container-id-2 div.sk-estimator {font-family: monospace;background-color: #f0f8ff;border: 1px dotted black;border-radius: 0.25em;box-sizing: border-box;margin-bottom: 0.5em;}#sk-container-id-2 div.sk-estimator:hover {background-color: #d4ebff;}#sk-container-id-2 div.sk-parallel-item::after {content: \"\";width: 100%;border-bottom: 1px solid gray;flex-grow: 1;}#sk-container-id-2 div.sk-label:hover label.sk-toggleable__label {background-color: #d4ebff;}#sk-container-id-2 div.sk-serial::before {content: \"\";position: absolute;border-left: 1px solid gray;box-sizing: border-box;top: 0;bottom: 0;left: 50%;z-index: 0;}#sk-container-id-2 div.sk-serial {display: flex;flex-direction: column;align-items: center;background-color: white;padding-right: 0.2em;padding-left: 0.2em;position: relative;}#sk-container-id-2 div.sk-item {position: relative;z-index: 1;}#sk-container-id-2 div.sk-parallel {display: flex;align-items: stretch;justify-content: center;background-color: white;position: relative;}#sk-container-id-2 div.sk-item::before, #sk-container-id-2 div.sk-parallel-item::before {content: \"\";position: absolute;border-left: 1px solid gray;box-sizing: border-box;top: 0;bottom: 0;left: 50%;z-index: -1;}#sk-container-id-2 div.sk-parallel-item {display: flex;flex-direction: column;z-index: 1;position: relative;background-color: white;}#sk-container-id-2 div.sk-parallel-item:first-child::after {align-self: flex-end;width: 50%;}#sk-container-id-2 div.sk-parallel-item:last-child::after {align-self: flex-start;width: 50%;}#sk-container-id-2 div.sk-parallel-item:only-child::after {width: 0;}#sk-container-id-2 div.sk-dashed-wrapped {border: 1px dashed gray;margin: 0 0.4em 0.5em 0.4em;box-sizing: border-box;padding-bottom: 0.4em;background-color: white;}#sk-container-id-2 div.sk-label label {font-family: monospace;font-weight: bold;display: inline-block;line-height: 1.2em;}#sk-container-id-2 div.sk-label-container {text-align: center;}#sk-container-id-2 div.sk-container {/* jupyter's `normalize.less` sets `[hidden] { display: none; }` but bootstrap.min.css set `[hidden] { display: none !important; }` so we also need the `!important` here to be able to override the default hidden behavior on the sphinx rendered scikit-learn.org. See: https://github.com/scikit-learn/scikit-learn/issues/21755 */display: inline-block !important;position: relative;}#sk-container-id-2 div.sk-text-repr-fallback {display: none;}</style><div id=\"sk-container-id-2\" class=\"sk-top-container\"><div class=\"sk-text-repr-fallback\"><pre>DecisionTreeClassifier(criterion=&#x27;entropy&#x27;, max_depth=3, random_state=0)</pre><b>In a Jupyter environment, please rerun this cell to show the HTML representation or trust the notebook. <br />On GitHub, the HTML representation is unable to render, please try loading this page with nbviewer.org.</b></div><div class=\"sk-container\" hidden><div class=\"sk-item\"><div class=\"sk-estimator sk-toggleable\"><input class=\"sk-toggleable__control sk-hidden--visually\" id=\"sk-estimator-id-2\" type=\"checkbox\" checked><label for=\"sk-estimator-id-2\" class=\"sk-toggleable__label sk-toggleable__label-arrow\">DecisionTreeClassifier</label><div class=\"sk-toggleable__content\"><pre>DecisionTreeClassifier(criterion=&#x27;entropy&#x27;, max_depth=3, random_state=0)</pre></div></div></div></div></div>"
      ],
      "text/plain": [
       "DecisionTreeClassifier(criterion='entropy', max_depth=3, random_state=0)"
      ]
     },
     "execution_count": 32,
     "metadata": {},
     "output_type": "execute_result"
    }
   ],
   "source": [
    "clf_en = DecisionTreeClassifier(criterion='entropy', max_depth=3, random_state=0)\n",
    "\n",
    "\n",
    "# fit the model\n",
    "clf_en.fit(x_train, y_train)"
   ]
  },
  {
   "cell_type": "code",
   "execution_count": 33,
   "metadata": {},
   "outputs": [],
   "source": [
    "y_pred_en = clf_en.predict(x_test)"
   ]
  },
  {
   "cell_type": "code",
   "execution_count": 34,
   "metadata": {},
   "outputs": [
    {
     "name": "stdout",
     "output_type": "stream",
     "text": [
      "Model accuracy score with criterion entropy: 0.9443\n"
     ]
    }
   ],
   "source": [
    "print('Model accuracy score with criterion entropy: {0:0.4f}'. format(accuracy_score(y_test, y_pred_en)))"
   ]
  },
  {
   "cell_type": "code",
   "execution_count": 28,
   "metadata": {},
   "outputs": [
    {
     "data": {
      "text/plain": [
       "[Text(0.5555555555555556, 0.875, 'X[0] <= 3.5\\nentropy = 0.359\\nsamples = 1087\\nvalue = [1013, 74]'),\n",
       " Text(0.3333333333333333, 0.625, 'X[0] <= 1.5\\nentropy = 0.203\\nsamples = 913\\nvalue = [884, 29]'),\n",
       " Text(0.2222222222222222, 0.375, 'X[1] <= 1.5\\nentropy = 0.454\\nsamples = 304\\nvalue = [275, 29]'),\n",
       " Text(0.1111111111111111, 0.125, 'entropy = 0.878\\nsamples = 74\\nvalue = [52, 22]'),\n",
       " Text(0.3333333333333333, 0.125, 'entropy = 0.197\\nsamples = 230\\nvalue = [223, 7]'),\n",
       " Text(0.4444444444444444, 0.375, 'entropy = 0.0\\nsamples = 609\\nvalue = [609, 0]'),\n",
       " Text(0.7777777777777778, 0.625, 'X[1] <= 3.5\\nentropy = 0.825\\nsamples = 174\\nvalue = [129, 45]'),\n",
       " Text(0.6666666666666666, 0.375, 'X[1] <= 1.5\\nentropy = 0.569\\nsamples = 149\\nvalue = [129, 20]'),\n",
       " Text(0.5555555555555556, 0.125, 'entropy = 0.0\\nsamples = 13\\nvalue = [0, 13]'),\n",
       " Text(0.7777777777777778, 0.125, 'entropy = 0.293\\nsamples = 136\\nvalue = [129, 7]'),\n",
       " Text(0.8888888888888888, 0.375, 'entropy = 0.0\\nsamples = 25\\nvalue = [0, 25]')]"
      ]
     },
     "execution_count": 28,
     "metadata": {},
     "output_type": "execute_result"
    },
    {
     "data": {
      "image/png": "[encoded data removed]",
      "text/plain": [
       "<Figure size 1200x800 with 1 Axes>"
      ]
     },
     "metadata": {},
     "output_type": "display_data"
    }
   ],
   "source": [
    "plt.figure(figsize=(12,8))\n",
    "\n",
    "from sklearn import tree\n",
    "\n",
    "tree.plot_tree(clf_en.fit(x_train, y_train))"
   ]
  },
  {
   "cell_type": "code",
   "execution_count": 30,
   "metadata": {},
   "outputs": [
    {
     "data": {
      "text/plain": [
       "array(['Bad_deal', 'Nice_deal', 'Bad_deal', 'Bad_deal', 'Bad_deal',\n",
       "       'Bad_deal', 'Bad_deal', 'Bad_deal', 'Bad_deal', 'Bad_deal',\n",
       "       'Bad_deal', 'Bad_deal', 'Bad_deal', 'Bad_deal', 'Bad_deal',\n",
       "       'Bad_deal', 'Bad_deal', 'Bad_deal', 'Nice_deal', 'Bad_deal',\n",
       "       'Bad_deal', 'Bad_deal', 'Bad_deal', 'Bad_deal', 'Bad_deal',\n",
       "       'Bad_deal', 'Bad_deal', 'Bad_deal', 'Bad_deal', 'Bad_deal',\n",
       "       'Bad_deal', 'Bad_deal', 'Bad_deal', 'Bad_deal', 'Bad_deal',\n",
       "       'Bad_deal', 'Bad_deal', 'Bad_deal', 'Bad_deal', 'Bad_deal',\n",
       "       'Bad_deal', 'Bad_deal', 'Bad_deal', 'Bad_deal', 'Bad_deal',\n",
       "       'Bad_deal', 'Bad_deal', 'Bad_deal', 'Bad_deal', 'Bad_deal',\n",
       "       'Bad_deal', 'Bad_deal', 'Bad_deal', 'Bad_deal', 'Bad_deal',\n",
       "       'Bad_deal', 'Bad_deal', 'Bad_deal', 'Nice_deal', 'Bad_deal',\n",
       "       'Bad_deal', 'Bad_deal', 'Bad_deal', 'Bad_deal', 'Bad_deal',\n",
       "       'Bad_deal', 'Bad_deal', 'Nice_deal', 'Bad_deal', 'Bad_deal',\n",
       "       'Bad_deal', 'Bad_deal', 'Bad_deal', 'Bad_deal', 'Bad_deal',\n",
       "       'Bad_deal', 'Bad_deal', 'Bad_deal', 'Bad_deal', 'Bad_deal',\n",
       "       'Bad_deal', 'Bad_deal', 'Bad_deal', 'Bad_deal', 'Bad_deal',\n",
       "       'Bad_deal', 'Bad_deal', 'Bad_deal', 'Bad_deal', 'Bad_deal',\n",
       "       'Bad_deal', 'Bad_deal', 'Bad_deal', 'Bad_deal', 'Bad_deal',\n",
       "       'Bad_deal', 'Bad_deal', 'Bad_deal', 'Bad_deal', 'Bad_deal',\n",
       "       'Nice_deal', 'Bad_deal', 'Bad_deal', 'Bad_deal', 'Bad_deal',\n",
       "       'Bad_deal', 'Bad_deal', 'Nice_deal', 'Bad_deal', 'Bad_deal',\n",
       "       'Bad_deal', 'Bad_deal', 'Bad_deal', 'Bad_deal', 'Bad_deal',\n",
       "       'Bad_deal', 'Bad_deal', 'Bad_deal', 'Bad_deal', 'Bad_deal',\n",
       "       'Bad_deal', 'Bad_deal', 'Bad_deal', 'Bad_deal', 'Bad_deal',\n",
       "       'Bad_deal', 'Bad_deal', 'Bad_deal', 'Bad_deal', 'Bad_deal',\n",
       "       'Bad_deal', 'Bad_deal', 'Bad_deal', 'Nice_deal', 'Bad_deal',\n",
       "       'Bad_deal', 'Bad_deal', 'Bad_deal', 'Bad_deal', 'Bad_deal',\n",
       "       'Bad_deal', 'Bad_deal', 'Bad_deal', 'Bad_deal', 'Bad_deal',\n",
       "       'Bad_deal', 'Bad_deal', 'Bad_deal', 'Bad_deal', 'Nice_deal',\n",
       "       'Bad_deal', 'Bad_deal', 'Bad_deal', 'Bad_deal', 'Bad_deal',\n",
       "       'Bad_deal', 'Bad_deal', 'Bad_deal', 'Bad_deal', 'Bad_deal',\n",
       "       'Bad_deal', 'Bad_deal', 'Bad_deal', 'Bad_deal', 'Bad_deal',\n",
       "       'Bad_deal', 'Bad_deal', 'Bad_deal', 'Bad_deal', 'Nice_deal',\n",
       "       'Bad_deal', 'Bad_deal', 'Bad_deal', 'Bad_deal', 'Bad_deal',\n",
       "       'Bad_deal', 'Bad_deal', 'Nice_deal', 'Bad_deal', 'Bad_deal',\n",
       "       'Bad_deal', 'Bad_deal', 'Bad_deal', 'Bad_deal', 'Bad_deal',\n",
       "       'Bad_deal', 'Bad_deal', 'Bad_deal', 'Bad_deal', 'Bad_deal',\n",
       "       'Bad_deal', 'Bad_deal', 'Bad_deal', 'Bad_deal', 'Bad_deal',\n",
       "       'Bad_deal', 'Bad_deal', 'Bad_deal', 'Bad_deal', 'Bad_deal',\n",
       "       'Bad_deal', 'Bad_deal', 'Bad_deal', 'Bad_deal', 'Bad_deal',\n",
       "       'Bad_deal', 'Bad_deal', 'Bad_deal', 'Bad_deal', 'Bad_deal',\n",
       "       'Bad_deal', 'Nice_deal', 'Bad_deal', 'Bad_deal', 'Bad_deal',\n",
       "       'Bad_deal', 'Bad_deal', 'Bad_deal', 'Bad_deal', 'Bad_deal',\n",
       "       'Bad_deal', 'Bad_deal', 'Bad_deal', 'Bad_deal', 'Bad_deal',\n",
       "       'Bad_deal', 'Bad_deal', 'Bad_deal', 'Bad_deal', 'Bad_deal',\n",
       "       'Bad_deal', 'Bad_deal', 'Bad_deal', 'Bad_deal', 'Bad_deal',\n",
       "       'Bad_deal', 'Bad_deal', 'Bad_deal', 'Bad_deal', 'Bad_deal',\n",
       "       'Bad_deal', 'Bad_deal', 'Bad_deal', 'Bad_deal', 'Bad_deal',\n",
       "       'Bad_deal', 'Bad_deal', 'Bad_deal', 'Bad_deal', 'Bad_deal',\n",
       "       'Bad_deal', 'Bad_deal', 'Bad_deal', 'Bad_deal', 'Bad_deal',\n",
       "       'Bad_deal', 'Bad_deal', 'Bad_deal', 'Bad_deal', 'Bad_deal',\n",
       "       'Bad_deal', 'Bad_deal', 'Bad_deal', 'Bad_deal', 'Bad_deal',\n",
       "       'Bad_deal', 'Bad_deal', 'Bad_deal', 'Bad_deal', 'Bad_deal',\n",
       "       'Bad_deal', 'Bad_deal', 'Bad_deal', 'Bad_deal', 'Bad_deal',\n",
       "       'Bad_deal', 'Nice_deal', 'Bad_deal', 'Bad_deal', 'Bad_deal',\n",
       "       'Bad_deal', 'Bad_deal', 'Bad_deal', 'Bad_deal', 'Nice_deal',\n",
       "       'Bad_deal', 'Bad_deal', 'Bad_deal', 'Bad_deal', 'Bad_deal',\n",
       "       'Bad_deal', 'Bad_deal', 'Bad_deal', 'Bad_deal', 'Bad_deal',\n",
       "       'Bad_deal', 'Bad_deal', 'Bad_deal', 'Bad_deal', 'Bad_deal',\n",
       "       'Bad_deal', 'Bad_deal', 'Bad_deal', 'Bad_deal', 'Bad_deal',\n",
       "       'Bad_deal', 'Bad_deal', 'Bad_deal', 'Bad_deal', 'Bad_deal',\n",
       "       'Bad_deal', 'Bad_deal', 'Bad_deal', 'Bad_deal', 'Bad_deal',\n",
       "       'Bad_deal', 'Bad_deal', 'Bad_deal', 'Bad_deal', 'Nice_deal',\n",
       "       'Bad_deal', 'Bad_deal', 'Bad_deal', 'Bad_deal', 'Bad_deal',\n",
       "       'Bad_deal', 'Bad_deal', 'Bad_deal', 'Bad_deal', 'Bad_deal',\n",
       "       'Bad_deal', 'Bad_deal', 'Bad_deal', 'Nice_deal', 'Bad_deal',\n",
       "       'Bad_deal', 'Bad_deal', 'Bad_deal', 'Bad_deal', 'Bad_deal',\n",
       "       'Bad_deal', 'Bad_deal', 'Bad_deal', 'Bad_deal', 'Bad_deal',\n",
       "       'Bad_deal', 'Bad_deal', 'Bad_deal', 'Bad_deal', 'Bad_deal',\n",
       "       'Bad_deal', 'Bad_deal', 'Bad_deal', 'Bad_deal', 'Bad_deal',\n",
       "       'Bad_deal', 'Bad_deal', 'Bad_deal', 'Bad_deal', 'Bad_deal',\n",
       "       'Bad_deal', 'Nice_deal', 'Bad_deal', 'Bad_deal', 'Bad_deal',\n",
       "       'Bad_deal', 'Bad_deal', 'Bad_deal', 'Bad_deal', 'Bad_deal',\n",
       "       'Bad_deal', 'Bad_deal', 'Bad_deal', 'Bad_deal', 'Bad_deal',\n",
       "       'Bad_deal', 'Bad_deal', 'Bad_deal', 'Bad_deal', 'Bad_deal',\n",
       "       'Nice_deal', 'Bad_deal', 'Nice_deal', 'Bad_deal', 'Bad_deal',\n",
       "       'Bad_deal', 'Bad_deal', 'Bad_deal', 'Nice_deal', 'Bad_deal',\n",
       "       'Bad_deal', 'Bad_deal', 'Bad_deal', 'Bad_deal', 'Bad_deal',\n",
       "       'Bad_deal', 'Bad_deal', 'Bad_deal', 'Bad_deal', 'Bad_deal',\n",
       "       'Bad_deal', 'Bad_deal', 'Bad_deal', 'Bad_deal', 'Bad_deal',\n",
       "       'Bad_deal', 'Bad_deal', 'Bad_deal', 'Bad_deal', 'Bad_deal',\n",
       "       'Bad_deal', 'Bad_deal', 'Bad_deal', 'Bad_deal', 'Bad_deal',\n",
       "       'Bad_deal', 'Bad_deal', 'Bad_deal', 'Bad_deal', 'Bad_deal',\n",
       "       'Nice_deal', 'Bad_deal', 'Bad_deal', 'Bad_deal', 'Bad_deal',\n",
       "       'Bad_deal', 'Bad_deal', 'Bad_deal', 'Bad_deal', 'Bad_deal',\n",
       "       'Bad_deal', 'Bad_deal', 'Bad_deal', 'Bad_deal', 'Bad_deal',\n",
       "       'Bad_deal', 'Bad_deal', 'Bad_deal', 'Bad_deal', 'Bad_deal',\n",
       "       'Bad_deal', 'Bad_deal', 'Bad_deal', 'Bad_deal', 'Bad_deal',\n",
       "       'Bad_deal', 'Bad_deal', 'Bad_deal', 'Bad_deal', 'Bad_deal',\n",
       "       'Bad_deal', 'Bad_deal', 'Bad_deal', 'Bad_deal', 'Bad_deal',\n",
       "       'Bad_deal', 'Bad_deal', 'Bad_deal', 'Bad_deal', 'Bad_deal',\n",
       "       'Bad_deal', 'Bad_deal', 'Bad_deal', 'Bad_deal', 'Bad_deal',\n",
       "       'Bad_deal', 'Bad_deal'], dtype=object)"
      ]
     },
     "execution_count": 30,
     "metadata": {},
     "output_type": "execute_result"
    }
   ],
   "source": [
    "y_pred_en"
   ]
  },
  {
   "cell_type": "markdown",
   "metadata": {},
   "source": [
    "Both gini and entropy decision models seem to produce the same accuracy."
   ]
  }
 ],
 "metadata": {
  "kernelspec": {
   "display_name": "Python 3.10.6 64-bit",
   "language": "python",
   "name": "python3"
  },
  "language_info": {
   "codemirror_mode": {
    "name": "ipython",
    "version": 3
   },
   "file_extension": ".py",
   "mimetype": "text/x-python",
   "name": "python",
   "nbconvert_exporter": "python",
   "pygments_lexer": "ipython3",
   "version": "3.10.6"
  },
  "orig_nbformat": 4,
  "vscode": {
   "interpreter": {
    "hash": "767d51c1340bd893661ea55ea3124f6de3c7a262a8b4abca0554b478b1e2ff90"
   }
  }
 },
 "nbformat": 4,
 "nbformat_minor": 2
}
