{
 "cells": [
  {
   "cell_type": "markdown",
   "metadata": {},
   "source": [
    "# Part A"
   ]
  },
  {
   "cell_type": "code",
   "execution_count": 22,
   "metadata": {},
   "outputs": [],
   "source": [
    "import numpy as np\n",
    "import random"
   ]
  },
  {
   "cell_type": "markdown",
   "metadata": {},
   "source": [
    "#### Q1"
   ]
  },
  {
   "cell_type": "code",
   "execution_count": 23,
   "metadata": {},
   "outputs": [
    {
     "data": {
      "text/plain": [
       "array([ 5, 10, 15, 20, 25, 30, 35, 40, 45, 50])"
      ]
     },
     "execution_count": 23,
     "metadata": {},
     "output_type": "execute_result"
    }
   ],
   "source": [
    "A = np.arange(start=5,stop = 51, step = 5)\n",
    "A"
   ]
  },
  {
   "cell_type": "markdown",
   "metadata": {},
   "source": [
    "#### Q2"
   ]
  },
  {
   "cell_type": "code",
   "execution_count": 24,
   "metadata": {},
   "outputs": [
    {
     "name": "stdout",
     "output_type": "stream",
     "text": [
      "average: 27.5\n",
      "standard deviation: 14.361406616345072\n"
     ]
    }
   ],
   "source": [
    "standard_deviation = np.std(A,axis= 0)\n",
    "average = np.mean(A,axis =0)\n",
    "print(\"average:\",average)\n",
    "print(\"standard deviation:\",standard_deviation)"
   ]
  },
  {
   "cell_type": "markdown",
   "metadata": {},
   "source": [
    "#### Q3"
   ]
  },
  {
   "cell_type": "code",
   "execution_count": 25,
   "metadata": {},
   "outputs": [
    {
     "name": "stdout",
     "output_type": "stream",
     "text": [
      "[[-1.41537074 -0.42064532 -0.34271452 -0.80227727 -0.16128571  0.40405086\n",
      "   1.8861859   0.17457781  0.25755039 -0.07444592]\n",
      " [-1.91877122 -0.02651388  0.06023021  2.46324211 -0.19236096  0.30154734\n",
      "  -0.03471177 -1.16867804  1.14282281  0.75193303]\n",
      " [ 0.79103195 -0.90938745  1.40279431 -1.40185106  0.58685709  2.19045563\n",
      "  -0.99053633 -0.56629773  0.09965137 -0.50347565]\n",
      " [-1.55066343  0.06856297 -1.06230371  0.47359243 -0.91942423  1.54993441\n",
      "  -0.78325329 -0.32206152  0.81351722 -1.23086432]\n",
      " [ 0.22745993  1.30714275 -1.60748323  0.18463386  0.25988279  0.78182287\n",
      "  -1.23695071 -1.32045661  0.52194157  0.29698467]\n",
      " [ 0.25049285  0.34644821 -0.68002472  0.2322537   0.29307247 -0.71435142\n",
      "   1.86577451  0.47383292 -1.1913035   0.65655361]\n",
      " [-0.97468167  0.7870846   1.15859558 -0.82068232  0.96337613  0.41278093\n",
      "   0.82206016  1.89679298 -0.24538812 -0.75373616]\n",
      " [-0.88951443 -0.81581028 -0.07710171  0.34115197  0.2766908   0.82718325\n",
      "   0.01300189  1.45353408 -0.26465683  2.72016917]\n",
      " [ 0.62566735 -0.85715756 -1.0708925   0.48247242 -0.22346279  0.71400049\n",
      "   0.47323762 -0.07282891 -0.84679372 -1.51484722]\n",
      " [-0.44651495  0.85639879  0.21409374 -1.24573878  0.17318093  0.38531738\n",
      "  -0.88385744  0.15372511  0.05820872 -1.1429703 ]]\n"
     ]
    }
   ],
   "source": [
    "n = 10\n",
    "B = np.random.normal(0,1,(n,n))\n",
    "print(B)"
   ]
  },
  {
   "cell_type": "code",
   "execution_count": 26,
   "metadata": {},
   "outputs": [
    {
     "name": "stdout",
     "output_type": "stream",
     "text": [
      "55\n",
      "53\n",
      "46\n",
      "48\n",
      "48\n",
      "54\n",
      "53\n",
      "53\n",
      "57\n",
      "56\n",
      "52\n",
      "48\n",
      "61\n",
      "45\n",
      "52\n",
      "53\n",
      "45\n",
      "54\n",
      "47\n",
      "50\n"
     ]
    }
   ],
   "source": [
    "for i in range(20):        #Loop to Produce B multiple times and count +ve entries.\n",
    "    B = np.random.normal(0,1,(n,n))\n",
    "    print(np.sum(np.array(np.sum(np.array(B) >0, axis =0))))"
   ]
  },
  {
   "cell_type": "markdown",
   "metadata": {},
   "source": [
    "Number of positive entries keep changing because the distribution is normal and entries are equally likely to be positive or negative. On average 50 is expected to be the count of total positive entries. Also seed keeps changing by default to maintain randomization."
   ]
  },
  {
   "cell_type": "code",
   "execution_count": 27,
   "metadata": {},
   "outputs": [
    {
     "name": "stdout",
     "output_type": "stream",
     "text": [
      "46\n",
      "46\n",
      "46\n",
      "46\n",
      "46\n",
      "46\n",
      "46\n",
      "46\n",
      "46\n",
      "46\n",
      "46\n",
      "46\n",
      "46\n",
      "46\n",
      "46\n",
      "46\n",
      "46\n",
      "46\n",
      "46\n",
      "46\n"
     ]
    }
   ],
   "source": [
    "for i in range(20):        #Anpther loop to show how seed alone is respnsible for change in number of positive entries\n",
    "    np.random.seed(42)\n",
    "    B = np.random.normal(0,1,(n,n))\n",
    "    print(np.sum(np.array(np.sum(np.array(B) >0, axis =0))))"
   ]
  },
  {
   "cell_type": "markdown",
   "metadata": {},
   "source": [
    "#### Q4"
   ]
  },
  {
   "cell_type": "code",
   "execution_count": 28,
   "metadata": {},
   "outputs": [
    {
     "name": "stdout",
     "output_type": "stream",
     "text": [
      "0.4967141530112327 -0.46572975357025687 0.06752820468792384 -1.0577109289559004 -1.4785219903674274 0.9312801191161986 -0.07201012158033385 -0.29900735046586746 -0.5297602037670388 -0.23458713337514692\n",
      "sum: -2.641805005266616\n",
      "product: -6.0877913865854884e-05\n"
     ]
    }
   ],
   "source": [
    "temp = np.diagonal(B)\n",
    "print(*temp)\n",
    "print(\"sum:\",np.sum(temp))\n",
    "print(\"product:\",np.prod(temp))"
   ]
  },
  {
   "cell_type": "markdown",
   "metadata": {},
   "source": [
    "#### Q5"
   ]
  },
  {
   "cell_type": "code",
   "execution_count": 29,
   "metadata": {},
   "outputs": [
    {
     "name": "stdout",
     "output_type": "stream",
     "text": [
      "28.637545118361412 140.56775247866022 -25.55001142226923 -62.20715102382968 -148.5068720754623 -35.014609060232154 4.948263766316741 41.583320100509724 -35.728398229625526 -117.37233856920872\n"
     ]
    },
    {
     "data": {
      "text/plain": [
       "(10,)"
      ]
     },
     "execution_count": 29,
     "metadata": {},
     "output_type": "execute_result"
    }
   ],
   "source": [
    "res = np.dot(A,B)\n",
    "print(*res)\n",
    "res.shape"
   ]
  },
  {
   "cell_type": "markdown",
   "metadata": {},
   "source": [
    "#### Q6"
   ]
  },
  {
   "cell_type": "code",
   "execution_count": 30,
   "metadata": {},
   "outputs": [],
   "source": [
    "temp = np.arange(11)"
   ]
  },
  {
   "cell_type": "code",
   "execution_count": 31,
   "metadata": {},
   "outputs": [],
   "source": [
    "def dot_prod(A,B):   # function to calculate dot product of two array.\n",
    "    if (not A.shape ==B.shape) and len(A.shape)!=1:\n",
    "        raise IndexError from err    # give appropriate error for incompatible dimension.\n",
    "    n = len(A)\n",
    "    ans = 0\n",
    "    for i in range(n):\n",
    "        ans += A[i]* B[i]\n",
    "    return ans\n"
   ]
  },
  {
   "cell_type": "code",
   "execution_count": 32,
   "metadata": {},
   "outputs": [
    {
     "name": "stdout",
     "output_type": "stream",
     "text": [
      "140.56775247866022\n"
     ]
    }
   ],
   "source": [
    "print(dot_prod(A,B[:,1]))"
   ]
  }
 ],
 "metadata": {
  "kernelspec": {
   "display_name": "Python 3.10.6 64-bit",
   "language": "python",
   "name": "python3"
  },
  "language_info": {
   "codemirror_mode": {
    "name": "ipython",
    "version": 3
   },
   "file_extension": ".py",
   "mimetype": "text/x-python",
   "name": "python",
   "nbconvert_exporter": "python",
   "pygments_lexer": "ipython3",
   "version": "3.10.6"
  },
  "orig_nbformat": 4,
  "vscode": {
   "interpreter": {
    "hash": "767d51c1340bd893661ea55ea3124f6de3c7a262a8b4abca0554b478b1e2ff90"
   }
  }
 },
 "nbformat": 4,
 "nbformat_minor": 2
}
