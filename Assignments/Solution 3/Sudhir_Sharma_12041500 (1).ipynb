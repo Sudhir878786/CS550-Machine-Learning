{
  "cells": [
    {
      "cell_type": "markdown",
      "source": [
        "# **MLP for Regression and Classification**"
      ],
      "metadata": {
        "id": "puVQVYb5QLui"
      },
      "id": "puVQVYb5QLui"
    },
    {
      "cell_type": "markdown",
      "id": "d75c4f36",
      "metadata": {
        "id": "d75c4f36"
      },
      "source": [
        "# CS550 Assignment 3\n",
        "\n",
        "## Name: Sudhir Sharma\n",
        "## ID: 12041500"
      ]
    },
    {
      "cell_type": "code",
      "source": [
        "# !pip install -q kaggle"
      ],
      "metadata": {
        "id": "DTrWAqFUO52M"
      },
      "id": "DTrWAqFUO52M",
      "execution_count": null,
      "outputs": []
    },
    {
      "cell_type": "code",
      "source": [
        "# from google.colab import files\n",
        "# files.upload()"
      ],
      "metadata": {
        "id": "oi17yIf9O9HI"
      },
      "id": "oi17yIf9O9HI",
      "execution_count": null,
      "outputs": []
    },
    {
      "cell_type": "code",
      "source": [
        "# !mkdir ~/.kaggle\n",
        "# !cp kaggle.json ~/.kaggle/\n",
        "# !chmod 600 ~/.kaggle/kaggle.json"
      ],
      "metadata": {
        "id": "L40v0O1cO_Wq"
      },
      "id": "L40v0O1cO_Wq",
      "execution_count": null,
      "outputs": []
    },
    {
      "cell_type": "code",
      "source": [
        "# !kaggle competitions download -c new-york-city-taxi-fare-prediction"
      ],
      "metadata": {
        "id": "Q6v_K-MtPBwY"
      },
      "id": "Q6v_K-MtPBwY",
      "execution_count": null,
      "outputs": []
    },
    {
      "cell_type": "code",
      "source": [
        "# !unzip new-york-city-taxi-fare-prediction"
      ],
      "metadata": {
        "id": "62Hryc99PEGC"
      },
      "id": "62Hryc99PEGC",
      "execution_count": null,
      "outputs": []
    },
    {
      "cell_type": "code",
      "source": [
        "# This Python 3 environment comes with many helpful analytics libraries installed\n",
        "# It is defined by the kaggle/python docker image: https://github.com/kaggle/docker-python\n",
        "# For example, here's several helpful packages to load in \n",
        "import pandas as pd\n",
        "import numpy as np\n",
        "import matplotlib.pyplot as plt\n",
        "%matplotlib inline\n",
        "import seaborn as sns\n",
        "\n",
        "\n",
        "import math\n",
        "from math import sqrt\n",
        "\n",
        "from numpy import absolute\n",
        "from numpy import mean\n",
        "from numpy import std\n",
        "\n",
        "from sklearn import metrics\n",
        "from sklearn.feature_selection import f_regression\n",
        "from sklearn.linear_model import LinearRegression\n",
        "from sklearn.preprocessing import PolynomialFeatures\n",
        "from sklearn.preprocessing import scale\n",
        "from sklearn.model_selection import train_test_split\n",
        "from sklearn.metrics import mean_squared_error, r2_score\n",
        "from sklearn.model_selection import cross_val_score\n",
        "from sklearn.model_selection import KFold\n",
        "from sklearn.tree import DecisionTreeRegressor\n",
        "from sklearn.neighbors import KNeighborsRegressor\n",
        "from sklearn.preprocessing import MinMaxScaler\n",
        "from sklearn.linear_model import Ridge\n",
        "from sklearn.linear_model import RidgeCV\n",
        "from sklearn.model_selection import RepeatedKFold\n",
        "from sklearn import neighbors\n",
        "\n",
        "!pip install tensorflow\n",
        "import tensorflow as tf\n",
        "from tensorflow.keras import Model\n",
        "from tensorflow.keras import Sequential\n",
        "from tensorflow.keras.optimizers import Adam\n",
        "from sklearn.preprocessing import StandardScaler\n",
        "from tensorflow.keras.layers import Dense, Dropout\n",
        "from tensorflow.keras.losses import MeanSquaredError \n",
        "from keras.layers import BatchNormalization\n",
        "from keras.models import Sequential\n",
        "from keras.layers import Dense\n",
        "from keras.layers import Dropout\n",
        "from tensorflow.keras.optimizers import Adam\n",
        "from keras.callbacks import EarlyStopping\n",
        "!pip install haversine \n",
        "from tensorflow.random import set_seed\n",
        "!pip install xgboost\n",
        "import xgboost as xgb"
      ],
      "metadata": {
        "colab": {
          "base_uri": "https://localhost:8080/"
        },
        "id": "R4IVX1sLP-7D",
        "outputId": "e0ee21be-f5fd-4e0a-e085-81574f37d9ea"
      },
      "id": "R4IVX1sLP-7D",
      "execution_count": null,
      "outputs": [
        {
          "output_type": "stream",
          "name": "stdout",
          "text": [
            "Looking in indexes: https://pypi.org/simple, https://us-python.pkg.dev/colab-wheels/public/simple/\n",
            "Requirement already satisfied: tensorflow in /usr/local/lib/python3.7/dist-packages (2.8.2+zzzcolab20220719082949)\n",
            "Requirement already satisfied: opt-einsum>=2.3.2 in /usr/local/lib/python3.7/dist-packages (from tensorflow) (3.3.0)\n",
            "Requirement already satisfied: gast>=0.2.1 in /usr/local/lib/python3.7/dist-packages (from tensorflow) (0.5.3)\n",
            "Requirement already satisfied: h5py>=2.9.0 in /usr/local/lib/python3.7/dist-packages (from tensorflow) (3.1.0)\n",
            "Requirement already satisfied: termcolor>=1.1.0 in /usr/local/lib/python3.7/dist-packages (from tensorflow) (1.1.0)\n",
            "Requirement already satisfied: tensorboard<2.9,>=2.8 in /usr/local/lib/python3.7/dist-packages (from tensorflow) (2.8.0)\n",
            "Requirement already satisfied: protobuf<3.20,>=3.9.2 in /usr/local/lib/python3.7/dist-packages (from tensorflow) (3.17.3)\n",
            "Requirement already satisfied: grpcio<2.0,>=1.24.3 in /usr/local/lib/python3.7/dist-packages (from tensorflow) (1.48.1)\n",
            "Requirement already satisfied: absl-py>=0.4.0 in /usr/local/lib/python3.7/dist-packages (from tensorflow) (1.2.0)\n",
            "Requirement already satisfied: setuptools in /usr/local/lib/python3.7/dist-packages (from tensorflow) (57.4.0)\n",
            "Requirement already satisfied: tensorflow-io-gcs-filesystem>=0.23.1 in /usr/local/lib/python3.7/dist-packages (from tensorflow) (0.26.0)\n",
            "Requirement already satisfied: flatbuffers>=1.12 in /usr/local/lib/python3.7/dist-packages (from tensorflow) (2.0.7)\n",
            "Requirement already satisfied: keras<2.9,>=2.8.0rc0 in /usr/local/lib/python3.7/dist-packages (from tensorflow) (2.8.0)\n",
            "Requirement already satisfied: tensorflow-estimator<2.9,>=2.8 in /usr/local/lib/python3.7/dist-packages (from tensorflow) (2.8.0)\n",
            "Requirement already satisfied: google-pasta>=0.1.1 in /usr/local/lib/python3.7/dist-packages (from tensorflow) (0.2.0)\n",
            "Requirement already satisfied: six>=1.12.0 in /usr/local/lib/python3.7/dist-packages (from tensorflow) (1.15.0)\n",
            "Requirement already satisfied: astunparse>=1.6.0 in /usr/local/lib/python3.7/dist-packages (from tensorflow) (1.6.3)\n",
            "Requirement already satisfied: numpy>=1.20 in /usr/local/lib/python3.7/dist-packages (from tensorflow) (1.21.6)\n",
            "Requirement already satisfied: keras-preprocessing>=1.1.1 in /usr/local/lib/python3.7/dist-packages (from tensorflow) (1.1.2)\n",
            "Requirement already satisfied: libclang>=9.0.1 in /usr/local/lib/python3.7/dist-packages (from tensorflow) (14.0.6)\n",
            "Requirement already satisfied: wrapt>=1.11.0 in /usr/local/lib/python3.7/dist-packages (from tensorflow) (1.14.1)\n",
            "Requirement already satisfied: typing-extensions>=3.6.6 in /usr/local/lib/python3.7/dist-packages (from tensorflow) (4.1.1)\n",
            "Requirement already satisfied: wheel<1.0,>=0.23.0 in /usr/local/lib/python3.7/dist-packages (from astunparse>=1.6.0->tensorflow) (0.37.1)\n",
            "Requirement already satisfied: cached-property in /usr/local/lib/python3.7/dist-packages (from h5py>=2.9.0->tensorflow) (1.5.2)\n",
            "Requirement already satisfied: tensorboard-plugin-wit>=1.6.0 in /usr/local/lib/python3.7/dist-packages (from tensorboard<2.9,>=2.8->tensorflow) (1.8.1)\n",
            "Requirement already satisfied: werkzeug>=0.11.15 in /usr/local/lib/python3.7/dist-packages (from tensorboard<2.9,>=2.8->tensorflow) (1.0.1)\n",
            "Requirement already satisfied: google-auth-oauthlib<0.5,>=0.4.1 in /usr/local/lib/python3.7/dist-packages (from tensorboard<2.9,>=2.8->tensorflow) (0.4.6)\n",
            "Requirement already satisfied: google-auth<3,>=1.6.3 in /usr/local/lib/python3.7/dist-packages (from tensorboard<2.9,>=2.8->tensorflow) (1.35.0)\n",
            "Requirement already satisfied: tensorboard-data-server<0.7.0,>=0.6.0 in /usr/local/lib/python3.7/dist-packages (from tensorboard<2.9,>=2.8->tensorflow) (0.6.1)\n",
            "Requirement already satisfied: requests<3,>=2.21.0 in /usr/local/lib/python3.7/dist-packages (from tensorboard<2.9,>=2.8->tensorflow) (2.23.0)\n",
            "Requirement already satisfied: markdown>=2.6.8 in /usr/local/lib/python3.7/dist-packages (from tensorboard<2.9,>=2.8->tensorflow) (3.4.1)\n",
            "Requirement already satisfied: rsa<5,>=3.1.4 in /usr/local/lib/python3.7/dist-packages (from google-auth<3,>=1.6.3->tensorboard<2.9,>=2.8->tensorflow) (4.9)\n",
            "Requirement already satisfied: pyasn1-modules>=0.2.1 in /usr/local/lib/python3.7/dist-packages (from google-auth<3,>=1.6.3->tensorboard<2.9,>=2.8->tensorflow) (0.2.8)\n",
            "Requirement already satisfied: cachetools<5.0,>=2.0.0 in /usr/local/lib/python3.7/dist-packages (from google-auth<3,>=1.6.3->tensorboard<2.9,>=2.8->tensorflow) (4.2.4)\n",
            "Requirement already satisfied: requests-oauthlib>=0.7.0 in /usr/local/lib/python3.7/dist-packages (from google-auth-oauthlib<0.5,>=0.4.1->tensorboard<2.9,>=2.8->tensorflow) (1.3.1)\n",
            "Requirement already satisfied: importlib-metadata>=4.4 in /usr/local/lib/python3.7/dist-packages (from markdown>=2.6.8->tensorboard<2.9,>=2.8->tensorflow) (4.12.0)\n",
            "Requirement already satisfied: zipp>=0.5 in /usr/local/lib/python3.7/dist-packages (from importlib-metadata>=4.4->markdown>=2.6.8->tensorboard<2.9,>=2.8->tensorflow) (3.8.1)\n",
            "Requirement already satisfied: pyasn1<0.5.0,>=0.4.6 in /usr/local/lib/python3.7/dist-packages (from pyasn1-modules>=0.2.1->google-auth<3,>=1.6.3->tensorboard<2.9,>=2.8->tensorflow) (0.4.8)\n",
            "Requirement already satisfied: idna<3,>=2.5 in /usr/local/lib/python3.7/dist-packages (from requests<3,>=2.21.0->tensorboard<2.9,>=2.8->tensorflow) (2.10)\n",
            "Requirement already satisfied: certifi>=2017.4.17 in /usr/local/lib/python3.7/dist-packages (from requests<3,>=2.21.0->tensorboard<2.9,>=2.8->tensorflow) (2022.6.15)\n",
            "Requirement already satisfied: chardet<4,>=3.0.2 in /usr/local/lib/python3.7/dist-packages (from requests<3,>=2.21.0->tensorboard<2.9,>=2.8->tensorflow) (3.0.4)\n",
            "Requirement already satisfied: urllib3!=1.25.0,!=1.25.1,<1.26,>=1.21.1 in /usr/local/lib/python3.7/dist-packages (from requests<3,>=2.21.0->tensorboard<2.9,>=2.8->tensorflow) (1.24.3)\n",
            "Requirement already satisfied: oauthlib>=3.0.0 in /usr/local/lib/python3.7/dist-packages (from requests-oauthlib>=0.7.0->google-auth-oauthlib<0.5,>=0.4.1->tensorboard<2.9,>=2.8->tensorflow) (3.2.0)\n",
            "Looking in indexes: https://pypi.org/simple, https://us-python.pkg.dev/colab-wheels/public/simple/\n",
            "Requirement already satisfied: haversine in /usr/local/lib/python3.7/dist-packages (2.7.0)\n",
            "Looking in indexes: https://pypi.org/simple, https://us-python.pkg.dev/colab-wheels/public/simple/\n",
            "Requirement already satisfied: xgboost in /usr/local/lib/python3.7/dist-packages (0.90)\n",
            "Requirement already satisfied: numpy in /usr/local/lib/python3.7/dist-packages (from xgboost) (1.21.6)\n",
            "Requirement already satisfied: scipy in /usr/local/lib/python3.7/dist-packages (from xgboost) (1.7.3)\n"
          ]
        }
      ]
    },
    {
      "cell_type": "markdown",
      "id": "3497aae2",
      "metadata": {
        "id": "3497aae2"
      },
      "source": [
        "# Part 1: Predicting Taxi Fares"
      ]
    },
    {
      "cell_type": "markdown",
      "source": [
        "# Implement MLP model using Keras <a class=\"anchor\" id=\"6\"></a>\n",
        "\n",
        "- The implementation of MLP model in Keras comprises of three steps:-\n",
        "\n",
        "  - Compiling the model with the compile() method.\n",
        "  \n",
        "  - Training the model with fit() method.\n",
        "  \n",
        "  - Evaluating the model performance with evaluate() method.\n",
        "  \n"
      ],
      "metadata": {
        "id": "QrxYZPcEcU5d"
      },
      "id": "QrxYZPcEcU5d"
    },
    {
      "cell_type": "markdown",
      "source": [
        "## Reference https://www.kaggle.com/code/afrinp/nyc-taxi-fare-prediction-5-lakh-rows#Making-ML-Model"
      ],
      "metadata": {
        "id": "2dKfm-SXdTPD"
      },
      "id": "2dKfm-SXdTPD"
    },
    {
      "cell_type": "code",
      "execution_count": null,
      "id": "c4000539",
      "metadata": {
        "id": "c4000539"
      },
      "outputs": [],
      "source": [
        "import warnings\n",
        "import pandas as pd\n",
        "import matplotlib.pyplot as plt\n",
        "import numpy as np\n",
        "import tensorflow as tf\n",
        "import seaborn as sns"
      ]
    },
    {
      "cell_type": "code",
      "execution_count": null,
      "id": "a158ed46",
      "metadata": {
        "id": "a158ed46"
      },
      "outputs": [],
      "source": [
        "from keras.models import Sequential\n",
        "from keras.layers import Dense,LSTM, TimeDistributed, Flatten, MaxPooling1D,Conv1D,Dropout\n",
        "from sklearn.metrics import precision_recall_fscore_support, precision_score, recall_score\n",
        "from sklearn.preprocessing import MinMaxScaler\n",
        "from sklearn.metrics import mean_squared_error\n",
        "from sklearn.linear_model import LinearRegression, Ridge, Lasso,ElasticNet,HuberRegressor,PassiveAggressiveRegressor,SGDRegressor\n",
        "from sklearn.pipeline import Pipeline\n",
        "from sklearn.tree import DecisionTreeRegressor,ExtraTreeRegressor\n",
        "from sklearn.svm import SVR\n",
        "from sklearn.ensemble import AdaBoostRegressor,BaggingRegressor,RandomForestRegressor,ExtraTreesRegressor,GradientBoostingRegressor\n",
        "from sklearn.model_selection import train_test_split,GridSearchCV,RandomizedSearchCV\n",
        "from sklearn.preprocessing import StandardScaler\n",
        "from statsmodels.tsa.arima.model import ARIMA\n",
        "from math import radians, cos, sin, asin, sqrt\n",
        "pd.set_option('display.float_format', lambda x: '%.3f' % x)\n",
        "warnings.filterwarnings(\"ignore\")\n",
        "%matplotlib inline"
      ]
    },
    {
      "cell_type": "markdown",
      "id": "e524a3c3",
      "metadata": {
        "id": "e524a3c3"
      },
      "source": [
        "#### There is a lot of data, which will require a lot of computing resources, so I took only a part of itloading data"
      ]
    },
    {
      "cell_type": "code",
      "execution_count": null,
      "id": "a38ed9da",
      "metadata": {
        "id": "a38ed9da"
      },
      "outputs": [],
      "source": [
        "# loading train data\n",
        "my_dataframe = pd.read_csv('train.csv',nrows = 1000000)\n",
        "# loading test data\n",
        "testdf = pd.read_csv('test.csv')"
      ]
    },
    {
      "cell_type": "markdown",
      "id": "6864634b",
      "metadata": {
        "id": "6864634b"
      },
      "source": [
        "will only be including 1,000,000 rows in this notebook due to size constraints"
      ]
    },
    {
      "cell_type": "code",
      "execution_count": null,
      "id": "ef26113b",
      "metadata": {
        "colab": {
          "base_uri": "https://localhost:8080/"
        },
        "id": "ef26113b",
        "outputId": "c94b473d-30dd-4816-aac6-493f149c45d0"
      },
      "outputs": [
        {
          "output_type": "stream",
          "name": "stdout",
          "text": [
            "Number of records: 1000000\n",
            "Number of columns: 8\n"
          ]
        }
      ],
      "source": [
        "print(f'Number of records: {my_dataframe.shape[0]}')\n",
        "print(f'Number of columns: {my_dataframe.shape[1]}')"
      ]
    },
    {
      "cell_type": "code",
      "execution_count": null,
      "id": "f271c462",
      "metadata": {
        "colab": {
          "base_uri": "https://localhost:8080/"
        },
        "id": "f271c462",
        "outputId": "1bd78ef8-f469-498a-c838-b07d1fadbd46"
      },
      "outputs": [
        {
          "output_type": "stream",
          "name": "stdout",
          "text": [
            "<class 'pandas.core.frame.DataFrame'>\n",
            "RangeIndex: 1000000 entries, 0 to 999999\n",
            "Data columns (total 8 columns):\n",
            " #   Column             Non-Null Count    Dtype  \n",
            "---  ------             --------------    -----  \n",
            " 0   key                1000000 non-null  object \n",
            " 1   fare_amount        1000000 non-null  float64\n",
            " 2   pickup_datetime    1000000 non-null  object \n",
            " 3   pickup_longitude   1000000 non-null  float64\n",
            " 4   pickup_latitude    1000000 non-null  float64\n",
            " 5   dropoff_longitude  999990 non-null   float64\n",
            " 6   dropoff_latitude   999990 non-null   float64\n",
            " 7   passenger_count    1000000 non-null  int64  \n",
            "dtypes: float64(5), int64(1), object(2)\n",
            "memory usage: 61.0+ MB\n"
          ]
        }
      ],
      "source": [
        "my_dataframe.info()"
      ]
    },
    {
      "cell_type": "markdown",
      "id": "7240ec4d",
      "metadata": {
        "id": "7240ec4d"
      },
      "source": [
        "Info about our data"
      ]
    },
    {
      "cell_type": "code",
      "execution_count": null,
      "id": "84a0b1d2",
      "metadata": {
        "colab": {
          "base_uri": "https://localhost:8080/",
          "height": 300
        },
        "id": "84a0b1d2",
        "outputId": "7f1ec9cf-00f0-435f-8e32-8f7983a275ac"
      },
      "outputs": [
        {
          "output_type": "execute_result",
          "data": {
            "text/plain": [
              "       fare_amount  pickup_longitude  pickup_latitude  dropoff_longitude  \\\n",
              "count  1000000.000       1000000.000      1000000.000         999990.000   \n",
              "mean        11.348           -72.527           39.929            -72.528   \n",
              "std          9.822            12.058            7.626             11.324   \n",
              "min        -44.900         -3377.681        -3116.285          -3383.297   \n",
              "25%          6.000           -73.992           40.735            -73.991   \n",
              "50%          8.500           -73.982           40.753            -73.980   \n",
              "75%         12.500           -73.967           40.767            -73.964   \n",
              "max        500.000          2522.271         2621.628             45.582   \n",
              "\n",
              "       dropoff_latitude  passenger_count  \n",
              "count        999990.000      1000000.000  \n",
              "mean             39.920            1.685  \n",
              "std               8.201            1.324  \n",
              "min           -3114.339            0.000  \n",
              "25%              40.734            1.000  \n",
              "50%              40.753            1.000  \n",
              "75%              40.768            2.000  \n",
              "max            1651.553          208.000  "
            ],
            "text/html": [
              "\n",
              "  <div id=\"df-46665993-5bcb-48ff-8146-861f9d23cc4f\">\n",
              "    <div class=\"colab-df-container\">\n",
              "      <div>\n",
              "<style scoped>\n",
              "    .dataframe tbody tr th:only-of-type {\n",
              "        vertical-align: middle;\n",
              "    }\n",
              "\n",
              "    .dataframe tbody tr th {\n",
              "        vertical-align: top;\n",
              "    }\n",
              "\n",
              "    .dataframe thead th {\n",
              "        text-align: right;\n",
              "    }\n",
              "</style>\n",
              "<table border=\"1\" class=\"dataframe\">\n",
              "  <thead>\n",
              "    <tr style=\"text-align: right;\">\n",
              "      <th></th>\n",
              "      <th>fare_amount</th>\n",
              "      <th>pickup_longitude</th>\n",
              "      <th>pickup_latitude</th>\n",
              "      <th>dropoff_longitude</th>\n",
              "      <th>dropoff_latitude</th>\n",
              "      <th>passenger_count</th>\n",
              "    </tr>\n",
              "  </thead>\n",
              "  <tbody>\n",
              "    <tr>\n",
              "      <th>count</th>\n",
              "      <td>1000000.000</td>\n",
              "      <td>1000000.000</td>\n",
              "      <td>1000000.000</td>\n",
              "      <td>999990.000</td>\n",
              "      <td>999990.000</td>\n",
              "      <td>1000000.000</td>\n",
              "    </tr>\n",
              "    <tr>\n",
              "      <th>mean</th>\n",
              "      <td>11.348</td>\n",
              "      <td>-72.527</td>\n",
              "      <td>39.929</td>\n",
              "      <td>-72.528</td>\n",
              "      <td>39.920</td>\n",
              "      <td>1.685</td>\n",
              "    </tr>\n",
              "    <tr>\n",
              "      <th>std</th>\n",
              "      <td>9.822</td>\n",
              "      <td>12.058</td>\n",
              "      <td>7.626</td>\n",
              "      <td>11.324</td>\n",
              "      <td>8.201</td>\n",
              "      <td>1.324</td>\n",
              "    </tr>\n",
              "    <tr>\n",
              "      <th>min</th>\n",
              "      <td>-44.900</td>\n",
              "      <td>-3377.681</td>\n",
              "      <td>-3116.285</td>\n",
              "      <td>-3383.297</td>\n",
              "      <td>-3114.339</td>\n",
              "      <td>0.000</td>\n",
              "    </tr>\n",
              "    <tr>\n",
              "      <th>25%</th>\n",
              "      <td>6.000</td>\n",
              "      <td>-73.992</td>\n",
              "      <td>40.735</td>\n",
              "      <td>-73.991</td>\n",
              "      <td>40.734</td>\n",
              "      <td>1.000</td>\n",
              "    </tr>\n",
              "    <tr>\n",
              "      <th>50%</th>\n",
              "      <td>8.500</td>\n",
              "      <td>-73.982</td>\n",
              "      <td>40.753</td>\n",
              "      <td>-73.980</td>\n",
              "      <td>40.753</td>\n",
              "      <td>1.000</td>\n",
              "    </tr>\n",
              "    <tr>\n",
              "      <th>75%</th>\n",
              "      <td>12.500</td>\n",
              "      <td>-73.967</td>\n",
              "      <td>40.767</td>\n",
              "      <td>-73.964</td>\n",
              "      <td>40.768</td>\n",
              "      <td>2.000</td>\n",
              "    </tr>\n",
              "    <tr>\n",
              "      <th>max</th>\n",
              "      <td>500.000</td>\n",
              "      <td>2522.271</td>\n",
              "      <td>2621.628</td>\n",
              "      <td>45.582</td>\n",
              "      <td>1651.553</td>\n",
              "      <td>208.000</td>\n",
              "    </tr>\n",
              "  </tbody>\n",
              "</table>\n",
              "</div>\n",
              "      <button class=\"colab-df-convert\" onclick=\"convertToInteractive('df-46665993-5bcb-48ff-8146-861f9d23cc4f')\"\n",
              "              title=\"Convert this dataframe to an interactive table.\"\n",
              "              style=\"display:none;\">\n",
              "        \n",
              "  <svg xmlns=\"http://www.w3.org/2000/svg\" height=\"24px\"viewBox=\"0 0 24 24\"\n",
              "       width=\"24px\">\n",
              "    <path d=\"M0 0h24v24H0V0z\" fill=\"none\"/>\n",
              "    <path d=\"M18.56 5.44l.94 2.06.94-2.06 2.06-.94-2.06-.94-.94-2.06-.94 2.06-2.06.94zm-11 1L8.5 8.5l.94-2.06 2.06-.94-2.06-.94L8.5 2.5l-.94 2.06-2.06.94zm10 10l.94 2.06.94-2.06 2.06-.94-2.06-.94-.94-2.06-.94 2.06-2.06.94z\"/><path d=\"M17.41 7.96l-1.37-1.37c-.4-.4-.92-.59-1.43-.59-.52 0-1.04.2-1.43.59L10.3 9.45l-7.72 7.72c-.78.78-.78 2.05 0 2.83L4 21.41c.39.39.9.59 1.41.59.51 0 1.02-.2 1.41-.59l7.78-7.78 2.81-2.81c.8-.78.8-2.07 0-2.86zM5.41 20L4 18.59l7.72-7.72 1.47 1.35L5.41 20z\"/>\n",
              "  </svg>\n",
              "      </button>\n",
              "      \n",
              "  <style>\n",
              "    .colab-df-container {\n",
              "      display:flex;\n",
              "      flex-wrap:wrap;\n",
              "      gap: 12px;\n",
              "    }\n",
              "\n",
              "    .colab-df-convert {\n",
              "      background-color: #E8F0FE;\n",
              "      border: none;\n",
              "      border-radius: 50%;\n",
              "      cursor: pointer;\n",
              "      display: none;\n",
              "      fill: #1967D2;\n",
              "      height: 32px;\n",
              "      padding: 0 0 0 0;\n",
              "      width: 32px;\n",
              "    }\n",
              "\n",
              "    .colab-df-convert:hover {\n",
              "      background-color: #E2EBFA;\n",
              "      box-shadow: 0px 1px 2px rgba(60, 64, 67, 0.3), 0px 1px 3px 1px rgba(60, 64, 67, 0.15);\n",
              "      fill: #174EA6;\n",
              "    }\n",
              "\n",
              "    [theme=dark] .colab-df-convert {\n",
              "      background-color: #3B4455;\n",
              "      fill: #D2E3FC;\n",
              "    }\n",
              "\n",
              "    [theme=dark] .colab-df-convert:hover {\n",
              "      background-color: #434B5C;\n",
              "      box-shadow: 0px 1px 3px 1px rgba(0, 0, 0, 0.15);\n",
              "      filter: drop-shadow(0px 1px 2px rgba(0, 0, 0, 0.3));\n",
              "      fill: #FFFFFF;\n",
              "    }\n",
              "  </style>\n",
              "\n",
              "      <script>\n",
              "        const buttonEl =\n",
              "          document.querySelector('#df-46665993-5bcb-48ff-8146-861f9d23cc4f button.colab-df-convert');\n",
              "        buttonEl.style.display =\n",
              "          google.colab.kernel.accessAllowed ? 'block' : 'none';\n",
              "\n",
              "        async function convertToInteractive(key) {\n",
              "          const element = document.querySelector('#df-46665993-5bcb-48ff-8146-861f9d23cc4f');\n",
              "          const dataTable =\n",
              "            await google.colab.kernel.invokeFunction('convertToInteractive',\n",
              "                                                     [key], {});\n",
              "          if (!dataTable) return;\n",
              "\n",
              "          const docLinkHtml = 'Like what you see? Visit the ' +\n",
              "            '<a target=\"_blank\" href=https://colab.research.google.com/notebooks/data_table.ipynb>data table notebook</a>'\n",
              "            + ' to learn more about interactive tables.';\n",
              "          element.innerHTML = '';\n",
              "          dataTable['output_type'] = 'display_data';\n",
              "          await google.colab.output.renderOutput(dataTable, element);\n",
              "          const docLink = document.createElement('div');\n",
              "          docLink.innerHTML = docLinkHtml;\n",
              "          element.appendChild(docLink);\n",
              "        }\n",
              "      </script>\n",
              "    </div>\n",
              "  </div>\n",
              "  "
            ]
          },
          "metadata": {},
          "execution_count": 15
        }
      ],
      "source": [
        "my_dataframe.describe()"
      ]
    },
    {
      "cell_type": "code",
      "execution_count": null,
      "id": "74f5694b",
      "metadata": {
        "colab": {
          "base_uri": "https://localhost:8080/",
          "height": 206
        },
        "id": "74f5694b",
        "outputId": "e6073bf5-983b-451d-f90b-2c448ee15ea6"
      },
      "outputs": [
        {
          "output_type": "execute_result",
          "data": {
            "text/plain": [
              "                             key  fare_amount          pickup_datetime  \\\n",
              "0    2009-06-15 17:26:21.0000001        4.500  2009-06-15 17:26:21 UTC   \n",
              "1    2010-01-05 16:52:16.0000002       16.900  2010-01-05 16:52:16 UTC   \n",
              "2   2011-08-18 00:35:00.00000049        5.700  2011-08-18 00:35:00 UTC   \n",
              "3    2012-04-21 04:30:42.0000001        7.700  2012-04-21 04:30:42 UTC   \n",
              "4  2010-03-09 07:51:00.000000135        5.300  2010-03-09 07:51:00 UTC   \n",
              "\n",
              "   pickup_longitude  pickup_latitude  dropoff_longitude  dropoff_latitude  \\\n",
              "0           -73.844           40.721            -73.842            40.712   \n",
              "1           -74.016           40.711            -73.979            40.782   \n",
              "2           -73.983           40.761            -73.991            40.751   \n",
              "3           -73.987           40.733            -73.992            40.758   \n",
              "4           -73.968           40.768            -73.957            40.784   \n",
              "\n",
              "   passenger_count  \n",
              "0                1  \n",
              "1                1  \n",
              "2                2  \n",
              "3                1  \n",
              "4                1  "
            ],
            "text/html": [
              "\n",
              "  <div id=\"df-33b430a8-6a7e-4323-a530-9c26f8042803\">\n",
              "    <div class=\"colab-df-container\">\n",
              "      <div>\n",
              "<style scoped>\n",
              "    .dataframe tbody tr th:only-of-type {\n",
              "        vertical-align: middle;\n",
              "    }\n",
              "\n",
              "    .dataframe tbody tr th {\n",
              "        vertical-align: top;\n",
              "    }\n",
              "\n",
              "    .dataframe thead th {\n",
              "        text-align: right;\n",
              "    }\n",
              "</style>\n",
              "<table border=\"1\" class=\"dataframe\">\n",
              "  <thead>\n",
              "    <tr style=\"text-align: right;\">\n",
              "      <th></th>\n",
              "      <th>key</th>\n",
              "      <th>fare_amount</th>\n",
              "      <th>pickup_datetime</th>\n",
              "      <th>pickup_longitude</th>\n",
              "      <th>pickup_latitude</th>\n",
              "      <th>dropoff_longitude</th>\n",
              "      <th>dropoff_latitude</th>\n",
              "      <th>passenger_count</th>\n",
              "    </tr>\n",
              "  </thead>\n",
              "  <tbody>\n",
              "    <tr>\n",
              "      <th>0</th>\n",
              "      <td>2009-06-15 17:26:21.0000001</td>\n",
              "      <td>4.500</td>\n",
              "      <td>2009-06-15 17:26:21 UTC</td>\n",
              "      <td>-73.844</td>\n",
              "      <td>40.721</td>\n",
              "      <td>-73.842</td>\n",
              "      <td>40.712</td>\n",
              "      <td>1</td>\n",
              "    </tr>\n",
              "    <tr>\n",
              "      <th>1</th>\n",
              "      <td>2010-01-05 16:52:16.0000002</td>\n",
              "      <td>16.900</td>\n",
              "      <td>2010-01-05 16:52:16 UTC</td>\n",
              "      <td>-74.016</td>\n",
              "      <td>40.711</td>\n",
              "      <td>-73.979</td>\n",
              "      <td>40.782</td>\n",
              "      <td>1</td>\n",
              "    </tr>\n",
              "    <tr>\n",
              "      <th>2</th>\n",
              "      <td>2011-08-18 00:35:00.00000049</td>\n",
              "      <td>5.700</td>\n",
              "      <td>2011-08-18 00:35:00 UTC</td>\n",
              "      <td>-73.983</td>\n",
              "      <td>40.761</td>\n",
              "      <td>-73.991</td>\n",
              "      <td>40.751</td>\n",
              "      <td>2</td>\n",
              "    </tr>\n",
              "    <tr>\n",
              "      <th>3</th>\n",
              "      <td>2012-04-21 04:30:42.0000001</td>\n",
              "      <td>7.700</td>\n",
              "      <td>2012-04-21 04:30:42 UTC</td>\n",
              "      <td>-73.987</td>\n",
              "      <td>40.733</td>\n",
              "      <td>-73.992</td>\n",
              "      <td>40.758</td>\n",
              "      <td>1</td>\n",
              "    </tr>\n",
              "    <tr>\n",
              "      <th>4</th>\n",
              "      <td>2010-03-09 07:51:00.000000135</td>\n",
              "      <td>5.300</td>\n",
              "      <td>2010-03-09 07:51:00 UTC</td>\n",
              "      <td>-73.968</td>\n",
              "      <td>40.768</td>\n",
              "      <td>-73.957</td>\n",
              "      <td>40.784</td>\n",
              "      <td>1</td>\n",
              "    </tr>\n",
              "  </tbody>\n",
              "</table>\n",
              "</div>\n",
              "      <button class=\"colab-df-convert\" onclick=\"convertToInteractive('df-33b430a8-6a7e-4323-a530-9c26f8042803')\"\n",
              "              title=\"Convert this dataframe to an interactive table.\"\n",
              "              style=\"display:none;\">\n",
              "        \n",
              "  <svg xmlns=\"http://www.w3.org/2000/svg\" height=\"24px\"viewBox=\"0 0 24 24\"\n",
              "       width=\"24px\">\n",
              "    <path d=\"M0 0h24v24H0V0z\" fill=\"none\"/>\n",
              "    <path d=\"M18.56 5.44l.94 2.06.94-2.06 2.06-.94-2.06-.94-.94-2.06-.94 2.06-2.06.94zm-11 1L8.5 8.5l.94-2.06 2.06-.94-2.06-.94L8.5 2.5l-.94 2.06-2.06.94zm10 10l.94 2.06.94-2.06 2.06-.94-2.06-.94-.94-2.06-.94 2.06-2.06.94z\"/><path d=\"M17.41 7.96l-1.37-1.37c-.4-.4-.92-.59-1.43-.59-.52 0-1.04.2-1.43.59L10.3 9.45l-7.72 7.72c-.78.78-.78 2.05 0 2.83L4 21.41c.39.39.9.59 1.41.59.51 0 1.02-.2 1.41-.59l7.78-7.78 2.81-2.81c.8-.78.8-2.07 0-2.86zM5.41 20L4 18.59l7.72-7.72 1.47 1.35L5.41 20z\"/>\n",
              "  </svg>\n",
              "      </button>\n",
              "      \n",
              "  <style>\n",
              "    .colab-df-container {\n",
              "      display:flex;\n",
              "      flex-wrap:wrap;\n",
              "      gap: 12px;\n",
              "    }\n",
              "\n",
              "    .colab-df-convert {\n",
              "      background-color: #E8F0FE;\n",
              "      border: none;\n",
              "      border-radius: 50%;\n",
              "      cursor: pointer;\n",
              "      display: none;\n",
              "      fill: #1967D2;\n",
              "      height: 32px;\n",
              "      padding: 0 0 0 0;\n",
              "      width: 32px;\n",
              "    }\n",
              "\n",
              "    .colab-df-convert:hover {\n",
              "      background-color: #E2EBFA;\n",
              "      box-shadow: 0px 1px 2px rgba(60, 64, 67, 0.3), 0px 1px 3px 1px rgba(60, 64, 67, 0.15);\n",
              "      fill: #174EA6;\n",
              "    }\n",
              "\n",
              "    [theme=dark] .colab-df-convert {\n",
              "      background-color: #3B4455;\n",
              "      fill: #D2E3FC;\n",
              "    }\n",
              "\n",
              "    [theme=dark] .colab-df-convert:hover {\n",
              "      background-color: #434B5C;\n",
              "      box-shadow: 0px 1px 3px 1px rgba(0, 0, 0, 0.15);\n",
              "      filter: drop-shadow(0px 1px 2px rgba(0, 0, 0, 0.3));\n",
              "      fill: #FFFFFF;\n",
              "    }\n",
              "  </style>\n",
              "\n",
              "      <script>\n",
              "        const buttonEl =\n",
              "          document.querySelector('#df-33b430a8-6a7e-4323-a530-9c26f8042803 button.colab-df-convert');\n",
              "        buttonEl.style.display =\n",
              "          google.colab.kernel.accessAllowed ? 'block' : 'none';\n",
              "\n",
              "        async function convertToInteractive(key) {\n",
              "          const element = document.querySelector('#df-33b430a8-6a7e-4323-a530-9c26f8042803');\n",
              "          const dataTable =\n",
              "            await google.colab.kernel.invokeFunction('convertToInteractive',\n",
              "                                                     [key], {});\n",
              "          if (!dataTable) return;\n",
              "\n",
              "          const docLinkHtml = 'Like what you see? Visit the ' +\n",
              "            '<a target=\"_blank\" href=https://colab.research.google.com/notebooks/data_table.ipynb>data table notebook</a>'\n",
              "            + ' to learn more about interactive tables.';\n",
              "          element.innerHTML = '';\n",
              "          dataTable['output_type'] = 'display_data';\n",
              "          await google.colab.output.renderOutput(dataTable, element);\n",
              "          const docLink = document.createElement('div');\n",
              "          docLink.innerHTML = docLinkHtml;\n",
              "          element.appendChild(docLink);\n",
              "        }\n",
              "      </script>\n",
              "    </div>\n",
              "  </div>\n",
              "  "
            ]
          },
          "metadata": {},
          "execution_count": 16
        }
      ],
      "source": [
        "my_dataframe.head()"
      ]
    },
    {
      "cell_type": "markdown",
      "id": "5eb1f364",
      "metadata": {
        "id": "5eb1f364"
      },
      "source": [
        "Statistical summary of data"
      ]
    },
    {
      "cell_type": "code",
      "execution_count": null,
      "id": "a25dd7d6",
      "metadata": {
        "colab": {
          "base_uri": "https://localhost:8080/",
          "height": 363
        },
        "id": "a25dd7d6",
        "outputId": "7818021a-fc95-4c7c-b835-c9404e6c40ca"
      },
      "outputs": [
        {
          "output_type": "execute_result",
          "data": {
            "text/plain": [
              "                                 key  fare_amount          pickup_datetime  \\\n",
              "120227  2012-12-11 12:57:00.00000013       12.500  2012-12-11 12:57:00 UTC   \n",
              "245696   2013-03-21 18:07:07.0000001       86.500  2013-03-21 18:07:07 UTC   \n",
              "340533  2012-12-11 12:50:52.00000010       27.500  2012-12-11 12:50:52 UTC   \n",
              "428108   2011-09-08 09:12:52.0000001       11.800  2011-09-08 09:12:52 UTC   \n",
              "471472   2012-12-11 12:34:20.0000006        7.800  2012-12-11 12:34:20 UTC   \n",
              "524834   2011-09-25 23:01:12.0000005       14.760  2011-09-25 23:01:12 UTC   \n",
              "574023   2013-11-04 20:59:15.0000001       10.200  2013-11-04 20:59:15 UTC   \n",
              "580338   2012-12-11 12:00:53.0000002       21.000  2012-12-11 12:00:53 UTC   \n",
              "794694   2013-11-04 20:07:59.0000006        7.200  2013-11-04 20:07:59 UTC   \n",
              "895400   2011-06-20 11:34:44.0000001       40.000  2011-06-20 11:34:44 UTC   \n",
              "\n",
              "        pickup_longitude  pickup_latitude  dropoff_longitude  \\\n",
              "120227           -73.993           40.743                NaN   \n",
              "245696           -73.992           40.741                NaN   \n",
              "340533           -73.980           40.785                NaN   \n",
              "428108           -73.987           40.752                NaN   \n",
              "471472             0.000            0.000                NaN   \n",
              "524834           -73.985           40.769                NaN   \n",
              "574023           -73.998           40.745                NaN   \n",
              "580338           -73.975           40.752                NaN   \n",
              "794694           -73.977           40.788                NaN   \n",
              "895400           -73.863           40.769                NaN   \n",
              "\n",
              "        dropoff_latitude  passenger_count  \n",
              "120227               NaN                0  \n",
              "245696               NaN                0  \n",
              "340533               NaN                0  \n",
              "428108               NaN                0  \n",
              "471472               NaN                0  \n",
              "524834               NaN                0  \n",
              "574023               NaN                0  \n",
              "580338               NaN                0  \n",
              "794694               NaN                0  \n",
              "895400               NaN                0  "
            ],
            "text/html": [
              "\n",
              "  <div id=\"df-5d1416d0-67f6-4d0e-baad-c40c89fbd810\">\n",
              "    <div class=\"colab-df-container\">\n",
              "      <div>\n",
              "<style scoped>\n",
              "    .dataframe tbody tr th:only-of-type {\n",
              "        vertical-align: middle;\n",
              "    }\n",
              "\n",
              "    .dataframe tbody tr th {\n",
              "        vertical-align: top;\n",
              "    }\n",
              "\n",
              "    .dataframe thead th {\n",
              "        text-align: right;\n",
              "    }\n",
              "</style>\n",
              "<table border=\"1\" class=\"dataframe\">\n",
              "  <thead>\n",
              "    <tr style=\"text-align: right;\">\n",
              "      <th></th>\n",
              "      <th>key</th>\n",
              "      <th>fare_amount</th>\n",
              "      <th>pickup_datetime</th>\n",
              "      <th>pickup_longitude</th>\n",
              "      <th>pickup_latitude</th>\n",
              "      <th>dropoff_longitude</th>\n",
              "      <th>dropoff_latitude</th>\n",
              "      <th>passenger_count</th>\n",
              "    </tr>\n",
              "  </thead>\n",
              "  <tbody>\n",
              "    <tr>\n",
              "      <th>120227</th>\n",
              "      <td>2012-12-11 12:57:00.00000013</td>\n",
              "      <td>12.500</td>\n",
              "      <td>2012-12-11 12:57:00 UTC</td>\n",
              "      <td>-73.993</td>\n",
              "      <td>40.743</td>\n",
              "      <td>NaN</td>\n",
              "      <td>NaN</td>\n",
              "      <td>0</td>\n",
              "    </tr>\n",
              "    <tr>\n",
              "      <th>245696</th>\n",
              "      <td>2013-03-21 18:07:07.0000001</td>\n",
              "      <td>86.500</td>\n",
              "      <td>2013-03-21 18:07:07 UTC</td>\n",
              "      <td>-73.992</td>\n",
              "      <td>40.741</td>\n",
              "      <td>NaN</td>\n",
              "      <td>NaN</td>\n",
              "      <td>0</td>\n",
              "    </tr>\n",
              "    <tr>\n",
              "      <th>340533</th>\n",
              "      <td>2012-12-11 12:50:52.00000010</td>\n",
              "      <td>27.500</td>\n",
              "      <td>2012-12-11 12:50:52 UTC</td>\n",
              "      <td>-73.980</td>\n",
              "      <td>40.785</td>\n",
              "      <td>NaN</td>\n",
              "      <td>NaN</td>\n",
              "      <td>0</td>\n",
              "    </tr>\n",
              "    <tr>\n",
              "      <th>428108</th>\n",
              "      <td>2011-09-08 09:12:52.0000001</td>\n",
              "      <td>11.800</td>\n",
              "      <td>2011-09-08 09:12:52 UTC</td>\n",
              "      <td>-73.987</td>\n",
              "      <td>40.752</td>\n",
              "      <td>NaN</td>\n",
              "      <td>NaN</td>\n",
              "      <td>0</td>\n",
              "    </tr>\n",
              "    <tr>\n",
              "      <th>471472</th>\n",
              "      <td>2012-12-11 12:34:20.0000006</td>\n",
              "      <td>7.800</td>\n",
              "      <td>2012-12-11 12:34:20 UTC</td>\n",
              "      <td>0.000</td>\n",
              "      <td>0.000</td>\n",
              "      <td>NaN</td>\n",
              "      <td>NaN</td>\n",
              "      <td>0</td>\n",
              "    </tr>\n",
              "    <tr>\n",
              "      <th>524834</th>\n",
              "      <td>2011-09-25 23:01:12.0000005</td>\n",
              "      <td>14.760</td>\n",
              "      <td>2011-09-25 23:01:12 UTC</td>\n",
              "      <td>-73.985</td>\n",
              "      <td>40.769</td>\n",
              "      <td>NaN</td>\n",
              "      <td>NaN</td>\n",
              "      <td>0</td>\n",
              "    </tr>\n",
              "    <tr>\n",
              "      <th>574023</th>\n",
              "      <td>2013-11-04 20:59:15.0000001</td>\n",
              "      <td>10.200</td>\n",
              "      <td>2013-11-04 20:59:15 UTC</td>\n",
              "      <td>-73.998</td>\n",
              "      <td>40.745</td>\n",
              "      <td>NaN</td>\n",
              "      <td>NaN</td>\n",
              "      <td>0</td>\n",
              "    </tr>\n",
              "    <tr>\n",
              "      <th>580338</th>\n",
              "      <td>2012-12-11 12:00:53.0000002</td>\n",
              "      <td>21.000</td>\n",
              "      <td>2012-12-11 12:00:53 UTC</td>\n",
              "      <td>-73.975</td>\n",
              "      <td>40.752</td>\n",
              "      <td>NaN</td>\n",
              "      <td>NaN</td>\n",
              "      <td>0</td>\n",
              "    </tr>\n",
              "    <tr>\n",
              "      <th>794694</th>\n",
              "      <td>2013-11-04 20:07:59.0000006</td>\n",
              "      <td>7.200</td>\n",
              "      <td>2013-11-04 20:07:59 UTC</td>\n",
              "      <td>-73.977</td>\n",
              "      <td>40.788</td>\n",
              "      <td>NaN</td>\n",
              "      <td>NaN</td>\n",
              "      <td>0</td>\n",
              "    </tr>\n",
              "    <tr>\n",
              "      <th>895400</th>\n",
              "      <td>2011-06-20 11:34:44.0000001</td>\n",
              "      <td>40.000</td>\n",
              "      <td>2011-06-20 11:34:44 UTC</td>\n",
              "      <td>-73.863</td>\n",
              "      <td>40.769</td>\n",
              "      <td>NaN</td>\n",
              "      <td>NaN</td>\n",
              "      <td>0</td>\n",
              "    </tr>\n",
              "  </tbody>\n",
              "</table>\n",
              "</div>\n",
              "      <button class=\"colab-df-convert\" onclick=\"convertToInteractive('df-5d1416d0-67f6-4d0e-baad-c40c89fbd810')\"\n",
              "              title=\"Convert this dataframe to an interactive table.\"\n",
              "              style=\"display:none;\">\n",
              "        \n",
              "  <svg xmlns=\"http://www.w3.org/2000/svg\" height=\"24px\"viewBox=\"0 0 24 24\"\n",
              "       width=\"24px\">\n",
              "    <path d=\"M0 0h24v24H0V0z\" fill=\"none\"/>\n",
              "    <path d=\"M18.56 5.44l.94 2.06.94-2.06 2.06-.94-2.06-.94-.94-2.06-.94 2.06-2.06.94zm-11 1L8.5 8.5l.94-2.06 2.06-.94-2.06-.94L8.5 2.5l-.94 2.06-2.06.94zm10 10l.94 2.06.94-2.06 2.06-.94-2.06-.94-.94-2.06-.94 2.06-2.06.94z\"/><path d=\"M17.41 7.96l-1.37-1.37c-.4-.4-.92-.59-1.43-.59-.52 0-1.04.2-1.43.59L10.3 9.45l-7.72 7.72c-.78.78-.78 2.05 0 2.83L4 21.41c.39.39.9.59 1.41.59.51 0 1.02-.2 1.41-.59l7.78-7.78 2.81-2.81c.8-.78.8-2.07 0-2.86zM5.41 20L4 18.59l7.72-7.72 1.47 1.35L5.41 20z\"/>\n",
              "  </svg>\n",
              "      </button>\n",
              "      \n",
              "  <style>\n",
              "    .colab-df-container {\n",
              "      display:flex;\n",
              "      flex-wrap:wrap;\n",
              "      gap: 12px;\n",
              "    }\n",
              "\n",
              "    .colab-df-convert {\n",
              "      background-color: #E8F0FE;\n",
              "      border: none;\n",
              "      border-radius: 50%;\n",
              "      cursor: pointer;\n",
              "      display: none;\n",
              "      fill: #1967D2;\n",
              "      height: 32px;\n",
              "      padding: 0 0 0 0;\n",
              "      width: 32px;\n",
              "    }\n",
              "\n",
              "    .colab-df-convert:hover {\n",
              "      background-color: #E2EBFA;\n",
              "      box-shadow: 0px 1px 2px rgba(60, 64, 67, 0.3), 0px 1px 3px 1px rgba(60, 64, 67, 0.15);\n",
              "      fill: #174EA6;\n",
              "    }\n",
              "\n",
              "    [theme=dark] .colab-df-convert {\n",
              "      background-color: #3B4455;\n",
              "      fill: #D2E3FC;\n",
              "    }\n",
              "\n",
              "    [theme=dark] .colab-df-convert:hover {\n",
              "      background-color: #434B5C;\n",
              "      box-shadow: 0px 1px 3px 1px rgba(0, 0, 0, 0.15);\n",
              "      filter: drop-shadow(0px 1px 2px rgba(0, 0, 0, 0.3));\n",
              "      fill: #FFFFFF;\n",
              "    }\n",
              "  </style>\n",
              "\n",
              "      <script>\n",
              "        const buttonEl =\n",
              "          document.querySelector('#df-5d1416d0-67f6-4d0e-baad-c40c89fbd810 button.colab-df-convert');\n",
              "        buttonEl.style.display =\n",
              "          google.colab.kernel.accessAllowed ? 'block' : 'none';\n",
              "\n",
              "        async function convertToInteractive(key) {\n",
              "          const element = document.querySelector('#df-5d1416d0-67f6-4d0e-baad-c40c89fbd810');\n",
              "          const dataTable =\n",
              "            await google.colab.kernel.invokeFunction('convertToInteractive',\n",
              "                                                     [key], {});\n",
              "          if (!dataTable) return;\n",
              "\n",
              "          const docLinkHtml = 'Like what you see? Visit the ' +\n",
              "            '<a target=\"_blank\" href=https://colab.research.google.com/notebooks/data_table.ipynb>data table notebook</a>'\n",
              "            + ' to learn more about interactive tables.';\n",
              "          element.innerHTML = '';\n",
              "          dataTable['output_type'] = 'display_data';\n",
              "          await google.colab.output.renderOutput(dataTable, element);\n",
              "          const docLink = document.createElement('div');\n",
              "          docLink.innerHTML = docLinkHtml;\n",
              "          element.appendChild(docLink);\n",
              "        }\n",
              "      </script>\n",
              "    </div>\n",
              "  </div>\n",
              "  "
            ]
          },
          "metadata": {},
          "execution_count": 17
        }
      ],
      "source": [
        "my_dataframe[my_dataframe.isnull().any(1)]"
      ]
    },
    {
      "cell_type": "markdown",
      "source": [
        "## From this we learn that\n",
        "* The minimum fare is negative, which is impossible\n",
        "* Some travel points are missing the city\n",
        "* The maximum number of passengers is equal to 208, which is impossible\n",
        "* The maximum fare also unreal"
      ],
      "metadata": {
        "id": "oLdYGhU0SU4G"
      },
      "id": "oLdYGhU0SU4G"
    },
    {
      "cell_type": "markdown",
      "source": [
        "##  A Data Cleaning & Feature Engineering"
      ],
      "metadata": {
        "id": "iqZD7LHTSc-L"
      },
      "id": "iqZD7LHTSc-L"
    },
    {
      "cell_type": "markdown",
      "id": "3b914fb3",
      "metadata": {
        "id": "3b914fb3"
      },
      "source": [
        "Rows with missing values"
      ]
    },
    {
      "cell_type": "code",
      "execution_count": null,
      "id": "f061660a",
      "metadata": {
        "colab": {
          "base_uri": "https://localhost:8080/"
        },
        "id": "f061660a",
        "outputId": "a2a7a89d-d609-4646-bcb0-b071d740e675"
      },
      "outputs": [
        {
          "output_type": "execute_result",
          "data": {
            "text/plain": [
              "Index(['dropoff_longitude', 'dropoff_latitude'], dtype='object')"
            ]
          },
          "metadata": {},
          "execution_count": 18
        }
      ],
      "source": [
        "my_dataframe.columns[my_dataframe.isnull().any()]"
      ]
    },
    {
      "cell_type": "markdown",
      "id": "ef0ecb7f",
      "metadata": {
        "id": "ef0ecb7f"
      },
      "source": [
        "columns with null values"
      ]
    },
    {
      "cell_type": "code",
      "execution_count": null,
      "id": "6cdaea11",
      "metadata": {
        "id": "6cdaea11"
      },
      "outputs": [],
      "source": [
        "my_dataframe1 = my_dataframe[~my_dataframe.isnull().any(1)]"
      ]
    },
    {
      "cell_type": "markdown",
      "id": "f3537343",
      "metadata": {
        "id": "f3537343"
      },
      "source": [
        "Dropping null values rows"
      ]
    },
    {
      "cell_type": "markdown",
      "source": [
        "\n",
        "**longitude and latitude**\n",
        "\n",
        "found NaN values in columns dropoff_longitude and dropoff_latitude     \n",
        "We found NaN values in columns\n",
        "\n",
        "i) dropoff_longitude and \n",
        "\n",
        "ii) dropoff_latitude  \n",
        "\n",
        "which is not much as comapared to our trainset. So we will Drop it.\n"
      ],
      "metadata": {
        "id": "9wnrv_D-SlfC"
      },
      "id": "9wnrv_D-SlfC"
    },
    {
      "cell_type": "code",
      "execution_count": null,
      "id": "176c2c8d",
      "metadata": {
        "id": "176c2c8d"
      },
      "outputs": [],
      "source": [
        "# swap these values\n",
        "wrong_location = my_dataframe1[((my_dataframe1['dropoff_latitude'] < 0) | (my_dataframe1['pickup_latitude'] < 0)) & ((my_dataframe1['dropoff_longitude'] > 0) | (my_dataframe1['pickup_longitude'] > 0))]"
      ]
    },
    {
      "cell_type": "code",
      "execution_count": null,
      "id": "c3dd6c81",
      "metadata": {
        "id": "c3dd6c81"
      },
      "outputs": [],
      "source": [
        "# swap columns\n",
        "wrong_location.columns = ['key','fare_amount',\"pickup_datetime\",\"pickup_latitude\",\"pickup_longitude\",\n",
        "                              \"dropoff_latitude\",\"dropoff_longitude\",\"passenger_count\"]"
      ]
    },
    {
      "cell_type": "code",
      "execution_count": null,
      "id": "f5a44c28",
      "metadata": {
        "id": "f5a44c28"
      },
      "outputs": [],
      "source": [
        "# merge these values back into original my_dataframe\n",
        "my_dataframe1.loc[my_dataframe1.index.isin(wrong_location.index),[\"pickup_latitude\",\"pickup_longitude\",\"dropoff_latitude\",\"dropoff_longitude\"]] = wrong_location[[\"pickup_latitude\",\"pickup_longitude\",\"dropoff_latitude\",\"dropoff_longitude\"]]"
      ]
    },
    {
      "cell_type": "code",
      "execution_count": null,
      "id": "f962691e",
      "metadata": {
        "colab": {
          "base_uri": "https://localhost:8080/",
          "height": 300
        },
        "id": "f962691e",
        "outputId": "35666212-1b8a-47a2-c295-96d9655d0e2e"
      },
      "outputs": [
        {
          "output_type": "execute_result",
          "data": {
            "text/plain": [
              "                                  key  fare_amount          pickup_datetime  \\\n",
              "66433   2010-07-28 09:22:00.000000254        7.300  2010-07-28 09:22:00 UTC   \n",
              "98000    2011-10-16 19:39:00.00000069        5.700  2011-10-16 19:39:00 UTC   \n",
              "174356   2011-11-21 21:36:00.00000081        9.700  2011-11-21 21:36:00 UTC   \n",
              "444028  2010-11-28 12:16:00.000000129        5.700  2010-11-28 12:16:00 UTC   \n",
              "549740   2011-04-21 15:58:00.00000020        5.700  2011-04-21 15:58:00 UTC   \n",
              "688685  2012-03-22 21:40:00.000000188       17.300  2012-03-22 21:40:00 UTC   \n",
              "717954   2009-07-19 09:54:00.00000020        5.300  2009-07-19 09:54:00 UTC   \n",
              "793922    2012-06-03 11:19:37.0000002       32.100  2012-06-03 11:19:37 UTC   \n",
              "\n",
              "        pickup_longitude  pickup_latitude  dropoff_longitude  \\\n",
              "66433             -0.004            0.003              0.006   \n",
              "98000              0.003           -0.001             -0.001   \n",
              "174356          1703.093         2140.601          -1189.615   \n",
              "444028            -0.002            0.002              0.002   \n",
              "549740             0.000           -0.002             -0.000   \n",
              "688685          2621.628         2522.271          -2864.471   \n",
              "717954             0.004            0.003             -0.000   \n",
              "793922            40.769          -73.863             -2.013   \n",
              "\n",
              "        dropoff_latitude  passenger_count  \n",
              "66433             -0.004                5  \n",
              "98000              0.002                2  \n",
              "174356         -1251.196                1  \n",
              "444028            -0.002                1  \n",
              "549740             0.002                5  \n",
              "688685         -1718.118                1  \n",
              "717954            -0.001                1  \n",
              "793922            45.582                2  "
            ],
            "text/html": [
              "\n",
              "  <div id=\"df-f0e936f0-b928-4719-bd5a-8cd8426719db\">\n",
              "    <div class=\"colab-df-container\">\n",
              "      <div>\n",
              "<style scoped>\n",
              "    .dataframe tbody tr th:only-of-type {\n",
              "        vertical-align: middle;\n",
              "    }\n",
              "\n",
              "    .dataframe tbody tr th {\n",
              "        vertical-align: top;\n",
              "    }\n",
              "\n",
              "    .dataframe thead th {\n",
              "        text-align: right;\n",
              "    }\n",
              "</style>\n",
              "<table border=\"1\" class=\"dataframe\">\n",
              "  <thead>\n",
              "    <tr style=\"text-align: right;\">\n",
              "      <th></th>\n",
              "      <th>key</th>\n",
              "      <th>fare_amount</th>\n",
              "      <th>pickup_datetime</th>\n",
              "      <th>pickup_longitude</th>\n",
              "      <th>pickup_latitude</th>\n",
              "      <th>dropoff_longitude</th>\n",
              "      <th>dropoff_latitude</th>\n",
              "      <th>passenger_count</th>\n",
              "    </tr>\n",
              "  </thead>\n",
              "  <tbody>\n",
              "    <tr>\n",
              "      <th>66433</th>\n",
              "      <td>2010-07-28 09:22:00.000000254</td>\n",
              "      <td>7.300</td>\n",
              "      <td>2010-07-28 09:22:00 UTC</td>\n",
              "      <td>-0.004</td>\n",
              "      <td>0.003</td>\n",
              "      <td>0.006</td>\n",
              "      <td>-0.004</td>\n",
              "      <td>5</td>\n",
              "    </tr>\n",
              "    <tr>\n",
              "      <th>98000</th>\n",
              "      <td>2011-10-16 19:39:00.00000069</td>\n",
              "      <td>5.700</td>\n",
              "      <td>2011-10-16 19:39:00 UTC</td>\n",
              "      <td>0.003</td>\n",
              "      <td>-0.001</td>\n",
              "      <td>-0.001</td>\n",
              "      <td>0.002</td>\n",
              "      <td>2</td>\n",
              "    </tr>\n",
              "    <tr>\n",
              "      <th>174356</th>\n",
              "      <td>2011-11-21 21:36:00.00000081</td>\n",
              "      <td>9.700</td>\n",
              "      <td>2011-11-21 21:36:00 UTC</td>\n",
              "      <td>1703.093</td>\n",
              "      <td>2140.601</td>\n",
              "      <td>-1189.615</td>\n",
              "      <td>-1251.196</td>\n",
              "      <td>1</td>\n",
              "    </tr>\n",
              "    <tr>\n",
              "      <th>444028</th>\n",
              "      <td>2010-11-28 12:16:00.000000129</td>\n",
              "      <td>5.700</td>\n",
              "      <td>2010-11-28 12:16:00 UTC</td>\n",
              "      <td>-0.002</td>\n",
              "      <td>0.002</td>\n",
              "      <td>0.002</td>\n",
              "      <td>-0.002</td>\n",
              "      <td>1</td>\n",
              "    </tr>\n",
              "    <tr>\n",
              "      <th>549740</th>\n",
              "      <td>2011-04-21 15:58:00.00000020</td>\n",
              "      <td>5.700</td>\n",
              "      <td>2011-04-21 15:58:00 UTC</td>\n",
              "      <td>0.000</td>\n",
              "      <td>-0.002</td>\n",
              "      <td>-0.000</td>\n",
              "      <td>0.002</td>\n",
              "      <td>5</td>\n",
              "    </tr>\n",
              "    <tr>\n",
              "      <th>688685</th>\n",
              "      <td>2012-03-22 21:40:00.000000188</td>\n",
              "      <td>17.300</td>\n",
              "      <td>2012-03-22 21:40:00 UTC</td>\n",
              "      <td>2621.628</td>\n",
              "      <td>2522.271</td>\n",
              "      <td>-2864.471</td>\n",
              "      <td>-1718.118</td>\n",
              "      <td>1</td>\n",
              "    </tr>\n",
              "    <tr>\n",
              "      <th>717954</th>\n",
              "      <td>2009-07-19 09:54:00.00000020</td>\n",
              "      <td>5.300</td>\n",
              "      <td>2009-07-19 09:54:00 UTC</td>\n",
              "      <td>0.004</td>\n",
              "      <td>0.003</td>\n",
              "      <td>-0.000</td>\n",
              "      <td>-0.001</td>\n",
              "      <td>1</td>\n",
              "    </tr>\n",
              "    <tr>\n",
              "      <th>793922</th>\n",
              "      <td>2012-06-03 11:19:37.0000002</td>\n",
              "      <td>32.100</td>\n",
              "      <td>2012-06-03 11:19:37 UTC</td>\n",
              "      <td>40.769</td>\n",
              "      <td>-73.863</td>\n",
              "      <td>-2.013</td>\n",
              "      <td>45.582</td>\n",
              "      <td>2</td>\n",
              "    </tr>\n",
              "  </tbody>\n",
              "</table>\n",
              "</div>\n",
              "      <button class=\"colab-df-convert\" onclick=\"convertToInteractive('df-f0e936f0-b928-4719-bd5a-8cd8426719db')\"\n",
              "              title=\"Convert this dataframe to an interactive table.\"\n",
              "              style=\"display:none;\">\n",
              "        \n",
              "  <svg xmlns=\"http://www.w3.org/2000/svg\" height=\"24px\"viewBox=\"0 0 24 24\"\n",
              "       width=\"24px\">\n",
              "    <path d=\"M0 0h24v24H0V0z\" fill=\"none\"/>\n",
              "    <path d=\"M18.56 5.44l.94 2.06.94-2.06 2.06-.94-2.06-.94-.94-2.06-.94 2.06-2.06.94zm-11 1L8.5 8.5l.94-2.06 2.06-.94-2.06-.94L8.5 2.5l-.94 2.06-2.06.94zm10 10l.94 2.06.94-2.06 2.06-.94-2.06-.94-.94-2.06-.94 2.06-2.06.94z\"/><path d=\"M17.41 7.96l-1.37-1.37c-.4-.4-.92-.59-1.43-.59-.52 0-1.04.2-1.43.59L10.3 9.45l-7.72 7.72c-.78.78-.78 2.05 0 2.83L4 21.41c.39.39.9.59 1.41.59.51 0 1.02-.2 1.41-.59l7.78-7.78 2.81-2.81c.8-.78.8-2.07 0-2.86zM5.41 20L4 18.59l7.72-7.72 1.47 1.35L5.41 20z\"/>\n",
              "  </svg>\n",
              "      </button>\n",
              "      \n",
              "  <style>\n",
              "    .colab-df-container {\n",
              "      display:flex;\n",
              "      flex-wrap:wrap;\n",
              "      gap: 12px;\n",
              "    }\n",
              "\n",
              "    .colab-df-convert {\n",
              "      background-color: #E8F0FE;\n",
              "      border: none;\n",
              "      border-radius: 50%;\n",
              "      cursor: pointer;\n",
              "      display: none;\n",
              "      fill: #1967D2;\n",
              "      height: 32px;\n",
              "      padding: 0 0 0 0;\n",
              "      width: 32px;\n",
              "    }\n",
              "\n",
              "    .colab-df-convert:hover {\n",
              "      background-color: #E2EBFA;\n",
              "      box-shadow: 0px 1px 2px rgba(60, 64, 67, 0.3), 0px 1px 3px 1px rgba(60, 64, 67, 0.15);\n",
              "      fill: #174EA6;\n",
              "    }\n",
              "\n",
              "    [theme=dark] .colab-df-convert {\n",
              "      background-color: #3B4455;\n",
              "      fill: #D2E3FC;\n",
              "    }\n",
              "\n",
              "    [theme=dark] .colab-df-convert:hover {\n",
              "      background-color: #434B5C;\n",
              "      box-shadow: 0px 1px 3px 1px rgba(0, 0, 0, 0.15);\n",
              "      filter: drop-shadow(0px 1px 2px rgba(0, 0, 0, 0.3));\n",
              "      fill: #FFFFFF;\n",
              "    }\n",
              "  </style>\n",
              "\n",
              "      <script>\n",
              "        const buttonEl =\n",
              "          document.querySelector('#df-f0e936f0-b928-4719-bd5a-8cd8426719db button.colab-df-convert');\n",
              "        buttonEl.style.display =\n",
              "          google.colab.kernel.accessAllowed ? 'block' : 'none';\n",
              "\n",
              "        async function convertToInteractive(key) {\n",
              "          const element = document.querySelector('#df-f0e936f0-b928-4719-bd5a-8cd8426719db');\n",
              "          const dataTable =\n",
              "            await google.colab.kernel.invokeFunction('convertToInteractive',\n",
              "                                                     [key], {});\n",
              "          if (!dataTable) return;\n",
              "\n",
              "          const docLinkHtml = 'Like what you see? Visit the ' +\n",
              "            '<a target=\"_blank\" href=https://colab.research.google.com/notebooks/data_table.ipynb>data table notebook</a>'\n",
              "            + ' to learn more about interactive tables.';\n",
              "          element.innerHTML = '';\n",
              "          dataTable['output_type'] = 'display_data';\n",
              "          await google.colab.output.renderOutput(dataTable, element);\n",
              "          const docLink = document.createElement('div');\n",
              "          docLink.innerHTML = docLinkHtml;\n",
              "          element.appendChild(docLink);\n",
              "        }\n",
              "      </script>\n",
              "    </div>\n",
              "  </div>\n",
              "  "
            ]
          },
          "metadata": {},
          "execution_count": 23
        }
      ],
      "source": [
        "# remaining odd coordinates, drop them\n",
        "my_dataframe1[((my_dataframe1['dropoff_latitude'] < 0) | (my_dataframe1['pickup_latitude'] < 0)) & ((my_dataframe1['dropoff_longitude'] > 0) | (my_dataframe1['pickup_longitude'] > 0))]"
      ]
    },
    {
      "cell_type": "code",
      "execution_count": null,
      "id": "493a67a5",
      "metadata": {
        "id": "493a67a5"
      },
      "outputs": [],
      "source": [
        "# drop the remaining 77 rows\n",
        "drop = my_dataframe1[((my_dataframe1['dropoff_latitude'] < 0) | (my_dataframe1['pickup_latitude'] < 0)) & ((my_dataframe1['dropoff_longitude'] > 0) | (my_dataframe1['pickup_longitude'] > 0))]\n",
        "my_dataframe1 = my_dataframe1[~my_dataframe1.index.isin(drop.index)]"
      ]
    },
    {
      "cell_type": "markdown",
      "id": "e3a8c87c",
      "metadata": {
        "id": "e3a8c87c"
      },
      "source": [
        "Longitudes should be negative and latitudes should be positive \n"
      ]
    },
    {
      "cell_type": "code",
      "execution_count": null,
      "id": "415a620c",
      "metadata": {
        "id": "415a620c"
      },
      "outputs": [],
      "source": [
        "my_dataframe1 = my_dataframe1.drop(my_dataframe1[(my_dataframe1['dropoff_latitude'] == 0) & (my_dataframe1['dropoff_longitude'] == 0) & (my_dataframe1['pickup_latitude'] == 0) & (my_dataframe1['pickup_longitude'] ==0)].index)"
      ]
    },
    {
      "cell_type": "markdown",
      "id": "47669034",
      "metadata": {
        "id": "47669034"
      },
      "source": [
        "Since range of longitudes and latitudes for cities in USA is between -125 & -67 and 24 & 50 respectively, remove all the other records that fall outside of these ranges"
      ]
    },
    {
      "cell_type": "markdown",
      "id": "1572e8a5",
      "metadata": {
        "id": "1572e8a5"
      },
      "source": [
        "dropping these records that sit in the ATLANTIC OCEAN:"
      ]
    },
    {
      "cell_type": "code",
      "execution_count": null,
      "id": "c7ef875b",
      "metadata": {
        "colab": {
          "base_uri": "https://localhost:8080/",
          "height": 206
        },
        "id": "c7ef875b",
        "outputId": "5db4af56-90c7-49f5-9509-46cbab14e215"
      },
      "outputs": [
        {
          "output_type": "execute_result",
          "data": {
            "text/plain": [
              "                             key  fare_amount          pickup_datetime  \\\n",
              "0    2009-06-15 17:26:21.0000001        4.500  2009-06-15 17:26:21 UTC   \n",
              "1    2010-01-05 16:52:16.0000002       16.900  2010-01-05 16:52:16 UTC   \n",
              "2   2011-08-18 00:35:00.00000049        5.700  2011-08-18 00:35:00 UTC   \n",
              "3    2012-04-21 04:30:42.0000001        7.700  2012-04-21 04:30:42 UTC   \n",
              "4  2010-03-09 07:51:00.000000135        5.300  2010-03-09 07:51:00 UTC   \n",
              "\n",
              "   pickup_longitude  pickup_latitude  dropoff_longitude  dropoff_latitude  \\\n",
              "0           -73.844           40.721            -73.842            40.712   \n",
              "1           -74.016           40.711            -73.979            40.782   \n",
              "2           -73.983           40.761            -73.991            40.751   \n",
              "3           -73.987           40.733            -73.992            40.758   \n",
              "4           -73.968           40.768            -73.957            40.784   \n",
              "\n",
              "   passenger_count  \n",
              "0                1  \n",
              "1                1  \n",
              "2                2  \n",
              "3                1  \n",
              "4                1  "
            ],
            "text/html": [
              "\n",
              "  <div id=\"df-426fabee-55be-4e5c-ac0a-502b9b9d86ca\">\n",
              "    <div class=\"colab-df-container\">\n",
              "      <div>\n",
              "<style scoped>\n",
              "    .dataframe tbody tr th:only-of-type {\n",
              "        vertical-align: middle;\n",
              "    }\n",
              "\n",
              "    .dataframe tbody tr th {\n",
              "        vertical-align: top;\n",
              "    }\n",
              "\n",
              "    .dataframe thead th {\n",
              "        text-align: right;\n",
              "    }\n",
              "</style>\n",
              "<table border=\"1\" class=\"dataframe\">\n",
              "  <thead>\n",
              "    <tr style=\"text-align: right;\">\n",
              "      <th></th>\n",
              "      <th>key</th>\n",
              "      <th>fare_amount</th>\n",
              "      <th>pickup_datetime</th>\n",
              "      <th>pickup_longitude</th>\n",
              "      <th>pickup_latitude</th>\n",
              "      <th>dropoff_longitude</th>\n",
              "      <th>dropoff_latitude</th>\n",
              "      <th>passenger_count</th>\n",
              "    </tr>\n",
              "  </thead>\n",
              "  <tbody>\n",
              "    <tr>\n",
              "      <th>0</th>\n",
              "      <td>2009-06-15 17:26:21.0000001</td>\n",
              "      <td>4.500</td>\n",
              "      <td>2009-06-15 17:26:21 UTC</td>\n",
              "      <td>-73.844</td>\n",
              "      <td>40.721</td>\n",
              "      <td>-73.842</td>\n",
              "      <td>40.712</td>\n",
              "      <td>1</td>\n",
              "    </tr>\n",
              "    <tr>\n",
              "      <th>1</th>\n",
              "      <td>2010-01-05 16:52:16.0000002</td>\n",
              "      <td>16.900</td>\n",
              "      <td>2010-01-05 16:52:16 UTC</td>\n",
              "      <td>-74.016</td>\n",
              "      <td>40.711</td>\n",
              "      <td>-73.979</td>\n",
              "      <td>40.782</td>\n",
              "      <td>1</td>\n",
              "    </tr>\n",
              "    <tr>\n",
              "      <th>2</th>\n",
              "      <td>2011-08-18 00:35:00.00000049</td>\n",
              "      <td>5.700</td>\n",
              "      <td>2011-08-18 00:35:00 UTC</td>\n",
              "      <td>-73.983</td>\n",
              "      <td>40.761</td>\n",
              "      <td>-73.991</td>\n",
              "      <td>40.751</td>\n",
              "      <td>2</td>\n",
              "    </tr>\n",
              "    <tr>\n",
              "      <th>3</th>\n",
              "      <td>2012-04-21 04:30:42.0000001</td>\n",
              "      <td>7.700</td>\n",
              "      <td>2012-04-21 04:30:42 UTC</td>\n",
              "      <td>-73.987</td>\n",
              "      <td>40.733</td>\n",
              "      <td>-73.992</td>\n",
              "      <td>40.758</td>\n",
              "      <td>1</td>\n",
              "    </tr>\n",
              "    <tr>\n",
              "      <th>4</th>\n",
              "      <td>2010-03-09 07:51:00.000000135</td>\n",
              "      <td>5.300</td>\n",
              "      <td>2010-03-09 07:51:00 UTC</td>\n",
              "      <td>-73.968</td>\n",
              "      <td>40.768</td>\n",
              "      <td>-73.957</td>\n",
              "      <td>40.784</td>\n",
              "      <td>1</td>\n",
              "    </tr>\n",
              "  </tbody>\n",
              "</table>\n",
              "</div>\n",
              "      <button class=\"colab-df-convert\" onclick=\"convertToInteractive('df-426fabee-55be-4e5c-ac0a-502b9b9d86ca')\"\n",
              "              title=\"Convert this dataframe to an interactive table.\"\n",
              "              style=\"display:none;\">\n",
              "        \n",
              "  <svg xmlns=\"http://www.w3.org/2000/svg\" height=\"24px\"viewBox=\"0 0 24 24\"\n",
              "       width=\"24px\">\n",
              "    <path d=\"M0 0h24v24H0V0z\" fill=\"none\"/>\n",
              "    <path d=\"M18.56 5.44l.94 2.06.94-2.06 2.06-.94-2.06-.94-.94-2.06-.94 2.06-2.06.94zm-11 1L8.5 8.5l.94-2.06 2.06-.94-2.06-.94L8.5 2.5l-.94 2.06-2.06.94zm10 10l.94 2.06.94-2.06 2.06-.94-2.06-.94-.94-2.06-.94 2.06-2.06.94z\"/><path d=\"M17.41 7.96l-1.37-1.37c-.4-.4-.92-.59-1.43-.59-.52 0-1.04.2-1.43.59L10.3 9.45l-7.72 7.72c-.78.78-.78 2.05 0 2.83L4 21.41c.39.39.9.59 1.41.59.51 0 1.02-.2 1.41-.59l7.78-7.78 2.81-2.81c.8-.78.8-2.07 0-2.86zM5.41 20L4 18.59l7.72-7.72 1.47 1.35L5.41 20z\"/>\n",
              "  </svg>\n",
              "      </button>\n",
              "      \n",
              "  <style>\n",
              "    .colab-df-container {\n",
              "      display:flex;\n",
              "      flex-wrap:wrap;\n",
              "      gap: 12px;\n",
              "    }\n",
              "\n",
              "    .colab-df-convert {\n",
              "      background-color: #E8F0FE;\n",
              "      border: none;\n",
              "      border-radius: 50%;\n",
              "      cursor: pointer;\n",
              "      display: none;\n",
              "      fill: #1967D2;\n",
              "      height: 32px;\n",
              "      padding: 0 0 0 0;\n",
              "      width: 32px;\n",
              "    }\n",
              "\n",
              "    .colab-df-convert:hover {\n",
              "      background-color: #E2EBFA;\n",
              "      box-shadow: 0px 1px 2px rgba(60, 64, 67, 0.3), 0px 1px 3px 1px rgba(60, 64, 67, 0.15);\n",
              "      fill: #174EA6;\n",
              "    }\n",
              "\n",
              "    [theme=dark] .colab-df-convert {\n",
              "      background-color: #3B4455;\n",
              "      fill: #D2E3FC;\n",
              "    }\n",
              "\n",
              "    [theme=dark] .colab-df-convert:hover {\n",
              "      background-color: #434B5C;\n",
              "      box-shadow: 0px 1px 3px 1px rgba(0, 0, 0, 0.15);\n",
              "      filter: drop-shadow(0px 1px 2px rgba(0, 0, 0, 0.3));\n",
              "      fill: #FFFFFF;\n",
              "    }\n",
              "  </style>\n",
              "\n",
              "      <script>\n",
              "        const buttonEl =\n",
              "          document.querySelector('#df-426fabee-55be-4e5c-ac0a-502b9b9d86ca button.colab-df-convert');\n",
              "        buttonEl.style.display =\n",
              "          google.colab.kernel.accessAllowed ? 'block' : 'none';\n",
              "\n",
              "        async function convertToInteractive(key) {\n",
              "          const element = document.querySelector('#df-426fabee-55be-4e5c-ac0a-502b9b9d86ca');\n",
              "          const dataTable =\n",
              "            await google.colab.kernel.invokeFunction('convertToInteractive',\n",
              "                                                     [key], {});\n",
              "          if (!dataTable) return;\n",
              "\n",
              "          const docLinkHtml = 'Like what you see? Visit the ' +\n",
              "            '<a target=\"_blank\" href=https://colab.research.google.com/notebooks/data_table.ipynb>data table notebook</a>'\n",
              "            + ' to learn more about interactive tables.';\n",
              "          element.innerHTML = '';\n",
              "          dataTable['output_type'] = 'display_data';\n",
              "          await google.colab.output.renderOutput(dataTable, element);\n",
              "          const docLink = document.createElement('div');\n",
              "          docLink.innerHTML = docLinkHtml;\n",
              "          element.appendChild(docLink);\n",
              "        }\n",
              "      </script>\n",
              "    </div>\n",
              "  </div>\n",
              "  "
            ]
          },
          "metadata": {},
          "execution_count": 26
        }
      ],
      "source": [
        "my_dataframe1.head()"
      ]
    },
    {
      "cell_type": "code",
      "execution_count": null,
      "id": "2eefc03b",
      "metadata": {
        "colab": {
          "base_uri": "https://localhost:8080/",
          "height": 49
        },
        "id": "2eefc03b",
        "outputId": "7edd3990-76e2-4a38-89bf-fb771f0509d7"
      },
      "outputs": [
        {
          "output_type": "execute_result",
          "data": {
            "text/plain": [
              "Empty DataFrame\n",
              "Columns: [key, fare_amount, pickup_datetime, pickup_longitude, pickup_latitude, dropoff_longitude, dropoff_latitude, passenger_count]\n",
              "Index: []"
            ],
            "text/html": [
              "\n",
              "  <div id=\"df-87c8a0ad-8a30-498d-9e81-efe13860c84e\">\n",
              "    <div class=\"colab-df-container\">\n",
              "      <div>\n",
              "<style scoped>\n",
              "    .dataframe tbody tr th:only-of-type {\n",
              "        vertical-align: middle;\n",
              "    }\n",
              "\n",
              "    .dataframe tbody tr th {\n",
              "        vertical-align: top;\n",
              "    }\n",
              "\n",
              "    .dataframe thead th {\n",
              "        text-align: right;\n",
              "    }\n",
              "</style>\n",
              "<table border=\"1\" class=\"dataframe\">\n",
              "  <thead>\n",
              "    <tr style=\"text-align: right;\">\n",
              "      <th></th>\n",
              "      <th>key</th>\n",
              "      <th>fare_amount</th>\n",
              "      <th>pickup_datetime</th>\n",
              "      <th>pickup_longitude</th>\n",
              "      <th>pickup_latitude</th>\n",
              "      <th>dropoff_longitude</th>\n",
              "      <th>dropoff_latitude</th>\n",
              "      <th>passenger_count</th>\n",
              "    </tr>\n",
              "  </thead>\n",
              "  <tbody>\n",
              "  </tbody>\n",
              "</table>\n",
              "</div>\n",
              "      <button class=\"colab-df-convert\" onclick=\"convertToInteractive('df-87c8a0ad-8a30-498d-9e81-efe13860c84e')\"\n",
              "              title=\"Convert this dataframe to an interactive table.\"\n",
              "              style=\"display:none;\">\n",
              "        \n",
              "  <svg xmlns=\"http://www.w3.org/2000/svg\" height=\"24px\"viewBox=\"0 0 24 24\"\n",
              "       width=\"24px\">\n",
              "    <path d=\"M0 0h24v24H0V0z\" fill=\"none\"/>\n",
              "    <path d=\"M18.56 5.44l.94 2.06.94-2.06 2.06-.94-2.06-.94-.94-2.06-.94 2.06-2.06.94zm-11 1L8.5 8.5l.94-2.06 2.06-.94-2.06-.94L8.5 2.5l-.94 2.06-2.06.94zm10 10l.94 2.06.94-2.06 2.06-.94-2.06-.94-.94-2.06-.94 2.06-2.06.94z\"/><path d=\"M17.41 7.96l-1.37-1.37c-.4-.4-.92-.59-1.43-.59-.52 0-1.04.2-1.43.59L10.3 9.45l-7.72 7.72c-.78.78-.78 2.05 0 2.83L4 21.41c.39.39.9.59 1.41.59.51 0 1.02-.2 1.41-.59l7.78-7.78 2.81-2.81c.8-.78.8-2.07 0-2.86zM5.41 20L4 18.59l7.72-7.72 1.47 1.35L5.41 20z\"/>\n",
              "  </svg>\n",
              "      </button>\n",
              "      \n",
              "  <style>\n",
              "    .colab-df-container {\n",
              "      display:flex;\n",
              "      flex-wrap:wrap;\n",
              "      gap: 12px;\n",
              "    }\n",
              "\n",
              "    .colab-df-convert {\n",
              "      background-color: #E8F0FE;\n",
              "      border: none;\n",
              "      border-radius: 50%;\n",
              "      cursor: pointer;\n",
              "      display: none;\n",
              "      fill: #1967D2;\n",
              "      height: 32px;\n",
              "      padding: 0 0 0 0;\n",
              "      width: 32px;\n",
              "    }\n",
              "\n",
              "    .colab-df-convert:hover {\n",
              "      background-color: #E2EBFA;\n",
              "      box-shadow: 0px 1px 2px rgba(60, 64, 67, 0.3), 0px 1px 3px 1px rgba(60, 64, 67, 0.15);\n",
              "      fill: #174EA6;\n",
              "    }\n",
              "\n",
              "    [theme=dark] .colab-df-convert {\n",
              "      background-color: #3B4455;\n",
              "      fill: #D2E3FC;\n",
              "    }\n",
              "\n",
              "    [theme=dark] .colab-df-convert:hover {\n",
              "      background-color: #434B5C;\n",
              "      box-shadow: 0px 1px 3px 1px rgba(0, 0, 0, 0.15);\n",
              "      filter: drop-shadow(0px 1px 2px rgba(0, 0, 0, 0.3));\n",
              "      fill: #FFFFFF;\n",
              "    }\n",
              "  </style>\n",
              "\n",
              "      <script>\n",
              "        const buttonEl =\n",
              "          document.querySelector('#df-87c8a0ad-8a30-498d-9e81-efe13860c84e button.colab-df-convert');\n",
              "        buttonEl.style.display =\n",
              "          google.colab.kernel.accessAllowed ? 'block' : 'none';\n",
              "\n",
              "        async function convertToInteractive(key) {\n",
              "          const element = document.querySelector('#df-87c8a0ad-8a30-498d-9e81-efe13860c84e');\n",
              "          const dataTable =\n",
              "            await google.colab.kernel.invokeFunction('convertToInteractive',\n",
              "                                                     [key], {});\n",
              "          if (!dataTable) return;\n",
              "\n",
              "          const docLinkHtml = 'Like what you see? Visit the ' +\n",
              "            '<a target=\"_blank\" href=https://colab.research.google.com/notebooks/data_table.ipynb>data table notebook</a>'\n",
              "            + ' to learn more about interactive tables.';\n",
              "          element.innerHTML = '';\n",
              "          dataTable['output_type'] = 'display_data';\n",
              "          await google.colab.output.renderOutput(dataTable, element);\n",
              "          const docLink = document.createElement('div');\n",
              "          docLink.innerHTML = docLinkHtml;\n",
              "          element.appendChild(docLink);\n",
              "        }\n",
              "      </script>\n",
              "    </div>\n",
              "  </div>\n",
              "  "
            ]
          },
          "metadata": {},
          "execution_count": 27
        }
      ],
      "source": [
        "my_dataframe1[((my_dataframe1[\"pickup_latitude\"] < 24) & (my_dataframe1[\"pickup_latitude\"] > 50)) | (my_dataframe1[\"dropoff_latitude\"]) < 24 & (my_dataframe1[\"dropoff_latitude\"] > 50)]"
      ]
    },
    {
      "cell_type": "code",
      "execution_count": null,
      "id": "aea7ff12",
      "metadata": {
        "colab": {
          "base_uri": "https://localhost:8080/",
          "height": 424
        },
        "id": "aea7ff12",
        "outputId": "882be8ca-4dd6-4fd4-80e4-be4f5d1dfb31"
      },
      "outputs": [
        {
          "output_type": "execute_result",
          "data": {
            "text/plain": [
              "                                  key  fare_amount          pickup_datetime  \\\n",
              "1260     2011-03-10 20:25:00.00000049        5.700  2011-03-10 20:25:00 UTC   \n",
              "2280    2011-08-29 08:24:00.000000107        8.900  2011-08-29 08:24:00 UTC   \n",
              "4278      2015-04-07 23:33:02.0000005        7.000  2015-04-07 23:33:02 UTC   \n",
              "8647     2014-03-27 18:01:00.00000071       21.500  2014-03-27 18:01:00 UTC   \n",
              "10458   2013-02-23 20:58:00.000000150        2.500  2013-02-23 20:58:00 UTC   \n",
              "...                               ...          ...                      ...   \n",
              "993372  2014-03-26 08:08:00.000000105        9.500  2014-03-26 08:08:00 UTC   \n",
              "993672    2014-04-22 12:47:34.0000003        5.500  2014-04-22 12:47:34 UTC   \n",
              "994162  2014-03-29 14:49:00.000000146       11.000  2014-03-29 14:49:00 UTC   \n",
              "994608  2014-07-08 23:07:00.000000219       31.330  2014-07-08 23:07:00 UTC   \n",
              "997786    2012-02-27 21:12:17.0000003       13.700  2012-02-27 21:12:17 UTC   \n",
              "\n",
              "        pickup_longitude  pickup_latitude  dropoff_longitude  \\\n",
              "1260             -73.974           40.755              0.000   \n",
              "2280             -73.937           40.758              0.000   \n",
              "4278             -73.973           40.757              0.000   \n",
              "8647             -74.002           40.751              0.000   \n",
              "10458            -73.980           40.766              0.000   \n",
              "...                  ...              ...                ...   \n",
              "993372           -73.952           40.777              0.000   \n",
              "993672           -73.992           40.667              0.000   \n",
              "994162           -73.968           40.751              0.000   \n",
              "994608           -73.915           40.707              0.000   \n",
              "997786           -73.991           40.733              0.000   \n",
              "\n",
              "        dropoff_latitude  passenger_count  \n",
              "1260               0.000                2  \n",
              "2280              40.758                1  \n",
              "4278               0.000                1  \n",
              "8647               0.000                1  \n",
              "10458              0.000                1  \n",
              "...                  ...              ...  \n",
              "993372             0.000                1  \n",
              "993672             0.000                1  \n",
              "994162             0.000                1  \n",
              "994608             0.000                6  \n",
              "997786             0.000                1  \n",
              "\n",
              "[893 rows x 8 columns]"
            ],
            "text/html": [
              "\n",
              "  <div id=\"df-21b6c65d-39a4-4f19-9242-374106718fd0\">\n",
              "    <div class=\"colab-df-container\">\n",
              "      <div>\n",
              "<style scoped>\n",
              "    .dataframe tbody tr th:only-of-type {\n",
              "        vertical-align: middle;\n",
              "    }\n",
              "\n",
              "    .dataframe tbody tr th {\n",
              "        vertical-align: top;\n",
              "    }\n",
              "\n",
              "    .dataframe thead th {\n",
              "        text-align: right;\n",
              "    }\n",
              "</style>\n",
              "<table border=\"1\" class=\"dataframe\">\n",
              "  <thead>\n",
              "    <tr style=\"text-align: right;\">\n",
              "      <th></th>\n",
              "      <th>key</th>\n",
              "      <th>fare_amount</th>\n",
              "      <th>pickup_datetime</th>\n",
              "      <th>pickup_longitude</th>\n",
              "      <th>pickup_latitude</th>\n",
              "      <th>dropoff_longitude</th>\n",
              "      <th>dropoff_latitude</th>\n",
              "      <th>passenger_count</th>\n",
              "    </tr>\n",
              "  </thead>\n",
              "  <tbody>\n",
              "    <tr>\n",
              "      <th>1260</th>\n",
              "      <td>2011-03-10 20:25:00.00000049</td>\n",
              "      <td>5.700</td>\n",
              "      <td>2011-03-10 20:25:00 UTC</td>\n",
              "      <td>-73.974</td>\n",
              "      <td>40.755</td>\n",
              "      <td>0.000</td>\n",
              "      <td>0.000</td>\n",
              "      <td>2</td>\n",
              "    </tr>\n",
              "    <tr>\n",
              "      <th>2280</th>\n",
              "      <td>2011-08-29 08:24:00.000000107</td>\n",
              "      <td>8.900</td>\n",
              "      <td>2011-08-29 08:24:00 UTC</td>\n",
              "      <td>-73.937</td>\n",
              "      <td>40.758</td>\n",
              "      <td>0.000</td>\n",
              "      <td>40.758</td>\n",
              "      <td>1</td>\n",
              "    </tr>\n",
              "    <tr>\n",
              "      <th>4278</th>\n",
              "      <td>2015-04-07 23:33:02.0000005</td>\n",
              "      <td>7.000</td>\n",
              "      <td>2015-04-07 23:33:02 UTC</td>\n",
              "      <td>-73.973</td>\n",
              "      <td>40.757</td>\n",
              "      <td>0.000</td>\n",
              "      <td>0.000</td>\n",
              "      <td>1</td>\n",
              "    </tr>\n",
              "    <tr>\n",
              "      <th>8647</th>\n",
              "      <td>2014-03-27 18:01:00.00000071</td>\n",
              "      <td>21.500</td>\n",
              "      <td>2014-03-27 18:01:00 UTC</td>\n",
              "      <td>-74.002</td>\n",
              "      <td>40.751</td>\n",
              "      <td>0.000</td>\n",
              "      <td>0.000</td>\n",
              "      <td>1</td>\n",
              "    </tr>\n",
              "    <tr>\n",
              "      <th>10458</th>\n",
              "      <td>2013-02-23 20:58:00.000000150</td>\n",
              "      <td>2.500</td>\n",
              "      <td>2013-02-23 20:58:00 UTC</td>\n",
              "      <td>-73.980</td>\n",
              "      <td>40.766</td>\n",
              "      <td>0.000</td>\n",
              "      <td>0.000</td>\n",
              "      <td>1</td>\n",
              "    </tr>\n",
              "    <tr>\n",
              "      <th>...</th>\n",
              "      <td>...</td>\n",
              "      <td>...</td>\n",
              "      <td>...</td>\n",
              "      <td>...</td>\n",
              "      <td>...</td>\n",
              "      <td>...</td>\n",
              "      <td>...</td>\n",
              "      <td>...</td>\n",
              "    </tr>\n",
              "    <tr>\n",
              "      <th>993372</th>\n",
              "      <td>2014-03-26 08:08:00.000000105</td>\n",
              "      <td>9.500</td>\n",
              "      <td>2014-03-26 08:08:00 UTC</td>\n",
              "      <td>-73.952</td>\n",
              "      <td>40.777</td>\n",
              "      <td>0.000</td>\n",
              "      <td>0.000</td>\n",
              "      <td>1</td>\n",
              "    </tr>\n",
              "    <tr>\n",
              "      <th>993672</th>\n",
              "      <td>2014-04-22 12:47:34.0000003</td>\n",
              "      <td>5.500</td>\n",
              "      <td>2014-04-22 12:47:34 UTC</td>\n",
              "      <td>-73.992</td>\n",
              "      <td>40.667</td>\n",
              "      <td>0.000</td>\n",
              "      <td>0.000</td>\n",
              "      <td>1</td>\n",
              "    </tr>\n",
              "    <tr>\n",
              "      <th>994162</th>\n",
              "      <td>2014-03-29 14:49:00.000000146</td>\n",
              "      <td>11.000</td>\n",
              "      <td>2014-03-29 14:49:00 UTC</td>\n",
              "      <td>-73.968</td>\n",
              "      <td>40.751</td>\n",
              "      <td>0.000</td>\n",
              "      <td>0.000</td>\n",
              "      <td>1</td>\n",
              "    </tr>\n",
              "    <tr>\n",
              "      <th>994608</th>\n",
              "      <td>2014-07-08 23:07:00.000000219</td>\n",
              "      <td>31.330</td>\n",
              "      <td>2014-07-08 23:07:00 UTC</td>\n",
              "      <td>-73.915</td>\n",
              "      <td>40.707</td>\n",
              "      <td>0.000</td>\n",
              "      <td>0.000</td>\n",
              "      <td>6</td>\n",
              "    </tr>\n",
              "    <tr>\n",
              "      <th>997786</th>\n",
              "      <td>2012-02-27 21:12:17.0000003</td>\n",
              "      <td>13.700</td>\n",
              "      <td>2012-02-27 21:12:17 UTC</td>\n",
              "      <td>-73.991</td>\n",
              "      <td>40.733</td>\n",
              "      <td>0.000</td>\n",
              "      <td>0.000</td>\n",
              "      <td>1</td>\n",
              "    </tr>\n",
              "  </tbody>\n",
              "</table>\n",
              "<p>893 rows × 8 columns</p>\n",
              "</div>\n",
              "      <button class=\"colab-df-convert\" onclick=\"convertToInteractive('df-21b6c65d-39a4-4f19-9242-374106718fd0')\"\n",
              "              title=\"Convert this dataframe to an interactive table.\"\n",
              "              style=\"display:none;\">\n",
              "        \n",
              "  <svg xmlns=\"http://www.w3.org/2000/svg\" height=\"24px\"viewBox=\"0 0 24 24\"\n",
              "       width=\"24px\">\n",
              "    <path d=\"M0 0h24v24H0V0z\" fill=\"none\"/>\n",
              "    <path d=\"M18.56 5.44l.94 2.06.94-2.06 2.06-.94-2.06-.94-.94-2.06-.94 2.06-2.06.94zm-11 1L8.5 8.5l.94-2.06 2.06-.94-2.06-.94L8.5 2.5l-.94 2.06-2.06.94zm10 10l.94 2.06.94-2.06 2.06-.94-2.06-.94-.94-2.06-.94 2.06-2.06.94z\"/><path d=\"M17.41 7.96l-1.37-1.37c-.4-.4-.92-.59-1.43-.59-.52 0-1.04.2-1.43.59L10.3 9.45l-7.72 7.72c-.78.78-.78 2.05 0 2.83L4 21.41c.39.39.9.59 1.41.59.51 0 1.02-.2 1.41-.59l7.78-7.78 2.81-2.81c.8-.78.8-2.07 0-2.86zM5.41 20L4 18.59l7.72-7.72 1.47 1.35L5.41 20z\"/>\n",
              "  </svg>\n",
              "      </button>\n",
              "      \n",
              "  <style>\n",
              "    .colab-df-container {\n",
              "      display:flex;\n",
              "      flex-wrap:wrap;\n",
              "      gap: 12px;\n",
              "    }\n",
              "\n",
              "    .colab-df-convert {\n",
              "      background-color: #E8F0FE;\n",
              "      border: none;\n",
              "      border-radius: 50%;\n",
              "      cursor: pointer;\n",
              "      display: none;\n",
              "      fill: #1967D2;\n",
              "      height: 32px;\n",
              "      padding: 0 0 0 0;\n",
              "      width: 32px;\n",
              "    }\n",
              "\n",
              "    .colab-df-convert:hover {\n",
              "      background-color: #E2EBFA;\n",
              "      box-shadow: 0px 1px 2px rgba(60, 64, 67, 0.3), 0px 1px 3px 1px rgba(60, 64, 67, 0.15);\n",
              "      fill: #174EA6;\n",
              "    }\n",
              "\n",
              "    [theme=dark] .colab-df-convert {\n",
              "      background-color: #3B4455;\n",
              "      fill: #D2E3FC;\n",
              "    }\n",
              "\n",
              "    [theme=dark] .colab-df-convert:hover {\n",
              "      background-color: #434B5C;\n",
              "      box-shadow: 0px 1px 3px 1px rgba(0, 0, 0, 0.15);\n",
              "      filter: drop-shadow(0px 1px 2px rgba(0, 0, 0, 0.3));\n",
              "      fill: #FFFFFF;\n",
              "    }\n",
              "  </style>\n",
              "\n",
              "      <script>\n",
              "        const buttonEl =\n",
              "          document.querySelector('#df-21b6c65d-39a4-4f19-9242-374106718fd0 button.colab-df-convert');\n",
              "        buttonEl.style.display =\n",
              "          google.colab.kernel.accessAllowed ? 'block' : 'none';\n",
              "\n",
              "        async function convertToInteractive(key) {\n",
              "          const element = document.querySelector('#df-21b6c65d-39a4-4f19-9242-374106718fd0');\n",
              "          const dataTable =\n",
              "            await google.colab.kernel.invokeFunction('convertToInteractive',\n",
              "                                                     [key], {});\n",
              "          if (!dataTable) return;\n",
              "\n",
              "          const docLinkHtml = 'Like what you see? Visit the ' +\n",
              "            '<a target=\"_blank\" href=https://colab.research.google.com/notebooks/data_table.ipynb>data table notebook</a>'\n",
              "            + ' to learn more about interactive tables.';\n",
              "          element.innerHTML = '';\n",
              "          dataTable['output_type'] = 'display_data';\n",
              "          await google.colab.output.renderOutput(dataTable, element);\n",
              "          const docLink = document.createElement('div');\n",
              "          docLink.innerHTML = docLinkHtml;\n",
              "          element.appendChild(docLink);\n",
              "        }\n",
              "      </script>\n",
              "    </div>\n",
              "  </div>\n",
              "  "
            ]
          },
          "metadata": {},
          "execution_count": 28
        }
      ],
      "source": [
        "my_dataframe1.loc[((my_dataframe1[\"pickup_longitude\"] < -125) & (my_dataframe1[\"pickup_longitude\"]  > -67)) | (my_dataframe1[\"dropoff_longitude\"])  < -125 & (my_dataframe1[\"dropoff_longitude\"] > -67)]"
      ]
    },
    {
      "cell_type": "markdown",
      "id": "e3466b5a",
      "metadata": {
        "id": "e3466b5a"
      },
      "source": [
        "dropping odd latitudes and odd longitudes"
      ]
    },
    {
      "cell_type": "code",
      "execution_count": null,
      "id": "a01d9c12",
      "metadata": {
        "id": "a01d9c12"
      },
      "outputs": [],
      "source": [
        "drop = my_dataframe1.loc[((my_dataframe1[\"pickup_longitude\"] < -125) & (my_dataframe1[\"pickup_longitude\"]  > -67)) | (my_dataframe1[\"dropoff_longitude\"])  < -125 & (my_dataframe1[\"dropoff_longitude\"] > -67)]\n",
        "my_dataframe1 = my_dataframe1[~my_dataframe1.index.isin(drop.index)]"
      ]
    },
    {
      "cell_type": "markdown",
      "id": "762c88be",
      "metadata": {
        "id": "762c88be"
      },
      "source": [
        "Drop records that fall outside of testdf's coordinates"
      ]
    },
    {
      "cell_type": "code",
      "execution_count": null,
      "id": "0bf81061",
      "metadata": {
        "colab": {
          "base_uri": "https://localhost:8080/",
          "height": 515
        },
        "id": "0bf81061",
        "outputId": "070125bd-a612-4df5-8085-60a021d689b3"
      },
      "outputs": [
        {
          "output_type": "execute_result",
          "data": {
            "text/plain": [
              "<matplotlib.axes._subplots.AxesSubplot at 0x7fb836697810>"
            ]
          },
          "metadata": {},
          "execution_count": 30
        },
        {
          "output_type": "display_data",
          "data": {
            "text/plain": [
              "<Figure size 864x576 with 2 Axes>"
            ],
            "image/png": "[encoded data removed]"
          },
          "metadata": {
            "needs_background": "light"
          }
        }
      ],
      "source": [
        "fig,ax= plt.subplots(2,figsize = (12,8))\n",
        "sns.boxplot(testdf['pickup_latitude'],ax = ax[0])\n",
        "sns.boxplot(testdf['pickup_longitude'],ax = ax[1])"
      ]
    },
    {
      "cell_type": "markdown",
      "id": "5d404fb8",
      "metadata": {
        "id": "5d404fb8"
      },
      "source": [
        "looking at range of pickup latitude and longitude in test set"
      ]
    },
    {
      "cell_type": "code",
      "execution_count": null,
      "id": "16d2ffde",
      "metadata": {
        "colab": {
          "base_uri": "https://localhost:8080/",
          "height": 300
        },
        "id": "16d2ffde",
        "outputId": "85902a1e-094e-419d-902c-bcbb4aaefdf8"
      },
      "outputs": [
        {
          "output_type": "execute_result",
          "data": {
            "text/plain": [
              "       pickup_longitude  pickup_latitude  dropoff_longitude  dropoff_latitude  \\\n",
              "count          9914.000         9914.000           9914.000          9914.000   \n",
              "mean            -73.975           40.751            -73.974            40.752   \n",
              "std               0.043            0.034              0.039             0.035   \n",
              "min             -74.252           40.573            -74.263            40.569   \n",
              "25%             -73.993           40.736            -73.991            40.735   \n",
              "50%             -73.982           40.753            -73.980            40.754   \n",
              "75%             -73.968           40.767            -73.964            40.769   \n",
              "max             -72.987           41.710            -72.991            41.697   \n",
              "\n",
              "       passenger_count  \n",
              "count         9914.000  \n",
              "mean             1.671  \n",
              "std              1.279  \n",
              "min              1.000  \n",
              "25%              1.000  \n",
              "50%              1.000  \n",
              "75%              2.000  \n",
              "max              6.000  "
            ],
            "text/html": [
              "\n",
              "  <div id=\"df-be776025-e2e8-4e25-86b6-39d98ac58f53\">\n",
              "    <div class=\"colab-df-container\">\n",
              "      <div>\n",
              "<style scoped>\n",
              "    .dataframe tbody tr th:only-of-type {\n",
              "        vertical-align: middle;\n",
              "    }\n",
              "\n",
              "    .dataframe tbody tr th {\n",
              "        vertical-align: top;\n",
              "    }\n",
              "\n",
              "    .dataframe thead th {\n",
              "        text-align: right;\n",
              "    }\n",
              "</style>\n",
              "<table border=\"1\" class=\"dataframe\">\n",
              "  <thead>\n",
              "    <tr style=\"text-align: right;\">\n",
              "      <th></th>\n",
              "      <th>pickup_longitude</th>\n",
              "      <th>pickup_latitude</th>\n",
              "      <th>dropoff_longitude</th>\n",
              "      <th>dropoff_latitude</th>\n",
              "      <th>passenger_count</th>\n",
              "    </tr>\n",
              "  </thead>\n",
              "  <tbody>\n",
              "    <tr>\n",
              "      <th>count</th>\n",
              "      <td>9914.000</td>\n",
              "      <td>9914.000</td>\n",
              "      <td>9914.000</td>\n",
              "      <td>9914.000</td>\n",
              "      <td>9914.000</td>\n",
              "    </tr>\n",
              "    <tr>\n",
              "      <th>mean</th>\n",
              "      <td>-73.975</td>\n",
              "      <td>40.751</td>\n",
              "      <td>-73.974</td>\n",
              "      <td>40.752</td>\n",
              "      <td>1.671</td>\n",
              "    </tr>\n",
              "    <tr>\n",
              "      <th>std</th>\n",
              "      <td>0.043</td>\n",
              "      <td>0.034</td>\n",
              "      <td>0.039</td>\n",
              "      <td>0.035</td>\n",
              "      <td>1.279</td>\n",
              "    </tr>\n",
              "    <tr>\n",
              "      <th>min</th>\n",
              "      <td>-74.252</td>\n",
              "      <td>40.573</td>\n",
              "      <td>-74.263</td>\n",
              "      <td>40.569</td>\n",
              "      <td>1.000</td>\n",
              "    </tr>\n",
              "    <tr>\n",
              "      <th>25%</th>\n",
              "      <td>-73.993</td>\n",
              "      <td>40.736</td>\n",
              "      <td>-73.991</td>\n",
              "      <td>40.735</td>\n",
              "      <td>1.000</td>\n",
              "    </tr>\n",
              "    <tr>\n",
              "      <th>50%</th>\n",
              "      <td>-73.982</td>\n",
              "      <td>40.753</td>\n",
              "      <td>-73.980</td>\n",
              "      <td>40.754</td>\n",
              "      <td>1.000</td>\n",
              "    </tr>\n",
              "    <tr>\n",
              "      <th>75%</th>\n",
              "      <td>-73.968</td>\n",
              "      <td>40.767</td>\n",
              "      <td>-73.964</td>\n",
              "      <td>40.769</td>\n",
              "      <td>2.000</td>\n",
              "    </tr>\n",
              "    <tr>\n",
              "      <th>max</th>\n",
              "      <td>-72.987</td>\n",
              "      <td>41.710</td>\n",
              "      <td>-72.991</td>\n",
              "      <td>41.697</td>\n",
              "      <td>6.000</td>\n",
              "    </tr>\n",
              "  </tbody>\n",
              "</table>\n",
              "</div>\n",
              "      <button class=\"colab-df-convert\" onclick=\"convertToInteractive('df-be776025-e2e8-4e25-86b6-39d98ac58f53')\"\n",
              "              title=\"Convert this dataframe to an interactive table.\"\n",
              "              style=\"display:none;\">\n",
              "        \n",
              "  <svg xmlns=\"http://www.w3.org/2000/svg\" height=\"24px\"viewBox=\"0 0 24 24\"\n",
              "       width=\"24px\">\n",
              "    <path d=\"M0 0h24v24H0V0z\" fill=\"none\"/>\n",
              "    <path d=\"M18.56 5.44l.94 2.06.94-2.06 2.06-.94-2.06-.94-.94-2.06-.94 2.06-2.06.94zm-11 1L8.5 8.5l.94-2.06 2.06-.94-2.06-.94L8.5 2.5l-.94 2.06-2.06.94zm10 10l.94 2.06.94-2.06 2.06-.94-2.06-.94-.94-2.06-.94 2.06-2.06.94z\"/><path d=\"M17.41 7.96l-1.37-1.37c-.4-.4-.92-.59-1.43-.59-.52 0-1.04.2-1.43.59L10.3 9.45l-7.72 7.72c-.78.78-.78 2.05 0 2.83L4 21.41c.39.39.9.59 1.41.59.51 0 1.02-.2 1.41-.59l7.78-7.78 2.81-2.81c.8-.78.8-2.07 0-2.86zM5.41 20L4 18.59l7.72-7.72 1.47 1.35L5.41 20z\"/>\n",
              "  </svg>\n",
              "      </button>\n",
              "      \n",
              "  <style>\n",
              "    .colab-df-container {\n",
              "      display:flex;\n",
              "      flex-wrap:wrap;\n",
              "      gap: 12px;\n",
              "    }\n",
              "\n",
              "    .colab-df-convert {\n",
              "      background-color: #E8F0FE;\n",
              "      border: none;\n",
              "      border-radius: 50%;\n",
              "      cursor: pointer;\n",
              "      display: none;\n",
              "      fill: #1967D2;\n",
              "      height: 32px;\n",
              "      padding: 0 0 0 0;\n",
              "      width: 32px;\n",
              "    }\n",
              "\n",
              "    .colab-df-convert:hover {\n",
              "      background-color: #E2EBFA;\n",
              "      box-shadow: 0px 1px 2px rgba(60, 64, 67, 0.3), 0px 1px 3px 1px rgba(60, 64, 67, 0.15);\n",
              "      fill: #174EA6;\n",
              "    }\n",
              "\n",
              "    [theme=dark] .colab-df-convert {\n",
              "      background-color: #3B4455;\n",
              "      fill: #D2E3FC;\n",
              "    }\n",
              "\n",
              "    [theme=dark] .colab-df-convert:hover {\n",
              "      background-color: #434B5C;\n",
              "      box-shadow: 0px 1px 3px 1px rgba(0, 0, 0, 0.15);\n",
              "      filter: drop-shadow(0px 1px 2px rgba(0, 0, 0, 0.3));\n",
              "      fill: #FFFFFF;\n",
              "    }\n",
              "  </style>\n",
              "\n",
              "      <script>\n",
              "        const buttonEl =\n",
              "          document.querySelector('#df-be776025-e2e8-4e25-86b6-39d98ac58f53 button.colab-df-convert');\n",
              "        buttonEl.style.display =\n",
              "          google.colab.kernel.accessAllowed ? 'block' : 'none';\n",
              "\n",
              "        async function convertToInteractive(key) {\n",
              "          const element = document.querySelector('#df-be776025-e2e8-4e25-86b6-39d98ac58f53');\n",
              "          const dataTable =\n",
              "            await google.colab.kernel.invokeFunction('convertToInteractive',\n",
              "                                                     [key], {});\n",
              "          if (!dataTable) return;\n",
              "\n",
              "          const docLinkHtml = 'Like what you see? Visit the ' +\n",
              "            '<a target=\"_blank\" href=https://colab.research.google.com/notebooks/data_table.ipynb>data table notebook</a>'\n",
              "            + ' to learn more about interactive tables.';\n",
              "          element.innerHTML = '';\n",
              "          dataTable['output_type'] = 'display_data';\n",
              "          await google.colab.output.renderOutput(dataTable, element);\n",
              "          const docLink = document.createElement('div');\n",
              "          docLink.innerHTML = docLinkHtml;\n",
              "          element.appendChild(docLink);\n",
              "        }\n",
              "      </script>\n",
              "    </div>\n",
              "  </div>\n",
              "  "
            ]
          },
          "metadata": {},
          "execution_count": 31
        }
      ],
      "source": [
        "testdf.describe()"
      ]
    },
    {
      "cell_type": "code",
      "execution_count": null,
      "id": "f330493e",
      "metadata": {
        "id": "f330493e"
      },
      "outputs": [],
      "source": [
        "my_dataframe1 = my_dataframe1[((my_dataframe1['pickup_longitude'] > -75) & (my_dataframe1['pickup_longitude'] < -72)) & ((my_dataframe1['pickup_latitude'] > 40) & (my_dataframe1['pickup_latitude'] < 42)) & ((my_dataframe1['dropoff_longitude'] > -75) & (my_dataframe1['dropoff_longitude'] < -72)) & ((my_dataframe1['dropoff_latitude'] > 40) & (my_dataframe1['dropoff_latitude'] < 42))]"
      ]
    },
    {
      "cell_type": "code",
      "execution_count": null,
      "id": "96c5d391",
      "metadata": {
        "colab": {
          "base_uri": "https://localhost:8080/",
          "height": 515
        },
        "id": "96c5d391",
        "outputId": "d7a63d67-b9d4-491f-8aa0-8594b5f70847"
      },
      "outputs": [
        {
          "output_type": "execute_result",
          "data": {
            "text/plain": [
              "<matplotlib.axes._subplots.AxesSubplot at 0x7fb8360f3bd0>"
            ]
          },
          "metadata": {},
          "execution_count": 33
        },
        {
          "output_type": "display_data",
          "data": {
            "text/plain": [
              "<Figure size 864x576 with 2 Axes>"
            ],
            "image/png": "[encoded data removed]"
          },
          "metadata": {
            "needs_background": "light"
          }
        }
      ],
      "source": [
        "fig,ax= plt.subplots(2,figsize = (12,8))\n",
        "sns.boxplot(my_dataframe1['pickup_latitude'],ax = ax[0])\n",
        "sns.boxplot(my_dataframe1['pickup_longitude'],ax = ax[1])"
      ]
    },
    {
      "cell_type": "markdown",
      "id": "af875f9e",
      "metadata": {
        "id": "af875f9e"
      },
      "source": [
        " looking at range of pickup latitude and longitude in test se"
      ]
    },
    {
      "cell_type": "code",
      "execution_count": null,
      "id": "a49f5931",
      "metadata": {
        "id": "a49f5931"
      },
      "outputs": [],
      "source": [
        "my_dataframe1 = my_dataframe1.drop(my_dataframe1[my_dataframe1['fare_amount'] <= 0].index)"
      ]
    },
    {
      "cell_type": "markdown",
      "id": "d76eba8f",
      "metadata": {
        "id": "d76eba8f"
      },
      "source": [
        "Dropping unrealistic and negative cab fares"
      ]
    },
    {
      "cell_type": "code",
      "execution_count": null,
      "id": "4d0528ed",
      "metadata": {
        "colab": {
          "base_uri": "https://localhost:8080/",
          "height": 514
        },
        "id": "4d0528ed",
        "outputId": "8f6d9b38-0956-4b39-a878-57a40425e45e"
      },
      "outputs": [
        {
          "output_type": "execute_result",
          "data": {
            "text/plain": [
              "<matplotlib.axes._subplots.AxesSubplot at 0x7fb8360959d0>"
            ]
          },
          "metadata": {},
          "execution_count": 35
        },
        {
          "output_type": "display_data",
          "data": {
            "text/plain": [
              "<Figure size 864x576 with 1 Axes>"
            ],
            "image/png": "[encoded data removed]"
          },
          "metadata": {
            "needs_background": "light"
          }
        }
      ],
      "source": [
        "fig,ax= plt.subplots(figsize = (12,8))\n",
        "sns.boxplot(my_dataframe1['passenger_count'])"
      ]
    },
    {
      "cell_type": "code",
      "execution_count": null,
      "id": "89db1ffb",
      "metadata": {
        "colab": {
          "base_uri": "https://localhost:8080/",
          "height": 49
        },
        "id": "89db1ffb",
        "outputId": "7a31d62d-f404-4128-f205-b9def5a074f9"
      },
      "outputs": [
        {
          "output_type": "execute_result",
          "data": {
            "text/plain": [
              "Empty DataFrame\n",
              "Columns: [key, fare_amount, pickup_datetime, pickup_longitude, pickup_latitude, dropoff_longitude, dropoff_latitude, passenger_count]\n",
              "Index: []"
            ],
            "text/html": [
              "\n",
              "  <div id=\"df-fb38b69c-6cd5-4920-a174-10602cf1bcd7\">\n",
              "    <div class=\"colab-df-container\">\n",
              "      <div>\n",
              "<style scoped>\n",
              "    .dataframe tbody tr th:only-of-type {\n",
              "        vertical-align: middle;\n",
              "    }\n",
              "\n",
              "    .dataframe tbody tr th {\n",
              "        vertical-align: top;\n",
              "    }\n",
              "\n",
              "    .dataframe thead th {\n",
              "        text-align: right;\n",
              "    }\n",
              "</style>\n",
              "<table border=\"1\" class=\"dataframe\">\n",
              "  <thead>\n",
              "    <tr style=\"text-align: right;\">\n",
              "      <th></th>\n",
              "      <th>key</th>\n",
              "      <th>fare_amount</th>\n",
              "      <th>pickup_datetime</th>\n",
              "      <th>pickup_longitude</th>\n",
              "      <th>pickup_latitude</th>\n",
              "      <th>dropoff_longitude</th>\n",
              "      <th>dropoff_latitude</th>\n",
              "      <th>passenger_count</th>\n",
              "    </tr>\n",
              "  </thead>\n",
              "  <tbody>\n",
              "  </tbody>\n",
              "</table>\n",
              "</div>\n",
              "      <button class=\"colab-df-convert\" onclick=\"convertToInteractive('df-fb38b69c-6cd5-4920-a174-10602cf1bcd7')\"\n",
              "              title=\"Convert this dataframe to an interactive table.\"\n",
              "              style=\"display:none;\">\n",
              "        \n",
              "  <svg xmlns=\"http://www.w3.org/2000/svg\" height=\"24px\"viewBox=\"0 0 24 24\"\n",
              "       width=\"24px\">\n",
              "    <path d=\"M0 0h24v24H0V0z\" fill=\"none\"/>\n",
              "    <path d=\"M18.56 5.44l.94 2.06.94-2.06 2.06-.94-2.06-.94-.94-2.06-.94 2.06-2.06.94zm-11 1L8.5 8.5l.94-2.06 2.06-.94-2.06-.94L8.5 2.5l-.94 2.06-2.06.94zm10 10l.94 2.06.94-2.06 2.06-.94-2.06-.94-.94-2.06-.94 2.06-2.06.94z\"/><path d=\"M17.41 7.96l-1.37-1.37c-.4-.4-.92-.59-1.43-.59-.52 0-1.04.2-1.43.59L10.3 9.45l-7.72 7.72c-.78.78-.78 2.05 0 2.83L4 21.41c.39.39.9.59 1.41.59.51 0 1.02-.2 1.41-.59l7.78-7.78 2.81-2.81c.8-.78.8-2.07 0-2.86zM5.41 20L4 18.59l7.72-7.72 1.47 1.35L5.41 20z\"/>\n",
              "  </svg>\n",
              "      </button>\n",
              "      \n",
              "  <style>\n",
              "    .colab-df-container {\n",
              "      display:flex;\n",
              "      flex-wrap:wrap;\n",
              "      gap: 12px;\n",
              "    }\n",
              "\n",
              "    .colab-df-convert {\n",
              "      background-color: #E8F0FE;\n",
              "      border: none;\n",
              "      border-radius: 50%;\n",
              "      cursor: pointer;\n",
              "      display: none;\n",
              "      fill: #1967D2;\n",
              "      height: 32px;\n",
              "      padding: 0 0 0 0;\n",
              "      width: 32px;\n",
              "    }\n",
              "\n",
              "    .colab-df-convert:hover {\n",
              "      background-color: #E2EBFA;\n",
              "      box-shadow: 0px 1px 2px rgba(60, 64, 67, 0.3), 0px 1px 3px 1px rgba(60, 64, 67, 0.15);\n",
              "      fill: #174EA6;\n",
              "    }\n",
              "\n",
              "    [theme=dark] .colab-df-convert {\n",
              "      background-color: #3B4455;\n",
              "      fill: #D2E3FC;\n",
              "    }\n",
              "\n",
              "    [theme=dark] .colab-df-convert:hover {\n",
              "      background-color: #434B5C;\n",
              "      box-shadow: 0px 1px 3px 1px rgba(0, 0, 0, 0.15);\n",
              "      filter: drop-shadow(0px 1px 2px rgba(0, 0, 0, 0.3));\n",
              "      fill: #FFFFFF;\n",
              "    }\n",
              "  </style>\n",
              "\n",
              "      <script>\n",
              "        const buttonEl =\n",
              "          document.querySelector('#df-fb38b69c-6cd5-4920-a174-10602cf1bcd7 button.colab-df-convert');\n",
              "        buttonEl.style.display =\n",
              "          google.colab.kernel.accessAllowed ? 'block' : 'none';\n",
              "\n",
              "        async function convertToInteractive(key) {\n",
              "          const element = document.querySelector('#df-fb38b69c-6cd5-4920-a174-10602cf1bcd7');\n",
              "          const dataTable =\n",
              "            await google.colab.kernel.invokeFunction('convertToInteractive',\n",
              "                                                     [key], {});\n",
              "          if (!dataTable) return;\n",
              "\n",
              "          const docLinkHtml = 'Like what you see? Visit the ' +\n",
              "            '<a target=\"_blank\" href=https://colab.research.google.com/notebooks/data_table.ipynb>data table notebook</a>'\n",
              "            + ' to learn more about interactive tables.';\n",
              "          element.innerHTML = '';\n",
              "          dataTable['output_type'] = 'display_data';\n",
              "          await google.colab.output.renderOutput(dataTable, element);\n",
              "          const docLink = document.createElement('div');\n",
              "          docLink.innerHTML = docLinkHtml;\n",
              "          element.appendChild(docLink);\n",
              "        }\n",
              "      </script>\n",
              "    </div>\n",
              "  </div>\n",
              "  "
            ]
          },
          "metadata": {},
          "execution_count": 36
        }
      ],
      "source": [
        "my_dataframe1[my_dataframe1['passenger_count'] >50]"
      ]
    },
    {
      "cell_type": "markdown",
      "id": "c2f28cd4",
      "metadata": {
        "id": "c2f28cd4"
      },
      "source": [
        "Dropping unrealistic passenger count"
      ]
    },
    {
      "cell_type": "code",
      "execution_count": null,
      "id": "350abbd6",
      "metadata": {
        "id": "350abbd6"
      },
      "outputs": [],
      "source": [
        "my_dataframe1 = my_dataframe1.drop(my_dataframe1[my_dataframe1['passenger_count'] > 50].index)"
      ]
    },
    {
      "cell_type": "markdown",
      "id": "600d0072",
      "metadata": {
        "id": "600d0072"
      },
      "source": [
        "dropping the 2 extreme values"
      ]
    },
    {
      "cell_type": "code",
      "execution_count": null,
      "id": "3ae9764f",
      "metadata": {
        "colab": {
          "base_uri": "https://localhost:8080/",
          "height": 515
        },
        "id": "3ae9764f",
        "outputId": "5dcc62e2-d238-4ddf-dcb2-741918479b8b"
      },
      "outputs": [
        {
          "output_type": "execute_result",
          "data": {
            "text/plain": [
              "<matplotlib.axes._subplots.AxesSubplot at 0x7fb83671f5d0>"
            ]
          },
          "metadata": {},
          "execution_count": 38
        },
        {
          "output_type": "display_data",
          "data": {
            "text/plain": [
              "<Figure size 864x576 with 1 Axes>"
            ],
            "image/png": "[encoded data removed]"
          },
          "metadata": {
            "needs_background": "light"
          }
        }
      ],
      "source": [
        "fig,ax= plt.subplots(figsize = (12,8))\n",
        "sns.boxplot(my_dataframe1['fare_amount'])"
      ]
    },
    {
      "cell_type": "markdown",
      "source": [
        "#### There will be no negative tax and you may not be able to pay more than a certain limit depending on the circumstances, let's say this limit is 200\\\\$ \n",
        "Also, I came to know from google that the minimum fare for a New York taxi is 2,50\\\\$  "
      ],
      "metadata": {
        "id": "AGg-Id3YTJd3"
      },
      "id": "AGg-Id3YTJd3"
    },
    {
      "cell_type": "code",
      "execution_count": null,
      "id": "8f916101",
      "metadata": {
        "id": "8f916101"
      },
      "outputs": [],
      "source": [
        "# Assumption: cab fares are all below $200\n",
        "my_dataframe1 = my_dataframe1.drop(my_dataframe1[my_dataframe1['fare_amount'] > 200].index)"
      ]
    },
    {
      "cell_type": "code",
      "source": [
        "plt.scatter(x=my_dataframe1.fare_amount,y=my_dataframe1.index)\n",
        "plt.ylabel('Index')\n",
        "plt.xlabel('fare_amount')\n",
        "plt.show()"
      ],
      "metadata": {
        "colab": {
          "base_uri": "https://localhost:8080/",
          "height": 291
        },
        "id": "-np2MaJwT8cg",
        "outputId": "58152ade-e8c4-4a31-e4d2-22979ce3f06e"
      },
      "id": "-np2MaJwT8cg",
      "execution_count": null,
      "outputs": [
        {
          "output_type": "display_data",
          "data": {
            "text/plain": [
              "<Figure size 432x288 with 1 Axes>"
            ],
            "image/png": "[encoded data removed]"
          },
          "metadata": {
            "needs_background": "light"
          }
        }
      ]
    },
    {
      "cell_type": "code",
      "source": [
        "print(\"Number of Fare_amount <=0 is\")\n",
        "my_dataframe1['fare_amount'][(my_dataframe1.fare_amount<=0)].count()"
      ],
      "metadata": {
        "colab": {
          "base_uri": "https://localhost:8080/"
        },
        "id": "Koz0OmvrUG_p",
        "outputId": "b2aca958-54f7-413c-d6ee-8a097be220ec"
      },
      "id": "Koz0OmvrUG_p",
      "execution_count": null,
      "outputs": [
        {
          "output_type": "stream",
          "name": "stdout",
          "text": [
            "Number of Fare_amount <=0 is\n"
          ]
        },
        {
          "output_type": "execute_result",
          "data": {
            "text/plain": [
              "0"
            ]
          },
          "metadata": {},
          "execution_count": 41
        }
      ]
    },
    {
      "cell_type": "markdown",
      "source": [
        "## Final checking if still some outliers are left"
      ],
      "metadata": {
        "id": "4Ym7rlT8UM7h"
      },
      "id": "4Ym7rlT8UM7h"
    },
    {
      "cell_type": "code",
      "source": [
        "print('Number of observations out of valid range in coordinate columns:', end=\"\\n\")\n",
        "\n",
        "print('pickup_longitude', end=': ')\n",
        "print((my_dataframe1.pickup_longitude <-180).sum()+(my_dataframe1.pickup_longitude > 180).sum())\n",
        "\n",
        "print('pickup_latitude', end=': ')\n",
        "print((my_dataframe1.pickup_latitude <-90).sum()+(my_dataframe1.pickup_latitude > 90).sum())\n",
        "\n",
        "print('dropoff_longitude', end=': ')\n",
        "print((my_dataframe1.dropoff_longitude <-180).sum()+(my_dataframe1.dropoff_longitude > 180).sum())\n",
        "\n",
        "print('dropoff_latitude', end=': ')\n",
        "print((my_dataframe1.dropoff_latitude <-90).sum()+(my_dataframe1.dropoff_latitude > 90).sum())\n",
        "\n",
        "if(((my_dataframe1.pickup_longitude <-180).sum()+(my_dataframe1.pickup_longitude > 180).sum() and (my_dataframe1.pickup_latitude <-90).sum()+(my_dataframe1.pickup_latitude > 90).sum() and (my_dataframe1.dropoff_longitude <-180).sum()+(my_dataframe1.dropoff_longitude > 180).sum() and (my_dataframe1.dropoff_latitude <-90).sum()+(my_dataframe1.dropoff_latitude > 90).sum())==0):\n",
        "    print(\"No OutLiers Left\")\n",
        "else:\n",
        "    print(\"Outliers Still Left\")  "
      ],
      "metadata": {
        "colab": {
          "base_uri": "https://localhost:8080/"
        },
        "id": "sVB_zGkTUOqi",
        "outputId": "9691118f-ba5c-4cb8-acec-62ad45359403"
      },
      "id": "sVB_zGkTUOqi",
      "execution_count": null,
      "outputs": [
        {
          "output_type": "stream",
          "name": "stdout",
          "text": [
            "Number of observations out of valid range in coordinate columns:\n",
            "pickup_longitude: 0\n",
            "pickup_latitude: 0\n",
            "dropoff_longitude: 0\n",
            "dropoff_latitude: 0\n",
            "No OutLiers Left\n"
          ]
        }
      ]
    },
    {
      "cell_type": "markdown",
      "id": "488f1d14",
      "metadata": {
        "id": "488f1d14"
      },
      "source": [
        "Dropping unrealitstic fare amount"
      ]
    },
    {
      "cell_type": "markdown",
      "id": "6cac3064",
      "metadata": {
        "id": "6cac3064"
      },
      "source": [
        "## Feature Engineering\n",
        "\n",
        "Changing datatypes and creating new fields"
      ]
    },
    {
      "cell_type": "code",
      "execution_count": null,
      "id": "7a7234ba",
      "metadata": {
        "colab": {
          "base_uri": "https://localhost:8080/"
        },
        "id": "7a7234ba",
        "outputId": "8d143a27-d921-4663-a2fa-761cc6dfeee3"
      },
      "outputs": [
        {
          "output_type": "execute_result",
          "data": {
            "text/plain": [
              "0   2009-06-15 17:26:00\n",
              "1   2010-01-05 16:52:00\n",
              "2   2011-08-18 00:35:00\n",
              "3   2012-04-21 04:30:00\n",
              "4   2010-03-09 07:51:00\n",
              "Name: pickup_datetime, dtype: datetime64[ns]"
            ]
          },
          "metadata": {},
          "execution_count": 43
        }
      ],
      "source": [
        "pd.to_datetime(pd.to_datetime(my_dataframe1.head()['pickup_datetime']).dt.strftime(\"%Y-%m-%d %H:%M\"))"
      ]
    },
    {
      "cell_type": "code",
      "execution_count": null,
      "id": "e8d13e8a",
      "metadata": {
        "id": "e8d13e8a"
      },
      "outputs": [],
      "source": [
        "my_dataframe1['pickup_datetime'] = pd.to_datetime(pd.to_datetime(my_dataframe1['pickup_datetime']).dt.strftime(\"%Y-%m-%d %H:%M\"))\n",
        "testdf['pickup_datetime'] = pd.to_datetime(pd.to_datetime(testdf['pickup_datetime']).dt.strftime(\"%Y-%m-%d %H:%M\"))"
      ]
    },
    {
      "cell_type": "code",
      "execution_count": null,
      "id": "858931a9",
      "metadata": {
        "id": "858931a9"
      },
      "outputs": [],
      "source": [
        "my_dataframe1['year'] = my_dataframe1['pickup_datetime'].dt.year\n",
        "my_dataframe1['month'] = my_dataframe1['pickup_datetime'].dt.month\n",
        "my_dataframe1['day'] = my_dataframe1['pickup_datetime'].dt.day\n",
        "my_dataframe1['weekday'] = my_dataframe1['pickup_datetime'].dt.weekday\n",
        "my_dataframe1['hour'] = my_dataframe1['pickup_datetime'].dt.hour\n",
        "my_dataframe1['min'] = my_dataframe1['pickup_datetime'].dt.minute\n",
        "\n",
        "testdf['year'] = testdf['pickup_datetime'].dt.year\n",
        "testdf['month'] = testdf['pickup_datetime'].dt.month\n",
        "testdf['day'] = testdf['pickup_datetime'].dt.day\n",
        "testdf['weekday'] = testdf['pickup_datetime'].dt.weekday\n",
        "testdf['hour'] = testdf['pickup_datetime'].dt.hour\n",
        "testdf['min'] = testdf['pickup_datetime'].dt.minute"
      ]
    },
    {
      "cell_type": "markdown",
      "source": [
        "#### We can understand displacement through start and end points.\n",
        "\n",
        "#### We will use the Haversine formula to calculate the distance between two geolocations"
      ],
      "metadata": {
        "id": "PDcDjDU7Umkk"
      },
      "id": "PDcDjDU7Umkk"
    },
    {
      "cell_type": "markdown",
      "source": [
        "**Distance **\n",
        "\n",
        "Calculate the distance based on longitude and latitude \n",
        "\n",
        "Haversine formula:\n",
        "\n",
        "dlon = lon2 - lon1 \n",
        "dlat = lat2 - lat1 \n",
        "a = (sin(dlat/2))^2 + cos(lat1) * cos(lat2) * (sin(dlon/2))^2 \n",
        "c = 2 * atan2( sqrt(a), sqrt(1-a) ) \n",
        "d = R * c (where R is the radius of the Earth)\n",
        "\n",
        "#a = sin²(Δφ/2) + cos φ1 ⋅ cos φ2 ⋅ sin²(Δλ/2)\n",
        "#c = 2 ⋅ atan2( √a, √(1−a) )\n",
        "#d = R ⋅ c "
      ],
      "metadata": {
        "id": "r-79kRZOUptN"
      },
      "id": "r-79kRZOUptN"
    },
    {
      "cell_type": "code",
      "execution_count": null,
      "id": "647d0d4d",
      "metadata": {
        "id": "647d0d4d"
      },
      "outputs": [],
      "source": [
        "# define haversine formula to convert points to distance in km\n",
        "def haversine(my_dataframe2):\n",
        "    \"\"\"\n",
        "    Calculate the great circle distance between two points \n",
        "    on the earth (specified in decimal degrees)\n",
        "    \"\"\"\n",
        "    # convert decimal degrees to radians \n",
        "    lon1 = my_dataframe2['pickup_longitude']\n",
        "    lon2 = my_dataframe2['dropoff_longitude']\n",
        "    lat1 = my_dataframe2['pickup_latitude']\n",
        "    lat2 = my_dataframe2['dropoff_latitude']\n",
        "    \n",
        "    lon1, lat1, lon2, lat2 = map(radians, [lon1, lat1, lon2, lat2])\n",
        "\n",
        "    # haversine formula \n",
        "    dlon = lon2 - lon1 \n",
        "    dlat = lat2 - lat1 \n",
        "    a = sin(dlat/2)**2 + cos(lat1) * cos(lat2) * sin(dlon/2)**2\n",
        "    c = 2 * asin(sqrt(a)) \n",
        "    r = 6371 # Radius of earth in kilometers.\n",
        "    return c * r"
      ]
    },
    {
      "cell_type": "markdown",
      "source": [
        "#### Let's also calculate the distance using the Chebyshev method"
      ],
      "metadata": {
        "id": "DP98GChWU0nL"
      },
      "id": "DP98GChWU0nL"
    },
    {
      "cell_type": "markdown",
      "source": [
        "The Chebyshev iteration is an iterative method for determining the solutions of a system of linear equations.\n",
        "\n",
        "**Reference**\n",
        "https://brilliant.org/wiki/chebyshevs-formula/#:~:text=x%20%3D%20a%20%2B%20b%202%20%2B,%3D1%2C%20t%3D1%2C&text=x%3Db.,-Hence%2C"
      ],
      "metadata": {
        "id": "Xw8_Fz5vU3Sn"
      },
      "id": "Xw8_Fz5vU3Sn"
    },
    {
      "cell_type": "code",
      "source": [
        "def chebyshev(pickup_long, dropoff_long, pickup_lat, dropoff_lat):\n",
        "    return np.maximum(np.absolute(pickup_long - dropoff_long), np.absolute(pickup_lat - dropoff_lat))\n"
      ],
      "metadata": {
        "id": "__J6x7o9U1bE"
      },
      "id": "__J6x7o9U1bE",
      "execution_count": null,
      "outputs": []
    },
    {
      "cell_type": "code",
      "execution_count": null,
      "id": "d7008dba",
      "metadata": {
        "id": "d7008dba"
      },
      "outputs": [],
      "source": [
        "my_dataframe1['distance'] = my_dataframe1.apply(haversine,axis = 1)"
      ]
    },
    {
      "cell_type": "code",
      "execution_count": null,
      "id": "49da6c88",
      "metadata": {
        "id": "49da6c88"
      },
      "outputs": [],
      "source": [
        "my_dataframe2 = my_dataframe1.copy()\n",
        "my_dataframe2 = my_dataframe2.drop(columns = ['pickup_latitude','pickup_longitude','dropoff_latitude','dropoff_longitude'])"
      ]
    },
    {
      "cell_type": "code",
      "source": [],
      "metadata": {
        "id": "6HLg42VAVV_x"
      },
      "id": "6HLg42VAVV_x",
      "execution_count": null,
      "outputs": []
    },
    {
      "cell_type": "markdown",
      "id": "4fc30ca6",
      "metadata": {
        "id": "4fc30ca6"
      },
      "source": [
        "Dropping correlated and redundant columns"
      ]
    },
    {
      "cell_type": "code",
      "execution_count": null,
      "id": "8523e42d",
      "metadata": {
        "id": "8523e42d"
      },
      "outputs": [],
      "source": [
        "testdf['distance'] = testdf.apply(haversine,axis = 1)\n",
        "testdf = testdf.drop(columns = ['pickup_latitude','pickup_longitude','dropoff_latitude','dropoff_longitude'])"
      ]
    },
    {
      "cell_type": "markdown",
      "id": "87452d99",
      "metadata": {
        "id": "87452d99"
      },
      "source": [
        "## Data modeling"
      ]
    },
    {
      "cell_type": "code",
      "execution_count": null,
      "id": "a4ed8192",
      "metadata": {
        "id": "a4ed8192"
      },
      "outputs": [],
      "source": [
        "X = my_dataframe2.drop(columns = ['fare_amount','key','pickup_datetime'])\n",
        "y = my_dataframe2['fare_amount']"
      ]
    },
    {
      "cell_type": "code",
      "execution_count": null,
      "id": "b3040b5b",
      "metadata": {
        "id": "b3040b5b"
      },
      "outputs": [],
      "source": [
        "X_train,X_test,y_train,y_test = train_test_split(X,y,random_state = 42)"
      ]
    },
    {
      "cell_type": "code",
      "execution_count": null,
      "id": "b048dd2e",
      "metadata": {
        "colab": {
          "base_uri": "https://localhost:8080/"
        },
        "id": "b048dd2e",
        "outputId": "a63d1d48-8d0d-43ea-d923-5c953a1df98e"
      },
      "outputs": [
        {
          "output_type": "stream",
          "name": "stdout",
          "text": [
            "train: (734713, 9)\n",
            "test: (734713,)\n",
            "val train: (244905, 9)\n",
            "val test: (244905,)\n"
          ]
        }
      ],
      "source": [
        "# looking at rows, columns for train and validation set\n",
        "print(f'train: {X_train.shape}')\n",
        "print(f'test: {y_train.shape}')\n",
        "print(f'val train: {X_test.shape}')\n",
        "print(f'val test: {y_test.shape}')"
      ]
    },
    {
      "cell_type": "markdown",
      "id": "f3539e17",
      "metadata": {
        "id": "f3539e17"
      },
      "source": [
        "## Neural Nets"
      ]
    },
    {
      "cell_type": "code",
      "execution_count": null,
      "id": "93d4c444",
      "metadata": {
        "colab": {
          "base_uri": "https://localhost:8080/",
          "height": 206
        },
        "id": "93d4c444",
        "outputId": "32e0a4b6-6d4e-423d-b14b-a72ea5fe33c1"
      },
      "outputs": [
        {
          "output_type": "execute_result",
          "data": {
            "text/plain": [
              "        passenger_count  year  month  day  weekday  hour  min  Chebyshev  \\\n",
              "623653                1  2009      9   26        5    13   29      0.011   \n",
              "275569                1  2010      9    5        6    14   16      0.027   \n",
              "87623                 1  2011      9   15        3    16   32      0.018   \n",
              "913744                1  2012      5   29        1     2   54      0.007   \n",
              "390215                1  2010      4    3        5     9   38      0.008   \n",
              "\n",
              "        distance  \n",
              "623653     1.392  \n",
              "275569     2.771  \n",
              "87623      1.542  \n",
              "913744     0.803  \n",
              "390215     0.885  "
            ],
            "text/html": [
              "\n",
              "  <div id=\"df-475c968f-acf1-4752-a47f-1540cf5b16ae\">\n",
              "    <div class=\"colab-df-container\">\n",
              "      <div>\n",
              "<style scoped>\n",
              "    .dataframe tbody tr th:only-of-type {\n",
              "        vertical-align: middle;\n",
              "    }\n",
              "\n",
              "    .dataframe tbody tr th {\n",
              "        vertical-align: top;\n",
              "    }\n",
              "\n",
              "    .dataframe thead th {\n",
              "        text-align: right;\n",
              "    }\n",
              "</style>\n",
              "<table border=\"1\" class=\"dataframe\">\n",
              "  <thead>\n",
              "    <tr style=\"text-align: right;\">\n",
              "      <th></th>\n",
              "      <th>passenger_count</th>\n",
              "      <th>year</th>\n",
              "      <th>month</th>\n",
              "      <th>day</th>\n",
              "      <th>weekday</th>\n",
              "      <th>hour</th>\n",
              "      <th>min</th>\n",
              "      <th>Chebyshev</th>\n",
              "      <th>distance</th>\n",
              "    </tr>\n",
              "  </thead>\n",
              "  <tbody>\n",
              "    <tr>\n",
              "      <th>623653</th>\n",
              "      <td>1</td>\n",
              "      <td>2009</td>\n",
              "      <td>9</td>\n",
              "      <td>26</td>\n",
              "      <td>5</td>\n",
              "      <td>13</td>\n",
              "      <td>29</td>\n",
              "      <td>0.011</td>\n",
              "      <td>1.392</td>\n",
              "    </tr>\n",
              "    <tr>\n",
              "      <th>275569</th>\n",
              "      <td>1</td>\n",
              "      <td>2010</td>\n",
              "      <td>9</td>\n",
              "      <td>5</td>\n",
              "      <td>6</td>\n",
              "      <td>14</td>\n",
              "      <td>16</td>\n",
              "      <td>0.027</td>\n",
              "      <td>2.771</td>\n",
              "    </tr>\n",
              "    <tr>\n",
              "      <th>87623</th>\n",
              "      <td>1</td>\n",
              "      <td>2011</td>\n",
              "      <td>9</td>\n",
              "      <td>15</td>\n",
              "      <td>3</td>\n",
              "      <td>16</td>\n",
              "      <td>32</td>\n",
              "      <td>0.018</td>\n",
              "      <td>1.542</td>\n",
              "    </tr>\n",
              "    <tr>\n",
              "      <th>913744</th>\n",
              "      <td>1</td>\n",
              "      <td>2012</td>\n",
              "      <td>5</td>\n",
              "      <td>29</td>\n",
              "      <td>1</td>\n",
              "      <td>2</td>\n",
              "      <td>54</td>\n",
              "      <td>0.007</td>\n",
              "      <td>0.803</td>\n",
              "    </tr>\n",
              "    <tr>\n",
              "      <th>390215</th>\n",
              "      <td>1</td>\n",
              "      <td>2010</td>\n",
              "      <td>4</td>\n",
              "      <td>3</td>\n",
              "      <td>5</td>\n",
              "      <td>9</td>\n",
              "      <td>38</td>\n",
              "      <td>0.008</td>\n",
              "      <td>0.885</td>\n",
              "    </tr>\n",
              "  </tbody>\n",
              "</table>\n",
              "</div>\n",
              "      <button class=\"colab-df-convert\" onclick=\"convertToInteractive('df-475c968f-acf1-4752-a47f-1540cf5b16ae')\"\n",
              "              title=\"Convert this dataframe to an interactive table.\"\n",
              "              style=\"display:none;\">\n",
              "        \n",
              "  <svg xmlns=\"http://www.w3.org/2000/svg\" height=\"24px\"viewBox=\"0 0 24 24\"\n",
              "       width=\"24px\">\n",
              "    <path d=\"M0 0h24v24H0V0z\" fill=\"none\"/>\n",
              "    <path d=\"M18.56 5.44l.94 2.06.94-2.06 2.06-.94-2.06-.94-.94-2.06-.94 2.06-2.06.94zm-11 1L8.5 8.5l.94-2.06 2.06-.94-2.06-.94L8.5 2.5l-.94 2.06-2.06.94zm10 10l.94 2.06.94-2.06 2.06-.94-2.06-.94-.94-2.06-.94 2.06-2.06.94z\"/><path d=\"M17.41 7.96l-1.37-1.37c-.4-.4-.92-.59-1.43-.59-.52 0-1.04.2-1.43.59L10.3 9.45l-7.72 7.72c-.78.78-.78 2.05 0 2.83L4 21.41c.39.39.9.59 1.41.59.51 0 1.02-.2 1.41-.59l7.78-7.78 2.81-2.81c.8-.78.8-2.07 0-2.86zM5.41 20L4 18.59l7.72-7.72 1.47 1.35L5.41 20z\"/>\n",
              "  </svg>\n",
              "      </button>\n",
              "      \n",
              "  <style>\n",
              "    .colab-df-container {\n",
              "      display:flex;\n",
              "      flex-wrap:wrap;\n",
              "      gap: 12px;\n",
              "    }\n",
              "\n",
              "    .colab-df-convert {\n",
              "      background-color: #E8F0FE;\n",
              "      border: none;\n",
              "      border-radius: 50%;\n",
              "      cursor: pointer;\n",
              "      display: none;\n",
              "      fill: #1967D2;\n",
              "      height: 32px;\n",
              "      padding: 0 0 0 0;\n",
              "      width: 32px;\n",
              "    }\n",
              "\n",
              "    .colab-df-convert:hover {\n",
              "      background-color: #E2EBFA;\n",
              "      box-shadow: 0px 1px 2px rgba(60, 64, 67, 0.3), 0px 1px 3px 1px rgba(60, 64, 67, 0.15);\n",
              "      fill: #174EA6;\n",
              "    }\n",
              "\n",
              "    [theme=dark] .colab-df-convert {\n",
              "      background-color: #3B4455;\n",
              "      fill: #D2E3FC;\n",
              "    }\n",
              "\n",
              "    [theme=dark] .colab-df-convert:hover {\n",
              "      background-color: #434B5C;\n",
              "      box-shadow: 0px 1px 3px 1px rgba(0, 0, 0, 0.15);\n",
              "      filter: drop-shadow(0px 1px 2px rgba(0, 0, 0, 0.3));\n",
              "      fill: #FFFFFF;\n",
              "    }\n",
              "  </style>\n",
              "\n",
              "      <script>\n",
              "        const buttonEl =\n",
              "          document.querySelector('#df-475c968f-acf1-4752-a47f-1540cf5b16ae button.colab-df-convert');\n",
              "        buttonEl.style.display =\n",
              "          google.colab.kernel.accessAllowed ? 'block' : 'none';\n",
              "\n",
              "        async function convertToInteractive(key) {\n",
              "          const element = document.querySelector('#df-475c968f-acf1-4752-a47f-1540cf5b16ae');\n",
              "          const dataTable =\n",
              "            await google.colab.kernel.invokeFunction('convertToInteractive',\n",
              "                                                     [key], {});\n",
              "          if (!dataTable) return;\n",
              "\n",
              "          const docLinkHtml = 'Like what you see? Visit the ' +\n",
              "            '<a target=\"_blank\" href=https://colab.research.google.com/notebooks/data_table.ipynb>data table notebook</a>'\n",
              "            + ' to learn more about interactive tables.';\n",
              "          element.innerHTML = '';\n",
              "          dataTable['output_type'] = 'display_data';\n",
              "          await google.colab.output.renderOutput(dataTable, element);\n",
              "          const docLink = document.createElement('div');\n",
              "          docLink.innerHTML = docLinkHtml;\n",
              "          element.appendChild(docLink);\n",
              "        }\n",
              "      </script>\n",
              "    </div>\n",
              "  </div>\n",
              "  "
            ]
          },
          "metadata": {},
          "execution_count": 54
        }
      ],
      "source": [
        "X_train.head()"
      ]
    },
    {
      "cell_type": "code",
      "execution_count": null,
      "id": "1909dbd1",
      "metadata": {
        "id": "1909dbd1"
      },
      "outputs": [],
      "source": [
        "ss = StandardScaler()\n",
        "ss.fit(X_train)\n",
        "X_train_ss = ss.transform(X_train)\n",
        "X_test_ss = ss.transform(X_test)\n"
      ]
    },
    {
      "cell_type": "markdown",
      "id": "ffaf754b",
      "metadata": {
        "id": "ffaf754b"
      },
      "source": [
        "Scaling the data"
      ]
    },
    {
      "cell_type": "code",
      "execution_count": null,
      "id": "f5f758b0",
      "metadata": {
        "id": "f5f758b0"
      },
      "outputs": [],
      "source": [
        "def get_models(my_models=dict()):\n",
        "    my_models['lr'] = LinearRegression()\n",
        "    my_models['lasso'] = Lasso()\n",
        "    my_models['ridge'] = Ridge()\n",
        "    my_models['en'] = ElasticNet()\n",
        "    my_models['huber'] = HuberRegressor()\n",
        "    my_models['pa'] = PassiveAggressiveRegressor(max_iter=1000, tol=1e-3)\n",
        "   \n",
        "    return my_models"
      ]
    },
    {
      "cell_type": "markdown",
      "id": "677c149d",
      "metadata": {
        "id": "677c149d"
      },
      "source": [
        "Linear Model"
      ]
    },
    {
      "cell_type": "code",
      "execution_count": null,
      "id": "a80d779d",
      "metadata": {
        "id": "a80d779d"
      },
      "outputs": [],
      "source": [
        "def get_models_nl(my_models=dict()):\n",
        "    my_models['svr'] = SVR()\n",
        "    n_trees = 100\n",
        "    my_models['ada'] = AdaBoostRegressor(n_estimators=n_trees)\n",
        "    my_models['bag'] = BaggingRegressor(n_estimators=n_trees)\n",
        "    my_models['rf'] = RandomForestRegressor(n_estimators=n_trees)\n",
        "    my_models['et'] = ExtraTreesRegressor(n_estimators=n_trees)\n",
        "    my_models['gbm'] = GradientBoostingRegressor(n_estimators=n_trees)\n",
        "    return my_models\n"
      ]
    },
    {
      "cell_type": "markdown",
      "id": "0bddc0aa",
      "metadata": {
        "id": "0bddc0aa"
      },
      "source": [
        "Non linear model"
      ]
    },
    {
      "cell_type": "code",
      "execution_count": null,
      "id": "aa7e10f3",
      "metadata": {
        "id": "aa7e10f3"
      },
      "outputs": [],
      "source": [
        "def evaluate_models(my_models, X_train_ss,y_train,X_test_ss,y_test):\n",
        "    for my_name, model in my_models.items():\n",
        "        model_fit = model.fit(X_train_ss,y_train)\n",
        "        # making the predictions\n",
        "        train_prediction = model_fit.predict(X_train_ss)\n",
        "        test_prediction = model_fit.predict(X_test_ss)\n",
        "        # evaluating the forecast\n",
        "        train_mse = mean_squared_error(y_train,train_prediction)\n",
        "        test_mse = mean_squared_error(y_test,test_prediction)\n",
        "        print(f'{my_name}:')\n",
        "        print(f'----')\n",
        "        print(f'Train MAE: {round(train_mse,2)}')\n",
        "        print(f'Test MAE: {round(test_mse,2)}')\n",
        "        print(f'\\n')"
      ]
    },
    {
      "cell_type": "markdown",
      "id": "2b7565a4",
      "metadata": {
        "id": "2b7565a4"
      },
      "source": [
        "Fit Model"
      ]
    },
    {
      "cell_type": "code",
      "execution_count": null,
      "id": "3f602b87",
      "metadata": {
        "id": "3f602b87"
      },
      "outputs": [],
      "source": [
        "def pipeline(model):\n",
        "    pipe = Pipeline([(model, model_dict[model])])\n",
        "    return pipe\n"
      ]
    },
    {
      "cell_type": "markdown",
      "id": "25b38a26",
      "metadata": {
        "id": "25b38a26"
      },
      "source": [
        "Defining the pipeline"
      ]
    },
    {
      "cell_type": "code",
      "execution_count": null,
      "id": "7a859b6e",
      "metadata": {
        "id": "7a859b6e"
      },
      "outputs": [],
      "source": [
        "def params(mt_model):\n",
        "    \n",
        "\n",
        "    if mt_model == 'lasso':\n",
        "        return {\"alpha\":[0.01,0.1,1,2,5,10],\n",
        "               }\n",
        "    \n",
        "    \n",
        "    elif mt_model == 'ridge':\n",
        "        return {\n",
        "            \"alpha\":[0.01,0.1,1,2,5,10],\n",
        "            }\n",
        "    \n",
        "    elif mt_model == 'en':\n",
        "        return {\n",
        "            'alpha':[0.01,0.1,1,10],\n",
        "            'l1_ratio':[0.2,0.3,0.4,0.5,0.6]\n",
        "            }\n",
        "    elif mt_model == 'knn':\n",
        "        return {\n",
        "            'n_neighbors':[4,5,6,7]}\n",
        "\n",
        "    elif mt_model == 'dt':\n",
        "        return {\n",
        "            'max_depth':[3,4,5],\n",
        "            'min_samples_split':[2,3,4],\n",
        "            'min_samples_leaf':[2,3,4]\n",
        "        }\n",
        "    elif mt_model == 'bag':\n",
        "        return {\n",
        "            'max_features':[100, 150]\n",
        "        }\n",
        "        \n",
        "    elif mt_model == 'rf':\n",
        "        return {\n",
        "            'n_estimators':[100,150],\n",
        "            'max_depth':[4],\n",
        "            'min_samples_leaf':[2,3,4]\n",
        "        }\n",
        "    elif mt_model == 'et':\n",
        "        return {\n",
        "            'n_estimators':[50,100,150,200],\n",
        "            'max_depth':[1000,2000,3000],\n",
        "            'min_samples_leaf':[10000,20000,30000],\n",
        "        }\n",
        "    elif mt_model == 'abc':\n",
        "        return {\n",
        "            'n_estimators':[50,100,150,200],\n",
        "            'learning_rate':[0.3,0.6,1]\n",
        "        }\n",
        "    elif mt_model == 'gbc':\n",
        "        return {\n",
        "            'learning_rate':[0.2],\n",
        "            'max_depth':[1000,2000,3000],\n",
        "            'min_samples_split':[10000,20000,30000]\n",
        "            \n",
        "        }\n",
        "    elif mt_model == 'xgb':\n",
        "        return {\n",
        "            'eval_metric' : ['auc'],\n",
        "            'subsample' : [0.8], \n",
        "            'colsample_bytree' : [0.5], \n",
        "            'learning_rate' : [0.1],\n",
        "            'max_depth' : [5], \n",
        "            'scale_pos_weight': [5], \n",
        "            'n_estimators' : [100,200],\n",
        "            'reg_alpha' : [0, 0.05],\n",
        "            'reg_lambda' : [2,3],\n",
        "            'gamma' : [0.01]\n",
        "                             \n",
        "        }\n",
        "    elif mt_model == 'svr':\n",
        "        return {\n",
        "            'kernel': ['rbf', 'linear','poly'], \n",
        "            'C': [1,20,50,100],\n",
        "            'gamma':['scale','auto'],\n",
        "            'epsilon':[0.1,1,10]\n",
        "        }\n",
        "    elif mt_model == 'ada':\n",
        "        return {\n",
        "            'n_estimators':[50,100,150],\n",
        "            'learning_rate':[0.01,0.1,1],\n",
        "            \n",
        "        }\n",
        "    elif mt_model == 'bag':\n",
        "        return {\n",
        "            'n_estimators':[20,50,100,150],\n",
        "            'max_features':[2,4,6],\n",
        "            'max_samples':[0.1,0.2,0.3,0.5,0.7],\n",
        "            'bootstrap':[True]\n",
        "            \n",
        "        }\n",
        "    elif mt_model == 'rf':\n",
        "        return {\n",
        "             'bootstrap': [True],\n",
        "             'max_depth': [5,10,15],\n",
        "             'max_features': [\"auto\", \"sqrt\", \"log2\"],\n",
        "             'min_samples_leaf': [10000,20000,30000],\n",
        "             'min_samples_split': [10000,20000,30000],\n",
        "             'n_estimators': [50,200,300,400],\n",
        "             'random_state': 42,\n",
        "             }\n",
        "    elif mt_model == 'et':\n",
        "        return {\n",
        "             'bootstrap': [True],\n",
        "             'max_depth': [5,10,15],\n",
        "             'max_features': [\"auto\", \"sqrt\", \"log2\"],\n",
        "             'min_samples_leaf': [10000,20000,30000],\n",
        "             'min_samples_split': [10000,20000,30000],\n",
        "             'n_estimators': [50,200,300,400],\n",
        "             'random_state': 42,\n",
        "        }\n",
        "            \n",
        "    elif mt_model == 'gbm':\n",
        "        return {\n",
        "            'learning_rate' : [0.1,0.3,0.6,1], \n",
        "            'min_samples_split':[10000,20000,30000],\n",
        "            'min_samples_leaf': [10000,20000,30000],\n",
        "            'max_depth' : [8,10,20]\n",
        "       }\n"
      ]
    },
    {
      "cell_type": "code",
      "execution_count": null,
      "id": "f2fe4721",
      "metadata": {
        "id": "f2fe4721"
      },
      "outputs": [],
      "source": [
        "def grid_search_rs(model,my_models,X_train = X_train_ss,y_train = y_train,X_test = X_test_ss,y_test=y_test):\n",
        "    pipe_params = params(model)\n",
        "    model = my_models[model]\n",
        "    grid_search = RandomizedSearchCV(model,param_distributions = pipe_params,cv = 5,scoring = 'neg_mean_squared_error', verbose=True, n_jobs=8)\n",
        "    grid_search.fit(X_train_ss,y_train)\n",
        "    train_score = grid_search.score(X_train_ss,y_train)\n",
        "    test_score = grid_search.score(X_test_ss,y_test)\n",
        "    \n",
        "    print(f'Results from: {model}')\n",
        "    print(f'-----------------------------------')\n",
        "    print(f'Best Hyperparameters: {grid_search.best_params_}')\n",
        "    print(f'Mean MSE: {-round(grid_search.best_score_,4)}')\n",
        "    print(f'Train Score: {-round(train_score,4)}')\n",
        "    print(f'Test Score: {-round(test_score,4)}')\n",
        "    print(' ')"
      ]
    },
    {
      "cell_type": "markdown",
      "id": "aed82e2f",
      "metadata": {
        "id": "aed82e2f"
      },
      "source": [
        "grid search with randomizedsearchcv"
      ]
    },
    {
      "cell_type": "markdown",
      "id": "5591e515",
      "metadata": {
        "id": "5591e515"
      },
      "source": [
        "### A. (20 marks) Create a baseline Neural network with the following specifications\n",
        "#### 2 hidden layers: Each with 16 and 8 neurons respectively.\n",
        "#### Sigmoid activation, \n",
        "#### Batch Size=128 for Gradient Descent."
      ]
    },
    {
      "cell_type": "code",
      "execution_count": null,
      "id": "915be147",
      "metadata": {
        "colab": {
          "base_uri": "https://localhost:8080/"
        },
        "id": "915be147",
        "outputId": "d5a2d500-3276-4459-ce0b-eab6af421d64"
      },
      "outputs": [
        {
          "output_type": "stream",
          "name": "stdout",
          "text": [
            "Epoch 1/7\n",
            "5740/5740 - 11s - loss: 77.4430 - mae: 4.3292 - mse: 77.4430 - mape: 34.0639 - val_loss: 33.3538 - val_mae: 2.6332 - val_mse: 33.3538 - val_mape: 23.8878 - 11s/epoch - 2ms/step\n",
            "Epoch 2/7\n",
            "5740/5740 - 11s - loss: 25.5659 - mae: 2.3662 - mse: 25.5659 - mape: 23.0930 - val_loss: 20.8733 - val_mae: 2.1937 - val_mse: 20.8733 - val_mape: 22.2001 - 11s/epoch - 2ms/step\n",
            "Epoch 3/7\n",
            "5740/5740 - 10s - loss: 21.0575 - mae: 2.1423 - mse: 21.0575 - mape: 21.8667 - val_loss: 19.9732 - val_mae: 2.1153 - val_mse: 19.9732 - val_mape: 21.6259 - 10s/epoch - 2ms/step\n",
            "Epoch 4/7\n",
            "5740/5740 - 11s - loss: 20.6969 - mae: 2.1108 - mse: 20.6969 - mape: 21.5974 - val_loss: 19.8196 - val_mae: 2.0854 - val_mse: 19.8196 - val_mape: 21.1905 - 11s/epoch - 2ms/step\n",
            "Epoch 5/7\n",
            "5740/5740 - 10s - loss: 20.5854 - mae: 2.1032 - mse: 20.5854 - mape: 21.6036 - val_loss: 19.7456 - val_mae: 2.0810 - val_mse: 19.7456 - val_mape: 21.2085 - 10s/epoch - 2ms/step\n",
            "Epoch 6/7\n",
            "5740/5740 - 10s - loss: 20.5326 - mae: 2.0975 - mse: 20.5326 - mape: 21.5332 - val_loss: 19.7622 - val_mae: 2.0814 - val_mse: 19.7622 - val_mape: 21.1928 - 10s/epoch - 2ms/step\n",
            "Epoch 7/7\n",
            "5740/5740 - 10s - loss: 20.4995 - mae: 2.0960 - mse: 20.4995 - mape: 21.5477 - val_loss: 19.6929 - val_mae: 2.0916 - val_mse: 19.6929 - val_mape: 21.4649 - 10s/epoch - 2ms/step\n"
          ]
        }
      ],
      "source": [
        "model1 = Sequential()\n",
        "model1.add(Dense(16,activation = 'sigmoid',kernel_initializer = 'normal',input_dim = X_train_ss.shape[1]))\n",
        "model1.add(Dense(8,activation = 'sigmoid'))\n",
        "model1.add(Dense(1))\n",
        "model1.compile(loss = 'mse',optimizer = 'adam',metrics = ['mae','mse','mape'])\n",
        "history_model1 = model1.fit(X_train_ss,y_train, epochs = 7, batch_size = 128, validation_data = (X_test_ss,y_test),verbose = 2)"
      ]
    },
    {
      "cell_type": "code",
      "execution_count": null,
      "id": "266fa55b",
      "metadata": {
        "colab": {
          "base_uri": "https://localhost:8080/"
        },
        "id": "266fa55b",
        "outputId": "1039befa-815f-41e6-9131-e518de6bd2de"
      },
      "outputs": [
        {
          "output_type": "stream",
          "name": "stdout",
          "text": [
            "Train Score:20.468251750572843\n",
            "Test Score:19.692928487927567\n"
          ]
        }
      ],
      "source": [
        "print(f'Train Score:{mean_squared_error(y_train,model1.predict(X_train_ss))}')\n",
        "print(f'Test Score:{mean_squared_error(y_test,model1.predict(X_test_ss))}')"
      ]
    },
    {
      "cell_type": "markdown",
      "id": "ffca6d57",
      "metadata": {
        "id": "ffca6d57"
      },
      "source": [
        "### Minimizing the mean absolute error loss"
      ]
    },
    {
      "cell_type": "code",
      "execution_count": null,
      "id": "d4c41de7",
      "metadata": {
        "colab": {
          "base_uri": "https://localhost:8080/"
        },
        "id": "d4c41de7",
        "outputId": "3092ba94-4bc7-419a-b72d-15a863a48dde"
      },
      "outputs": [
        {
          "output_type": "stream",
          "name": "stdout",
          "text": [
            "Epoch 1/7\n",
            "5740/5740 - 10s - loss: 4.3433 - mae: 4.3433 - mse: 84.1605 - mape: 29.4184 - val_loss: 2.7548 - val_mae: 2.7548 - val_mse: 44.4004 - val_mape: 19.1621 - 10s/epoch - 2ms/step\n",
            "Epoch 2/7\n",
            "5740/5740 - 10s - loss: 2.3924 - mae: 2.3924 - mse: 32.1281 - mape: 18.5859 - val_loss: 2.1830 - val_mae: 2.1830 - val_mse: 24.3834 - val_mape: 17.8590 - 10s/epoch - 2ms/step\n",
            "Epoch 3/7\n",
            "5740/5740 - 11s - loss: 2.1019 - mae: 2.1019 - mse: 22.9514 - mape: 18.0639 - val_loss: 2.0427 - val_mae: 2.0427 - val_mse: 21.1345 - val_mape: 17.6934 - 11s/epoch - 2ms/step\n",
            "Epoch 4/7\n",
            "5740/5740 - 10s - loss: 2.0470 - mae: 2.0470 - mse: 21.8377 - mape: 17.9502 - val_loss: 2.0352 - val_mae: 2.0352 - val_mse: 21.0047 - val_mape: 17.6191 - 10s/epoch - 2ms/step\n",
            "Epoch 5/7\n",
            "5740/5740 - 10s - loss: 2.0433 - mae: 2.0433 - mse: 21.7460 - mape: 17.9257 - val_loss: 2.0329 - val_mae: 2.0329 - val_mse: 20.9648 - val_mape: 17.6332 - 10s/epoch - 2ms/step\n",
            "Epoch 6/7\n",
            "5740/5740 - 10s - loss: 2.0400 - mae: 2.0400 - mse: 21.6847 - mape: 17.9122 - val_loss: 2.0266 - val_mae: 2.0266 - val_mse: 20.8395 - val_mape: 17.6215 - 10s/epoch - 2ms/step\n",
            "Epoch 7/7\n",
            "5740/5740 - 10s - loss: 2.0358 - mae: 2.0358 - mse: 21.6177 - mape: 17.9181 - val_loss: 2.0224 - val_mae: 2.0224 - val_mse: 20.8572 - val_mape: 17.5444 - 10s/epoch - 2ms/step\n"
          ]
        }
      ],
      "source": [
        "model2 = Sequential()\n",
        "model2.add(Dense(16,activation = 'sigmoid',kernel_initializer = 'normal',input_dim = X_train_ss.shape[1]))\n",
        "model2.add(Dense(8,activation = 'sigmoid'))\n",
        "model2.add(Dense(1))\n",
        "model2.compile(loss = 'mae',optimizer = 'adam',metrics = ['mae','mse','mape'])\n",
        "history_model2 = model2.fit(X_train_ss,y_train, epochs = 7, batch_size = 128, validation_data = (X_test_ss,y_test),verbose = 2)"
      ]
    },
    {
      "cell_type": "code",
      "execution_count": null,
      "id": "59d0f5c2",
      "metadata": {
        "colab": {
          "base_uri": "https://localhost:8080/"
        },
        "id": "59d0f5c2",
        "outputId": "279f0180-f65c-453e-a740-ec77fdab47b8"
      },
      "outputs": [
        {
          "output_type": "stream",
          "name": "stdout",
          "text": [
            "Train Score:21.642035444013487\n",
            "Test Score:20.857208259413124\n"
          ]
        }
      ],
      "source": [
        "print(f'Train Score:{mean_squared_error(y_train,model2.predict(X_train_ss))}')\n",
        "print(f'Test Score:{mean_squared_error(y_test,model2.predict(X_test_ss))}')"
      ]
    },
    {
      "cell_type": "markdown",
      "id": "a6b37bcf",
      "metadata": {
        "id": "a6b37bcf"
      },
      "source": [
        "### Minimizing the mean absolute percentage error loss"
      ]
    },
    {
      "cell_type": "code",
      "execution_count": null,
      "id": "2e0cd7d2",
      "metadata": {
        "colab": {
          "base_uri": "https://localhost:8080/"
        },
        "id": "2e0cd7d2",
        "outputId": "9c9edf84-6cbc-4eb0-f865-96ba275b3eb0"
      },
      "outputs": [
        {
          "output_type": "stream",
          "name": "stdout",
          "text": [
            "Epoch 1/7\n",
            "5740/5740 - 11s - loss: 34.5016 - mae: 5.2974 - mse: 107.8736 - mape: 34.5016 - val_loss: 21.8517 - val_mae: 3.6744 - val_mse: 73.7092 - val_mape: 21.8517 - 11s/epoch - 2ms/step\n",
            "Epoch 2/7\n",
            "5740/5740 - 10s - loss: 20.4428 - mae: 3.3127 - mse: 63.4592 - mape: 20.4428 - val_loss: 19.3400 - val_mae: 3.0615 - val_mse: 55.5155 - val_mape: 19.3400 - 10s/epoch - 2ms/step\n",
            "Epoch 3/7\n",
            "5740/5740 - 10s - loss: 19.0038 - mae: 2.9003 - mse: 50.1242 - mape: 19.0038 - val_loss: 18.4218 - val_mae: 2.7693 - val_mse: 45.2400 - val_mape: 18.4218 - 10s/epoch - 2ms/step\n",
            "Epoch 4/7\n",
            "5740/5740 - 10s - loss: 18.3973 - mae: 2.6688 - mse: 42.1009 - mape: 18.3973 - val_loss: 17.9282 - val_mae: 2.5820 - val_mse: 38.4957 - val_mape: 17.9282 - 10s/epoch - 2ms/step\n",
            "Epoch 5/7\n",
            "5740/5740 - 14s - loss: 18.0154 - mae: 2.5112 - mse: 36.7181 - mape: 18.0154 - val_loss: 17.6052 - val_mae: 2.4394 - val_mse: 33.8871 - val_mape: 17.6052 - 14s/epoch - 2ms/step\n",
            "Epoch 6/7\n",
            "5740/5740 - 10s - loss: 17.7860 - mae: 2.4091 - mse: 33.2900 - mape: 17.7860 - val_loss: 17.4481 - val_mae: 2.3581 - val_mse: 31.1152 - val_mape: 17.4481 - 10s/epoch - 2ms/step\n",
            "Epoch 7/7\n",
            "5740/5740 - 10s - loss: 17.6394 - mae: 2.3383 - mse: 30.8636 - mape: 17.6394 - val_loss: 17.3147 - val_mae: 2.2817 - val_mse: 28.6491 - val_mape: 17.3147 - 10s/epoch - 2ms/step\n"
          ]
        }
      ],
      "source": [
        "model3 = Sequential()\n",
        "model3.add(Dense(16,activation = 'sigmoid',kernel_initializer = 'normal',input_dim = X_train_ss.shape[1]))\n",
        "model3.add(Dense(8,activation = 'sigmoid'))\n",
        "model3.add(Dense(1))\n",
        "model3.compile(loss = 'mape',optimizer = 'adam',metrics = ['mae','mse','mape'])\n",
        "history_model3 = model3.fit(X_train_ss,y_train, epochs = 7, batch_size = 128, validation_data = (X_test_ss,y_test),verbose = 2)"
      ]
    },
    {
      "cell_type": "code",
      "execution_count": null,
      "id": "9d8f52a2",
      "metadata": {
        "colab": {
          "base_uri": "https://localhost:8080/"
        },
        "id": "9d8f52a2",
        "outputId": "535fc0a5-10cb-4bfa-b368-c0935948032c"
      },
      "outputs": [
        {
          "output_type": "stream",
          "name": "stdout",
          "text": [
            "Train Score:29.343349619657438\n",
            "Test Score:28.649116110864686\n"
          ]
        }
      ],
      "source": [
        "print(f'Train Score:{mean_squared_error(y_train,model3.predict(X_train_ss))}')\n",
        "print(f'Test Score:{mean_squared_error(y_test,model3.predict(X_test_ss))}')"
      ]
    },
    {
      "cell_type": "markdown",
      "source": [
        "##B. (20 marks) Experiment with number of layers and neurons per layer to increase the  performance metrics. "
      ],
      "metadata": {
        "id": "3_TGs_pCaSdv"
      },
      "id": "3_TGs_pCaSdv"
    },
    {
      "cell_type": "markdown",
      "id": "efba1f14",
      "metadata": {
        "id": "efba1f14"
      },
      "source": [
        "#### Taking the number of layers=7 \n",
        "#### neurons per layer=64,56,48,32,24,16,8 \n",
        "#### minimizing the mse loss\n",
        "#### activation function: sigmoid"
      ]
    },
    {
      "cell_type": "code",
      "execution_count": null,
      "id": "936d5637",
      "metadata": {
        "colab": {
          "base_uri": "https://localhost:8080/"
        },
        "id": "936d5637",
        "outputId": "0f0fd2f0-4159-4ff7-f1f7-e0e55c818559"
      },
      "outputs": [
        {
          "output_type": "stream",
          "name": "stdout",
          "text": [
            "Epoch 1/7\n",
            "5740/5740 - 16s - loss: 101.3079 - mae: 6.0310 - mse: 101.3079 - mape: 59.1738 - val_loss: 91.9402 - val_mae: 6.0087 - val_mse: 91.9402 - val_mape: 66.5353 - 16s/epoch - 3ms/step\n",
            "Epoch 2/7\n",
            "5740/5740 - 14s - loss: 75.8133 - mae: 4.8224 - mse: 75.8133 - mape: 48.9664 - val_loss: 37.9527 - val_mae: 2.7155 - val_mse: 37.9527 - val_mape: 23.0120 - 14s/epoch - 2ms/step\n",
            "Epoch 3/7\n",
            "5740/5740 - 14s - loss: 28.1697 - mae: 2.4332 - mse: 28.1697 - mape: 22.8428 - val_loss: 21.9357 - val_mae: 2.2463 - val_mse: 21.9357 - val_mape: 22.2503 - 14s/epoch - 2ms/step\n",
            "Epoch 4/7\n",
            "5740/5740 - 14s - loss: 21.6325 - mae: 2.2016 - mse: 21.6325 - mape: 22.2809 - val_loss: 20.2610 - val_mae: 2.2085 - val_mse: 20.2610 - val_mape: 23.0390 - 14s/epoch - 3ms/step\n",
            "Epoch 5/7\n",
            "5740/5740 - 14s - loss: 20.8097 - mae: 2.1440 - mse: 20.8097 - mape: 21.9209 - val_loss: 19.8414 - val_mae: 2.1103 - val_mse: 19.8414 - val_mape: 21.6676 - 14s/epoch - 2ms/step\n",
            "Epoch 6/7\n",
            "5740/5740 - 14s - loss: 20.3870 - mae: 2.0866 - mse: 20.3870 - mape: 21.4449 - val_loss: 19.5041 - val_mae: 2.0352 - val_mse: 19.5041 - val_mape: 20.6445 - 14s/epoch - 2ms/step\n",
            "Epoch 7/7\n",
            "5740/5740 - 15s - loss: 20.2301 - mae: 2.0677 - mse: 20.2301 - mape: 21.3336 - val_loss: 19.5632 - val_mae: 2.0539 - val_mse: 19.5632 - val_mape: 20.9213 - 15s/epoch - 3ms/step\n"
          ]
        }
      ],
      "source": [
        "model4 = Sequential()\n",
        "model4.add(Dense(64,activation = 'sigmoid',kernel_initializer = 'normal',input_dim = X_train_ss.shape[1]))\n",
        "model4.add(Dense(56,activation = 'sigmoid'))\n",
        "model4.add(Dense(48,activation = 'sigmoid'))\n",
        "model4.add(Dense(32,activation = 'sigmoid'))\n",
        "model4.add(Dense(24,activation = 'sigmoid'))\n",
        "model4.add(Dense(16,activation = 'sigmoid'))\n",
        "model4.add(Dense(8,activation = 'sigmoid'))\n",
        "model4.add(Dense(1))\n",
        "model4.compile(loss = 'mse',optimizer = 'adam',metrics = ['mae','mse','mape'])\n",
        "history_model4 = model4.fit(X_train_ss,y_train, epochs = 7, batch_size = 128, validation_data = (X_test_ss,y_test),verbose = 2)"
      ]
    },
    {
      "cell_type": "code",
      "execution_count": null,
      "id": "3ce66d45",
      "metadata": {
        "colab": {
          "base_uri": "https://localhost:8080/"
        },
        "id": "3ce66d45",
        "outputId": "cf28c323-8bed-4442-caba-3e26d140531b"
      },
      "outputs": [
        {
          "output_type": "stream",
          "name": "stdout",
          "text": [
            "Train Score:20.37257995993675\n",
            "Test Score:19.5632091556042\n"
          ]
        }
      ],
      "source": [
        "print(f'Train Score:{mean_squared_error(y_train,model4.predict(X_train_ss))}')\n",
        "print(f'Test Score:{mean_squared_error(y_test,model4.predict(X_test_ss))}')"
      ]
    },
    {
      "cell_type": "markdown",
      "id": "86c1cf88",
      "metadata": {
        "id": "86c1cf88"
      },
      "source": [
        "#### Taking the number of layers=1\n",
        "#### Neurons per layer=1024 \n",
        "#### minimizing the mse loss"
      ]
    },
    {
      "cell_type": "code",
      "execution_count": null,
      "id": "dc653e8f",
      "metadata": {
        "colab": {
          "base_uri": "https://localhost:8080/"
        },
        "id": "dc653e8f",
        "outputId": "67723dde-4e85-433d-f599-61072d2e3fbb"
      },
      "outputs": [
        {
          "output_type": "stream",
          "name": "stdout",
          "text": [
            "Epoch 1/7\n",
            "5740/5740 - 19s - loss: 24.3014 - mae: 2.3625 - mse: 24.3014 - mape: 23.1077 - val_loss: 21.4427 - val_mae: 2.1754 - val_mse: 21.4427 - val_mape: 20.6352 - 19s/epoch - 3ms/step\n",
            "Epoch 2/7\n",
            "5740/5740 - 16s - loss: 21.9372 - mae: 2.2071 - mse: 21.9372 - mape: 21.7796 - val_loss: 20.9075 - val_mae: 2.0874 - val_mse: 20.9075 - val_mape: 19.3220 - 16s/epoch - 3ms/step\n",
            "Epoch 3/7\n",
            "5740/5740 - 18s - loss: 21.4212 - mae: 2.1736 - mse: 21.4212 - mape: 21.8157 - val_loss: 20.6221 - val_mae: 2.2770 - val_mse: 20.6221 - val_mape: 24.2957 - 18s/epoch - 3ms/step\n",
            "Epoch 4/7\n",
            "5740/5740 - 19s - loss: 21.1651 - mae: 2.1470 - mse: 21.1651 - mape: 21.7190 - val_loss: 20.2390 - val_mae: 2.1220 - val_mse: 20.2390 - val_mape: 21.4448 - 19s/epoch - 3ms/step\n",
            "Epoch 5/7\n",
            "5740/5740 - 16s - loss: 21.0074 - mae: 2.1293 - mse: 21.0074 - mape: 21.5962 - val_loss: 20.1080 - val_mae: 2.1585 - val_mse: 20.1080 - val_mape: 22.3861 - 16s/epoch - 3ms/step\n",
            "Epoch 6/7\n",
            "5740/5740 - 16s - loss: 20.8385 - mae: 2.1103 - mse: 20.8385 - mape: 21.3965 - val_loss: 19.9448 - val_mae: 2.0542 - val_mse: 19.9448 - val_mape: 20.2877 - 16s/epoch - 3ms/step\n",
            "Epoch 7/7\n",
            "5740/5740 - 16s - loss: 20.7370 - mae: 2.0985 - mse: 20.7370 - mape: 21.2822 - val_loss: 19.8515 - val_mae: 2.0372 - val_mse: 19.8515 - val_mape: 20.0399 - 16s/epoch - 3ms/step\n"
          ]
        }
      ],
      "source": [
        "model5 = Sequential()\n",
        "model5.add(Dense(1024,activation = 'sigmoid',kernel_initializer = 'normal',input_dim = X_train_ss.shape[1]))\n",
        "model5.add(Dense(1))\n",
        "model5.compile(loss = 'mse',optimizer = 'adam',metrics = ['mae','mse','mape'])\n",
        "history_model5 = model5.fit(X_train_ss,y_train, epochs = 7, batch_size = 128, validation_data = (X_test_ss,y_test),verbose = 2)"
      ]
    },
    {
      "cell_type": "code",
      "execution_count": null,
      "id": "f89dc5e7",
      "metadata": {
        "colab": {
          "base_uri": "https://localhost:8080/"
        },
        "id": "f89dc5e7",
        "outputId": "6e92b132-597c-4f7d-c1fc-26109f1b0da5"
      },
      "outputs": [
        {
          "output_type": "stream",
          "name": "stdout",
          "text": [
            "Train Score:20.588655554736523\n",
            "Test Score:19.851468381369873\n"
          ]
        }
      ],
      "source": [
        "print(f'Train Score:{mean_squared_error(y_train,model5.predict(X_train_ss))}')\n",
        "print(f'Test Score:{mean_squared_error(y_test,model5.predict(X_test_ss))}')"
      ]
    },
    {
      "cell_type": "code",
      "source": [
        "def logistic_func(x): return np.e**x/(np.e**x + 1)\n",
        "\n",
        "import matplotlib.pyplot as plt\n",
        "%matplotlib inline\n",
        "plt.plot(np.arange(-5, 5, 0.2), [logistic_func(x) for x in np.arange(-5, 5, 0.2)])\n",
        "plt.axis('off')"
      ],
      "metadata": {
        "colab": {
          "base_uri": "https://localhost:8080/",
          "height": 265
        },
        "id": "9xJpwv27e8Q-",
        "outputId": "b67553ea-c624-401c-a97a-8f880a943baa"
      },
      "id": "9xJpwv27e8Q-",
      "execution_count": null,
      "outputs": [
        {
          "output_type": "execute_result",
          "data": {
            "text/plain": [
              "(-5.49, 5.290000000000008, -0.04256437797184291, 1.0410946577429678)"
            ]
          },
          "metadata": {},
          "execution_count": 72
        },
        {
          "output_type": "display_data",
          "data": {
            "text/plain": [
              "<Figure size 432x288 with 1 Axes>"
            ],
            "image/png": "[encoded data removed]"
          },
          "metadata": {
            "needs_background": "light"
          }
        }
      ]
    },
    {
      "cell_type": "code",
      "source": [],
      "metadata": {
        "id": "iaOnWg1HfPLC"
      },
      "id": "iaOnWg1HfPLC",
      "execution_count": null,
      "outputs": []
    },
    {
      "cell_type": "code",
      "source": [],
      "metadata": {
        "id": "eKWEkE8DfIvP"
      },
      "id": "eKWEkE8DfIvP",
      "execution_count": null,
      "outputs": []
    },
    {
      "cell_type": "code",
      "source": [],
      "metadata": {
        "id": "a3BmatAlfE2e"
      },
      "id": "a3BmatAlfE2e",
      "execution_count": null,
      "outputs": []
    },
    {
      "cell_type": "markdown",
      "source": [
        "### C. (10 marks) Experiment with activation functions "
      ],
      "metadata": {
        "id": "eSs-m5l1afhb"
      },
      "id": "eSs-m5l1afhb"
    },
    {
      "cell_type": "markdown",
      "id": "6038dfd5",
      "metadata": {
        "id": "6038dfd5"
      },
      "source": [
        "#### Calculating the MSE loss \n",
        "#### Neural network has 2 hidden layers with 16 and 8 neurons respectively.\n",
        "#### Activation function: tanh"
      ]
    },
    {
      "cell_type": "code",
      "execution_count": null,
      "id": "d17d2c71",
      "metadata": {
        "colab": {
          "base_uri": "https://localhost:8080/"
        },
        "id": "d17d2c71",
        "outputId": "6e3b6bd5-2571-45e9-cc05-43913d8253af"
      },
      "outputs": [
        {
          "output_type": "stream",
          "name": "stdout",
          "text": [
            "Epoch 1/7\n",
            "5740/5740 - 10s - loss: 58.8463 - mae: 3.5303 - mse: 58.8463 - mape: 27.8539 - val_loss: 27.6120 - val_mae: 2.4301 - val_mse: 27.6120 - val_mape: 22.6763 - 10s/epoch - 2ms/step\n",
            "Epoch 2/7\n",
            "5740/5740 - 10s - loss: 23.3596 - mae: 2.2446 - mse: 23.3596 - mape: 22.1031 - val_loss: 20.3992 - val_mae: 2.1689 - val_mse: 20.3992 - val_mape: 22.5685 - 10s/epoch - 2ms/step\n",
            "Epoch 3/7\n",
            "5740/5740 - 10s - loss: 20.8943 - mae: 2.1306 - mse: 20.8943 - mape: 21.9187 - val_loss: 19.8794 - val_mae: 2.1177 - val_mse: 19.8794 - val_mape: 21.7878 - 10s/epoch - 2ms/step\n",
            "Epoch 4/7\n",
            "5740/5740 - 9s - loss: 20.5669 - mae: 2.1160 - mse: 20.5669 - mape: 21.9544 - val_loss: 19.6045 - val_mae: 2.0719 - val_mse: 19.6045 - val_mape: 21.2557 - 9s/epoch - 2ms/step\n",
            "Epoch 5/7\n",
            "5740/5740 - 10s - loss: 20.1555 - mae: 2.0883 - mse: 20.1555 - mape: 21.7756 - val_loss: 19.1214 - val_mae: 2.0200 - val_mse: 19.1214 - val_mape: 20.6280 - 10s/epoch - 2ms/step\n",
            "Epoch 6/7\n",
            "5740/5740 - 10s - loss: 19.7969 - mae: 2.0697 - mse: 19.7969 - mape: 21.6790 - val_loss: 19.2050 - val_mae: 2.1219 - val_mse: 19.2050 - val_mape: 22.8903 - 10s/epoch - 2ms/step\n",
            "Epoch 7/7\n",
            "5740/5740 - 10s - loss: 19.5541 - mae: 2.0581 - mse: 19.5541 - mape: 21.6504 - val_loss: 18.6627 - val_mae: 2.0463 - val_mse: 18.6627 - val_mape: 21.6588 - 10s/epoch - 2ms/step\n"
          ]
        }
      ],
      "source": [
        "model6 = Sequential()\n",
        "model6.add(Dense(16,activation = 'tanh',kernel_initializer = 'normal',input_dim = X_train_ss.shape[1]))\n",
        "model6.add(Dense(8,activation = 'tanh'))\n",
        "model6.add(Dense(1))\n",
        "model6.compile(loss = 'mse',optimizer = 'adam',metrics = ['mae','mse','mape'])\n",
        "history_model = model6.fit(X_train_ss,y_train, epochs = 7, batch_size = 128, validation_data = (X_test_ss,y_test),verbose = 2)"
      ]
    },
    {
      "cell_type": "code",
      "execution_count": null,
      "id": "fb35ecc8",
      "metadata": {
        "colab": {
          "base_uri": "https://localhost:8080/"
        },
        "id": "fb35ecc8",
        "outputId": "d758ab6f-86bf-4ff2-fb3e-2df81e6eee2f"
      },
      "outputs": [
        {
          "output_type": "stream",
          "name": "stdout",
          "text": [
            "Train Score:19.4056099187136\n",
            "Test Score:18.66270479161919\n"
          ]
        }
      ],
      "source": [
        "print(f'Train Score:{mean_squared_error(y_train,model6.predict(X_train_ss))}')\n",
        "print(f'Test Score:{mean_squared_error(y_test,model6.predict(X_test_ss))}')"
      ]
    },
    {
      "cell_type": "markdown",
      "id": "6a6c697f",
      "metadata": {
        "id": "6a6c697f"
      },
      "source": [
        "#### Calculating the MSE loss \n",
        "#### neural network has 2 hidden layers with 16 and 8 neurons respectively.\n",
        "#### Activation function: relu"
      ]
    },
    {
      "cell_type": "code",
      "execution_count": null,
      "id": "0eb2c24d",
      "metadata": {
        "colab": {
          "base_uri": "https://localhost:8080/"
        },
        "id": "0eb2c24d",
        "outputId": "1e54391d-cd52-464c-8f84-1d762addf6db"
      },
      "outputs": [
        {
          "output_type": "stream",
          "name": "stdout",
          "text": [
            "Epoch 1/7\n",
            "5740/5740 - 11s - loss: 30.2392 - mae: 2.5367 - mse: 30.2392 - mape: 25.4569 - val_loss: 22.3247 - val_mae: 2.1669 - val_mse: 22.3247 - val_mape: 21.7247 - 11s/epoch - 2ms/step\n",
            "Epoch 2/7\n",
            "5740/5740 - 10s - loss: 21.6781 - mae: 2.1691 - mse: 21.6781 - mape: 22.1951 - val_loss: 20.0474 - val_mae: 2.1653 - val_mse: 20.0474 - val_mape: 22.6293 - 10s/epoch - 2ms/step\n",
            "Epoch 3/7\n",
            "5740/5740 - 10s - loss: 20.6062 - mae: 2.1383 - mse: 20.6062 - mape: 22.0189 - val_loss: 19.6370 - val_mae: 2.1193 - val_mse: 19.6370 - val_mape: 21.8278 - 10s/epoch - 2ms/step\n",
            "Epoch 4/7\n",
            "5740/5740 - 10s - loss: 20.3170 - mae: 2.1201 - mse: 20.3170 - mape: 21.8268 - val_loss: 19.5352 - val_mae: 2.0940 - val_mse: 19.5352 - val_mape: 21.1813 - 10s/epoch - 2ms/step\n",
            "Epoch 5/7\n",
            "5740/5740 - 9s - loss: 20.1709 - mae: 2.1095 - mse: 20.1709 - mape: 21.6711 - val_loss: 19.3662 - val_mae: 2.0753 - val_mse: 19.3662 - val_mape: 20.9991 - 9s/epoch - 2ms/step\n",
            "Epoch 6/7\n",
            "5740/5740 - 10s - loss: 20.0816 - mae: 2.1068 - mse: 20.0816 - mape: 21.6301 - val_loss: 19.3311 - val_mae: 2.0613 - val_mse: 19.3311 - val_mape: 20.6447 - 10s/epoch - 2ms/step\n",
            "Epoch 7/7\n",
            "5740/5740 - 10s - loss: 20.0276 - mae: 2.1064 - mse: 20.0276 - mape: 21.6451 - val_loss: 19.3423 - val_mae: 2.0917 - val_mse: 19.3423 - val_mape: 21.5358 - 10s/epoch - 2ms/step\n"
          ]
        }
      ],
      "source": [
        "model7 = Sequential()\n",
        "model7.add(Dense(16,activation = 'relu',kernel_initializer = 'normal',input_dim = X_train_ss.shape[1]))\n",
        "model7.add(Dense(8,activation = 'relu'))\n",
        "model7.add(Dense(1))\n",
        "model7.compile(loss = 'mse',optimizer = 'adam',metrics = ['mae','mse','mape'])\n",
        "history_model7 = model7.fit(X_train_ss,y_train, epochs = 7, batch_size = 128, validation_data = (X_test_ss,y_test),verbose = 2)"
      ]
    },
    {
      "cell_type": "code",
      "execution_count": null,
      "id": "fbe5614c",
      "metadata": {
        "colab": {
          "base_uri": "https://localhost:8080/"
        },
        "id": "fbe5614c",
        "outputId": "945bd929-b459-49a5-9be4-0c16a9f25433"
      },
      "outputs": [
        {
          "output_type": "stream",
          "name": "stdout",
          "text": [
            "Train Score:19.919556952833773\n",
            "Test Score:19.342295217049163\n"
          ]
        }
      ],
      "source": [
        "print(f'Train Score:{mean_squared_error(y_train,model7.predict(X_train_ss))}')\n",
        "print(f'Test Score:{mean_squared_error(y_test,model7.predict(X_test_ss))}')"
      ]
    },
    {
      "cell_type": "markdown",
      "id": "761463a8",
      "metadata": {
        "id": "761463a8"
      },
      "source": [
        "#### calculating the mse loss\n",
        "#### neural network has 2 hidden layers with 16 and 8 neurons respectively.\n",
        "#### Activation function: softsign"
      ]
    },
    {
      "cell_type": "code",
      "execution_count": null,
      "id": "426aebfc",
      "metadata": {
        "colab": {
          "base_uri": "https://localhost:8080/"
        },
        "id": "426aebfc",
        "outputId": "d79ce60c-b35f-462d-c709-73b929768820"
      },
      "outputs": [
        {
          "output_type": "stream",
          "name": "stdout",
          "text": [
            "Epoch 1/7\n",
            "5740/5740 - 11s - loss: 63.3270 - mae: 3.8109 - mse: 63.3270 - mape: 30.6851 - val_loss: 29.5341 - val_mae: 2.4703 - val_mse: 29.5341 - val_mape: 21.3771 - 11s/epoch - 2ms/step\n",
            "Epoch 2/7\n",
            "5740/5740 - 10s - loss: 24.5739 - mae: 2.3328 - mse: 24.5739 - mape: 22.5783 - val_loss: 21.2532 - val_mae: 2.2327 - val_mse: 21.2532 - val_mape: 22.3242 - 10s/epoch - 2ms/step\n",
            "Epoch 3/7\n",
            "5740/5740 - 10s - loss: 21.6243 - mae: 2.2191 - mse: 21.6243 - mape: 22.7047 - val_loss: 20.8590 - val_mae: 2.1100 - val_mse: 20.8590 - val_mape: 19.5619 - 10s/epoch - 2ms/step\n",
            "Epoch 4/7\n",
            "5740/5740 - 10s - loss: 21.2670 - mae: 2.1971 - mse: 21.2670 - mape: 22.5977 - val_loss: 20.5225 - val_mae: 2.1070 - val_mse: 20.5225 - val_mape: 20.0626 - 10s/epoch - 2ms/step\n",
            "Epoch 5/7\n",
            "5740/5740 - 10s - loss: 21.1438 - mae: 2.1827 - mse: 21.1438 - mape: 22.4101 - val_loss: 20.1632 - val_mae: 2.1284 - val_mse: 20.1632 - val_mape: 21.3231 - 10s/epoch - 2ms/step\n",
            "Epoch 6/7\n",
            "5740/5740 - 10s - loss: 21.0473 - mae: 2.1725 - mse: 21.0473 - mape: 22.3376 - val_loss: 20.2769 - val_mae: 2.1470 - val_mse: 20.2769 - val_mape: 21.7344 - 10s/epoch - 2ms/step\n",
            "Epoch 7/7\n",
            "5740/5740 - 10s - loss: 20.9665 - mae: 2.1643 - mse: 20.9665 - mape: 22.2774 - val_loss: 20.1075 - val_mae: 2.1953 - val_mse: 20.1075 - val_mape: 23.1953 - 10s/epoch - 2ms/step\n"
          ]
        }
      ],
      "source": [
        "model8 = Sequential()\n",
        "model8.add(Dense(16,activation = 'softsign',kernel_initializer = 'normal',input_dim = X_train_ss.shape[1]))\n",
        "model8.add(Dense(8,activation = 'softsign'))\n",
        "model8.add(Dense(1))\n",
        "model8.compile(loss = 'mse',optimizer = 'adam',metrics = ['mae','mse','mape'])\n",
        "history_model8 = model8.fit(X_train_ss,y_train, epochs = 7, batch_size = 128, validation_data = (X_test_ss,y_test),verbose = 2)"
      ]
    },
    {
      "cell_type": "code",
      "execution_count": null,
      "id": "093aa30f",
      "metadata": {
        "colab": {
          "base_uri": "https://localhost:8080/"
        },
        "id": "093aa30f",
        "outputId": "105e643a-8050-4f2a-f396-779ae003887d"
      },
      "outputs": [
        {
          "output_type": "stream",
          "name": "stdout",
          "text": [
            "Train Score:20.922296613264468\n",
            "Test Score:20.107495076046636\n"
          ]
        }
      ],
      "source": [
        "print(f'Train Score:{mean_squared_error(y_train,model8.predict(X_train_ss))}')\n",
        "print(f'Test Score:{mean_squared_error(y_test,model8.predict(X_test_ss))}')"
      ]
    },
    {
      "cell_type": "markdown",
      "id": "899552e0",
      "metadata": {
        "id": "899552e0"
      },
      "source": [
        "#### calculating the mse loss\n",
        "#### neural network has 2 hidden layers with 16 and 8 neurons respectively.\n",
        "#### Activation function: elu"
      ]
    },
    {
      "cell_type": "code",
      "execution_count": null,
      "id": "5cd9ac7c",
      "metadata": {
        "colab": {
          "base_uri": "https://localhost:8080/"
        },
        "id": "5cd9ac7c",
        "outputId": "40bd2048-9e8a-44d7-bece-362c26334250"
      },
      "outputs": [
        {
          "output_type": "stream",
          "name": "stdout",
          "text": [
            "Epoch 1/7\n",
            "5740/5740 - 11s - loss: 28.2877 - mae: 2.4723 - mse: 28.2877 - mape: 23.5142 - val_loss: 21.9993 - val_mae: 2.1694 - val_mse: 21.9993 - val_mape: 20.5873 - 11s/epoch - 2ms/step\n",
            "Epoch 2/7\n",
            "5740/5740 - 10s - loss: 21.9024 - mae: 2.1413 - mse: 21.9024 - mape: 20.7639 - val_loss: 20.4583 - val_mae: 2.1650 - val_mse: 20.4583 - val_mape: 21.9044 - 10s/epoch - 2ms/step\n",
            "Epoch 3/7\n",
            "5740/5740 - 10s - loss: 20.7109 - mae: 2.1105 - mse: 20.7109 - mape: 21.1949 - val_loss: 19.7366 - val_mae: 2.0969 - val_mse: 19.7366 - val_mape: 21.1848 - 10s/epoch - 2ms/step\n",
            "Epoch 4/7\n",
            "5740/5740 - 10s - loss: 20.3731 - mae: 2.1040 - mse: 20.3731 - mape: 21.3858 - val_loss: 19.8731 - val_mae: 2.0969 - val_mse: 19.8731 - val_mape: 20.9686 - 10s/epoch - 2ms/step\n",
            "Epoch 5/7\n",
            "5740/5740 - 10s - loss: 20.1830 - mae: 2.0939 - mse: 20.1830 - mape: 21.3852 - val_loss: 19.4782 - val_mae: 2.0591 - val_mse: 19.4782 - val_mape: 20.6750 - 10s/epoch - 2ms/step\n",
            "Epoch 6/7\n",
            "5740/5740 - 10s - loss: 20.0351 - mae: 2.0877 - mse: 20.0351 - mape: 21.3898 - val_loss: 19.4434 - val_mae: 2.1541 - val_mse: 19.4434 - val_mape: 22.8886 - 10s/epoch - 2ms/step\n",
            "Epoch 7/7\n",
            "5740/5740 - 10s - loss: 19.9440 - mae: 2.0828 - mse: 19.9440 - mape: 21.3784 - val_loss: 19.2634 - val_mae: 2.1172 - val_mse: 19.2634 - val_mape: 22.3303 - 10s/epoch - 2ms/step\n"
          ]
        }
      ],
      "source": [
        "model9 = Sequential()\n",
        "model9.add(Dense(16,activation = 'elu',kernel_initializer = 'normal',input_dim = X_train_ss.shape[1]))\n",
        "model9.add(Dense(8,activation = 'elu'))\n",
        "model9.add(Dense(1))\n",
        "model9.compile(loss = 'mse',optimizer = 'adam',metrics = ['mae','mse','mape'])\n",
        "history_model9 = model9.fit(X_train_ss,y_train, epochs = 7, batch_size = 128, validation_data = (X_test_ss,y_test),verbose = 2)"
      ]
    },
    {
      "cell_type": "code",
      "execution_count": null,
      "id": "b8c01b11",
      "metadata": {
        "colab": {
          "base_uri": "https://localhost:8080/"
        },
        "id": "b8c01b11",
        "outputId": "564e9f77-b4da-42c3-f241-1d89b483ebe7"
      },
      "outputs": [
        {
          "output_type": "stream",
          "name": "stdout",
          "text": [
            "Train Score:19.864358082783337\n",
            "Test Score:19.26340119529084\n"
          ]
        }
      ],
      "source": [
        "print(f'Train Score:{mean_squared_error(y_train,model9.predict(X_train_ss))}')\n",
        "print(f'Test Score:{mean_squared_error(y_test,model9.predict(X_test_ss))}')"
      ]
    },
    {
      "cell_type": "markdown",
      "source": [
        "\n",
        "Comparison of Activation Functions: The figure above gives a comparison of how the RMSE value developed with the number of epochs for the Relu, tanh and sigmoid activation functions, when training our Manhattan NN Model. The activation functions all behaved similarly, and we had no reason to prefer any one in particular and decided to use a tanh activation function.\n"
      ],
      "metadata": {
        "id": "eHom-jX8oTg9"
      },
      "id": "eHom-jX8oTg9"
    },
    {
      "cell_type": "markdown",
      "source": [
        "![activation_functions_comparison.png](data:image/png;base64,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)"
      ],
      "metadata": {
        "id": "8wIDLY3OoXdr"
      },
      "id": "8wIDLY3OoXdr"
    },
    {
      "cell_type": "markdown",
      "source": [
        "## D. (15 marks) Experiment with regularization techniques: Early stopping, Dropout rate"
      ],
      "metadata": {
        "id": "f9-6CtkQazp6"
      },
      "id": "f9-6CtkQazp6"
    },
    {
      "cell_type": "markdown",
      "id": "0b0e7191",
      "metadata": {
        "id": "0b0e7191"
      },
      "source": [
        "#### adding dropout=0.3 to the model\n",
        "#### activation function as sigmoid"
      ]
    },
    {
      "cell_type": "code",
      "execution_count": null,
      "id": "a80dc7c0",
      "metadata": {
        "colab": {
          "base_uri": "https://localhost:8080/"
        },
        "id": "a80dc7c0",
        "outputId": "9ff82ff1-7439-427b-b909-a021b880c95a"
      },
      "outputs": [
        {
          "output_type": "stream",
          "name": "stdout",
          "text": [
            "Epoch 1/7\n",
            "5740/5740 - 11s - loss: 92.3021 - mae: 5.0233 - mse: 92.3021 - mape: 39.7041 - val_loss: 43.4581 - val_mae: 3.0162 - val_mse: 43.4581 - val_mape: 26.2913 - 11s/epoch - 2ms/step\n",
            "Epoch 2/7\n",
            "5740/5740 - 10s - loss: 31.8897 - mae: 2.6885 - mse: 31.8897 - mape: 25.5653 - val_loss: 23.3540 - val_mae: 2.3827 - val_mse: 23.3540 - val_mape: 24.2296 - 10s/epoch - 2ms/step\n",
            "Epoch 3/7\n",
            "5740/5740 - 10s - loss: 23.4229 - mae: 2.4008 - mse: 23.4229 - mape: 24.5455 - val_loss: 20.6399 - val_mae: 2.2061 - val_mse: 20.6399 - val_mape: 22.6926 - 10s/epoch - 2ms/step\n",
            "Epoch 4/7\n",
            "5740/5740 - 10s - loss: 22.3791 - mae: 2.3341 - mse: 22.3791 - mape: 24.1249 - val_loss: 20.4151 - val_mae: 2.1925 - val_mse: 20.4151 - val_mape: 22.5888 - 10s/epoch - 2ms/step\n",
            "Epoch 5/7\n",
            "5740/5740 - 10s - loss: 22.2051 - mae: 2.3169 - mse: 22.2051 - mape: 23.9062 - val_loss: 20.3591 - val_mae: 2.1915 - val_mse: 20.3591 - val_mape: 22.6416 - 10s/epoch - 2ms/step\n",
            "Epoch 6/7\n",
            "5740/5740 - 10s - loss: 22.0306 - mae: 2.3033 - mse: 22.0306 - mape: 23.7606 - val_loss: 20.3137 - val_mae: 2.1760 - val_mse: 20.3137 - val_mape: 22.1969 - 10s/epoch - 2ms/step\n",
            "Epoch 7/7\n",
            "5740/5740 - 10s - loss: 21.9522 - mae: 2.2905 - mse: 21.9522 - mape: 23.5712 - val_loss: 20.2556 - val_mae: 2.2066 - val_mse: 20.2556 - val_mape: 23.0537 - 10s/epoch - 2ms/step\n"
          ]
        }
      ],
      "source": [
        "model10 = Sequential()\n",
        "model10.add(Dense(16,activation = 'sigmoid',kernel_initializer = 'normal',input_dim = X_train_ss.shape[1]))\n",
        "model10.add(Dropout(0.3))\n",
        "model10.add(Dense(8,activation = 'sigmoid'))\n",
        "model10.add(Dense(1))\n",
        "model10.compile(loss = 'mse',optimizer = 'adam',metrics = ['mae','mse','mape'])\n",
        "history_model10 = model10.fit(X_train_ss,y_train, epochs = 7, batch_size = 128, validation_data = (X_test_ss,y_test),verbose = 2)"
      ]
    },
    {
      "cell_type": "code",
      "execution_count": null,
      "id": "2aa88525",
      "metadata": {
        "colab": {
          "base_uri": "https://localhost:8080/"
        },
        "id": "2aa88525",
        "outputId": "f35787f9-13ab-49d1-99b3-ee80f11c92ab"
      },
      "outputs": [
        {
          "output_type": "stream",
          "name": "stdout",
          "text": [
            "Train Score:21.056697701183502\n",
            "Test Score:20.25563715127119\n"
          ]
        }
      ],
      "source": [
        "print(f'Train Score:{mean_squared_error(y_train,model10.predict(X_train_ss))}')\n",
        "print(f'Test Score:{mean_squared_error(y_test,model10.predict(X_test_ss))}')"
      ]
    },
    {
      "cell_type": "markdown",
      "source": [
        "## Tabulate the 95% confidence intervals of each of the 3 metrics from each of the parts above neatly based on at least 5 experiments on validation.\n"
      ],
      "metadata": {
        "id": "d0jPkhj_bR0s"
      },
      "id": "d0jPkhj_bR0s"
    },
    {
      "cell_type": "markdown",
      "id": "dbe6a3ff",
      "metadata": {
        "id": "dbe6a3ff"
      },
      "source": [
        "#### Applying early stopping with patience=3 and dropout=0.3"
      ]
    },
    {
      "cell_type": "code",
      "execution_count": null,
      "id": "779dccd0",
      "metadata": {
        "colab": {
          "base_uri": "https://localhost:8080/"
        },
        "id": "779dccd0",
        "outputId": "413d6974-36ed-4b6f-aed4-d368d7603f06"
      },
      "outputs": [
        {
          "output_type": "stream",
          "name": "stdout",
          "text": [
            "Epoch 1/7\n",
            "5740/5740 - 10s - loss: 109.0595 - mae: 5.6949 - mse: 109.0595 - mape: 43.9009 - val_loss: 58.9840 - val_mae: 3.4591 - val_mse: 58.9840 - val_mape: 27.3424 - 10s/epoch - 2ms/step\n",
            "Epoch 2/7\n",
            "5740/5740 - 10s - loss: 42.6676 - mae: 2.9943 - mse: 42.6676 - mape: 26.2622 - val_loss: 29.5381 - val_mae: 2.5195 - val_mse: 29.5381 - val_mape: 23.5193 - 10s/epoch - 2ms/step\n",
            "Epoch 3/7\n",
            "5740/5740 - 10s - loss: 26.7108 - mae: 2.5136 - mse: 26.7108 - mape: 24.6561 - val_loss: 22.1665 - val_mae: 2.3194 - val_mse: 22.1665 - val_mape: 23.6614 - 10s/epoch - 2ms/step\n",
            "Epoch 4/7\n",
            "5740/5740 - 10s - loss: 23.1000 - mae: 2.3685 - mse: 23.1000 - mape: 24.1732 - val_loss: 20.6870 - val_mae: 2.2129 - val_mse: 20.6870 - val_mape: 22.8583 - 10s/epoch - 2ms/step\n",
            "Epoch 5/7\n",
            "5740/5740 - 10s - loss: 22.3368 - mae: 2.3185 - mse: 22.3368 - mape: 23.8682 - val_loss: 20.4066 - val_mae: 2.1889 - val_mse: 20.4066 - val_mape: 22.5568 - 10s/epoch - 2ms/step\n",
            "Epoch 6/7\n",
            "5740/5740 - 10s - loss: 22.1155 - mae: 2.3010 - mse: 22.1155 - mape: 23.6912 - val_loss: 20.3317 - val_mae: 2.1825 - val_mse: 20.3317 - val_mape: 22.4358 - 10s/epoch - 2ms/step\n",
            "Epoch 7/7\n",
            "5740/5740 - 10s - loss: 22.0135 - mae: 2.2939 - mse: 22.0135 - mape: 23.5931 - val_loss: 20.3157 - val_mae: 2.1713 - val_mse: 20.3157 - val_mape: 22.1839 - 10s/epoch - 2ms/step\n"
          ]
        }
      ],
      "source": [
        "callback = tf.keras.callbacks.EarlyStopping(monitor='loss', patience=3)\n",
        "model11 = Sequential()\n",
        "model11.add(Dense(16,activation = 'sigmoid',kernel_initializer = 'normal',input_dim = X_train_ss.shape[1]))\n",
        "model11.add(Dropout(0.3))\n",
        "model11.add(Dense(8,activation = 'sigmoid'))\n",
        "model11.add(Dense(1))\n",
        "model11.compile(loss = 'mse',optimizer = 'adam',metrics = ['mae','mse','mape'])\n",
        "history_model11 = model11.fit(X_train_ss,y_train, epochs = 7, batch_size = 128, validation_data = (X_test_ss,y_test),verbose = 2)"
      ]
    },
    {
      "cell_type": "code",
      "execution_count": null,
      "id": "defbc72b",
      "metadata": {
        "colab": {
          "base_uri": "https://localhost:8080/"
        },
        "id": "defbc72b",
        "outputId": "c9198e55-75c0-47ce-d6cb-6e37875d5f34"
      },
      "outputs": [
        {
          "output_type": "stream",
          "name": "stdout",
          "text": [
            "Train Score:21.126765773748005\n",
            "Test Score:20.315663997780284\n"
          ]
        }
      ],
      "source": [
        "print(f'Train Score:{mean_squared_error(y_train,model11.predict(X_train_ss))}')\n",
        "print(f'Test Score:{mean_squared_error(y_test,model11.predict(X_test_ss))}')"
      ]
    },
    {
      "cell_type": "markdown",
      "source": [
        "## D. (15 marks) Experiment with regularization techniques: Early stopping, Dropout rate"
      ],
      "metadata": {
        "id": "umdCMeTEbFWd"
      },
      "id": "umdCMeTEbFWd"
    },
    {
      "cell_type": "markdown",
      "source": [
        "### Optimization (optimizer adam)\n",
        "\n",
        "- With optimization, the objective is to minimize the loss function. The idea is that if the loss is reduced to an acceptable level, the model has indirectly learned the function mapping input to output.\n",
        "\n",
        "- In Keras, there are several choices for optimizers. The most commonly used optimizers are; **Stochastic Gradient Descent (SGD)**, **Adaptive Moments (Adam)** and **Root Mean Squared Propagation (RMSprop)**. \n",
        "\n",
        "- Each optimizer features tunable parameters like learning rate, momentum, and decay. \n",
        "\n",
        "- Adam and RMSprop are variations of SGD with adaptive learning rates. In the proposed classifier network, Adam is used since it has the highest test accuracy."
      ],
      "metadata": {
        "id": "Bqz_9fPecvz1"
      },
      "id": "Bqz_9fPecvz1"
    },
    {
      "cell_type": "markdown",
      "source": [],
      "metadata": {
        "id": "0sXsu8Wacz8K"
      },
      "id": "0sXsu8Wacz8K"
    },
    {
      "cell_type": "markdown",
      "source": [
        "## E. (10 marks) Experiment with at least 2 more Optimizers"
      ],
      "metadata": {
        "id": "qBkHx7r6wOWN"
      },
      "id": "qBkHx7r6wOWN"
    },
    {
      "cell_type": "markdown",
      "id": "704f3859",
      "metadata": {
        "id": "704f3859"
      },
      "source": [
        "#### calculating the mse loss\n",
        "#### neural network has 2 hidden layers with 16 and 8 neurons respectively.\n",
        "#### Activation function: sigmoid\n",
        "### Optimizer: SGD"
      ]
    },
    {
      "cell_type": "code",
      "execution_count": null,
      "id": "d204c795",
      "metadata": {
        "colab": {
          "base_uri": "https://localhost:8080/"
        },
        "id": "d204c795",
        "outputId": "f0cad98d-ed46-4114-f265-258d9e93e8f1"
      },
      "outputs": [
        {
          "output_type": "stream",
          "name": "stdout",
          "text": [
            "Epoch 1/7\n",
            "5740/5740 - 11s - loss: 23.6343 - mae: 2.3285 - mse: 23.6343 - mape: 23.8687 - val_loss: 20.9836 - val_mae: 2.2309 - val_mse: 20.9836 - val_mape: 22.7322 - 11s/epoch - 2ms/step\n",
            "Epoch 2/7\n",
            "5740/5740 - 10s - loss: 21.0868 - mae: 2.1767 - mse: 21.0868 - mape: 22.2845 - val_loss: 20.3755 - val_mae: 2.1306 - val_mse: 20.3755 - val_mape: 21.2101 - 10s/epoch - 2ms/step\n",
            "Epoch 3/7\n",
            "5740/5740 - 10s - loss: 20.8949 - mae: 2.1497 - mse: 20.8949 - mape: 22.0779 - val_loss: 19.7464 - val_mae: 2.1022 - val_mse: 19.7464 - val_mape: 21.6462 - 10s/epoch - 2ms/step\n",
            "Epoch 4/7\n",
            "5740/5740 - 10s - loss: 20.5059 - mae: 2.1010 - mse: 20.5059 - mape: 21.6545 - val_loss: 19.4921 - val_mae: 2.0821 - val_mse: 19.4921 - val_mape: 21.4775 - 10s/epoch - 2ms/step\n",
            "Epoch 5/7\n",
            "5740/5740 - 9s - loss: 20.2914 - mae: 2.0771 - mse: 20.2914 - mape: 21.4570 - val_loss: 19.8025 - val_mae: 2.1751 - val_mse: 19.8025 - val_mape: 22.9454 - 9s/epoch - 2ms/step\n",
            "Epoch 6/7\n",
            "5740/5740 - 10s - loss: 20.1380 - mae: 2.0616 - mse: 20.1380 - mape: 21.3473 - val_loss: 19.1980 - val_mae: 2.0406 - val_mse: 19.1980 - val_mape: 21.1974 - 10s/epoch - 2ms/step\n",
            "Epoch 7/7\n",
            "5740/5740 - 9s - loss: 20.1196 - mae: 2.0555 - mse: 20.1196 - mape: 21.2923 - val_loss: 19.1928 - val_mae: 1.9995 - val_mse: 19.1928 - val_mape: 20.2791 - 9s/epoch - 2ms/step\n"
          ]
        }
      ],
      "source": [
        "model12 = Sequential()\n",
        "model12.add(Dense(16,activation = 'sigmoid',kernel_initializer = 'normal',input_dim = X_train_ss.shape[1]))\n",
        "model12.add(Dense(8,activation = 'sigmoid'))\n",
        "model12.add(Dense(1))\n",
        "model12.compile(loss = 'mse',optimizer = 'SGD',metrics = ['mae','mse','mape'])\n",
        "history_model12 = model12.fit(X_train_ss,y_train, epochs = 7, batch_size = 128, validation_data = (X_test_ss,y_test),verbose = 2)"
      ]
    },
    {
      "cell_type": "code",
      "execution_count": null,
      "id": "b341f8d5",
      "metadata": {
        "colab": {
          "base_uri": "https://localhost:8080/"
        },
        "id": "b341f8d5",
        "outputId": "6e547308-8660-4dc4-8587-820975feb3b1"
      },
      "outputs": [
        {
          "output_type": "stream",
          "name": "stdout",
          "text": [
            "Train Score:19.951352787451576\n",
            "Test Score:19.192778015734373\n"
          ]
        }
      ],
      "source": [
        "print(f'Train Score:{mean_squared_error(y_train,model12.predict(X_train_ss))}')\n",
        "print(f'Test Score:{mean_squared_error(y_test,model12.predict(X_test_ss))}')"
      ]
    },
    {
      "cell_type": "markdown",
      "source": [
        "### Metrics (accuracy)\n",
        "\n",
        "- Performance metrics are used to determine if a model has learned the underlying data distribution. The default metric in Keras is loss. \n",
        "\n",
        "- During training, validation, and testing, other metrics such as **accuracy** can also be included. \n",
        "\n",
        "- **Accuracy** is the percent, or fraction, of correct predictions based on ground truth."
      ],
      "metadata": {
        "id": "hKfH88Ctc183"
      },
      "id": "hKfH88Ctc183"
    },
    {
      "cell_type": "markdown",
      "id": "da5cf199",
      "metadata": {
        "id": "da5cf199"
      },
      "source": [
        "#### calculating the mse loss\n",
        "#### neural network has 2 hidden layers with 16 and 8 neurons respectively.\n",
        "#### Activation function: sigmoid\n",
        "#### Optimizer: Ftrl"
      ]
    },
    {
      "cell_type": "code",
      "execution_count": null,
      "id": "16d1116e",
      "metadata": {
        "colab": {
          "base_uri": "https://localhost:8080/"
        },
        "id": "16d1116e",
        "outputId": "9e3a5f53-68cb-456d-8237-7753263bcb83"
      },
      "outputs": [
        {
          "output_type": "stream",
          "name": "stdout",
          "text": [
            "Epoch 1/7\n",
            "5740/5740 - 11s - loss: 187.9994 - mae: 9.8120 - mse: 187.9994 - mape: 81.0599 - val_loss: 176.5327 - val_mae: 9.2606 - val_mse: 176.5327 - val_mape: 74.3091 - 11s/epoch - 2ms/step\n",
            "Epoch 2/7\n",
            "5740/5740 - 10s - loss: 171.7602 - mae: 8.9749 - mse: 171.7602 - mape: 70.5827 - val_loss: 166.6022 - val_mae: 8.7125 - val_mse: 166.6022 - val_mape: 67.4169 - 10s/epoch - 2ms/step\n",
            "Epoch 3/7\n",
            "5740/5740 - 10s - loss: 163.9362 - mae: 8.5294 - mse: 163.9362 - mape: 64.9923 - val_loss: 160.2390 - val_mae: 8.3386 - val_mse: 160.2390 - val_mape: 62.7532 - 10s/epoch - 2ms/step\n",
            "Epoch 4/7\n",
            "5740/5740 - 9s - loss: 158.2960 - mae: 8.1923 - mse: 158.2960 - mape: 60.8062 - val_loss: 155.1696 - val_mae: 8.0302 - val_mse: 155.1696 - val_mape: 58.9488 - 9s/epoch - 2ms/step\n",
            "Epoch 5/7\n",
            "5740/5740 - 10s - loss: 153.6381 - mae: 7.9054 - mse: 153.6381 - mape: 57.2926 - val_loss: 150.9130 - val_mae: 7.7646 - val_mse: 150.9130 - val_mape: 55.7274 - 10s/epoch - 2ms/step\n",
            "Epoch 6/7\n",
            "5740/5740 - 9s - loss: 149.7254 - mae: 7.6598 - mse: 149.7254 - mape: 54.3509 - val_loss: 147.3313 - val_mae: 7.5369 - val_mse: 147.3313 - val_mape: 53.0297 - 9s/epoch - 2ms/step\n",
            "Epoch 7/7\n",
            "5740/5740 - 9s - loss: 146.4107 - mae: 7.4489 - mse: 146.4107 - mape: 51.8978 - val_loss: 144.2694 - val_mae: 7.3413 - val_mse: 144.2694 - val_mape: 50.7954 - 9s/epoch - 2ms/step\n"
          ]
        }
      ],
      "source": [
        "model13 = Sequential()\n",
        "model13.add(Dense(16,activation = 'sigmoid',kernel_initializer = 'normal',input_dim = X_train_ss.shape[1]))\n",
        "model13.add(Dense(8,activation = 'sigmoid'))\n",
        "model13.add(Dense(1))\n",
        "model13.compile(loss = 'mse',optimizer = 'Ftrl',metrics = ['mae','mse','mape'])\n",
        "history_model13 = model13.fit(X_train_ss,y_train, epochs = 7, batch_size = 128, validation_data = (X_test_ss,y_test),verbose = 2)"
      ]
    },
    {
      "cell_type": "code",
      "execution_count": null,
      "id": "757e24b7",
      "metadata": {
        "colab": {
          "base_uri": "https://localhost:8080/"
        },
        "id": "757e24b7",
        "outputId": "4e535dbe-11c7-4e9b-cbc5-7b02c5b8b140"
      },
      "outputs": [
        {
          "output_type": "stream",
          "name": "stdout",
          "text": [
            "Train Score:144.91412562950296\n",
            "Test Score:144.26936916616563\n"
          ]
        }
      ],
      "source": [
        "print(f'Train Score:{mean_squared_error(y_train,model13.predict(X_train_ss))}')\n",
        "print(f'Test Score:{mean_squared_error(y_test,model13.predict(X_test_ss))}')"
      ]
    },
    {
      "cell_type": "markdown",
      "id": "f648f19f",
      "metadata": {
        "id": "f648f19f"
      },
      "source": [
        "#### calculating the mse loss\n",
        "#### neural network has 2 hidden layers with 16 and 8 neurons respectively.\n",
        "#### Activation function: sigmoid\n",
        "#### Optimizer: Adagrad"
      ]
    },
    {
      "cell_type": "code",
      "execution_count": null,
      "id": "23d13d23",
      "metadata": {
        "colab": {
          "base_uri": "https://localhost:8080/"
        },
        "id": "23d13d23",
        "outputId": "82496a97-0275-462f-f9c1-a5ef8ea0c325"
      },
      "outputs": [
        {
          "output_type": "stream",
          "name": "stdout",
          "text": [
            "Epoch 1/7\n",
            "5740/5740 - 10s - loss: 195.8697 - mae: 10.1944 - mse: 195.8697 - mape: 85.8223 - val_loss: 184.2144 - val_mae: 9.6522 - val_mse: 184.2144 - val_mape: 79.1904 - 10s/epoch - 2ms/step\n",
            "Epoch 2/7\n",
            "5740/5740 - 10s - loss: 178.8448 - mae: 9.3488 - mse: 178.8448 - mape: 75.2495 - val_loss: 173.1028 - val_mae: 9.0669 - val_mse: 173.1028 - val_mape: 71.8390 - 10s/epoch - 2ms/step\n",
            "Epoch 3/7\n",
            "5740/5740 - 10s - loss: 169.9536 - mae: 8.8642 - mse: 169.9536 - mape: 69.1400 - val_loss: 165.7860 - val_mae: 8.6538 - val_mse: 165.7860 - val_mape: 66.6336 - 10s/epoch - 2ms/step\n",
            "Epoch 4/7\n",
            "5740/5740 - 9s - loss: 163.3903 - mae: 8.4864 - mse: 163.3903 - mape: 64.4069 - val_loss: 159.7836 - val_mae: 8.3015 - val_mse: 159.7836 - val_mape: 62.2483 - 9s/epoch - 2ms/step\n",
            "Epoch 5/7\n",
            "5740/5740 - 9s - loss: 157.7910 - mae: 8.1533 - mse: 157.7910 - mape: 60.2881 - val_loss: 154.6160 - val_mae: 7.9889 - val_mse: 154.6160 - val_mape: 58.4103 - 9s/epoch - 2ms/step\n",
            "Epoch 6/7\n",
            "5740/5740 - 9s - loss: 153.0510 - mae: 7.8629 - mse: 153.0510 - mape: 56.7506 - val_loss: 150.3003 - val_mae: 7.7208 - val_mse: 150.3003 - val_mape: 55.1859 - 9s/epoch - 2ms/step\n",
            "Epoch 7/7\n",
            "5740/5740 - 10s - loss: 149.0858 - mae: 7.6143 - mse: 149.0858 - mape: 53.7994 - val_loss: 146.6654 - val_mae: 7.4906 - val_mse: 146.6654 - val_mape: 52.4839 - 10s/epoch - 2ms/step\n"
          ]
        }
      ],
      "source": [
        "model14 = Sequential()\n",
        "model14.add(Dense(16,activation = 'sigmoid',kernel_initializer = 'normal',input_dim = X_train_ss.shape[1]))\n",
        "model14.add(Dense(8,activation = 'sigmoid'))\n",
        "model14.add(Dense(1))\n",
        "model14.compile(loss = 'mse',optimizer = 'Adagrad',metrics = ['mae','mse','mape'])\n",
        "history_model14 = model14.fit(X_train_ss,y_train, epochs = 7, batch_size = 128, validation_data = (X_test_ss,y_test),verbose = 2)"
      ]
    },
    {
      "cell_type": "code",
      "execution_count": null,
      "id": "4e9b4cd1",
      "metadata": {
        "colab": {
          "base_uri": "https://localhost:8080/"
        },
        "id": "4e9b4cd1",
        "outputId": "bcd8ef91-318f-43b7-9e70-3b0a1213ab79"
      },
      "outputs": [
        {
          "output_type": "stream",
          "name": "stdout",
          "text": [
            "Train Score:147.313845748648\n",
            "Test Score:146.66527294882468\n"
          ]
        }
      ],
      "source": [
        "print(f'Train Score:{mean_squared_error(y_train,model14.predict(X_train_ss))}')\n",
        "print(f'Test Score:{mean_squared_error(y_test,model14.predict(X_test_ss))}')"
      ]
    },
    {
      "cell_type": "markdown",
      "id": "a08df96c",
      "metadata": {
        "id": "a08df96c"
      },
      "source": [
        "#### The best mse loss is 20.07, where the model's hyperparameters are:\n",
        "#### 2 hidden layers with 16 and 8 neurons respectively\n",
        "#### activation function: tanh"
      ]
    },
    {
      "cell_type": "code",
      "execution_count": null,
      "id": "c30bb472",
      "metadata": {
        "colab": {
          "base_uri": "https://localhost:8080/"
        },
        "id": "c30bb472",
        "outputId": "bb960802-122a-4db6-abd3-bf531d77cc84"
      },
      "outputs": [
        {
          "output_type": "stream",
          "name": "stdout",
          "text": [
            "Epoch 1/7\n",
            "5740/5740 - 10s - loss: 58.0160 - mae: 3.4902 - mse: 58.0160 - mape: 27.3835 - val_loss: 27.2720 - val_mae: 2.4131 - val_mse: 27.2720 - val_mape: 22.1897 - 10s/epoch - 2ms/step\n",
            "Epoch 2/7\n",
            "5740/5740 - 10s - loss: 23.2750 - mae: 2.2424 - mse: 23.2750 - mape: 22.0564 - val_loss: 20.4900 - val_mae: 2.1741 - val_mse: 20.4900 - val_mape: 22.4659 - 10s/epoch - 2ms/step\n",
            "Epoch 3/7\n",
            "5740/5740 - 9s - loss: 20.9031 - mae: 2.1310 - mse: 20.9031 - mape: 21.8082 - val_loss: 19.7252 - val_mae: 2.1179 - val_mse: 19.7252 - val_mape: 21.8424 - 9s/epoch - 2ms/step\n",
            "Epoch 4/7\n",
            "5740/5740 - 10s - loss: 20.4585 - mae: 2.1047 - mse: 20.4585 - mape: 21.6543 - val_loss: 19.4683 - val_mae: 2.0455 - val_mse: 19.4683 - val_mape: 20.4480 - 10s/epoch - 2ms/step\n",
            "Epoch 5/7\n",
            "5740/5740 - 10s - loss: 20.2514 - mae: 2.0826 - mse: 20.2514 - mape: 21.4426 - val_loss: 19.3644 - val_mae: 2.0802 - val_mse: 19.3644 - val_mape: 21.5317 - 10s/epoch - 2ms/step\n",
            "Epoch 6/7\n",
            "5740/5740 - 10s - loss: 20.1467 - mae: 2.0729 - mse: 20.1467 - mape: 21.3624 - val_loss: 19.2843 - val_mae: 2.0641 - val_mse: 19.2843 - val_mape: 21.2147 - 10s/epoch - 2ms/step\n",
            "Epoch 7/7\n",
            "5740/5740 - 10s - loss: 20.0802 - mae: 2.0702 - mse: 20.0802 - mape: 21.3827 - val_loss: 19.2462 - val_mae: 2.0331 - val_mse: 19.2462 - val_mape: 20.6940 - 10s/epoch - 2ms/step\n"
          ]
        }
      ],
      "source": [
        "final_model = Sequential()\n",
        "final_model.add(Dense(16,activation = 'tanh',kernel_initializer = 'normal',input_dim = X_train_ss.shape[1]))\n",
        "final_model.add(Dense(8,activation = 'tanh'))\n",
        "final_model.add(Dense(1))\n",
        "final_model.compile(loss = 'mse',optimizer = 'adam',metrics = ['mae','mse','mape'])\n",
        "history_model = final_model.fit(X_train_ss,y_train, epochs = 7, batch_size = 128, validation_data = (X_test_ss,y_test),verbose = 2)"
      ]
    },
    {
      "cell_type": "code",
      "source": [],
      "metadata": {
        "id": "QobowEKi1gIU"
      },
      "id": "QobowEKi1gIU",
      "execution_count": null,
      "outputs": []
    },
    {
      "cell_type": "markdown",
      "metadata": {
        "id": "87e35f23"
      },
      "source": [
        "## Test set final prediction:"
      ],
      "id": "87e35f23"
    },
    {
      "cell_type": "code",
      "execution_count": null,
      "metadata": {
        "id": "ddad8260"
      },
      "outputs": [],
      "source": [
        "ss = StandardScaler()\n",
        "ss.fit(X)\n",
        "X_ss = ss.transform(X)\n",
        "test_my_dataframe_ss = ss.transform(testdf.iloc[:,2:])"
      ],
      "id": "ddad8260"
    },
    {
      "cell_type": "code",
      "execution_count": null,
      "metadata": {
        "id": "b033bba7",
        "outputId": "cb1146a6-b1b3-4bee-9c7d-6cc272fa1836"
      },
      "outputs": [
        {
          "name": "stdout",
          "output_type": "stream",
          "text": [
            "Shape of X: (979618, 8)\n",
            "Shape of y: (979618,)\n"
          ]
        }
      ],
      "source": [
        "print(f'Shape of X: {X_ss.shape}')\n",
        "print(f'Shape of y: {y.shape}')"
      ],
      "id": "b033bba7"
    },
    {
      "cell_type": "code",
      "execution_count": null,
      "metadata": {
        "id": "b8d1e898",
        "outputId": "b1c8d927-52ad-4aeb-dbb7-3a72ac77f59b"
      },
      "outputs": [
        {
          "name": "stdout",
          "output_type": "stream",
          "text": [
            "310/310 [==============================] - 0s 782us/step\n"
          ]
        }
      ],
      "source": [
        "ann_prediction = pd.DataFrame({\"key\": testdf['key'], \"fare_amount\":final_model.predict(test_my_dataframe_ss).flatten()})\n",
        "ann_prediction.to_csv(\"my_final_submission\", index=False)"
      ],
      "id": "b8d1e898"
    },
    {
      "cell_type": "code",
      "execution_count": null,
      "metadata": {
        "id": "8bd78df4",
        "outputId": "cb4d1801-ed2c-4b0c-d593-5a02d09022f2"
      },
      "outputs": [
        {
          "name": "stdout",
          "output_type": "stream",
          "text": [
            "Epoch 1/100\n",
            "20/20 - 1s - loss: 220.0970 - mae: 11.3110 - 1s/epoch - 52ms/step\n",
            "Epoch 2/100\n",
            "20/20 - 1s - loss: 216.2257 - mae: 11.1671 - 706ms/epoch - 35ms/step\n",
            "Epoch 3/100\n",
            "20/20 - 1s - loss: 211.4902 - mae: 10.9892 - 703ms/epoch - 35ms/step\n",
            "Epoch 4/100\n",
            "20/20 - 1s - loss: 205.1654 - mae: 10.7523 - 705ms/epoch - 35ms/step\n",
            "Epoch 5/100\n",
            "20/20 - 1s - loss: 196.6974 - mae: 10.4389 - 710ms/epoch - 35ms/step\n",
            "Epoch 6/100\n",
            "20/20 - 1s - loss: 185.3697 - mae: 10.0176 - 705ms/epoch - 35ms/step\n",
            "Epoch 7/100\n",
            "20/20 - 1s - loss: 170.9553 - mae: 9.4629 - 711ms/epoch - 36ms/step\n",
            "Epoch 8/100\n",
            "20/20 - 1s - loss: 153.4986 - mae: 8.7606 - 711ms/epoch - 36ms/step\n",
            "Epoch 9/100\n",
            "20/20 - 1s - loss: 133.7306 - mae: 7.9112 - 712ms/epoch - 36ms/step\n",
            "Epoch 10/100\n",
            "20/20 - 1s - loss: 111.8265 - mae: 6.9142 - 699ms/epoch - 35ms/step\n",
            "Epoch 11/100\n",
            "20/20 - 1s - loss: 88.7544 - mae: 5.8185 - 712ms/epoch - 36ms/step\n",
            "Epoch 12/100\n",
            "20/20 - 1s - loss: 67.9653 - mae: 4.8162 - 710ms/epoch - 36ms/step\n",
            "Epoch 13/100\n",
            "20/20 - 1s - loss: 52.5391 - mae: 4.0963 - 700ms/epoch - 35ms/step\n",
            "Epoch 14/100\n",
            "20/20 - 1s - loss: 43.7501 - mae: 3.7093 - 709ms/epoch - 35ms/step\n",
            "Epoch 15/100\n",
            "20/20 - 1s - loss: 39.6227 - mae: 3.5305 - 712ms/epoch - 36ms/step\n",
            "Epoch 16/100\n",
            "20/20 - 1s - loss: 37.7778 - mae: 3.4175 - 705ms/epoch - 35ms/step\n",
            "Epoch 17/100\n",
            "20/20 - 1s - loss: 36.6897 - mae: 3.3061 - 704ms/epoch - 35ms/step\n",
            "Epoch 18/100\n",
            "20/20 - 1s - loss: 35.8920 - mae: 3.2040 - 717ms/epoch - 36ms/step\n",
            "Epoch 19/100\n",
            "20/20 - 1s - loss: 35.2001 - mae: 3.1247 - 720ms/epoch - 36ms/step\n",
            "Epoch 20/100\n",
            "20/20 - 1s - loss: 34.9262 - mae: 3.0573 - 708ms/epoch - 35ms/step\n",
            "Epoch 21/100\n",
            "20/20 - 1s - loss: 34.7468 - mae: 3.0044 - 711ms/epoch - 36ms/step\n",
            "Epoch 22/100\n",
            "20/20 - 1s - loss: 34.4754 - mae: 2.9660 - 713ms/epoch - 36ms/step\n",
            "Epoch 23/100\n",
            "20/20 - 1s - loss: 34.2844 - mae: 2.9315 - 708ms/epoch - 35ms/step\n",
            "Epoch 24/100\n",
            "20/20 - 1s - loss: 34.0972 - mae: 2.9044 - 704ms/epoch - 35ms/step\n",
            "Epoch 25/100\n",
            "20/20 - 1s - loss: 33.9077 - mae: 2.8816 - 707ms/epoch - 35ms/step\n",
            "Epoch 26/100\n",
            "20/20 - 1s - loss: 33.7771 - mae: 2.8627 - 711ms/epoch - 36ms/step\n",
            "Epoch 27/100\n",
            "20/20 - 1s - loss: 33.6204 - mae: 2.8460 - 706ms/epoch - 35ms/step\n",
            "Epoch 28/100\n",
            "20/20 - 1s - loss: 33.4455 - mae: 2.8285 - 708ms/epoch - 35ms/step\n",
            "Epoch 29/100\n",
            "20/20 - 1s - loss: 33.2303 - mae: 2.8133 - 715ms/epoch - 36ms/step\n",
            "Epoch 30/100\n",
            "20/20 - 1s - loss: 33.1801 - mae: 2.7988 - 704ms/epoch - 35ms/step\n",
            "Epoch 31/100\n",
            "20/20 - 1s - loss: 32.7211 - mae: 2.7820 - 710ms/epoch - 35ms/step\n",
            "Epoch 32/100\n",
            "20/20 - 1s - loss: 32.7027 - mae: 2.7702 - 713ms/epoch - 36ms/step\n",
            "Epoch 33/100\n",
            "20/20 - 1s - loss: 32.6062 - mae: 2.7568 - 711ms/epoch - 36ms/step\n",
            "Epoch 34/100\n",
            "20/20 - 1s - loss: 32.4708 - mae: 2.7457 - 706ms/epoch - 35ms/step\n",
            "Epoch 35/100\n",
            "20/20 - 1s - loss: 32.1736 - mae: 2.7326 - 718ms/epoch - 36ms/step\n",
            "Epoch 36/100\n",
            "20/20 - 1s - loss: 31.9541 - mae: 2.7221 - 709ms/epoch - 35ms/step\n",
            "Epoch 37/100\n",
            "20/20 - 1s - loss: 31.8696 - mae: 2.7128 - 702ms/epoch - 35ms/step\n",
            "Epoch 38/100\n",
            "20/20 - 1s - loss: 31.5753 - mae: 2.7025 - 709ms/epoch - 35ms/step\n",
            "Epoch 39/100\n",
            "20/20 - 1s - loss: 31.4086 - mae: 2.6933 - 708ms/epoch - 35ms/step\n",
            "Epoch 40/100\n",
            "20/20 - 1s - loss: 31.3483 - mae: 2.6858 - 708ms/epoch - 35ms/step\n",
            "Epoch 41/100\n",
            "20/20 - 1s - loss: 31.1957 - mae: 2.6760 - 708ms/epoch - 35ms/step\n",
            "Epoch 42/100\n",
            "20/20 - 1s - loss: 31.1538 - mae: 2.6702 - 711ms/epoch - 36ms/step\n",
            "Epoch 43/100\n",
            "20/20 - 1s - loss: 30.7711 - mae: 2.6619 - 714ms/epoch - 36ms/step\n",
            "Epoch 44/100\n",
            "20/20 - 1s - loss: 30.7098 - mae: 2.6575 - 704ms/epoch - 35ms/step\n",
            "Epoch 45/100\n",
            "20/20 - 1s - loss: 30.7709 - mae: 2.6527 - 713ms/epoch - 36ms/step\n",
            "Epoch 46/100\n",
            "20/20 - 1s - loss: 30.6001 - mae: 2.6464 - 710ms/epoch - 35ms/step\n",
            "Epoch 47/100\n",
            "20/20 - 1s - loss: 30.5232 - mae: 2.6415 - 715ms/epoch - 36ms/step\n",
            "Epoch 48/100\n",
            "20/20 - 1s - loss: 30.3272 - mae: 2.6349 - 699ms/epoch - 35ms/step\n",
            "Epoch 49/100\n",
            "20/20 - 1s - loss: 30.1521 - mae: 2.6304 - 715ms/epoch - 36ms/step\n",
            "Epoch 50/100\n",
            "20/20 - 1s - loss: 30.2468 - mae: 2.6218 - 708ms/epoch - 35ms/step\n",
            "Epoch 51/100\n",
            "20/20 - 1s - loss: 30.0629 - mae: 2.6185 - 706ms/epoch - 35ms/step\n",
            "Epoch 52/100\n",
            "20/20 - 1s - loss: 29.9483 - mae: 2.6165 - 716ms/epoch - 36ms/step\n",
            "Epoch 53/100\n",
            "20/20 - 1s - loss: 29.7510 - mae: 2.6064 - 709ms/epoch - 35ms/step\n",
            "Epoch 54/100\n",
            "20/20 - 1s - loss: 29.9853 - mae: 2.6071 - 711ms/epoch - 36ms/step\n",
            "Epoch 55/100\n",
            "20/20 - 1s - loss: 29.5964 - mae: 2.6026 - 706ms/epoch - 35ms/step\n",
            "Epoch 56/100\n",
            "20/20 - 1s - loss: 29.7277 - mae: 2.5968 - 708ms/epoch - 35ms/step\n",
            "Epoch 57/100\n",
            "20/20 - 1s - loss: 29.5714 - mae: 2.5947 - 705ms/epoch - 35ms/step\n",
            "Epoch 58/100\n",
            "20/20 - 1s - loss: 29.5757 - mae: 2.5923 - 702ms/epoch - 35ms/step\n",
            "Epoch 59/100\n",
            "20/20 - 1s - loss: 29.3060 - mae: 2.5906 - 715ms/epoch - 36ms/step\n",
            "Epoch 60/100\n",
            "20/20 - 1s - loss: 29.3268 - mae: 2.5837 - 707ms/epoch - 35ms/step\n",
            "Epoch 61/100\n",
            "20/20 - 1s - loss: 29.2399 - mae: 2.5796 - 702ms/epoch - 35ms/step\n",
            "Epoch 62/100\n",
            "20/20 - 1s - loss: 29.2102 - mae: 2.5762 - 704ms/epoch - 35ms/step\n",
            "Epoch 63/100\n",
            "20/20 - 1s - loss: 29.0208 - mae: 2.5764 - 707ms/epoch - 35ms/step\n",
            "Epoch 64/100\n",
            "20/20 - 1s - loss: 28.8734 - mae: 2.5752 - 714ms/epoch - 36ms/step\n",
            "Epoch 65/100\n",
            "20/20 - 1s - loss: 28.9539 - mae: 2.5683 - 704ms/epoch - 35ms/step\n",
            "Epoch 66/100\n",
            "20/20 - 1s - loss: 28.8301 - mae: 2.5671 - 707ms/epoch - 35ms/step\n",
            "Epoch 67/100\n",
            "20/20 - 1s - loss: 28.8316 - mae: 2.5683 - 756ms/epoch - 38ms/step\n",
            "Epoch 68/100\n",
            "20/20 - 1s - loss: 28.8066 - mae: 2.5653 - 774ms/epoch - 39ms/step\n",
            "Epoch 69/100\n",
            "20/20 - 1s - loss: 28.5905 - mae: 2.5582 - 824ms/epoch - 41ms/step\n",
            "Epoch 70/100\n",
            "20/20 - 1s - loss: 28.3914 - mae: 2.5563 - 817ms/epoch - 41ms/step\n",
            "Epoch 71/100\n",
            "20/20 - 1s - loss: 28.3111 - mae: 2.5563 - 704ms/epoch - 35ms/step\n",
            "Epoch 72/100\n",
            "20/20 - 1s - loss: 28.3633 - mae: 2.5524 - 709ms/epoch - 35ms/step\n",
            "Epoch 73/100\n",
            "20/20 - 1s - loss: 28.3455 - mae: 2.5505 - 698ms/epoch - 35ms/step\n",
            "Epoch 74/100\n",
            "20/20 - 1s - loss: 28.2689 - mae: 2.5495 - 707ms/epoch - 35ms/step\n",
            "Epoch 75/100\n",
            "20/20 - 1s - loss: 27.8975 - mae: 2.5522 - 703ms/epoch - 35ms/step\n",
            "Epoch 76/100\n",
            "20/20 - 1s - loss: 28.0563 - mae: 2.5453 - 703ms/epoch - 35ms/step\n",
            "Epoch 77/100\n",
            "20/20 - 1s - loss: 27.8657 - mae: 2.5435 - 706ms/epoch - 35ms/step\n",
            "Epoch 78/100\n",
            "20/20 - 1s - loss: 27.7773 - mae: 2.5417 - 708ms/epoch - 35ms/step\n",
            "Epoch 79/100\n",
            "20/20 - 1s - loss: 27.9899 - mae: 2.5398 - 704ms/epoch - 35ms/step\n",
            "Epoch 80/100\n",
            "20/20 - 1s - loss: 27.9413 - mae: 2.5400 - 746ms/epoch - 37ms/step\n",
            "Epoch 81/100\n",
            "20/20 - 1s - loss: 27.5289 - mae: 2.5326 - 872ms/epoch - 44ms/step\n",
            "Epoch 82/100\n",
            "20/20 - 1s - loss: 27.5968 - mae: 2.5357 - 1s/epoch - 52ms/step\n",
            "Epoch 83/100\n",
            "20/20 - 1s - loss: 27.4738 - mae: 2.5342 - 816ms/epoch - 41ms/step\n",
            "Epoch 84/100\n",
            "20/20 - 1s - loss: 27.3910 - mae: 2.5259 - 943ms/epoch - 47ms/step\n",
            "Epoch 85/100\n",
            "20/20 - 1s - loss: 27.4053 - mae: 2.5224 - 936ms/epoch - 47ms/step\n",
            "Epoch 86/100\n",
            "20/20 - 1s - loss: 27.3425 - mae: 2.5280 - 885ms/epoch - 44ms/step\n",
            "Epoch 87/100\n",
            "20/20 - 1s - loss: 27.4725 - mae: 2.5171 - 845ms/epoch - 42ms/step\n",
            "Epoch 88/100\n",
            "20/20 - 1s - loss: 27.3305 - mae: 2.5233 - 854ms/epoch - 43ms/step\n",
            "Epoch 89/100\n",
            "20/20 - 1s - loss: 27.3663 - mae: 2.5163 - 872ms/epoch - 44ms/step\n",
            "Epoch 90/100\n",
            "20/20 - 1s - loss: 27.4178 - mae: 2.5243 - 960ms/epoch - 48ms/step\n",
            "Epoch 91/100\n",
            "20/20 - 1s - loss: 26.8523 - mae: 2.5138 - 891ms/epoch - 45ms/step\n",
            "Epoch 92/100\n",
            "20/20 - 1s - loss: 27.2795 - mae: 2.5142 - 857ms/epoch - 43ms/step\n",
            "Epoch 93/100\n",
            "20/20 - 1s - loss: 27.0090 - mae: 2.5124 - 851ms/epoch - 43ms/step\n",
            "Epoch 94/100\n",
            "20/20 - 1s - loss: 26.9536 - mae: 2.5116 - 904ms/epoch - 45ms/step\n",
            "Epoch 95/100\n",
            "20/20 - 1s - loss: 26.8341 - mae: 2.5054 - 917ms/epoch - 46ms/step\n",
            "Epoch 96/100\n",
            "20/20 - 1s - loss: 26.5503 - mae: 2.5061 - 995ms/epoch - 50ms/step\n",
            "Epoch 97/100\n",
            "20/20 - 1s - loss: 26.6085 - mae: 2.5012 - 954ms/epoch - 48ms/step\n",
            "Epoch 98/100\n",
            "20/20 - 1s - loss: 26.5759 - mae: 2.5015 - 848ms/epoch - 42ms/step\n",
            "Epoch 99/100\n",
            "20/20 - 1s - loss: 26.6581 - mae: 2.4985 - 888ms/epoch - 44ms/step\n",
            "Epoch 100/100\n",
            "20/20 - 1s - loss: 26.4117 - mae: 2.4946 - 817ms/epoch - 41ms/step\n"
          ]
        }
      ],
      "source": [
        "final_model = Sequential()\n",
        "final_model.add(Dense(64,activation = 'relu',kernel_initializer = 'normal',input_dim = X_ss.shape[1]))\n",
        "final_model.add(Dropout(0.3))\n",
        "final_model.add(Dense(3,activation = 'relu'))\n",
        "final_model.add(Dense(1))\n",
        "final_model.compile(loss = 'mse',optimizer = 'adam',metrics = 'mae')\n",
        "history_final_model = final_model.fit(X_ss,y, epochs = 100, batch_size = 50000,verbose = 2)"
      ],
      "id": "8bd78df4"
    },
    {
      "cell_type": "code",
      "execution_count": null,
      "metadata": {
        "id": "8a3a7498",
        "outputId": "389ee6e9-5799-45c1-fff2-3195b3e005fb"
      },
      "outputs": [
        {
          "name": "stdout",
          "output_type": "stream",
          "text": [
            "310/310 [==============================] - 1s 2ms/step\n"
          ]
        }
      ],
      "source": [
        "ann_prediction = pd.DataFrame({\"key\": testdf['key'], \"fare_amount\":final_model.predict(test_my_dataframe_ss).flatten()})\n",
        "ann_prediction.to_csv(\"taxi_fare_prediction.csv\", index=False)"
      ],
      "id": "8a3a7498"
    },
    {
      "cell_type": "markdown",
      "metadata": {
        "id": "69404075"
      },
      "source": [
        "Saving the prediction in the taxi_fare_prediction file"
      ],
      "id": "69404075"
    },
    {
      "cell_type": "code",
      "source": [],
      "metadata": {
        "id": "fswSNgE14v0C"
      },
      "id": "fswSNgE14v0C",
      "execution_count": null,
      "outputs": []
    },
    {
      "cell_type": "code",
      "source": [],
      "metadata": {
        "id": "Q_1uE7BE4vdb"
      },
      "id": "Q_1uE7BE4vdb",
      "execution_count": null,
      "outputs": []
    },
    {
      "cell_type": "markdown",
      "metadata": {
        "id": "e37f4e2a"
      },
      "source": [
        "# Part 2: Breaking hcaptcha"
      ],
      "id": "e37f4e2a"
    },
    {
      "cell_type": "code",
      "execution_count": null,
      "metadata": {
        "id": "182bfa6a",
        "outputId": "3c97c653-d421-4c06-d907-7478dbb543d6"
      },
      "outputs": [
        {
          "name": "stdout",
          "output_type": "stream",
          "text": [
            "['boat', 'motorcycle', 'airplane', 'truck', 'seaplane', 'bicycle', 'motorbus']\n"
          ]
        }
      ],
      "source": [
        "import os                      \n",
        "classes = os.listdir(\"hcaptcha_dataset/train/\")\n",
        "print(classes)"
      ],
      "id": "182bfa6a"
    },
    {
      "cell_type": "markdown",
      "metadata": {
        "id": "f56a5c6b"
      },
      "source": [
        "There are 7 classes to the dataset.\\ Taking 20% data as Testing and taking the remaining 80% for Training.\n",
        "\n",
        "For splitting out dataset into 2 categories we will use the split-folders package in python. It can be downloaded using pip install split-folders"
      ],
      "id": "f56a5c6b"
    },
    {
      "cell_type": "code",
      "execution_count": null,
      "metadata": {
        "id": "b6ff5627"
      },
      "outputs": [],
      "source": [
        "%%capture\n",
        "!pip install split-folders"
      ],
      "id": "b6ff5627"
    },
    {
      "cell_type": "code",
      "execution_count": null,
      "metadata": {
        "id": "dd7cdb20"
      },
      "outputs": [],
      "source": [
        "%%capture\n",
        "import splitfolders\n",
        "splitfolders.ratio(\"hcaptcha_dataset/train/\", output=\"./\", seed=1337, ratio=(0.8, 0.2))"
      ],
      "id": "dd7cdb20"
    },
    {
      "cell_type": "code",
      "execution_count": null,
      "metadata": {
        "id": "1e132aa9",
        "outputId": "964bda07-26cc-4946-e502-606f3d3a883e"
      },
      "outputs": [
        {
          "data": {
            "text/plain": [
              "['boat', 'motorcycle', 'airplane', 'truck', 'seaplane', 'bicycle', 'motorbus']"
            ]
          },
          "execution_count": 125,
          "metadata": {},
          "output_type": "execute_result"
        }
      ],
      "source": [
        "os.listdir(\"./train\")"
      ],
      "id": "1e132aa9"
    },
    {
      "cell_type": "code",
      "execution_count": null,
      "metadata": {
        "id": "99dbde1d",
        "outputId": "63ba640b-14a7-4635-dd02-ba07941e5204"
      },
      "outputs": [
        {
          "data": {
            "text/plain": [
              "['boat', 'motorcycle', 'airplane', 'truck', 'seaplane', 'bicycle', 'motorbus']"
            ]
          },
          "execution_count": 128,
          "metadata": {},
          "output_type": "execute_result"
        }
      ],
      "source": [
        "os.listdir(\"./val\")"
      ],
      "id": "99dbde1d"
    },
    {
      "cell_type": "markdown",
      "metadata": {
        "id": "06a851c8"
      },
      "source": [
        "## (20 marks) Create a baseline Neural network with the following specifications.\n"
      ],
      "id": "06a851c8"
    },
    {
      "cell_type": "code",
      "execution_count": null,
      "metadata": {
        "id": "2e904a35",
        "outputId": "65744e1b-0aab-4b3e-f3de-a8f3aa7dd89e"
      },
      "outputs": [
        {
          "name": "stdout",
          "output_type": "stream",
          "text": [
            "['boat', 'motorcycle', 'airplane', 'truck', 'seaplane', 'bicycle', 'motorbus']\n"
          ]
        }
      ],
      "source": [
        "labels = os.listdir(\"./train\")\n",
        "print(labels)"
      ],
      "id": "2e904a35"
    },
    {
      "cell_type": "markdown",
      "metadata": {
        "id": "254c6c81"
      },
      "source": [
        "labels in dataset"
      ],
      "id": "254c6c81"
    },
    {
      "cell_type": "code",
      "execution_count": null,
      "metadata": {
        "id": "32977220",
        "outputId": "a03b2025-f0d7-4762-b8c3-df3a9b9c774e"
      },
      "outputs": [
        {
          "data": {
            "text/html": [
              "<div>\n",
              "<style scoped>\n",
              "    .dataframe tbody tr th:only-of-type {\n",
              "        vertical-align: middle;\n",
              "    }\n",
              "\n",
              "    .dataframe tbody tr th {\n",
              "        vertical-align: top;\n",
              "    }\n",
              "\n",
              "    .dataframe thead th {\n",
              "        text-align: right;\n",
              "    }\n",
              "</style>\n",
              "<table border=\"1\" class=\"dataframe\">\n",
              "  <thead>\n",
              "    <tr style=\"text-align: right;\">\n",
              "      <th></th>\n",
              "      <th>Label</th>\n",
              "      <th>Number(training)</th>\n",
              "      <th>Number(testing)</th>\n",
              "      <th>Total</th>\n",
              "    </tr>\n",
              "  </thead>\n",
              "  <tbody>\n",
              "    <tr>\n",
              "      <th>0</th>\n",
              "      <td>boat</td>\n",
              "      <td>422</td>\n",
              "      <td>106</td>\n",
              "      <td>528</td>\n",
              "    </tr>\n",
              "    <tr>\n",
              "      <th>1</th>\n",
              "      <td>motorcycle</td>\n",
              "      <td>473</td>\n",
              "      <td>119</td>\n",
              "      <td>592</td>\n",
              "    </tr>\n",
              "    <tr>\n",
              "      <th>2</th>\n",
              "      <td>airplane</td>\n",
              "      <td>321</td>\n",
              "      <td>81</td>\n",
              "      <td>402</td>\n",
              "    </tr>\n",
              "    <tr>\n",
              "      <th>3</th>\n",
              "      <td>truck</td>\n",
              "      <td>524</td>\n",
              "      <td>132</td>\n",
              "      <td>656</td>\n",
              "    </tr>\n",
              "    <tr>\n",
              "      <th>4</th>\n",
              "      <td>seaplane</td>\n",
              "      <td>224</td>\n",
              "      <td>56</td>\n",
              "      <td>280</td>\n",
              "    </tr>\n",
              "    <tr>\n",
              "      <th>5</th>\n",
              "      <td>bicycle</td>\n",
              "      <td>243</td>\n",
              "      <td>61</td>\n",
              "      <td>304</td>\n",
              "    </tr>\n",
              "    <tr>\n",
              "      <th>6</th>\n",
              "      <td>motorbus</td>\n",
              "      <td>204</td>\n",
              "      <td>52</td>\n",
              "      <td>256</td>\n",
              "    </tr>\n",
              "  </tbody>\n",
              "</table>\n",
              "</div>"
            ],
            "text/plain": [
              "        Label  Number(training)  Number(testing)  Total\n",
              "0        boat               422              106    528\n",
              "1  motorcycle               473              119    592\n",
              "2    airplane               321               81    402\n",
              "3       truck               524              132    656\n",
              "4    seaplane               224               56    280\n",
              "5     bicycle               243               61    304\n",
              "6    motorbus               204               52    256"
            ]
          },
          "execution_count": 130,
          "metadata": {},
          "output_type": "execute_result"
        }
      ],
      "source": [
        "import pandas as pd\n",
        "\n",
        "names=[]\n",
        "my_train=[]\n",
        "my_test=[]\n",
        "my_total = []\n",
        "\n",
        "for name in labels:\n",
        "    im_num_train = len(os.listdir(f\"./train/{name}\"))\n",
        "    im_num_test = len(os.listdir(f\"./val/{name}\"))\n",
        "    \n",
        "    names.append(name)\n",
        "    my_train.append(im_num_train)\n",
        "    my_test.append(im_num_test)\n",
        "    my_total.append(im_num_train+im_num_test)\n",
        "dic = {'Label': names, 'Number(training)': my_train, 'Number(testing)': my_test, 'Total': my_total} \n",
        "    \n",
        "my_dataframe = pd.DataFrame(dic)\n",
        "my_dataframe"
      ],
      "id": "32977220"
    },
    {
      "cell_type": "markdown",
      "metadata": {
        "id": "6fc4ecda"
      },
      "source": [
        "No of images belonging to each class"
      ],
      "id": "6fc4ecda"
    },
    {
      "cell_type": "code",
      "execution_count": null,
      "metadata": {
        "id": "7fc016f6",
        "outputId": "cb493319-e374-49e4-e455-4f427c197426"
      },
      "outputs": [
        {
          "name": "stdout",
          "output_type": "stream",
          "text": [
            "Total training images: 2411\n",
            "Total testing images: 607\n"
          ]
        }
      ],
      "source": [
        "print(f\"Total training images: {my_dataframe['Number(training)'].sum()}\")\n",
        "print(f\"Total testing images: {my_dataframe['Number(testing)'].sum()}\")"
      ],
      "id": "7fc016f6"
    },
    {
      "cell_type": "markdown",
      "metadata": {
        "id": "f55c7802"
      },
      "source": [
        "Write a function to display a random image and its shape. Find out whether the shape of each image is the same or not. If not then make all images of the same shape."
      ],
      "id": "f55c7802"
    },
    {
      "cell_type": "code",
      "execution_count": null,
      "metadata": {
        "id": "6d890b85"
      },
      "outputs": [],
      "source": [
        "import random\n",
        "def random_image(path):      \n",
        "    labels = os.listdir(path)\n",
        "    random_label = random.choice(labels)\n",
        "\n",
        "    image_with_choson_label = os.listdir(f\"./train/{random_label}\")\n",
        "    random_image = random.choice(image_with_choson_label)\n",
        "    img_path = f\"./train/{random_label}/{random_image}\"\n",
        "    print(random_label)\n",
        "    return img_path"
      ],
      "id": "6d890b85"
    },
    {
      "cell_type": "code",
      "execution_count": null,
      "metadata": {
        "id": "3a69e226",
        "outputId": "cf2b8dc6-47a1-46f5-c05d-c19a161210bc"
      },
      "outputs": [
        {
          "name": "stdout",
          "output_type": "stream",
          "text": [
            "{(128, 128): 2411}\n"
          ]
        }
      ],
      "source": [
        "import matplotlib.pyplot as plt\n",
        "labels = os.listdir(\"./train\")\n",
        "\n",
        "size = {}\n",
        "for label in labels:\n",
        "    images = os.listdir(f\"./train/{label}\")\n",
        "    for image in images:    \n",
        "        img = plt.imread(f\"./train/{label}/{image}\")\n",
        "        if img.shape not in size:\n",
        "            size[img.shape]=1\n",
        "        else:\n",
        "            size[img.shape]+=1\n",
        "\n",
        "print(size)"
      ],
      "id": "3a69e226"
    },
    {
      "cell_type": "markdown",
      "metadata": {
        "id": "c81a601f"
      },
      "source": [
        "Running the above code shows us there are 2 different file dimensions."
      ],
      "id": "c81a601f"
    },
    {
      "cell_type": "code",
      "execution_count": null,
      "metadata": {
        "id": "4b59e547"
      },
      "outputs": [],
      "source": [
        "from PIL import Image\n",
        "import cv2\n",
        "\n",
        "for label in labels:\n",
        "    images = os.listdir(f\"./train/{label}\")\n",
        "    for image in images:    \n",
        "        img = cv2.imread(f\"./train/{label}/{image}\")\n",
        "        try:\n",
        "            if img.shape == list(size)[1]:\n",
        "                img = cv2.resize(img, dsize=(128, 128), interpolation=cv2.INTER_AREA)\n",
        "                cv2.imwrite(f\"./train/{label}/{image}\", img)\n",
        "        except:\n",
        "            continue"
      ],
      "id": "4b59e547"
    },
    {
      "cell_type": "code",
      "execution_count": null,
      "metadata": {
        "id": "b113c333",
        "outputId": "0d8e4460-7313-46e8-bda8-d3e6c03cea62"
      },
      "outputs": [
        {
          "name": "stdout",
          "output_type": "stream",
          "text": [
            "{(128, 128): 2411}\n",
            "2411\n"
          ]
        }
      ],
      "source": [
        "labels = os.listdir(\"./train\")\n",
        "\n",
        "size = {}\n",
        "for label in labels:\n",
        "    images = os.listdir(f\"./train/{label}\")\n",
        "    for image in images:    \n",
        "        img = plt.imread(f\"./train/{label}/{image}\")\n",
        "        if img.shape not in size:\n",
        "            size[img.shape]=1\n",
        "        else:\n",
        "            size[img.shape]+=1\n",
        "\n",
        "print(size)\n",
        "my_train = list(size.values())[0]\n",
        "print(my_train)"
      ],
      "id": "b113c333"
    },
    {
      "cell_type": "markdown",
      "metadata": {
        "id": "35710fcb"
      },
      "source": [
        "We maked all the images dimension = 128x128x3"
      ],
      "id": "35710fcb"
    },
    {
      "cell_type": "code",
      "execution_count": null,
      "metadata": {
        "id": "d925ff8a"
      },
      "outputs": [],
      "source": [
        "from PIL import Image\n",
        "import cv2\n",
        "import matplotlib.pyplot as plt\n",
        "\n",
        "\n",
        "for label in labels:\n",
        "    images = os.listdir(f\"./train/{label}\")\n",
        "    for image in images:\n",
        "        try:\n",
        "            img = cv2.imread(f\"./train/{label}/{image}\")\n",
        "            gray = cv2.cvtColor(img, cv2.COLOR_BGR2GRAY)\n",
        "            cv2.imwrite(f\"./train/{label}/{image}\", gray)\n",
        "        except:\n",
        "            continue"
      ],
      "id": "d925ff8a"
    },
    {
      "cell_type": "code",
      "execution_count": null,
      "metadata": {
        "id": "079fc478",
        "outputId": "8d278371-929c-4792-df54-4f4109a4f87e"
      },
      "outputs": [
        {
          "name": "stdout",
          "output_type": "stream",
          "text": [
            "motorbus\n"
          ]
        },
        {
          "data": {
            "text/plain": [
              "<matplotlib.image.AxesImage at 0x7f90ab174be0>"
            ]
          },
          "execution_count": 155,
          "metadata": {},
          "output_type": "execute_result"
        },
        {
          "data": {
            "image/png": "[encoded data removed]",
            "text/plain": [
              "<Figure size 432x288 with 1 Axes>"
            ]
          },
          "metadata": {
            "needs_background": "light"
          },
          "output_type": "display_data"
        }
      ],
      "source": [
        "import PIL\n",
        "import matplotlib.pyplot as plt\n",
        "\n",
        "img_check = random_image(\"./train\")\n",
        "img = PIL.Image.open(img_check)\n",
        "gray_img = img.convert(\"L\")\n",
        "plt.imshow(gray_img, cmap='gray')"
      ],
      "id": "079fc478"
    },
    {
      "cell_type": "markdown",
      "metadata": {
        "id": "e8c0b2d1"
      },
      "source": [
        "Image normalization is a typical process in image processing that changes the range of pixel intensity values. Its normal purpose is to convert an input image into a range of pixel values that are more familiar or normal to the senses, hence the term normalization.\n",
        "\n",
        "Image data should be normalised when we want the model to be brightness invariant. There are chances some images are clicked in dim lighting conditions while some were clicked in bright illumination. Normalisation will help all image to weight equally irrespective of illumination. We should definately normalise our color channels.\n",
        "\n",
        "Let us find the mean and standard deviation of pixel intensity."
      ],
      "id": "e8c0b2d1"
    },
    {
      "cell_type": "code",
      "execution_count": null,
      "metadata": {
        "id": "7d3543ef",
        "outputId": "1485c9f0-9aa1-4d9f-dab7-735c88bb393b"
      },
      "outputs": [
        {
          "name": "stdout",
          "output_type": "stream",
          "text": [
            "minimum_pixel_intensity:  0\n",
            "maximum_pixel_intensity:  255\n",
            "mean_pixel_intensity: 137.64696161878499\n",
            "std_pixel_intensity:  33.24571848596172\n"
          ]
        }
      ],
      "source": [
        "labels = os.listdir(\"./train\")\n",
        "\n",
        "maximum_pixel_intensity = float(\"-inf\")\n",
        "minimum_pixel_intensity = float(\"inf\")\n",
        "mean_pixel_intensity = 0\n",
        "std_pixel_intensity = 0\n",
        "\n",
        "for label in labels:\n",
        "    images = os.listdir(f\"./train/{label}\")\n",
        "    for image in images:    \n",
        "        img = plt.imread(f\"./train/{label}/{image}\",cv2.IMREAD_UNCHANGED)\n",
        "        if minimum_pixel_intensity>img.min():\n",
        "            minimum_pixel_intensity = img.min() \n",
        "        if maximum_pixel_intensity < img.max():\n",
        "            maximum_pixel_intensity = img.max()\n",
        "        mean_pixel_intensity+=img.sum()\n",
        "mean_pixel_intensity = mean_pixel_intensity/(128*128*my_train)  \n",
        "\n",
        "std_pixel_intensity = 0\n",
        "sum_diff = 0\n",
        "\n",
        "for label in labels:\n",
        "    images = os.listdir(f\"./train/{label}\")\n",
        "    for image in images:    \n",
        "        img = plt.imread(f\"./train/{label}/{image}\",cv2.IMREAD_UNCHANGED)\n",
        "        temp = ((img.sum()/(128*128))-mean_pixel_intensity)**2\n",
        "        sum_diff+=temp\n",
        "std_pixel_intensity = (sum_diff/(my_train))**(1/2)\n",
        "\n",
        "print(\"minimum_pixel_intensity: \", minimum_pixel_intensity)\n",
        "print(\"maximum_pixel_intensity: \", maximum_pixel_intensity)\n",
        "print(\"mean_pixel_intensity:\", mean_pixel_intensity)\n",
        "print(\"std_pixel_intensity: \",std_pixel_intensity)"
      ],
      "id": "7d3543ef"
    },
    {
      "cell_type": "markdown",
      "metadata": {
        "id": "bc73c3f1"
      },
      "source": [
        "We can pre-process our images in three ways. One of them is pixel scaling. The three main types of pixel scaling techniques as follows:\n",
        "\n",
        "Pixel Normalization: scale pixel values to the range 0-1.\n",
        "\n",
        "Pixel Centering: scale pixel values to have a zero mean.\n",
        "\n",
        "Pixel Standardization: scale pixel values to have a zero mean and unit variance."
      ],
      "id": "bc73c3f1"
    },
    {
      "cell_type": "markdown",
      "metadata": {
        "id": "55115c19"
      },
      "source": [
        "Dividing all pixel values by 255 to bring them betweeen 0 and 1.\n",
        "Reducing the image dimensions to 28x28"
      ],
      "id": "55115c19"
    },
    {
      "cell_type": "code",
      "execution_count": null,
      "metadata": {
        "id": "f5727aca"
      },
      "outputs": [],
      "source": [
        "from PIL import Image\n",
        "import cv2\n",
        "import matplotlib.pyplot as plt\n",
        "\n",
        "def resize_and_normalise(img_path):\n",
        "    img = cv2.imread(img_path,cv2.IMREAD_UNCHANGED)\n",
        "    img = cv2.resize(img, dsize=(40, 40), interpolation = cv2.INTER_AREA)\n",
        "    img_resized = img / 255\n",
        "    return img_resized"
      ],
      "id": "f5727aca"
    },
    {
      "cell_type": "code",
      "execution_count": null,
      "metadata": {
        "id": "1073a7e1",
        "outputId": "d43d1135-0d20-4bdf-e8f4-ec94c8e146bf"
      },
      "outputs": [
        {
          "name": "stdout",
          "output_type": "stream",
          "text": [
            "['boat', 'motorcycle', 'airplane', 'truck', 'seaplane', 'bicycle', 'motorbus']\n"
          ]
        }
      ],
      "source": [
        "import os\n",
        "classes = os.listdir(\"./train\")\n",
        "print(classes)"
      ],
      "id": "1073a7e1"
    },
    {
      "cell_type": "code",
      "execution_count": null,
      "metadata": {
        "id": "5173cc1b",
        "outputId": "c031501f-e43c-4fae-aeab-e89b50497d9f"
      },
      "outputs": [
        {
          "data": {
            "text/html": [
              "<div>\n",
              "<style scoped>\n",
              "    .dataframe tbody tr th:only-of-type {\n",
              "        vertical-align: middle;\n",
              "    }\n",
              "\n",
              "    .dataframe tbody tr th {\n",
              "        vertical-align: top;\n",
              "    }\n",
              "\n",
              "    .dataframe thead th {\n",
              "        text-align: right;\n",
              "    }\n",
              "</style>\n",
              "<table border=\"1\" class=\"dataframe\">\n",
              "  <thead>\n",
              "    <tr style=\"text-align: right;\">\n",
              "      <th></th>\n",
              "      <th>Label</th>\n",
              "      <th>Number(training)</th>\n",
              "      <th>Number(testing)</th>\n",
              "      <th>Total</th>\n",
              "    </tr>\n",
              "  </thead>\n",
              "  <tbody>\n",
              "    <tr>\n",
              "      <th>0</th>\n",
              "      <td>boat</td>\n",
              "      <td>422</td>\n",
              "      <td>106</td>\n",
              "      <td>528</td>\n",
              "    </tr>\n",
              "    <tr>\n",
              "      <th>1</th>\n",
              "      <td>motorcycle</td>\n",
              "      <td>473</td>\n",
              "      <td>119</td>\n",
              "      <td>592</td>\n",
              "    </tr>\n",
              "    <tr>\n",
              "      <th>2</th>\n",
              "      <td>airplane</td>\n",
              "      <td>321</td>\n",
              "      <td>81</td>\n",
              "      <td>402</td>\n",
              "    </tr>\n",
              "    <tr>\n",
              "      <th>3</th>\n",
              "      <td>truck</td>\n",
              "      <td>524</td>\n",
              "      <td>132</td>\n",
              "      <td>656</td>\n",
              "    </tr>\n",
              "    <tr>\n",
              "      <th>4</th>\n",
              "      <td>seaplane</td>\n",
              "      <td>224</td>\n",
              "      <td>56</td>\n",
              "      <td>280</td>\n",
              "    </tr>\n",
              "    <tr>\n",
              "      <th>5</th>\n",
              "      <td>bicycle</td>\n",
              "      <td>243</td>\n",
              "      <td>61</td>\n",
              "      <td>304</td>\n",
              "    </tr>\n",
              "    <tr>\n",
              "      <th>6</th>\n",
              "      <td>motorbus</td>\n",
              "      <td>204</td>\n",
              "      <td>52</td>\n",
              "      <td>256</td>\n",
              "    </tr>\n",
              "  </tbody>\n",
              "</table>\n",
              "</div>"
            ],
            "text/plain": [
              "        Label  Number(training)  Number(testing)  Total\n",
              "0        boat               422              106    528\n",
              "1  motorcycle               473              119    592\n",
              "2    airplane               321               81    402\n",
              "3       truck               524              132    656\n",
              "4    seaplane               224               56    280\n",
              "5     bicycle               243               61    304\n",
              "6    motorbus               204               52    256"
            ]
          },
          "execution_count": 160,
          "metadata": {},
          "output_type": "execute_result"
        }
      ],
      "source": [
        "my_dataframe"
      ],
      "id": "5173cc1b"
    },
    {
      "cell_type": "markdown",
      "metadata": {
        "id": "5fda2dd9"
      },
      "source": [
        "As we can see after splitting into test and train the number of images in each class are different.The problem with such a datset is that models trained on it wll be biased towards the more occuring classes. There will no propoer representation of minority classes in both validation and training.\n",
        "\n",
        "Balanced training sample become very important.\n",
        "\n",
        "There are several ways to tackle this unbalanced data problem. 2 basic ones are:\n",
        "\n",
        "Undersampling the majority classes\n",
        "Oversampling the minority classes\n",
        "Apart from this we can also take balanced subsets of the datset during training."
      ],
      "id": "5fda2dd9"
    },
    {
      "cell_type": "markdown",
      "metadata": {
        "id": "16215d3a"
      },
      "source": [
        "To ensure that every fold contains images from each class and no duplicates, We can use stratified k-fold cross-validation which is the same as just k-fold cross-validation, But Stratified k-fold cross-validation, it does stratified sampling instead of random sampling. Here we are working on the original dataset only without augmenting the dataset."
      ],
      "id": "16215d3a"
    },
    {
      "cell_type": "code",
      "execution_count": null,
      "metadata": {
        "id": "88e21049",
        "outputId": "da56f0bc-a804-42a0-c8f8-ddc4e4a8e9f2"
      },
      "outputs": [
        {
          "name": "stdout",
          "output_type": "stream",
          "text": [
            "Class boat processessing done\n",
            "Class motorcycle processessing done\n",
            "Class airplane processessing done\n",
            "Class truck processessing done\n",
            "Class seaplane processessing done\n",
            "Class bicycle processessing done\n",
            "Class motorbus processessing done\n",
            "All classes have been processed\n"
          ]
        }
      ],
      "source": [
        "class_number = 0\n",
        "num_classes = len(os.listdir(\"./train\"))\n",
        "count = 0\n",
        "\n",
        "x_train = []\n",
        "y_train = []\n",
        "\n",
        "\n",
        "for classes in os.listdir(\"./train\"):\n",
        "    y_array = class_number\n",
        "    all_images = os.listdir(f\"./train/{classes}\")\n",
        "    tot = len(all_images)\n",
        "    count = 0\n",
        "    for images in all_images:\n",
        "        try:\n",
        "            img = resize_and_normalise(f\"./train/{classes}/{images}\")\n",
        "            x_train.append(img)\n",
        "            y_train.append(y_array)\n",
        "            count+=1\n",
        "        except:\n",
        "            continue\n",
        "    class_number+=1\n",
        "    print(f\"Class {classes} processessing done\")\n",
        "\n",
        "print(\"All classes have been processed\")"
      ],
      "id": "88e21049"
    },
    {
      "cell_type": "code",
      "execution_count": null,
      "metadata": {
        "id": "a0e03e1c",
        "outputId": "4be66886-821e-4a94-9257-fb5fe85efe2f"
      },
      "outputs": [
        {
          "name": "stdout",
          "output_type": "stream",
          "text": [
            "(2411, 1600) (2411,)\n"
          ]
        }
      ],
      "source": [
        "import numpy as np\n",
        "x_train =  (np.array(x_train).reshape(np.array(x_train).shape[0],-1))\n",
        "y_train = np.array(y_train)\n",
        "print(x_train.shape,y_train.shape)"
      ],
      "id": "a0e03e1c"
    },
    {
      "cell_type": "code",
      "execution_count": null,
      "metadata": {
        "id": "2c0988ed"
      },
      "outputs": [],
      "source": [
        "from sklearn.utils import shuffle\n",
        "x_train, y_train = shuffle(x_train, y_train)"
      ],
      "id": "2c0988ed"
    },
    {
      "cell_type": "code",
      "execution_count": null,
      "metadata": {
        "id": "a83afd8e"
      },
      "outputs": [],
      "source": [
        "from sklearn.model_selection import train_test_split\n",
        " \n",
        "X_train, X_test, Y_train, Y_test = train_test_split(\n",
        "      x_train, y_train, test_size = 0.30)"
      ],
      "id": "a83afd8e"
    },
    {
      "cell_type": "code",
      "execution_count": null,
      "metadata": {
        "id": "cb3d331c",
        "outputId": "b9b4805b-3491-495f-fc28-9b6113b986b8"
      },
      "outputs": [
        {
          "data": {
            "text/plain": [
              "(724, 1600)"
            ]
          },
          "execution_count": 165,
          "metadata": {},
          "output_type": "execute_result"
        }
      ],
      "source": [
        "X_test.shape"
      ],
      "id": "cb3d331c"
    },
    {
      "cell_type": "markdown",
      "source": [],
      "metadata": {
        "id": "vtnD-10D6Ap2"
      },
      "id": "vtnD-10D6Ap2"
    },
    {
      "cell_type": "markdown",
      "source": [],
      "metadata": {
        "id": "e4U3Oo7P6BSj"
      },
      "id": "e4U3Oo7P6BSj"
    },
    {
      "cell_type": "markdown",
      "metadata": {
        "id": "34899586"
      },
      "source": [
        "#### Training a neural network with 4 layers\n",
        "#### number of neurons = 1024,256,64,7 respectively\n",
        "#### batch size=128 for gradient descent \n",
        "#### activation function is sigmoid."
      ],
      "id": "34899586"
    },
    {
      "cell_type": "code",
      "execution_count": null,
      "metadata": {
        "scrolled": false,
        "id": "642277f3",
        "outputId": "c5255f04-dcba-4ba1-9bdd-9dcb9ec65d14"
      },
      "outputs": [
        {
          "name": "stdout",
          "output_type": "stream",
          "text": [
            "Epoch 1/80\n",
            "14/14 - 5s - loss: 1.8784 - accuracy: 0.2833 - val_loss: 1.4411 - val_accuracy: 0.4641 - 5s/epoch - 336ms/step\n",
            "Epoch 2/80\n",
            "14/14 - 0s - loss: 1.3137 - accuracy: 0.5157 - val_loss: 1.2624 - val_accuracy: 0.5594 - 322ms/epoch - 23ms/step\n",
            "Epoch 3/80\n",
            "14/14 - 0s - loss: 1.1572 - accuracy: 0.5726 - val_loss: 1.1012 - val_accuracy: 0.6215 - 291ms/epoch - 21ms/step\n",
            "Epoch 4/80\n",
            "14/14 - 0s - loss: 1.0287 - accuracy: 0.6574 - val_loss: 0.9593 - val_accuracy: 0.6823 - 302ms/epoch - 22ms/step\n",
            "Epoch 5/80\n",
            "14/14 - 0s - loss: 0.9386 - accuracy: 0.6752 - val_loss: 1.0864 - val_accuracy: 0.6298 - 298ms/epoch - 21ms/step\n",
            "Epoch 6/80\n",
            "14/14 - 0s - loss: 0.9374 - accuracy: 0.6740 - val_loss: 0.8359 - val_accuracy: 0.7251 - 256ms/epoch - 18ms/step\n",
            "Epoch 7/80\n",
            "14/14 - 0s - loss: 0.8105 - accuracy: 0.7196 - val_loss: 0.8082 - val_accuracy: 0.7141 - 274ms/epoch - 20ms/step\n",
            "Epoch 8/80\n",
            "14/14 - 0s - loss: 0.7447 - accuracy: 0.7475 - val_loss: 0.7693 - val_accuracy: 0.7334 - 252ms/epoch - 18ms/step\n",
            "Epoch 9/80\n",
            "14/14 - 0s - loss: 0.7214 - accuracy: 0.7504 - val_loss: 0.7635 - val_accuracy: 0.7376 - 257ms/epoch - 18ms/step\n",
            "Epoch 10/80\n",
            "14/14 - 0s - loss: 0.7534 - accuracy: 0.7398 - val_loss: 0.8389 - val_accuracy: 0.6975 - 254ms/epoch - 18ms/step\n",
            "Epoch 11/80\n",
            "14/14 - 0s - loss: 0.7104 - accuracy: 0.7570 - val_loss: 0.7336 - val_accuracy: 0.7362 - 252ms/epoch - 18ms/step\n",
            "Epoch 12/80\n",
            "14/14 - 0s - loss: 0.6246 - accuracy: 0.7878 - val_loss: 0.8996 - val_accuracy: 0.6644 - 247ms/epoch - 18ms/step\n",
            "Epoch 13/80\n",
            "14/14 - 0s - loss: 0.6400 - accuracy: 0.7825 - val_loss: 0.7095 - val_accuracy: 0.7486 - 259ms/epoch - 19ms/step\n",
            "Epoch 14/80\n",
            "14/14 - 0s - loss: 0.5999 - accuracy: 0.7943 - val_loss: 0.6999 - val_accuracy: 0.7541 - 251ms/epoch - 18ms/step\n",
            "Epoch 15/80\n",
            "14/14 - 0s - loss: 0.5926 - accuracy: 0.8068 - val_loss: 0.8798 - val_accuracy: 0.6892 - 278ms/epoch - 20ms/step\n",
            "Epoch 16/80\n",
            "14/14 - 0s - loss: 0.6021 - accuracy: 0.7943 - val_loss: 0.7158 - val_accuracy: 0.7652 - 239ms/epoch - 17ms/step\n",
            "Epoch 17/80\n",
            "14/14 - 0s - loss: 0.5435 - accuracy: 0.8168 - val_loss: 0.6873 - val_accuracy: 0.7707 - 230ms/epoch - 16ms/step\n",
            "Epoch 18/80\n",
            "14/14 - 0s - loss: 0.4923 - accuracy: 0.8322 - val_loss: 0.6951 - val_accuracy: 0.7624 - 247ms/epoch - 18ms/step\n",
            "Epoch 19/80\n",
            "14/14 - 0s - loss: 0.4820 - accuracy: 0.8405 - val_loss: 0.6840 - val_accuracy: 0.7707 - 229ms/epoch - 16ms/step\n",
            "Epoch 20/80\n",
            "14/14 - 0s - loss: 0.4683 - accuracy: 0.8394 - val_loss: 0.6357 - val_accuracy: 0.7914 - 231ms/epoch - 16ms/step\n",
            "Epoch 21/80\n",
            "14/14 - 0s - loss: 0.4281 - accuracy: 0.8637 - val_loss: 0.6311 - val_accuracy: 0.7887 - 227ms/epoch - 16ms/step\n",
            "Epoch 22/80\n",
            "14/14 - 0s - loss: 0.4430 - accuracy: 0.8483 - val_loss: 0.7554 - val_accuracy: 0.7486 - 234ms/epoch - 17ms/step\n",
            "Epoch 23/80\n",
            "14/14 - 0s - loss: 0.4475 - accuracy: 0.8471 - val_loss: 0.7278 - val_accuracy: 0.7555 - 235ms/epoch - 17ms/step\n",
            "Epoch 24/80\n",
            "14/14 - 0s - loss: 0.4325 - accuracy: 0.8595 - val_loss: 0.8694 - val_accuracy: 0.6934 - 233ms/epoch - 17ms/step\n",
            "Epoch 25/80\n",
            "14/14 - 0s - loss: 0.4773 - accuracy: 0.8328 - val_loss: 0.7197 - val_accuracy: 0.7472 - 234ms/epoch - 17ms/step\n",
            "Epoch 26/80\n",
            "14/14 - 0s - loss: 0.4012 - accuracy: 0.8631 - val_loss: 0.6072 - val_accuracy: 0.7859 - 401ms/epoch - 29ms/step\n",
            "Epoch 27/80\n",
            "14/14 - 0s - loss: 0.4074 - accuracy: 0.8583 - val_loss: 0.5794 - val_accuracy: 0.8080 - 274ms/epoch - 20ms/step\n",
            "Epoch 28/80\n",
            "14/14 - 0s - loss: 0.3437 - accuracy: 0.8886 - val_loss: 0.5976 - val_accuracy: 0.7956 - 253ms/epoch - 18ms/step\n",
            "Epoch 29/80\n",
            "14/14 - 0s - loss: 0.3325 - accuracy: 0.8874 - val_loss: 0.6113 - val_accuracy: 0.7914 - 317ms/epoch - 23ms/step\n",
            "Epoch 30/80\n",
            "14/14 - 0s - loss: 0.3185 - accuracy: 0.8963 - val_loss: 0.5983 - val_accuracy: 0.7804 - 302ms/epoch - 22ms/step\n",
            "Epoch 31/80\n",
            "14/14 - 0s - loss: 0.2911 - accuracy: 0.9063 - val_loss: 0.6158 - val_accuracy: 0.7818 - 354ms/epoch - 25ms/step\n",
            "Epoch 32/80\n",
            "14/14 - 0s - loss: 0.3080 - accuracy: 0.8975 - val_loss: 0.6293 - val_accuracy: 0.7818 - 298ms/epoch - 21ms/step\n",
            "Epoch 33/80\n",
            "14/14 - 0s - loss: 0.3081 - accuracy: 0.9010 - val_loss: 0.6505 - val_accuracy: 0.7818 - 282ms/epoch - 20ms/step\n",
            "Epoch 34/80\n",
            "14/14 - 0s - loss: 0.3085 - accuracy: 0.8927 - val_loss: 0.6120 - val_accuracy: 0.7914 - 231ms/epoch - 16ms/step\n",
            "Epoch 35/80\n",
            "14/14 - 0s - loss: 0.2567 - accuracy: 0.9158 - val_loss: 0.5989 - val_accuracy: 0.8011 - 234ms/epoch - 17ms/step\n",
            "Epoch 36/80\n",
            "14/14 - 0s - loss: 0.2399 - accuracy: 0.9253 - val_loss: 0.6144 - val_accuracy: 0.7873 - 233ms/epoch - 17ms/step\n",
            "Epoch 37/80\n",
            "14/14 - 0s - loss: 0.2665 - accuracy: 0.9099 - val_loss: 0.6311 - val_accuracy: 0.7845 - 234ms/epoch - 17ms/step\n",
            "Epoch 38/80\n",
            "14/14 - 0s - loss: 0.2416 - accuracy: 0.9158 - val_loss: 0.6474 - val_accuracy: 0.7983 - 233ms/epoch - 17ms/step\n",
            "Epoch 39/80\n",
            "14/14 - 0s - loss: 0.2236 - accuracy: 0.9277 - val_loss: 0.6277 - val_accuracy: 0.7804 - 235ms/epoch - 17ms/step\n",
            "Epoch 40/80\n",
            "14/14 - 0s - loss: 0.2037 - accuracy: 0.9354 - val_loss: 0.6921 - val_accuracy: 0.7790 - 278ms/epoch - 20ms/step\n",
            "Epoch 41/80\n",
            "14/14 - 0s - loss: 0.1916 - accuracy: 0.9348 - val_loss: 0.6003 - val_accuracy: 0.8011 - 239ms/epoch - 17ms/step\n",
            "Epoch 42/80\n",
            "14/14 - 0s - loss: 0.2334 - accuracy: 0.9194 - val_loss: 0.8455 - val_accuracy: 0.7500 - 232ms/epoch - 17ms/step\n",
            "Epoch 43/80\n",
            "14/14 - 0s - loss: 0.2658 - accuracy: 0.9052 - val_loss: 0.7605 - val_accuracy: 0.7514 - 229ms/epoch - 16ms/step\n",
            "Epoch 44/80\n",
            "14/14 - 0s - loss: 0.2689 - accuracy: 0.9075 - val_loss: 0.7763 - val_accuracy: 0.7348 - 234ms/epoch - 17ms/step\n",
            "Epoch 45/80\n",
            "14/14 - 0s - loss: 0.2118 - accuracy: 0.9223 - val_loss: 0.6679 - val_accuracy: 0.7859 - 231ms/epoch - 16ms/step\n",
            "Epoch 46/80\n",
            "14/14 - 0s - loss: 0.2005 - accuracy: 0.9277 - val_loss: 0.8872 - val_accuracy: 0.7528 - 229ms/epoch - 16ms/step\n",
            "Epoch 47/80\n",
            "14/14 - 0s - loss: 0.3640 - accuracy: 0.8726 - val_loss: 0.7104 - val_accuracy: 0.7721 - 233ms/epoch - 17ms/step\n",
            "Epoch 48/80\n",
            "14/14 - 0s - loss: 0.3689 - accuracy: 0.8714 - val_loss: 0.8392 - val_accuracy: 0.7390 - 232ms/epoch - 17ms/step\n",
            "Epoch 49/80\n",
            "14/14 - 0s - loss: 0.2567 - accuracy: 0.9170 - val_loss: 0.5756 - val_accuracy: 0.8080 - 244ms/epoch - 17ms/step\n",
            "Epoch 50/80\n",
            "14/14 - 0s - loss: 0.1689 - accuracy: 0.9490 - val_loss: 0.6460 - val_accuracy: 0.7721 - 228ms/epoch - 16ms/step\n",
            "Epoch 51/80\n",
            "14/14 - 0s - loss: 0.1951 - accuracy: 0.9336 - val_loss: 0.7257 - val_accuracy: 0.7624 - 269ms/epoch - 19ms/step\n",
            "Epoch 52/80\n",
            "14/14 - 0s - loss: 0.1751 - accuracy: 0.9324 - val_loss: 0.6525 - val_accuracy: 0.8066 - 230ms/epoch - 16ms/step\n",
            "Epoch 53/80\n",
            "14/14 - 0s - loss: 0.1625 - accuracy: 0.9449 - val_loss: 0.8433 - val_accuracy: 0.7362 - 387ms/epoch - 28ms/step\n",
            "Epoch 54/80\n",
            "14/14 - 0s - loss: 0.1800 - accuracy: 0.9366 - val_loss: 0.5590 - val_accuracy: 0.8135 - 372ms/epoch - 27ms/step\n",
            "Epoch 55/80\n",
            "14/14 - 0s - loss: 0.1457 - accuracy: 0.9502 - val_loss: 0.6577 - val_accuracy: 0.7845 - 246ms/epoch - 18ms/step\n",
            "Epoch 56/80\n",
            "14/14 - 0s - loss: 0.1229 - accuracy: 0.9603 - val_loss: 0.6228 - val_accuracy: 0.8011 - 249ms/epoch - 18ms/step\n",
            "Epoch 57/80\n",
            "14/14 - 0s - loss: 0.0958 - accuracy: 0.9698 - val_loss: 0.6494 - val_accuracy: 0.7997 - 231ms/epoch - 16ms/step\n",
            "Epoch 58/80\n",
            "14/14 - 0s - loss: 0.1171 - accuracy: 0.9597 - val_loss: 0.7284 - val_accuracy: 0.7887 - 262ms/epoch - 19ms/step\n",
            "Epoch 59/80\n",
            "14/14 - 0s - loss: 0.1028 - accuracy: 0.9692 - val_loss: 0.5771 - val_accuracy: 0.8122 - 235ms/epoch - 17ms/step\n",
            "Epoch 60/80\n",
            "14/14 - 0s - loss: 0.1045 - accuracy: 0.9680 - val_loss: 0.9231 - val_accuracy: 0.7362 - 233ms/epoch - 17ms/step\n",
            "Epoch 61/80\n",
            "14/14 - 0s - loss: 0.2154 - accuracy: 0.9200 - val_loss: 0.6803 - val_accuracy: 0.7845 - 240ms/epoch - 17ms/step\n",
            "Epoch 62/80\n",
            "14/14 - 0s - loss: 0.1296 - accuracy: 0.9579 - val_loss: 0.7834 - val_accuracy: 0.7707 - 463ms/epoch - 33ms/step\n",
            "Epoch 63/80\n",
            "14/14 - 0s - loss: 0.1179 - accuracy: 0.9591 - val_loss: 0.7760 - val_accuracy: 0.7901 - 230ms/epoch - 16ms/step\n",
            "Epoch 64/80\n",
            "14/14 - 0s - loss: 0.1128 - accuracy: 0.9632 - val_loss: 0.6570 - val_accuracy: 0.8039 - 230ms/epoch - 16ms/step\n",
            "Epoch 65/80\n",
            "14/14 - 0s - loss: 0.0738 - accuracy: 0.9798 - val_loss: 0.7243 - val_accuracy: 0.7942 - 229ms/epoch - 16ms/step\n",
            "Epoch 66/80\n",
            "14/14 - 0s - loss: 0.1222 - accuracy: 0.9573 - val_loss: 0.8721 - val_accuracy: 0.7804 - 234ms/epoch - 17ms/step\n"
          ]
        },
        {
          "name": "stdout",
          "output_type": "stream",
          "text": [
            "Epoch 67/80\n",
            "14/14 - 0s - loss: 0.1560 - accuracy: 0.9467 - val_loss: 0.6250 - val_accuracy: 0.8108 - 391ms/epoch - 28ms/step\n",
            "Epoch 68/80\n",
            "14/14 - 0s - loss: 0.0900 - accuracy: 0.9751 - val_loss: 0.7181 - val_accuracy: 0.7956 - 279ms/epoch - 20ms/step\n",
            "Epoch 69/80\n",
            "14/14 - 0s - loss: 0.0785 - accuracy: 0.9775 - val_loss: 0.5787 - val_accuracy: 0.8287 - 231ms/epoch - 17ms/step\n",
            "Epoch 70/80\n",
            "14/14 - 0s - loss: 0.0674 - accuracy: 0.9787 - val_loss: 0.5933 - val_accuracy: 0.8122 - 262ms/epoch - 19ms/step\n",
            "Epoch 71/80\n",
            "14/14 - 0s - loss: 0.0549 - accuracy: 0.9846 - val_loss: 0.6644 - val_accuracy: 0.8218 - 275ms/epoch - 20ms/step\n",
            "Epoch 72/80\n",
            "14/14 - 0s - loss: 0.0516 - accuracy: 0.9852 - val_loss: 0.6349 - val_accuracy: 0.8149 - 258ms/epoch - 18ms/step\n",
            "Epoch 73/80\n",
            "14/14 - 0s - loss: 0.0466 - accuracy: 0.9858 - val_loss: 0.7908 - val_accuracy: 0.7762 - 316ms/epoch - 23ms/step\n",
            "Epoch 74/80\n",
            "14/14 - 0s - loss: 0.0741 - accuracy: 0.9793 - val_loss: 0.7070 - val_accuracy: 0.8260 - 409ms/epoch - 29ms/step\n",
            "Epoch 75/80\n",
            "14/14 - 0s - loss: 0.0538 - accuracy: 0.9822 - val_loss: 0.7084 - val_accuracy: 0.8094 - 293ms/epoch - 21ms/step\n",
            "Epoch 76/80\n",
            "14/14 - 1s - loss: 0.0451 - accuracy: 0.9893 - val_loss: 0.6696 - val_accuracy: 0.8108 - 580ms/epoch - 41ms/step\n",
            "Epoch 77/80\n",
            "14/14 - 0s - loss: 0.0346 - accuracy: 0.9935 - val_loss: 0.8174 - val_accuracy: 0.7901 - 483ms/epoch - 34ms/step\n",
            "Epoch 78/80\n",
            "14/14 - 0s - loss: 0.0424 - accuracy: 0.9893 - val_loss: 0.6235 - val_accuracy: 0.8218 - 373ms/epoch - 27ms/step\n",
            "Epoch 79/80\n",
            "14/14 - 1s - loss: 0.0376 - accuracy: 0.9893 - val_loss: 0.8148 - val_accuracy: 0.7928 - 530ms/epoch - 38ms/step\n",
            "Epoch 80/80\n",
            "14/14 - 0s - loss: 0.0816 - accuracy: 0.9721 - val_loss: 0.9243 - val_accuracy: 0.7818 - 436ms/epoch - 31ms/step\n",
            "The best accuracy is 0.9934795498847961\n"
          ]
        }
      ],
      "source": [
        "model1 = Sequential()\n",
        "model1.add(Dense(1024,activation = 'relu',kernel_initializer = 'normal',input_dim = X_train.shape[1]))\n",
        "model1.add(Dense(256,activation = 'relu'))\n",
        "model1.add(Dense(64,activation = 'relu'))\n",
        "model1.add(Dense(7,activation='softmax'))\n",
        "model1.compile(loss = 'sparse_categorical_crossentropy',optimizer = 'adam',metrics = 'accuracy')\n",
        "history_model1 = model1.fit(X_train,Y_train, epochs = 80, batch_size = 128, validation_data = (X_test,Y_test),verbose = 2)\n",
        "best_score = max(history_model1.history['accuracy'])\n",
        "print(\"The best accuracy is\",best_score)"
      ],
      "id": "642277f3"
    },
    {
      "cell_type": "code",
      "execution_count": null,
      "metadata": {
        "id": "3b5bdf1d",
        "outputId": "b46218c3-a907-4683-a21f-3166c65c4d49"
      },
      "outputs": [
        {
          "name": "stdout",
          "output_type": "stream",
          "text": [
            "23/23 [==============================] - 0s 7ms/step\n",
            "Macro score: 0.8022271103574308\n",
            "Recall Score 0.757670675247035\n"
          ]
        }
      ],
      "source": [
        "pred = tf.argmax(model1.predict(X_test),axis=1)\n",
        "print(\"Macro score:\",precision_score(Y_test,pred,average='macro'))\n",
        "print(\"Recall Score\",recall_score(Y_test,pred,average='macro'))"
      ],
      "id": "3b5bdf1d"
    },
    {
      "cell_type": "markdown",
      "metadata": {
        "id": "c92d9b1f"
      },
      "source": [
        "## Macro score: 0.8364602156139574"
      ],
      "id": "c92d9b1f"
    },
    {
      "cell_type": "markdown",
      "metadata": {
        "id": "8efa9473"
      },
      "source": [
        "## PLAYING WITH NUMBER OF LAYERS AND NUMBER OF NEURONS PER LAYER"
      ],
      "id": "8efa9473"
    },
    {
      "cell_type": "markdown",
      "metadata": {
        "id": "dd67a42b"
      },
      "source": [
        "### number of layers=8\n",
        "\n",
        "### neurons per layer=512,256,128,64,32,24,16,7 respectively"
      ],
      "id": "dd67a42b"
    },
    {
      "cell_type": "code",
      "execution_count": null,
      "metadata": {
        "id": "b2f260d5",
        "outputId": "26569f15-00d6-42c5-ed22-a898755f4f99"
      },
      "outputs": [
        {
          "name": "stdout",
          "output_type": "stream",
          "text": [
            "Epoch 1/80\n",
            "14/14 - 2s - loss: 1.8836 - accuracy: 0.2075 - val_loss: 1.8493 - val_accuracy: 0.2749 - 2s/epoch - 146ms/step\n",
            "Epoch 2/80\n",
            "14/14 - 0s - loss: 1.7320 - accuracy: 0.3308 - val_loss: 1.6394 - val_accuracy: 0.4351 - 214ms/epoch - 15ms/step\n",
            "Epoch 3/80\n",
            "14/14 - 0s - loss: 1.5686 - accuracy: 0.4019 - val_loss: 1.4496 - val_accuracy: 0.4903 - 222ms/epoch - 16ms/step\n",
            "Epoch 4/80\n",
            "14/14 - 0s - loss: 1.3592 - accuracy: 0.5246 - val_loss: 1.2280 - val_accuracy: 0.5884 - 223ms/epoch - 16ms/step\n",
            "Epoch 5/80\n",
            "14/14 - 0s - loss: 1.1783 - accuracy: 0.5898 - val_loss: 1.2489 - val_accuracy: 0.5981 - 245ms/epoch - 18ms/step\n",
            "Epoch 6/80\n",
            "14/14 - 0s - loss: 1.1428 - accuracy: 0.5892 - val_loss: 1.0709 - val_accuracy: 0.6133 - 233ms/epoch - 17ms/step\n",
            "Epoch 7/80\n",
            "14/14 - 0s - loss: 0.9865 - accuracy: 0.6532 - val_loss: 1.2834 - val_accuracy: 0.5967 - 256ms/epoch - 18ms/step\n",
            "Epoch 8/80\n",
            "14/14 - 0s - loss: 1.0933 - accuracy: 0.5916 - val_loss: 1.0598 - val_accuracy: 0.6215 - 194ms/epoch - 14ms/step\n",
            "Epoch 9/80\n",
            "14/14 - 0s - loss: 1.0040 - accuracy: 0.6349 - val_loss: 0.9985 - val_accuracy: 0.6478 - 202ms/epoch - 14ms/step\n",
            "Epoch 10/80\n",
            "14/14 - 0s - loss: 0.9297 - accuracy: 0.6633 - val_loss: 0.9209 - val_accuracy: 0.6754 - 215ms/epoch - 15ms/step\n",
            "Epoch 11/80\n",
            "14/14 - 0s - loss: 0.8586 - accuracy: 0.6971 - val_loss: 0.8768 - val_accuracy: 0.6948 - 285ms/epoch - 20ms/step\n",
            "Epoch 12/80\n",
            "14/14 - 0s - loss: 0.8074 - accuracy: 0.7196 - val_loss: 0.8410 - val_accuracy: 0.7058 - 391ms/epoch - 28ms/step\n",
            "Epoch 13/80\n",
            "14/14 - 0s - loss: 0.7877 - accuracy: 0.7107 - val_loss: 0.8887 - val_accuracy: 0.7044 - 189ms/epoch - 14ms/step\n",
            "Epoch 14/80\n",
            "14/14 - 0s - loss: 0.7580 - accuracy: 0.7315 - val_loss: 0.8258 - val_accuracy: 0.7127 - 288ms/epoch - 21ms/step\n",
            "Epoch 15/80\n",
            "14/14 - 0s - loss: 0.7680 - accuracy: 0.7214 - val_loss: 0.8694 - val_accuracy: 0.7099 - 220ms/epoch - 16ms/step\n",
            "Epoch 16/80\n",
            "14/14 - 0s - loss: 0.7211 - accuracy: 0.7445 - val_loss: 0.8396 - val_accuracy: 0.7113 - 298ms/epoch - 21ms/step\n",
            "Epoch 17/80\n",
            "14/14 - 0s - loss: 0.7140 - accuracy: 0.7445 - val_loss: 0.8384 - val_accuracy: 0.6961 - 205ms/epoch - 15ms/step\n",
            "Epoch 18/80\n",
            "14/14 - 0s - loss: 0.7038 - accuracy: 0.7439 - val_loss: 0.8395 - val_accuracy: 0.6948 - 379ms/epoch - 27ms/step\n",
            "Epoch 19/80\n",
            "14/14 - 0s - loss: 0.6979 - accuracy: 0.7540 - val_loss: 0.8868 - val_accuracy: 0.7141 - 250ms/epoch - 18ms/step\n",
            "Epoch 20/80\n",
            "14/14 - 0s - loss: 0.6884 - accuracy: 0.7475 - val_loss: 0.7653 - val_accuracy: 0.7390 - 242ms/epoch - 17ms/step\n",
            "Epoch 21/80\n",
            "14/14 - 0s - loss: 0.6333 - accuracy: 0.7753 - val_loss: 0.7842 - val_accuracy: 0.7348 - 262ms/epoch - 19ms/step\n",
            "Epoch 22/80\n",
            "14/14 - 0s - loss: 0.6315 - accuracy: 0.7682 - val_loss: 0.8230 - val_accuracy: 0.7251 - 225ms/epoch - 16ms/step\n",
            "Epoch 23/80\n",
            "14/14 - 0s - loss: 0.6066 - accuracy: 0.7724 - val_loss: 0.7869 - val_accuracy: 0.7362 - 237ms/epoch - 17ms/step\n",
            "Epoch 24/80\n",
            "14/14 - 0s - loss: 0.5748 - accuracy: 0.8014 - val_loss: 0.7601 - val_accuracy: 0.7431 - 199ms/epoch - 14ms/step\n",
            "Epoch 25/80\n",
            "14/14 - 0s - loss: 0.5715 - accuracy: 0.8008 - val_loss: 0.7920 - val_accuracy: 0.7238 - 193ms/epoch - 14ms/step\n",
            "Epoch 26/80\n",
            "14/14 - 0s - loss: 0.5605 - accuracy: 0.7985 - val_loss: 0.8683 - val_accuracy: 0.7113 - 191ms/epoch - 14ms/step\n",
            "Epoch 27/80\n",
            "14/14 - 0s - loss: 0.5866 - accuracy: 0.7913 - val_loss: 0.9666 - val_accuracy: 0.6975 - 178ms/epoch - 13ms/step\n",
            "Epoch 28/80\n",
            "14/14 - 0s - loss: 0.6209 - accuracy: 0.7860 - val_loss: 0.7189 - val_accuracy: 0.7514 - 215ms/epoch - 15ms/step\n",
            "Epoch 29/80\n",
            "14/14 - 0s - loss: 0.5746 - accuracy: 0.7996 - val_loss: 0.8408 - val_accuracy: 0.7307 - 174ms/epoch - 12ms/step\n",
            "Epoch 30/80\n",
            "14/14 - 0s - loss: 0.5656 - accuracy: 0.8008 - val_loss: 0.7253 - val_accuracy: 0.7597 - 187ms/epoch - 13ms/step\n",
            "Epoch 31/80\n",
            "14/14 - 0s - loss: 0.4733 - accuracy: 0.8394 - val_loss: 0.8084 - val_accuracy: 0.7472 - 212ms/epoch - 15ms/step\n",
            "Epoch 32/80\n",
            "14/14 - 0s - loss: 0.4686 - accuracy: 0.8494 - val_loss: 0.7161 - val_accuracy: 0.7610 - 221ms/epoch - 16ms/step\n",
            "Epoch 33/80\n",
            "14/14 - 0s - loss: 0.4527 - accuracy: 0.8512 - val_loss: 0.6895 - val_accuracy: 0.7735 - 194ms/epoch - 14ms/step\n",
            "Epoch 34/80\n",
            "14/14 - 0s - loss: 0.4283 - accuracy: 0.8512 - val_loss: 0.7995 - val_accuracy: 0.7583 - 190ms/epoch - 14ms/step\n",
            "Epoch 35/80\n",
            "14/14 - 0s - loss: 0.4336 - accuracy: 0.8447 - val_loss: 0.7894 - val_accuracy: 0.7500 - 207ms/epoch - 15ms/step\n",
            "Epoch 36/80\n",
            "14/14 - 0s - loss: 0.4284 - accuracy: 0.8595 - val_loss: 0.7336 - val_accuracy: 0.7486 - 188ms/epoch - 13ms/step\n",
            "Epoch 37/80\n",
            "14/14 - 0s - loss: 0.3919 - accuracy: 0.8637 - val_loss: 0.7398 - val_accuracy: 0.7693 - 190ms/epoch - 14ms/step\n",
            "Epoch 38/80\n",
            "14/14 - 0s - loss: 0.3628 - accuracy: 0.8850 - val_loss: 0.7063 - val_accuracy: 0.7762 - 178ms/epoch - 13ms/step\n",
            "Epoch 39/80\n",
            "14/14 - 0s - loss: 0.3338 - accuracy: 0.8874 - val_loss: 0.8629 - val_accuracy: 0.7210 - 203ms/epoch - 15ms/step\n",
            "Epoch 40/80\n",
            "14/14 - 0s - loss: 0.3851 - accuracy: 0.8702 - val_loss: 1.3929 - val_accuracy: 0.6312 - 171ms/epoch - 12ms/step\n",
            "Epoch 41/80\n",
            "14/14 - 0s - loss: 0.6393 - accuracy: 0.7937 - val_loss: 0.6907 - val_accuracy: 0.7721 - 189ms/epoch - 14ms/step\n",
            "Epoch 42/80\n",
            "14/14 - 0s - loss: 0.4142 - accuracy: 0.8601 - val_loss: 0.8268 - val_accuracy: 0.7555 - 196ms/epoch - 14ms/step\n",
            "Epoch 43/80\n",
            "14/14 - 0s - loss: 0.4419 - accuracy: 0.8465 - val_loss: 0.8527 - val_accuracy: 0.7196 - 187ms/epoch - 13ms/step\n",
            "Epoch 44/80\n",
            "14/14 - 0s - loss: 0.4167 - accuracy: 0.8571 - val_loss: 0.7911 - val_accuracy: 0.7459 - 192ms/epoch - 14ms/step\n",
            "Epoch 45/80\n",
            "14/14 - 0s - loss: 0.3542 - accuracy: 0.8726 - val_loss: 0.7700 - val_accuracy: 0.7638 - 179ms/epoch - 13ms/step\n",
            "Epoch 46/80\n",
            "14/14 - 0s - loss: 0.3655 - accuracy: 0.8678 - val_loss: 0.6554 - val_accuracy: 0.7831 - 206ms/epoch - 15ms/step\n",
            "Epoch 47/80\n",
            "14/14 - 0s - loss: 0.3160 - accuracy: 0.8915 - val_loss: 0.6915 - val_accuracy: 0.7914 - 220ms/epoch - 16ms/step\n",
            "Epoch 48/80\n",
            "14/14 - 0s - loss: 0.2729 - accuracy: 0.9052 - val_loss: 0.6846 - val_accuracy: 0.7887 - 186ms/epoch - 13ms/step\n",
            "Epoch 49/80\n",
            "14/14 - 0s - loss: 0.2543 - accuracy: 0.9194 - val_loss: 0.6745 - val_accuracy: 0.7970 - 179ms/epoch - 13ms/step\n",
            "Epoch 50/80\n",
            "14/14 - 0s - loss: 0.2438 - accuracy: 0.9206 - val_loss: 0.6866 - val_accuracy: 0.7983 - 182ms/epoch - 13ms/step\n",
            "Epoch 51/80\n",
            "14/14 - 0s - loss: 0.2255 - accuracy: 0.9253 - val_loss: 0.8326 - val_accuracy: 0.7859 - 181ms/epoch - 13ms/step\n",
            "Epoch 52/80\n",
            "14/14 - 0s - loss: 0.2454 - accuracy: 0.9176 - val_loss: 0.8095 - val_accuracy: 0.7721 - 173ms/epoch - 12ms/step\n",
            "Epoch 53/80\n",
            "14/14 - 0s - loss: 0.2484 - accuracy: 0.9140 - val_loss: 0.7490 - val_accuracy: 0.7680 - 171ms/epoch - 12ms/step\n",
            "Epoch 54/80\n",
            "14/14 - 0s - loss: 0.2305 - accuracy: 0.9235 - val_loss: 0.8539 - val_accuracy: 0.7776 - 187ms/epoch - 13ms/step\n",
            "Epoch 55/80\n",
            "14/14 - 0s - loss: 0.2065 - accuracy: 0.9306 - val_loss: 0.7429 - val_accuracy: 0.7776 - 174ms/epoch - 12ms/step\n",
            "Epoch 56/80\n",
            "14/14 - 0s - loss: 0.2202 - accuracy: 0.9194 - val_loss: 0.8415 - val_accuracy: 0.7776 - 205ms/epoch - 15ms/step\n",
            "Epoch 57/80\n",
            "14/14 - 0s - loss: 0.2414 - accuracy: 0.9206 - val_loss: 1.0322 - val_accuracy: 0.7486 - 201ms/epoch - 14ms/step\n",
            "Epoch 58/80\n",
            "14/14 - 0s - loss: 0.3058 - accuracy: 0.8903 - val_loss: 1.2002 - val_accuracy: 0.7210 - 180ms/epoch - 13ms/step\n",
            "Epoch 59/80\n",
            "14/14 - 0s - loss: 0.5989 - accuracy: 0.7943 - val_loss: 1.1186 - val_accuracy: 0.6920 - 201ms/epoch - 14ms/step\n",
            "Epoch 60/80\n",
            "14/14 - 0s - loss: 0.4471 - accuracy: 0.8429 - val_loss: 0.6252 - val_accuracy: 0.7997 - 183ms/epoch - 13ms/step\n",
            "Epoch 61/80\n",
            "14/14 - 0s - loss: 0.2702 - accuracy: 0.9117 - val_loss: 0.6679 - val_accuracy: 0.7997 - 172ms/epoch - 12ms/step\n",
            "Epoch 62/80\n",
            "14/14 - 0s - loss: 0.2291 - accuracy: 0.9200 - val_loss: 0.7115 - val_accuracy: 0.7845 - 198ms/epoch - 14ms/step\n",
            "Epoch 63/80\n",
            "14/14 - 0s - loss: 0.1937 - accuracy: 0.9330 - val_loss: 0.6767 - val_accuracy: 0.8094 - 177ms/epoch - 13ms/step\n",
            "Epoch 64/80\n",
            "14/14 - 0s - loss: 0.1659 - accuracy: 0.9443 - val_loss: 0.7488 - val_accuracy: 0.8039 - 198ms/epoch - 14ms/step\n",
            "Epoch 65/80\n",
            "14/14 - 0s - loss: 0.2130 - accuracy: 0.9229 - val_loss: 0.7176 - val_accuracy: 0.8011 - 197ms/epoch - 14ms/step\n",
            "Epoch 66/80\n",
            "14/14 - 0s - loss: 0.1778 - accuracy: 0.9372 - val_loss: 0.7198 - val_accuracy: 0.8066 - 186ms/epoch - 13ms/step\n"
          ]
        },
        {
          "name": "stdout",
          "output_type": "stream",
          "text": [
            "Epoch 67/80\n",
            "14/14 - 0s - loss: 0.1704 - accuracy: 0.9372 - val_loss: 0.7383 - val_accuracy: 0.7997 - 198ms/epoch - 14ms/step\n",
            "Epoch 68/80\n",
            "14/14 - 0s - loss: 0.1621 - accuracy: 0.9443 - val_loss: 0.7388 - val_accuracy: 0.8094 - 283ms/epoch - 20ms/step\n",
            "Epoch 69/80\n",
            "14/14 - 0s - loss: 0.1866 - accuracy: 0.9336 - val_loss: 1.0057 - val_accuracy: 0.7500 - 185ms/epoch - 13ms/step\n",
            "Epoch 70/80\n",
            "14/14 - 0s - loss: 0.1959 - accuracy: 0.9259 - val_loss: 0.7766 - val_accuracy: 0.7928 - 175ms/epoch - 12ms/step\n",
            "Epoch 71/80\n",
            "14/14 - 0s - loss: 0.1812 - accuracy: 0.9318 - val_loss: 0.7811 - val_accuracy: 0.7721 - 228ms/epoch - 16ms/step\n",
            "Epoch 72/80\n",
            "14/14 - 0s - loss: 0.1346 - accuracy: 0.9579 - val_loss: 0.7882 - val_accuracy: 0.7970 - 204ms/epoch - 15ms/step\n",
            "Epoch 73/80\n",
            "14/14 - 0s - loss: 0.1063 - accuracy: 0.9668 - val_loss: 0.8213 - val_accuracy: 0.7928 - 176ms/epoch - 13ms/step\n",
            "Epoch 74/80\n",
            "14/14 - 0s - loss: 0.1373 - accuracy: 0.9585 - val_loss: 0.8229 - val_accuracy: 0.7831 - 171ms/epoch - 12ms/step\n",
            "Epoch 75/80\n",
            "14/14 - 0s - loss: 0.1437 - accuracy: 0.9502 - val_loss: 1.0306 - val_accuracy: 0.7721 - 202ms/epoch - 14ms/step\n",
            "Epoch 76/80\n",
            "14/14 - 0s - loss: 0.1876 - accuracy: 0.9372 - val_loss: 0.7013 - val_accuracy: 0.7859 - 211ms/epoch - 15ms/step\n",
            "Epoch 77/80\n",
            "14/14 - 0s - loss: 0.1221 - accuracy: 0.9567 - val_loss: 0.8020 - val_accuracy: 0.7914 - 341ms/epoch - 24ms/step\n",
            "Epoch 78/80\n",
            "14/14 - 0s - loss: 0.1154 - accuracy: 0.9567 - val_loss: 0.8365 - val_accuracy: 0.7983 - 174ms/epoch - 12ms/step\n",
            "Epoch 79/80\n",
            "14/14 - 0s - loss: 0.0954 - accuracy: 0.9668 - val_loss: 0.9007 - val_accuracy: 0.7942 - 213ms/epoch - 15ms/step\n",
            "Epoch 80/80\n",
            "14/14 - 0s - loss: 0.0916 - accuracy: 0.9686 - val_loss: 0.8167 - val_accuracy: 0.7914 - 156ms/epoch - 11ms/step\n",
            "The best accuracy is 0.9685832858085632\n"
          ]
        }
      ],
      "source": [
        "model2 = Sequential()\n",
        "model2.add(Dense(512,activation = 'relu',kernel_initializer = 'normal',input_dim = X_train.shape[1]))\n",
        "model2.add(Dense(256,activation = 'relu'))\n",
        "model2.add(Dense(128,activation = 'relu'))\n",
        "model2.add(Dense(64,activation = 'relu'))\n",
        "model2.add(Dense(32,activation = 'relu'))\n",
        "model2.add(Dense(24,activation = 'relu'))\n",
        "model2.add(Dense(16,activation = 'relu'))\n",
        "model2.add(Dense(7,activation=\"softmax\"))\n",
        "model2.compile(loss = 'sparse_categorical_crossentropy',optimizer = 'adam',metrics = \"accuracy\")\n",
        "history_model2 = model2.fit(X_train,Y_train, epochs = 80, batch_size = 128, validation_data = (X_test,Y_test),verbose = 2)\n",
        "best_score = max(history_model2.history['accuracy'])\n",
        "print(\"The best accuracy is\",best_score)"
      ],
      "id": "b2f260d5"
    },
    {
      "cell_type": "code",
      "execution_count": null,
      "metadata": {
        "id": "600e5457",
        "outputId": "acd381a5-d37b-48fd-a0c0-39dba6dd1eb2"
      },
      "outputs": [
        {
          "name": "stdout",
          "output_type": "stream",
          "text": [
            "23/23 [==============================] - 0s 4ms/step\n",
            "Macro score: 0.7815235579726233\n",
            "Recall Score 0.7711273025523229\n"
          ]
        }
      ],
      "source": [
        "pred = tf.argmax(model2.predict(X_test),axis=1)\n",
        "print(\"Macro score:\",precision_score(Y_test,pred,average='macro'))\n",
        "print(\"Recall Score\",recall_score(Y_test,pred,average='macro'))"
      ],
      "id": "600e5457"
    },
    {
      "cell_type": "markdown",
      "metadata": {
        "id": "3f4d61f3"
      },
      "source": [
        "## Macro score: 0.8155478541691441"
      ],
      "id": "3f4d61f3"
    },
    {
      "cell_type": "markdown",
      "metadata": {
        "id": "c379a749"
      },
      "source": [
        "### number of layers=3\n",
        "\n",
        "### neurons per layer=2048,1024,7"
      ],
      "id": "c379a749"
    },
    {
      "cell_type": "code",
      "execution_count": null,
      "metadata": {
        "id": "21118ca7",
        "outputId": "09d2a046-9bfe-42cc-be55-cd2852cf0f2e"
      },
      "outputs": [
        {
          "name": "stdout",
          "output_type": "stream",
          "text": [
            "Epoch 1/70\n",
            "14/14 - 1s - loss: 4.9443 - accuracy: 0.2733 - val_loss: 1.4590 - val_accuracy: 0.4931 - 1s/epoch - 79ms/step\n",
            "Epoch 2/70\n",
            "14/14 - 1s - loss: 1.2435 - accuracy: 0.5471 - val_loss: 1.1247 - val_accuracy: 0.5801 - 733ms/epoch - 52ms/step\n",
            "Epoch 3/70\n",
            "14/14 - 1s - loss: 1.0178 - accuracy: 0.6313 - val_loss: 1.0325 - val_accuracy: 0.5856 - 741ms/epoch - 53ms/step\n",
            "Epoch 4/70\n",
            "14/14 - 1s - loss: 0.9194 - accuracy: 0.6663 - val_loss: 0.9200 - val_accuracy: 0.6851 - 599ms/epoch - 43ms/step\n",
            "Epoch 5/70\n",
            "14/14 - 1s - loss: 0.8277 - accuracy: 0.7143 - val_loss: 0.8911 - val_accuracy: 0.6851 - 601ms/epoch - 43ms/step\n",
            "Epoch 6/70\n",
            "14/14 - 1s - loss: 0.8133 - accuracy: 0.7155 - val_loss: 0.8394 - val_accuracy: 0.6823 - 600ms/epoch - 43ms/step\n",
            "Epoch 7/70\n",
            "14/14 - 1s - loss: 0.7544 - accuracy: 0.7273 - val_loss: 0.7456 - val_accuracy: 0.7597 - 686ms/epoch - 49ms/step\n",
            "Epoch 8/70\n",
            "14/14 - 1s - loss: 0.6762 - accuracy: 0.7742 - val_loss: 0.6908 - val_accuracy: 0.7680 - 618ms/epoch - 44ms/step\n",
            "Epoch 9/70\n",
            "14/14 - 1s - loss: 0.6217 - accuracy: 0.7848 - val_loss: 0.7218 - val_accuracy: 0.7431 - 612ms/epoch - 44ms/step\n",
            "Epoch 10/70\n",
            "14/14 - 1s - loss: 0.5844 - accuracy: 0.8032 - val_loss: 0.6654 - val_accuracy: 0.7804 - 590ms/epoch - 42ms/step\n",
            "Epoch 11/70\n",
            "14/14 - 1s - loss: 0.5843 - accuracy: 0.8056 - val_loss: 0.6984 - val_accuracy: 0.7666 - 606ms/epoch - 43ms/step\n",
            "Epoch 12/70\n",
            "14/14 - 1s - loss: 0.5670 - accuracy: 0.8062 - val_loss: 0.6546 - val_accuracy: 0.7735 - 614ms/epoch - 44ms/step\n",
            "Epoch 13/70\n",
            "14/14 - 1s - loss: 0.5293 - accuracy: 0.8186 - val_loss: 0.6411 - val_accuracy: 0.7873 - 634ms/epoch - 45ms/step\n",
            "Epoch 14/70\n",
            "14/14 - 1s - loss: 0.4921 - accuracy: 0.8358 - val_loss: 0.6154 - val_accuracy: 0.7970 - 604ms/epoch - 43ms/step\n",
            "Epoch 15/70\n",
            "14/14 - 1s - loss: 0.4339 - accuracy: 0.8595 - val_loss: 0.6314 - val_accuracy: 0.7845 - 602ms/epoch - 43ms/step\n",
            "Epoch 16/70\n",
            "14/14 - 1s - loss: 0.4272 - accuracy: 0.8660 - val_loss: 0.6388 - val_accuracy: 0.7873 - 669ms/epoch - 48ms/step\n",
            "Epoch 17/70\n",
            "14/14 - 1s - loss: 0.4267 - accuracy: 0.8601 - val_loss: 0.5967 - val_accuracy: 0.8066 - 622ms/epoch - 44ms/step\n",
            "Epoch 18/70\n",
            "14/14 - 1s - loss: 0.3530 - accuracy: 0.8903 - val_loss: 0.7661 - val_accuracy: 0.7307 - 622ms/epoch - 44ms/step\n",
            "Epoch 19/70\n",
            "14/14 - 1s - loss: 0.4410 - accuracy: 0.8388 - val_loss: 0.8245 - val_accuracy: 0.7072 - 600ms/epoch - 43ms/step\n",
            "Epoch 20/70\n",
            "14/14 - 1s - loss: 0.4154 - accuracy: 0.8518 - val_loss: 0.6597 - val_accuracy: 0.7804 - 617ms/epoch - 44ms/step\n",
            "Epoch 21/70\n",
            "14/14 - 1s - loss: 0.3497 - accuracy: 0.8797 - val_loss: 0.5749 - val_accuracy: 0.8094 - 600ms/epoch - 43ms/step\n",
            "Epoch 22/70\n",
            "14/14 - 1s - loss: 0.3474 - accuracy: 0.8814 - val_loss: 0.5944 - val_accuracy: 0.8052 - 590ms/epoch - 42ms/step\n",
            "Epoch 23/70\n",
            "14/14 - 1s - loss: 0.3090 - accuracy: 0.9022 - val_loss: 0.5502 - val_accuracy: 0.8066 - 583ms/epoch - 42ms/step\n",
            "Epoch 24/70\n",
            "14/14 - 1s - loss: 0.2568 - accuracy: 0.9200 - val_loss: 0.6391 - val_accuracy: 0.7859 - 580ms/epoch - 41ms/step\n",
            "Epoch 25/70\n",
            "14/14 - 1s - loss: 0.2459 - accuracy: 0.9229 - val_loss: 0.7213 - val_accuracy: 0.7610 - 590ms/epoch - 42ms/step\n",
            "Epoch 26/70\n",
            "14/14 - 1s - loss: 0.3007 - accuracy: 0.8892 - val_loss: 0.8086 - val_accuracy: 0.7583 - 682ms/epoch - 49ms/step\n",
            "Epoch 27/70\n",
            "14/14 - 1s - loss: 0.2814 - accuracy: 0.9087 - val_loss: 0.6831 - val_accuracy: 0.7638 - 680ms/epoch - 49ms/step\n",
            "Epoch 28/70\n",
            "14/14 - 1s - loss: 0.3137 - accuracy: 0.8986 - val_loss: 0.6554 - val_accuracy: 0.7901 - 637ms/epoch - 45ms/step\n",
            "Epoch 29/70\n",
            "14/14 - 1s - loss: 0.2355 - accuracy: 0.9218 - val_loss: 0.5938 - val_accuracy: 0.7956 - 624ms/epoch - 45ms/step\n",
            "Epoch 30/70\n",
            "14/14 - 1s - loss: 0.2144 - accuracy: 0.9295 - val_loss: 0.6216 - val_accuracy: 0.7928 - 659ms/epoch - 47ms/step\n",
            "Epoch 31/70\n",
            "14/14 - 1s - loss: 0.1919 - accuracy: 0.9395 - val_loss: 0.5462 - val_accuracy: 0.8163 - 730ms/epoch - 52ms/step\n",
            "Epoch 32/70\n",
            "14/14 - 1s - loss: 0.1712 - accuracy: 0.9490 - val_loss: 0.6565 - val_accuracy: 0.7887 - 639ms/epoch - 46ms/step\n",
            "Epoch 33/70\n",
            "14/14 - 1s - loss: 0.1688 - accuracy: 0.9443 - val_loss: 0.5353 - val_accuracy: 0.8246 - 726ms/epoch - 52ms/step\n",
            "Epoch 34/70\n",
            "14/14 - 1s - loss: 0.1521 - accuracy: 0.9549 - val_loss: 0.5276 - val_accuracy: 0.8301 - 677ms/epoch - 48ms/step\n",
            "Epoch 35/70\n",
            "14/14 - 1s - loss: 0.1412 - accuracy: 0.9567 - val_loss: 0.6813 - val_accuracy: 0.7956 - 746ms/epoch - 53ms/step\n",
            "Epoch 36/70\n",
            "14/14 - 1s - loss: 0.1571 - accuracy: 0.9508 - val_loss: 0.6827 - val_accuracy: 0.7914 - 675ms/epoch - 48ms/step\n",
            "Epoch 37/70\n",
            "14/14 - 1s - loss: 0.1447 - accuracy: 0.9520 - val_loss: 0.6171 - val_accuracy: 0.8204 - 628ms/epoch - 45ms/step\n",
            "Epoch 38/70\n",
            "14/14 - 1s - loss: 0.1552 - accuracy: 0.9461 - val_loss: 0.5346 - val_accuracy: 0.8080 - 591ms/epoch - 42ms/step\n",
            "Epoch 39/70\n",
            "14/14 - 1s - loss: 0.1350 - accuracy: 0.9561 - val_loss: 0.6046 - val_accuracy: 0.8177 - 588ms/epoch - 42ms/step\n",
            "Epoch 40/70\n",
            "14/14 - 1s - loss: 0.1258 - accuracy: 0.9615 - val_loss: 0.6225 - val_accuracy: 0.8066 - 586ms/epoch - 42ms/step\n",
            "Epoch 41/70\n",
            "14/14 - 1s - loss: 0.1103 - accuracy: 0.9680 - val_loss: 0.6272 - val_accuracy: 0.8135 - 704ms/epoch - 50ms/step\n",
            "Epoch 42/70\n",
            "14/14 - 1s - loss: 0.1116 - accuracy: 0.9632 - val_loss: 0.7231 - val_accuracy: 0.7956 - 590ms/epoch - 42ms/step\n",
            "Epoch 43/70\n",
            "14/14 - 1s - loss: 0.1370 - accuracy: 0.9508 - val_loss: 0.6623 - val_accuracy: 0.8066 - 582ms/epoch - 42ms/step\n",
            "Epoch 44/70\n",
            "14/14 - 1s - loss: 0.1254 - accuracy: 0.9615 - val_loss: 0.5693 - val_accuracy: 0.8163 - 583ms/epoch - 42ms/step\n",
            "Epoch 45/70\n",
            "14/14 - 1s - loss: 0.1179 - accuracy: 0.9662 - val_loss: 0.7511 - val_accuracy: 0.7873 - 582ms/epoch - 42ms/step\n",
            "Epoch 46/70\n",
            "14/14 - 1s - loss: 0.1111 - accuracy: 0.9644 - val_loss: 0.6850 - val_accuracy: 0.8039 - 589ms/epoch - 42ms/step\n",
            "Epoch 47/70\n",
            "14/14 - 1s - loss: 0.0960 - accuracy: 0.9721 - val_loss: 0.7323 - val_accuracy: 0.7914 - 592ms/epoch - 42ms/step\n",
            "Epoch 48/70\n",
            "14/14 - 1s - loss: 0.0806 - accuracy: 0.9798 - val_loss: 0.5753 - val_accuracy: 0.8163 - 588ms/epoch - 42ms/step\n",
            "Epoch 49/70\n",
            "14/14 - 1s - loss: 0.0674 - accuracy: 0.9834 - val_loss: 0.5885 - val_accuracy: 0.8177 - 601ms/epoch - 43ms/step\n",
            "Epoch 50/70\n",
            "14/14 - 1s - loss: 0.0594 - accuracy: 0.9804 - val_loss: 0.6301 - val_accuracy: 0.8149 - 599ms/epoch - 43ms/step\n",
            "Epoch 51/70\n",
            "14/14 - 1s - loss: 0.1076 - accuracy: 0.9638 - val_loss: 0.6656 - val_accuracy: 0.8094 - 596ms/epoch - 43ms/step\n",
            "Epoch 52/70\n",
            "14/14 - 1s - loss: 0.1157 - accuracy: 0.9579 - val_loss: 0.7772 - val_accuracy: 0.7555 - 695ms/epoch - 50ms/step\n",
            "Epoch 53/70\n",
            "14/14 - 1s - loss: 0.4105 - accuracy: 0.8613 - val_loss: 0.8584 - val_accuracy: 0.7500 - 645ms/epoch - 46ms/step\n",
            "Epoch 54/70\n",
            "14/14 - 1s - loss: 0.2273 - accuracy: 0.9176 - val_loss: 0.6721 - val_accuracy: 0.7901 - 651ms/epoch - 47ms/step\n",
            "Epoch 55/70\n",
            "14/14 - 1s - loss: 0.1129 - accuracy: 0.9632 - val_loss: 0.6724 - val_accuracy: 0.8066 - 583ms/epoch - 42ms/step\n",
            "Epoch 56/70\n",
            "14/14 - 1s - loss: 0.1046 - accuracy: 0.9650 - val_loss: 0.6376 - val_accuracy: 0.8149 - 580ms/epoch - 41ms/step\n",
            "Epoch 57/70\n",
            "14/14 - 1s - loss: 0.1018 - accuracy: 0.9686 - val_loss: 0.6649 - val_accuracy: 0.8287 - 587ms/epoch - 42ms/step\n",
            "Epoch 58/70\n",
            "14/14 - 1s - loss: 0.0946 - accuracy: 0.9715 - val_loss: 0.5971 - val_accuracy: 0.8177 - 587ms/epoch - 42ms/step\n",
            "Epoch 59/70\n",
            "14/14 - 1s - loss: 0.0776 - accuracy: 0.9769 - val_loss: 0.8683 - val_accuracy: 0.7735 - 603ms/epoch - 43ms/step\n",
            "Epoch 60/70\n",
            "14/14 - 1s - loss: 0.0713 - accuracy: 0.9804 - val_loss: 0.5735 - val_accuracy: 0.8315 - 596ms/epoch - 43ms/step\n",
            "Epoch 61/70\n",
            "14/14 - 1s - loss: 0.0435 - accuracy: 0.9881 - val_loss: 0.6626 - val_accuracy: 0.8218 - 599ms/epoch - 43ms/step\n",
            "Epoch 62/70\n",
            "14/14 - 1s - loss: 0.0739 - accuracy: 0.9727 - val_loss: 0.5932 - val_accuracy: 0.8273 - 590ms/epoch - 42ms/step\n",
            "Epoch 63/70\n",
            "14/14 - 1s - loss: 0.0538 - accuracy: 0.9858 - val_loss: 0.6663 - val_accuracy: 0.8204 - 604ms/epoch - 43ms/step\n",
            "Epoch 64/70\n",
            "14/14 - 1s - loss: 0.0424 - accuracy: 0.9905 - val_loss: 0.6800 - val_accuracy: 0.8149 - 592ms/epoch - 42ms/step\n",
            "Epoch 65/70\n",
            "14/14 - 1s - loss: 0.0588 - accuracy: 0.9793 - val_loss: 0.5921 - val_accuracy: 0.8246 - 589ms/epoch - 42ms/step\n",
            "Epoch 66/70\n",
            "14/14 - 1s - loss: 0.0636 - accuracy: 0.9798 - val_loss: 0.6950 - val_accuracy: 0.8135 - 598ms/epoch - 43ms/step\n"
          ]
        },
        {
          "name": "stdout",
          "output_type": "stream",
          "text": [
            "Epoch 67/70\n",
            "14/14 - 1s - loss: 0.0613 - accuracy: 0.9816 - val_loss: 0.6979 - val_accuracy: 0.8052 - 594ms/epoch - 42ms/step\n",
            "Epoch 68/70\n",
            "14/14 - 1s - loss: 0.0509 - accuracy: 0.9858 - val_loss: 0.7095 - val_accuracy: 0.8052 - 599ms/epoch - 43ms/step\n",
            "Epoch 69/70\n",
            "14/14 - 1s - loss: 0.0359 - accuracy: 0.9929 - val_loss: 0.6836 - val_accuracy: 0.8218 - 627ms/epoch - 45ms/step\n",
            "Epoch 70/70\n",
            "14/14 - 1s - loss: 0.0212 - accuracy: 0.9953 - val_loss: 0.6140 - val_accuracy: 0.8370 - 588ms/epoch - 42ms/step\n",
            "The best accuracy is 0.9952578544616699\n"
          ]
        }
      ],
      "source": [
        "model3 = Sequential()\n",
        "model3.add(Dense(2048,activation = 'relu',kernel_initializer = 'normal',input_dim = X_train.shape[1]))\n",
        "model3.add(Dense(1024,activation = 'relu'))\n",
        "model3.add(Dense(7,activation=\"softmax\"))\n",
        "model3.compile(loss = 'sparse_categorical_crossentropy',optimizer = 'adam',metrics = \"accuracy\")\n",
        "history_model3 = model3.fit(X_train,Y_train, epochs = 70, batch_size = 128, validation_data = (X_test,Y_test),verbose = 2)\n",
        "best_score = max(history_model3.history['accuracy'])\n",
        "print(\"The best accuracy is\",best_score)"
      ],
      "id": "21118ca7"
    },
    {
      "cell_type": "code",
      "execution_count": null,
      "metadata": {
        "id": "58f2897f",
        "outputId": "f14dc2ac-5b48-4e5d-f9d2-9b2fced5e8cd"
      },
      "outputs": [
        {
          "name": "stdout",
          "output_type": "stream",
          "text": [
            "23/23 [==============================] - 0s 6ms/step\n",
            "Macro score: 0.8385117760007484\n",
            "Recall Score 0.8245976209524837\n"
          ]
        }
      ],
      "source": [
        "pred = tf.argmax(model3.predict(X_test),axis=1)\n",
        "print(\"Macro score:\",precision_score(Y_test,pred,average='macro'))\n",
        "print(\"Recall Score\",recall_score(Y_test,pred,average='macro'))"
      ],
      "id": "58f2897f"
    },
    {
      "cell_type": "markdown",
      "metadata": {
        "id": "e347ea4a"
      },
      "source": [
        "## Macro score: 0.8389959148430156"
      ],
      "id": "e347ea4a"
    },
    {
      "cell_type": "markdown",
      "metadata": {
        "id": "316496b7"
      },
      "source": [
        "## Playing with Activation functions"
      ],
      "id": "316496b7"
    },
    {
      "cell_type": "markdown",
      "metadata": {
        "id": "9b2849f9"
      },
      "source": [
        "Activation function: sigmoid"
      ],
      "id": "9b2849f9"
    },
    {
      "cell_type": "code",
      "execution_count": null,
      "metadata": {
        "id": "384486f1",
        "outputId": "1c49cd4e-5c22-4a12-cb9c-1ea09d699622"
      },
      "outputs": [
        {
          "name": "stdout",
          "output_type": "stream",
          "text": [
            "Epoch 1/80\n",
            "14/14 - 1s - loss: 2.0629 - accuracy: 0.3065 - val_loss: 1.4050 - val_accuracy: 0.5014 - 613ms/epoch - 44ms/step\n",
            "Epoch 2/80\n",
            "14/14 - 0s - loss: 1.3521 - accuracy: 0.4956 - val_loss: 1.3407 - val_accuracy: 0.4655 - 249ms/epoch - 18ms/step\n",
            "Epoch 3/80\n",
            "14/14 - 0s - loss: 1.2340 - accuracy: 0.5376 - val_loss: 1.1006 - val_accuracy: 0.5994 - 243ms/epoch - 17ms/step\n",
            "Epoch 4/80\n",
            "14/14 - 0s - loss: 1.0638 - accuracy: 0.6129 - val_loss: 1.0017 - val_accuracy: 0.6671 - 245ms/epoch - 18ms/step\n",
            "Epoch 5/80\n",
            "14/14 - 0s - loss: 0.9726 - accuracy: 0.6520 - val_loss: 0.9510 - val_accuracy: 0.6727 - 238ms/epoch - 17ms/step\n",
            "Epoch 6/80\n",
            "14/14 - 0s - loss: 0.9071 - accuracy: 0.6912 - val_loss: 0.9377 - val_accuracy: 0.6699 - 243ms/epoch - 17ms/step\n",
            "Epoch 7/80\n",
            "14/14 - 0s - loss: 0.8721 - accuracy: 0.6971 - val_loss: 0.8465 - val_accuracy: 0.7265 - 238ms/epoch - 17ms/step\n",
            "Epoch 8/80\n",
            "14/14 - 0s - loss: 0.8203 - accuracy: 0.7178 - val_loss: 0.8851 - val_accuracy: 0.6837 - 241ms/epoch - 17ms/step\n",
            "Epoch 9/80\n",
            "14/14 - 0s - loss: 0.7981 - accuracy: 0.7315 - val_loss: 0.7933 - val_accuracy: 0.7431 - 239ms/epoch - 17ms/step\n",
            "Epoch 10/80\n",
            "14/14 - 0s - loss: 0.7600 - accuracy: 0.7362 - val_loss: 0.8233 - val_accuracy: 0.7196 - 237ms/epoch - 17ms/step\n",
            "Epoch 11/80\n",
            "14/14 - 0s - loss: 0.6998 - accuracy: 0.7593 - val_loss: 0.7735 - val_accuracy: 0.7210 - 245ms/epoch - 17ms/step\n",
            "Epoch 12/80\n",
            "14/14 - 0s - loss: 0.6910 - accuracy: 0.7647 - val_loss: 0.7727 - val_accuracy: 0.7238 - 236ms/epoch - 17ms/step\n",
            "Epoch 13/80\n",
            "14/14 - 0s - loss: 0.6919 - accuracy: 0.7635 - val_loss: 0.7813 - val_accuracy: 0.7155 - 245ms/epoch - 18ms/step\n",
            "Epoch 14/80\n",
            "14/14 - 0s - loss: 0.6507 - accuracy: 0.7724 - val_loss: 0.7468 - val_accuracy: 0.7583 - 241ms/epoch - 17ms/step\n",
            "Epoch 15/80\n",
            "14/14 - 0s - loss: 0.6208 - accuracy: 0.7943 - val_loss: 0.7294 - val_accuracy: 0.7569 - 240ms/epoch - 17ms/step\n",
            "Epoch 16/80\n",
            "14/14 - 0s - loss: 0.6053 - accuracy: 0.8026 - val_loss: 0.6713 - val_accuracy: 0.7790 - 237ms/epoch - 17ms/step\n",
            "Epoch 17/80\n",
            "14/14 - 0s - loss: 0.5362 - accuracy: 0.8376 - val_loss: 0.6555 - val_accuracy: 0.7776 - 235ms/epoch - 17ms/step\n",
            "Epoch 18/80\n",
            "14/14 - 0s - loss: 0.5159 - accuracy: 0.8299 - val_loss: 0.7002 - val_accuracy: 0.7721 - 238ms/epoch - 17ms/step\n",
            "Epoch 19/80\n",
            "14/14 - 0s - loss: 0.5200 - accuracy: 0.8133 - val_loss: 0.7420 - val_accuracy: 0.7376 - 238ms/epoch - 17ms/step\n",
            "Epoch 20/80\n",
            "14/14 - 0s - loss: 0.4889 - accuracy: 0.8364 - val_loss: 0.6434 - val_accuracy: 0.7707 - 348ms/epoch - 25ms/step\n",
            "Epoch 21/80\n",
            "14/14 - 0s - loss: 0.4629 - accuracy: 0.8483 - val_loss: 0.7315 - val_accuracy: 0.7569 - 254ms/epoch - 18ms/step\n",
            "Epoch 22/80\n",
            "14/14 - 0s - loss: 0.5001 - accuracy: 0.8317 - val_loss: 0.6570 - val_accuracy: 0.7790 - 267ms/epoch - 19ms/step\n",
            "Epoch 23/80\n",
            "14/14 - 0s - loss: 0.4405 - accuracy: 0.8506 - val_loss: 0.6024 - val_accuracy: 0.7942 - 248ms/epoch - 18ms/step\n",
            "Epoch 24/80\n",
            "14/14 - 0s - loss: 0.3997 - accuracy: 0.8643 - val_loss: 0.6331 - val_accuracy: 0.7804 - 233ms/epoch - 17ms/step\n",
            "Epoch 25/80\n",
            "14/14 - 0s - loss: 0.4265 - accuracy: 0.8488 - val_loss: 0.6113 - val_accuracy: 0.7914 - 242ms/epoch - 17ms/step\n",
            "Epoch 26/80\n",
            "14/14 - 0s - loss: 0.4357 - accuracy: 0.8453 - val_loss: 0.6319 - val_accuracy: 0.7914 - 238ms/epoch - 17ms/step\n",
            "Epoch 27/80\n",
            "14/14 - 0s - loss: 0.3846 - accuracy: 0.8702 - val_loss: 0.6300 - val_accuracy: 0.7831 - 233ms/epoch - 17ms/step\n",
            "Epoch 28/80\n",
            "14/14 - 0s - loss: 0.3897 - accuracy: 0.8702 - val_loss: 0.7817 - val_accuracy: 0.7293 - 240ms/epoch - 17ms/step\n",
            "Epoch 29/80\n",
            "14/14 - 0s - loss: 0.4187 - accuracy: 0.8577 - val_loss: 0.7165 - val_accuracy: 0.7776 - 304ms/epoch - 22ms/step\n",
            "Epoch 30/80\n",
            "14/14 - 0s - loss: 0.3667 - accuracy: 0.8755 - val_loss: 0.5732 - val_accuracy: 0.8135 - 256ms/epoch - 18ms/step\n",
            "Epoch 31/80\n",
            "14/14 - 0s - loss: 0.3137 - accuracy: 0.8933 - val_loss: 0.5856 - val_accuracy: 0.8108 - 237ms/epoch - 17ms/step\n",
            "Epoch 32/80\n",
            "14/14 - 0s - loss: 0.3021 - accuracy: 0.8951 - val_loss: 0.6293 - val_accuracy: 0.7956 - 238ms/epoch - 17ms/step\n",
            "Epoch 33/80\n",
            "14/14 - 0s - loss: 0.3018 - accuracy: 0.9004 - val_loss: 0.6234 - val_accuracy: 0.7859 - 237ms/epoch - 17ms/step\n",
            "Epoch 34/80\n",
            "14/14 - 0s - loss: 0.3032 - accuracy: 0.9034 - val_loss: 0.5914 - val_accuracy: 0.8135 - 245ms/epoch - 17ms/step\n",
            "Epoch 35/80\n",
            "14/14 - 0s - loss: 0.2735 - accuracy: 0.9117 - val_loss: 0.6018 - val_accuracy: 0.8011 - 246ms/epoch - 18ms/step\n",
            "Epoch 36/80\n",
            "14/14 - 0s - loss: 0.2763 - accuracy: 0.9069 - val_loss: 0.8643 - val_accuracy: 0.7362 - 242ms/epoch - 17ms/step\n",
            "Epoch 37/80\n",
            "14/14 - 0s - loss: 0.4211 - accuracy: 0.8358 - val_loss: 0.7990 - val_accuracy: 0.7348 - 238ms/epoch - 17ms/step\n",
            "Epoch 38/80\n",
            "14/14 - 0s - loss: 0.3798 - accuracy: 0.8737 - val_loss: 0.6735 - val_accuracy: 0.7721 - 242ms/epoch - 17ms/step\n",
            "Epoch 39/80\n",
            "14/14 - 0s - loss: 0.3037 - accuracy: 0.8957 - val_loss: 0.6268 - val_accuracy: 0.7970 - 239ms/epoch - 17ms/step\n",
            "Epoch 40/80\n",
            "14/14 - 0s - loss: 0.2742 - accuracy: 0.9057 - val_loss: 0.5969 - val_accuracy: 0.8094 - 241ms/epoch - 17ms/step\n",
            "Epoch 41/80\n",
            "14/14 - 0s - loss: 0.2379 - accuracy: 0.9182 - val_loss: 0.7134 - val_accuracy: 0.7749 - 254ms/epoch - 18ms/step\n",
            "Epoch 42/80\n",
            "14/14 - 0s - loss: 0.2056 - accuracy: 0.9348 - val_loss: 0.6372 - val_accuracy: 0.7956 - 230ms/epoch - 16ms/step\n",
            "Epoch 43/80\n",
            "14/14 - 0s - loss: 0.2084 - accuracy: 0.9318 - val_loss: 0.7509 - val_accuracy: 0.7514 - 237ms/epoch - 17ms/step\n",
            "Epoch 44/80\n",
            "14/14 - 0s - loss: 0.2342 - accuracy: 0.9182 - val_loss: 0.6618 - val_accuracy: 0.7887 - 236ms/epoch - 17ms/step\n",
            "Epoch 45/80\n",
            "14/14 - 0s - loss: 0.2112 - accuracy: 0.9277 - val_loss: 0.7009 - val_accuracy: 0.7942 - 242ms/epoch - 17ms/step\n",
            "Epoch 46/80\n",
            "14/14 - 0s - loss: 0.2234 - accuracy: 0.9218 - val_loss: 0.5787 - val_accuracy: 0.8218 - 238ms/epoch - 17ms/step\n",
            "Epoch 47/80\n",
            "14/14 - 0s - loss: 0.1739 - accuracy: 0.9443 - val_loss: 0.5827 - val_accuracy: 0.8011 - 241ms/epoch - 17ms/step\n",
            "Epoch 48/80\n",
            "14/14 - 0s - loss: 0.1736 - accuracy: 0.9437 - val_loss: 0.8345 - val_accuracy: 0.7804 - 238ms/epoch - 17ms/step\n",
            "Epoch 49/80\n",
            "14/14 - 0s - loss: 0.1583 - accuracy: 0.9449 - val_loss: 0.6007 - val_accuracy: 0.8204 - 240ms/epoch - 17ms/step\n",
            "Epoch 50/80\n",
            "14/14 - 0s - loss: 0.1488 - accuracy: 0.9496 - val_loss: 0.6973 - val_accuracy: 0.7928 - 235ms/epoch - 17ms/step\n",
            "Epoch 51/80\n",
            "14/14 - 0s - loss: 0.1492 - accuracy: 0.9467 - val_loss: 0.6354 - val_accuracy: 0.8011 - 246ms/epoch - 18ms/step\n",
            "Epoch 52/80\n",
            "14/14 - 0s - loss: 0.1452 - accuracy: 0.9490 - val_loss: 0.6373 - val_accuracy: 0.8094 - 236ms/epoch - 17ms/step\n",
            "Epoch 53/80\n",
            "14/14 - 0s - loss: 0.1662 - accuracy: 0.9437 - val_loss: 0.6119 - val_accuracy: 0.8177 - 240ms/epoch - 17ms/step\n",
            "Epoch 54/80\n",
            "14/14 - 0s - loss: 0.1432 - accuracy: 0.9555 - val_loss: 0.7597 - val_accuracy: 0.7887 - 348ms/epoch - 25ms/step\n",
            "Epoch 55/80\n",
            "14/14 - 0s - loss: 0.1950 - accuracy: 0.9348 - val_loss: 0.7413 - val_accuracy: 0.7956 - 259ms/epoch - 18ms/step\n",
            "Epoch 56/80\n",
            "14/14 - 0s - loss: 0.1519 - accuracy: 0.9514 - val_loss: 0.6158 - val_accuracy: 0.8025 - 237ms/epoch - 17ms/step\n",
            "Epoch 57/80\n",
            "14/14 - 0s - loss: 0.1287 - accuracy: 0.9549 - val_loss: 0.6800 - val_accuracy: 0.8052 - 238ms/epoch - 17ms/step\n",
            "Epoch 58/80\n",
            "14/14 - 0s - loss: 0.1632 - accuracy: 0.9413 - val_loss: 0.7020 - val_accuracy: 0.8094 - 322ms/epoch - 23ms/step\n",
            "Epoch 59/80\n",
            "14/14 - 0s - loss: 0.1614 - accuracy: 0.9389 - val_loss: 0.6244 - val_accuracy: 0.8066 - 252ms/epoch - 18ms/step\n",
            "Epoch 60/80\n",
            "14/14 - 0s - loss: 0.1171 - accuracy: 0.9603 - val_loss: 0.7974 - val_accuracy: 0.7749 - 282ms/epoch - 20ms/step\n",
            "Epoch 61/80\n",
            "14/14 - 0s - loss: 0.1068 - accuracy: 0.9644 - val_loss: 0.6375 - val_accuracy: 0.8204 - 296ms/epoch - 21ms/step\n",
            "Epoch 62/80\n",
            "14/14 - 0s - loss: 0.0903 - accuracy: 0.9710 - val_loss: 0.7174 - val_accuracy: 0.7942 - 312ms/epoch - 22ms/step\n",
            "Epoch 63/80\n",
            "14/14 - 0s - loss: 0.1045 - accuracy: 0.9650 - val_loss: 0.6739 - val_accuracy: 0.8066 - 272ms/epoch - 19ms/step\n",
            "Epoch 64/80\n",
            "14/14 - 0s - loss: 0.1074 - accuracy: 0.9656 - val_loss: 0.6498 - val_accuracy: 0.8191 - 237ms/epoch - 17ms/step\n",
            "Epoch 65/80\n",
            "14/14 - 0s - loss: 0.1024 - accuracy: 0.9680 - val_loss: 0.7255 - val_accuracy: 0.8025 - 233ms/epoch - 17ms/step\n",
            "Epoch 66/80\n",
            "14/14 - 0s - loss: 0.0734 - accuracy: 0.9775 - val_loss: 0.6329 - val_accuracy: 0.8163 - 234ms/epoch - 17ms/step\n"
          ]
        },
        {
          "name": "stdout",
          "output_type": "stream",
          "text": [
            "Epoch 67/80\n",
            "14/14 - 0s - loss: 0.0640 - accuracy: 0.9822 - val_loss: 0.6532 - val_accuracy: 0.8204 - 235ms/epoch - 17ms/step\n",
            "Epoch 68/80\n",
            "14/14 - 0s - loss: 0.0782 - accuracy: 0.9733 - val_loss: 0.7958 - val_accuracy: 0.7887 - 235ms/epoch - 17ms/step\n",
            "Epoch 69/80\n",
            "14/14 - 0s - loss: 0.1547 - accuracy: 0.9419 - val_loss: 0.7822 - val_accuracy: 0.8108 - 231ms/epoch - 16ms/step\n",
            "Epoch 70/80\n",
            "14/14 - 0s - loss: 0.1708 - accuracy: 0.9401 - val_loss: 0.6984 - val_accuracy: 0.8025 - 231ms/epoch - 17ms/step\n",
            "Epoch 71/80\n",
            "14/14 - 0s - loss: 0.0994 - accuracy: 0.9650 - val_loss: 0.8157 - val_accuracy: 0.7887 - 232ms/epoch - 17ms/step\n",
            "Epoch 72/80\n",
            "14/14 - 0s - loss: 0.1121 - accuracy: 0.9579 - val_loss: 0.6513 - val_accuracy: 0.8232 - 234ms/epoch - 17ms/step\n",
            "Epoch 73/80\n",
            "14/14 - 0s - loss: 0.0980 - accuracy: 0.9650 - val_loss: 1.1459 - val_accuracy: 0.7638 - 308ms/epoch - 22ms/step\n",
            "Epoch 74/80\n",
            "14/14 - 0s - loss: 0.1793 - accuracy: 0.9360 - val_loss: 0.6848 - val_accuracy: 0.8177 - 230ms/epoch - 16ms/step\n",
            "Epoch 75/80\n",
            "14/14 - 0s - loss: 0.0872 - accuracy: 0.9745 - val_loss: 0.7796 - val_accuracy: 0.7983 - 245ms/epoch - 17ms/step\n",
            "Epoch 76/80\n",
            "14/14 - 0s - loss: 0.0565 - accuracy: 0.9858 - val_loss: 0.7071 - val_accuracy: 0.8177 - 236ms/epoch - 17ms/step\n",
            "Epoch 77/80\n",
            "14/14 - 0s - loss: 0.0500 - accuracy: 0.9870 - val_loss: 0.7076 - val_accuracy: 0.8052 - 233ms/epoch - 17ms/step\n",
            "Epoch 78/80\n",
            "14/14 - 0s - loss: 0.0453 - accuracy: 0.9852 - val_loss: 0.7473 - val_accuracy: 0.8204 - 285ms/epoch - 20ms/step\n",
            "Epoch 79/80\n",
            "14/14 - 0s - loss: 0.0420 - accuracy: 0.9905 - val_loss: 0.8016 - val_accuracy: 0.7887 - 250ms/epoch - 18ms/step\n",
            "Epoch 80/80\n",
            "14/14 - 0s - loss: 0.0375 - accuracy: 0.9917 - val_loss: 0.7749 - val_accuracy: 0.8011 - 239ms/epoch - 17ms/step\n",
            "The best accuracy is 0.9917012453079224\n"
          ]
        }
      ],
      "source": [
        "model4 = Sequential()\n",
        "model4.add(Dense(1024,activation = 'relu',kernel_initializer = 'normal',input_dim = X_train.shape[1]))\n",
        "model4.add(Dense(256,activation = 'relu'))\n",
        "model4.add(Dense(64,activation = 'relu'))\n",
        "model4.add(Dense(7,activation=\"sigmoid\"))\n",
        "model4.compile(loss = 'sparse_categorical_crossentropy',optimizer = 'adam',metrics = 'accuracy')\n",
        "history_model4 = model4.fit(X_train,Y_train, epochs = 80, batch_size = 128, validation_data = (X_test,Y_test),verbose = 2)\n",
        "best_score = max(history_model4.history['accuracy'])\n",
        "print(\"The best accuracy is\",best_score)"
      ],
      "id": "384486f1"
    },
    {
      "cell_type": "code",
      "execution_count": null,
      "metadata": {
        "id": "1bbffc08",
        "outputId": "b7389555-d05f-4d8a-e03c-28b56510e393"
      },
      "outputs": [
        {
          "name": "stdout",
          "output_type": "stream",
          "text": [
            "23/23 [==============================] - 0s 4ms/step\n",
            "Macro score: 0.7992918455075158\n",
            "Recall Score 0.7922083195982204\n"
          ]
        }
      ],
      "source": [
        "pred = tf.argmax(model4.predict(X_test),axis=1)\n",
        "print(\"Macro score:\",precision_score(Y_test,pred,average='macro'))\n",
        "print(\"Recall Score\",recall_score(Y_test,pred,average='macro'))"
      ],
      "id": "1bbffc08"
    },
    {
      "cell_type": "markdown",
      "metadata": {
        "id": "0c328312"
      },
      "source": [
        "### Macro score: 0.7820051751980104"
      ],
      "id": "0c328312"
    },
    {
      "cell_type": "markdown",
      "metadata": {
        "id": "96a6877e"
      },
      "source": [
        "activation function : elu"
      ],
      "id": "96a6877e"
    },
    {
      "cell_type": "code",
      "execution_count": null,
      "metadata": {
        "id": "5cd21782",
        "outputId": "8c427e29-8116-4cd7-f608-116ba1444b88"
      },
      "outputs": [
        {
          "name": "stdout",
          "output_type": "stream",
          "text": [
            "Epoch 1/80\n",
            "14/14 - 1s - loss: 5.7648 - accuracy: 0.1903 - val_loss: 4.4589 - val_accuracy: 0.2210 - 1s/epoch - 84ms/step\n",
            "Epoch 2/80\n",
            "14/14 - 0s - loss: 4.8254 - accuracy: 0.1719 - val_loss: 4.4590 - val_accuracy: 0.2210 - 245ms/epoch - 17ms/step\n",
            "Epoch 3/80\n",
            "14/14 - 0s - loss: 4.6573 - accuracy: 0.2170 - val_loss: 4.4590 - val_accuracy: 0.2017 - 238ms/epoch - 17ms/step\n",
            "Epoch 4/80\n",
            "14/14 - 0s - loss: 4.6573 - accuracy: 0.1938 - val_loss: 4.4590 - val_accuracy: 0.2017 - 237ms/epoch - 17ms/step\n",
            "Epoch 5/80\n",
            "14/14 - 0s - loss: 4.6573 - accuracy: 0.1938 - val_loss: 4.4590 - val_accuracy: 0.2017 - 234ms/epoch - 17ms/step\n",
            "Epoch 6/80\n",
            "14/14 - 0s - loss: 4.6573 - accuracy: 0.1938 - val_loss: 4.4590 - val_accuracy: 0.2017 - 238ms/epoch - 17ms/step\n",
            "Epoch 7/80\n",
            "14/14 - 0s - loss: 4.6573 - accuracy: 0.1938 - val_loss: 4.4590 - val_accuracy: 0.2017 - 235ms/epoch - 17ms/step\n",
            "Epoch 8/80\n",
            "14/14 - 0s - loss: 4.6573 - accuracy: 0.1938 - val_loss: 4.4590 - val_accuracy: 0.2017 - 239ms/epoch - 17ms/step\n",
            "Epoch 9/80\n",
            "14/14 - 0s - loss: 4.6573 - accuracy: 0.1938 - val_loss: 4.4590 - val_accuracy: 0.2017 - 235ms/epoch - 17ms/step\n",
            "Epoch 10/80\n",
            "14/14 - 0s - loss: 4.6573 - accuracy: 0.1938 - val_loss: 4.4590 - val_accuracy: 0.2017 - 238ms/epoch - 17ms/step\n",
            "Epoch 11/80\n",
            "14/14 - 0s - loss: 4.6573 - accuracy: 0.1938 - val_loss: 4.4590 - val_accuracy: 0.2017 - 286ms/epoch - 20ms/step\n",
            "Epoch 12/80\n",
            "14/14 - 0s - loss: 4.6573 - accuracy: 0.1938 - val_loss: 4.4590 - val_accuracy: 0.2017 - 243ms/epoch - 17ms/step\n",
            "Epoch 13/80\n",
            "14/14 - 0s - loss: 4.6573 - accuracy: 0.1938 - val_loss: 4.4590 - val_accuracy: 0.2017 - 238ms/epoch - 17ms/step\n",
            "Epoch 14/80\n",
            "14/14 - 0s - loss: 4.6573 - accuracy: 0.1938 - val_loss: 4.4590 - val_accuracy: 0.2017 - 318ms/epoch - 23ms/step\n",
            "Epoch 15/80\n",
            "14/14 - 0s - loss: 4.6573 - accuracy: 0.1938 - val_loss: 4.4590 - val_accuracy: 0.2017 - 279ms/epoch - 20ms/step\n",
            "Epoch 16/80\n",
            "14/14 - 0s - loss: 4.6573 - accuracy: 0.1938 - val_loss: 4.4590 - val_accuracy: 0.2017 - 239ms/epoch - 17ms/step\n",
            "Epoch 17/80\n",
            "14/14 - 0s - loss: 4.6573 - accuracy: 0.1938 - val_loss: 4.4590 - val_accuracy: 0.2017 - 243ms/epoch - 17ms/step\n",
            "Epoch 18/80\n",
            "14/14 - 0s - loss: 4.6573 - accuracy: 0.1938 - val_loss: 4.4590 - val_accuracy: 0.2017 - 238ms/epoch - 17ms/step\n",
            "Epoch 19/80\n",
            "14/14 - 0s - loss: 4.6573 - accuracy: 0.1938 - val_loss: 4.4590 - val_accuracy: 0.2017 - 235ms/epoch - 17ms/step\n",
            "Epoch 20/80\n",
            "14/14 - 0s - loss: 4.6573 - accuracy: 0.1938 - val_loss: 4.4590 - val_accuracy: 0.2017 - 232ms/epoch - 17ms/step\n",
            "Epoch 21/80\n",
            "14/14 - 0s - loss: 4.6573 - accuracy: 0.1938 - val_loss: 4.4590 - val_accuracy: 0.2017 - 235ms/epoch - 17ms/step\n",
            "Epoch 22/80\n",
            "14/14 - 0s - loss: 4.6573 - accuracy: 0.1938 - val_loss: 4.4590 - val_accuracy: 0.2017 - 237ms/epoch - 17ms/step\n",
            "Epoch 23/80\n",
            "14/14 - 0s - loss: 4.6573 - accuracy: 0.1938 - val_loss: 4.4590 - val_accuracy: 0.2017 - 238ms/epoch - 17ms/step\n",
            "Epoch 24/80\n",
            "14/14 - 0s - loss: 4.6573 - accuracy: 0.1938 - val_loss: 4.4590 - val_accuracy: 0.2017 - 235ms/epoch - 17ms/step\n",
            "Epoch 25/80\n",
            "14/14 - 0s - loss: 4.6573 - accuracy: 0.1938 - val_loss: 4.4590 - val_accuracy: 0.2017 - 236ms/epoch - 17ms/step\n",
            "Epoch 26/80\n",
            "14/14 - 0s - loss: 4.6573 - accuracy: 0.1938 - val_loss: 4.4590 - val_accuracy: 0.2017 - 236ms/epoch - 17ms/step\n",
            "Epoch 27/80\n",
            "14/14 - 0s - loss: 4.6573 - accuracy: 0.1938 - val_loss: 4.4590 - val_accuracy: 0.2017 - 243ms/epoch - 17ms/step\n",
            "Epoch 28/80\n",
            "14/14 - 0s - loss: 4.6573 - accuracy: 0.1938 - val_loss: 4.4590 - val_accuracy: 0.2017 - 238ms/epoch - 17ms/step\n",
            "Epoch 29/80\n",
            "14/14 - 0s - loss: 4.6573 - accuracy: 0.1938 - val_loss: 4.4590 - val_accuracy: 0.2017 - 233ms/epoch - 17ms/step\n",
            "Epoch 30/80\n",
            "14/14 - 0s - loss: 4.6573 - accuracy: 0.1938 - val_loss: 4.4590 - val_accuracy: 0.2017 - 233ms/epoch - 17ms/step\n",
            "Epoch 31/80\n",
            "14/14 - 0s - loss: 4.6573 - accuracy: 0.1938 - val_loss: 4.4590 - val_accuracy: 0.2017 - 238ms/epoch - 17ms/step\n",
            "Epoch 32/80\n",
            "14/14 - 0s - loss: 4.6573 - accuracy: 0.1938 - val_loss: 4.4590 - val_accuracy: 0.2017 - 235ms/epoch - 17ms/step\n",
            "Epoch 33/80\n",
            "14/14 - 0s - loss: 4.6573 - accuracy: 0.1938 - val_loss: 4.4590 - val_accuracy: 0.2017 - 233ms/epoch - 17ms/step\n",
            "Epoch 34/80\n",
            "14/14 - 0s - loss: 4.6573 - accuracy: 0.1938 - val_loss: 4.4590 - val_accuracy: 0.2017 - 238ms/epoch - 17ms/step\n",
            "Epoch 35/80\n",
            "14/14 - 0s - loss: 4.6573 - accuracy: 0.1938 - val_loss: 4.4590 - val_accuracy: 0.2017 - 234ms/epoch - 17ms/step\n",
            "Epoch 36/80\n",
            "14/14 - 0s - loss: 4.6573 - accuracy: 0.1938 - val_loss: 4.4590 - val_accuracy: 0.2017 - 238ms/epoch - 17ms/step\n",
            "Epoch 37/80\n",
            "14/14 - 0s - loss: 4.6573 - accuracy: 0.1938 - val_loss: 4.4590 - val_accuracy: 0.2017 - 325ms/epoch - 23ms/step\n",
            "Epoch 38/80\n",
            "14/14 - 0s - loss: 4.6573 - accuracy: 0.1938 - val_loss: 4.4590 - val_accuracy: 0.2017 - 312ms/epoch - 22ms/step\n",
            "Epoch 39/80\n",
            "14/14 - 0s - loss: 4.6573 - accuracy: 0.1938 - val_loss: 4.4590 - val_accuracy: 0.2017 - 227ms/epoch - 16ms/step\n",
            "Epoch 40/80\n",
            "14/14 - 0s - loss: 4.6573 - accuracy: 0.1938 - val_loss: 4.4590 - val_accuracy: 0.2017 - 241ms/epoch - 17ms/step\n",
            "Epoch 41/80\n",
            "14/14 - 0s - loss: 4.6573 - accuracy: 0.1938 - val_loss: 4.4590 - val_accuracy: 0.2017 - 235ms/epoch - 17ms/step\n",
            "Epoch 42/80\n",
            "14/14 - 0s - loss: 4.6573 - accuracy: 0.1938 - val_loss: 4.4590 - val_accuracy: 0.2017 - 236ms/epoch - 17ms/step\n",
            "Epoch 43/80\n",
            "14/14 - 0s - loss: 4.6573 - accuracy: 0.1938 - val_loss: 4.4590 - val_accuracy: 0.2017 - 237ms/epoch - 17ms/step\n",
            "Epoch 44/80\n",
            "14/14 - 0s - loss: 4.6573 - accuracy: 0.1938 - val_loss: 4.4590 - val_accuracy: 0.2017 - 233ms/epoch - 17ms/step\n",
            "Epoch 45/80\n",
            "14/14 - 0s - loss: 4.6573 - accuracy: 0.1938 - val_loss: 4.4590 - val_accuracy: 0.2017 - 236ms/epoch - 17ms/step\n",
            "Epoch 46/80\n",
            "14/14 - 0s - loss: 4.6573 - accuracy: 0.1938 - val_loss: 4.4590 - val_accuracy: 0.2017 - 234ms/epoch - 17ms/step\n",
            "Epoch 47/80\n",
            "14/14 - 0s - loss: 4.6573 - accuracy: 0.1938 - val_loss: 4.4590 - val_accuracy: 0.2017 - 236ms/epoch - 17ms/step\n",
            "Epoch 48/80\n",
            "14/14 - 0s - loss: 4.6573 - accuracy: 0.1938 - val_loss: 4.4590 - val_accuracy: 0.2017 - 240ms/epoch - 17ms/step\n",
            "Epoch 49/80\n",
            "14/14 - 0s - loss: 4.6573 - accuracy: 0.1938 - val_loss: 4.4590 - val_accuracy: 0.2017 - 236ms/epoch - 17ms/step\n",
            "Epoch 50/80\n",
            "14/14 - 0s - loss: 4.6573 - accuracy: 0.1938 - val_loss: 4.4590 - val_accuracy: 0.2017 - 235ms/epoch - 17ms/step\n",
            "Epoch 51/80\n",
            "14/14 - 0s - loss: 4.6573 - accuracy: 0.1938 - val_loss: 4.4590 - val_accuracy: 0.2017 - 238ms/epoch - 17ms/step\n",
            "Epoch 52/80\n",
            "14/14 - 0s - loss: 4.6573 - accuracy: 0.1938 - val_loss: 4.4590 - val_accuracy: 0.2017 - 234ms/epoch - 17ms/step\n",
            "Epoch 53/80\n",
            "14/14 - 0s - loss: 4.6573 - accuracy: 0.1938 - val_loss: 4.4590 - val_accuracy: 0.2017 - 234ms/epoch - 17ms/step\n",
            "Epoch 54/80\n",
            "14/14 - 0s - loss: 4.6573 - accuracy: 0.1938 - val_loss: 4.4590 - val_accuracy: 0.2017 - 235ms/epoch - 17ms/step\n",
            "Epoch 55/80\n",
            "14/14 - 0s - loss: 4.6573 - accuracy: 0.1938 - val_loss: 4.4590 - val_accuracy: 0.2017 - 232ms/epoch - 17ms/step\n",
            "Epoch 56/80\n",
            "14/14 - 0s - loss: 4.6573 - accuracy: 0.1938 - val_loss: 4.4590 - val_accuracy: 0.2017 - 233ms/epoch - 17ms/step\n",
            "Epoch 57/80\n",
            "14/14 - 0s - loss: 4.6573 - accuracy: 0.1938 - val_loss: 4.4590 - val_accuracy: 0.2017 - 233ms/epoch - 17ms/step\n",
            "Epoch 58/80\n",
            "14/14 - 0s - loss: 4.6573 - accuracy: 0.1938 - val_loss: 4.4590 - val_accuracy: 0.2017 - 237ms/epoch - 17ms/step\n",
            "Epoch 59/80\n",
            "14/14 - 0s - loss: 4.6573 - accuracy: 0.1938 - val_loss: 4.4590 - val_accuracy: 0.2017 - 232ms/epoch - 17ms/step\n",
            "Epoch 60/80\n",
            "14/14 - 0s - loss: 4.6573 - accuracy: 0.1938 - val_loss: 4.4590 - val_accuracy: 0.2017 - 234ms/epoch - 17ms/step\n",
            "Epoch 61/80\n",
            "14/14 - 0s - loss: 4.6573 - accuracy: 0.1938 - val_loss: 4.4590 - val_accuracy: 0.2017 - 232ms/epoch - 17ms/step\n",
            "Epoch 62/80\n",
            "14/14 - 0s - loss: 4.6573 - accuracy: 0.1938 - val_loss: 4.4590 - val_accuracy: 0.2017 - 235ms/epoch - 17ms/step\n",
            "Epoch 63/80\n",
            "14/14 - 0s - loss: 4.6573 - accuracy: 0.1938 - val_loss: 4.4590 - val_accuracy: 0.2017 - 225ms/epoch - 16ms/step\n",
            "Epoch 64/80\n",
            "14/14 - 0s - loss: 4.6573 - accuracy: 0.1938 - val_loss: 4.4590 - val_accuracy: 0.2017 - 231ms/epoch - 17ms/step\n",
            "Epoch 65/80\n",
            "14/14 - 0s - loss: 4.6573 - accuracy: 0.1938 - val_loss: 4.4590 - val_accuracy: 0.2017 - 235ms/epoch - 17ms/step\n",
            "Epoch 66/80\n",
            "14/14 - 0s - loss: 4.6573 - accuracy: 0.1938 - val_loss: 4.4590 - val_accuracy: 0.2017 - 232ms/epoch - 17ms/step\n"
          ]
        },
        {
          "name": "stdout",
          "output_type": "stream",
          "text": [
            "Epoch 67/80\n",
            "14/14 - 0s - loss: 4.6573 - accuracy: 0.1938 - val_loss: 4.4590 - val_accuracy: 0.2017 - 226ms/epoch - 16ms/step\n",
            "Epoch 68/80\n",
            "14/14 - 0s - loss: 4.6573 - accuracy: 0.1938 - val_loss: 4.4590 - val_accuracy: 0.2017 - 248ms/epoch - 18ms/step\n",
            "Epoch 69/80\n",
            "14/14 - 0s - loss: 4.6573 - accuracy: 0.1938 - val_loss: 4.4590 - val_accuracy: 0.2017 - 231ms/epoch - 17ms/step\n",
            "Epoch 70/80\n",
            "14/14 - 0s - loss: 4.6573 - accuracy: 0.1938 - val_loss: 4.4590 - val_accuracy: 0.2017 - 227ms/epoch - 16ms/step\n",
            "Epoch 71/80\n",
            "14/14 - 0s - loss: 4.6573 - accuracy: 0.1938 - val_loss: 4.4590 - val_accuracy: 0.2017 - 235ms/epoch - 17ms/step\n",
            "Epoch 72/80\n",
            "14/14 - 0s - loss: 4.6573 - accuracy: 0.1938 - val_loss: 4.4590 - val_accuracy: 0.2017 - 305ms/epoch - 22ms/step\n",
            "Epoch 73/80\n",
            "14/14 - 0s - loss: 4.6573 - accuracy: 0.1938 - val_loss: 4.4590 - val_accuracy: 0.2017 - 247ms/epoch - 18ms/step\n",
            "Epoch 74/80\n",
            "14/14 - 0s - loss: 4.6573 - accuracy: 0.1938 - val_loss: 4.4590 - val_accuracy: 0.2017 - 230ms/epoch - 16ms/step\n",
            "Epoch 75/80\n",
            "14/14 - 0s - loss: 4.6573 - accuracy: 0.1938 - val_loss: 4.4590 - val_accuracy: 0.2017 - 235ms/epoch - 17ms/step\n",
            "Epoch 76/80\n",
            "14/14 - 0s - loss: 4.6573 - accuracy: 0.1938 - val_loss: 4.4590 - val_accuracy: 0.2017 - 234ms/epoch - 17ms/step\n",
            "Epoch 77/80\n",
            "14/14 - 0s - loss: 4.6573 - accuracy: 0.1938 - val_loss: 4.4590 - val_accuracy: 0.2017 - 235ms/epoch - 17ms/step\n",
            "Epoch 78/80\n",
            "14/14 - 0s - loss: 4.6573 - accuracy: 0.1938 - val_loss: 4.4590 - val_accuracy: 0.2017 - 233ms/epoch - 17ms/step\n",
            "Epoch 79/80\n",
            "14/14 - 0s - loss: 4.6573 - accuracy: 0.1938 - val_loss: 4.4590 - val_accuracy: 0.2017 - 233ms/epoch - 17ms/step\n",
            "Epoch 80/80\n",
            "14/14 - 0s - loss: 4.6573 - accuracy: 0.1938 - val_loss: 4.4590 - val_accuracy: 0.2017 - 231ms/epoch - 16ms/step\n"
          ]
        }
      ],
      "source": [
        "model5 = Sequential()\n",
        "model5.add(Dense(1024,activation = 'relu',kernel_initializer = 'normal',input_dim = X_train.shape[1]))\n",
        "model5.add(Dense(256,activation = 'relu'))\n",
        "model5.add(Dense(64,activation = 'relu'))\n",
        "model5.add(Dense(7,activation=\"elu\"))\n",
        "model5.compile(loss = 'sparse_categorical_crossentropy',optimizer = 'adam',metrics = 'accuracy')\n",
        "history_model = model5.fit(X_train,Y_train, epochs = 80, batch_size = 128, validation_data = (X_test,Y_test),verbose = 2)"
      ],
      "id": "5cd21782"
    },
    {
      "cell_type": "code",
      "execution_count": null,
      "metadata": {
        "id": "5e2c7aaf",
        "outputId": "39c9da1d-9545-4b8f-ec12-e52df935e961"
      },
      "outputs": [
        {
          "name": "stdout",
          "output_type": "stream",
          "text": [
            "23/23 [==============================] - 0s 3ms/step\n",
            "Macro score: 0.028808208366219418\n",
            "Recall Score 0.14285714285714285\n"
          ]
        }
      ],
      "source": [
        "pred = tf.argmax(model5.predict(X_test),axis=1)\n",
        "print(\"Macro score:\",precision_score(Y_test,pred,average='macro'))\n",
        "print(\"Recall Score\",recall_score(Y_test,pred,average='macro'))"
      ],
      "id": "5e2c7aaf"
    },
    {
      "cell_type": "markdown",
      "metadata": {
        "id": "77c7dc26"
      },
      "source": [
        "### Macro score: 0.018178225647105313"
      ],
      "id": "77c7dc26"
    },
    {
      "cell_type": "markdown",
      "metadata": {
        "id": "37c5101b"
      },
      "source": [
        "activation function: tanh"
      ],
      "id": "37c5101b"
    },
    {
      "cell_type": "code",
      "execution_count": null,
      "metadata": {
        "id": "90997efc",
        "outputId": "18733e50-568f-4b26-b3b2-2b6b2e2167c8"
      },
      "outputs": [
        {
          "name": "stdout",
          "output_type": "stream",
          "text": [
            "Epoch 1/100\n",
            "14/14 - 1s - loss: 3.5764 - accuracy: 0.0972 - val_loss: 1.9459 - val_accuracy: 0.0994 - 734ms/epoch - 52ms/step\n",
            "Epoch 2/100\n",
            "14/14 - 0s - loss: 1.9459 - accuracy: 0.1304 - val_loss: 1.9459 - val_accuracy: 0.1561 - 248ms/epoch - 18ms/step\n",
            "Epoch 3/100\n",
            "14/14 - 0s - loss: 1.9459 - accuracy: 0.1535 - val_loss: 1.9459 - val_accuracy: 0.1644 - 244ms/epoch - 17ms/step\n",
            "Epoch 4/100\n",
            "14/14 - 0s - loss: 1.9459 - accuracy: 0.1624 - val_loss: 1.9459 - val_accuracy: 0.1630 - 239ms/epoch - 17ms/step\n",
            "Epoch 5/100\n",
            "14/14 - 0s - loss: 1.9459 - accuracy: 0.1624 - val_loss: 1.9459 - val_accuracy: 0.1644 - 251ms/epoch - 18ms/step\n",
            "Epoch 6/100\n",
            "14/14 - 0s - loss: 1.9459 - accuracy: 0.1624 - val_loss: 1.9459 - val_accuracy: 0.1644 - 261ms/epoch - 19ms/step\n",
            "Epoch 7/100\n",
            "14/14 - 0s - loss: 1.9459 - accuracy: 0.1624 - val_loss: 1.9459 - val_accuracy: 0.1644 - 421ms/epoch - 30ms/step\n",
            "Epoch 8/100\n",
            "14/14 - 0s - loss: 1.9459 - accuracy: 0.1624 - val_loss: 1.9459 - val_accuracy: 0.1644 - 270ms/epoch - 19ms/step\n",
            "Epoch 9/100\n",
            "14/14 - 0s - loss: 1.9459 - accuracy: 0.1624 - val_loss: 1.9459 - val_accuracy: 0.1644 - 300ms/epoch - 21ms/step\n",
            "Epoch 10/100\n",
            "14/14 - 0s - loss: 1.9459 - accuracy: 0.1624 - val_loss: 1.9459 - val_accuracy: 0.1644 - 255ms/epoch - 18ms/step\n",
            "Epoch 11/100\n",
            "14/14 - 0s - loss: 1.9459 - accuracy: 0.1624 - val_loss: 1.9459 - val_accuracy: 0.1644 - 238ms/epoch - 17ms/step\n",
            "Epoch 12/100\n",
            "14/14 - 0s - loss: 1.9459 - accuracy: 0.1624 - val_loss: 1.9459 - val_accuracy: 0.1644 - 243ms/epoch - 17ms/step\n",
            "Epoch 13/100\n",
            "14/14 - 0s - loss: 1.9459 - accuracy: 0.1624 - val_loss: 1.9459 - val_accuracy: 0.1644 - 235ms/epoch - 17ms/step\n",
            "Epoch 14/100\n",
            "14/14 - 0s - loss: 1.9459 - accuracy: 0.1624 - val_loss: 1.9459 - val_accuracy: 0.1644 - 237ms/epoch - 17ms/step\n",
            "Epoch 15/100\n",
            "14/14 - 0s - loss: 1.9459 - accuracy: 0.1624 - val_loss: 1.9459 - val_accuracy: 0.1644 - 233ms/epoch - 17ms/step\n",
            "Epoch 16/100\n",
            "14/14 - 0s - loss: 1.9459 - accuracy: 0.1624 - val_loss: 1.9459 - val_accuracy: 0.1644 - 236ms/epoch - 17ms/step\n",
            "Epoch 17/100\n",
            "14/14 - 0s - loss: 1.9459 - accuracy: 0.1624 - val_loss: 1.9459 - val_accuracy: 0.1644 - 237ms/epoch - 17ms/step\n",
            "Epoch 18/100\n",
            "14/14 - 0s - loss: 1.9459 - accuracy: 0.1624 - val_loss: 1.9459 - val_accuracy: 0.1644 - 234ms/epoch - 17ms/step\n",
            "Epoch 19/100\n",
            "14/14 - 0s - loss: 1.9459 - accuracy: 0.1624 - val_loss: 1.9459 - val_accuracy: 0.1644 - 237ms/epoch - 17ms/step\n",
            "Epoch 20/100\n",
            "14/14 - 0s - loss: 1.9459 - accuracy: 0.1624 - val_loss: 1.9459 - val_accuracy: 0.1644 - 234ms/epoch - 17ms/step\n",
            "Epoch 21/100\n",
            "14/14 - 0s - loss: 1.9459 - accuracy: 0.1624 - val_loss: 1.9459 - val_accuracy: 0.1644 - 235ms/epoch - 17ms/step\n",
            "Epoch 22/100\n",
            "14/14 - 0s - loss: 1.9459 - accuracy: 0.1624 - val_loss: 1.9459 - val_accuracy: 0.1644 - 235ms/epoch - 17ms/step\n",
            "Epoch 23/100\n",
            "14/14 - 0s - loss: 1.9459 - accuracy: 0.1624 - val_loss: 1.9459 - val_accuracy: 0.1644 - 237ms/epoch - 17ms/step\n",
            "Epoch 24/100\n",
            "14/14 - 0s - loss: 1.9459 - accuracy: 0.1624 - val_loss: 1.9459 - val_accuracy: 0.1644 - 299ms/epoch - 21ms/step\n",
            "Epoch 25/100\n",
            "14/14 - 0s - loss: 1.9459 - accuracy: 0.1624 - val_loss: 1.9459 - val_accuracy: 0.1644 - 255ms/epoch - 18ms/step\n",
            "Epoch 26/100\n",
            "14/14 - 0s - loss: 1.9459 - accuracy: 0.1624 - val_loss: 1.9459 - val_accuracy: 0.1644 - 231ms/epoch - 16ms/step\n",
            "Epoch 27/100\n",
            "14/14 - 0s - loss: 1.9459 - accuracy: 0.1624 - val_loss: 1.9459 - val_accuracy: 0.1644 - 243ms/epoch - 17ms/step\n",
            "Epoch 28/100\n",
            "14/14 - 0s - loss: 1.9459 - accuracy: 0.1624 - val_loss: 1.9459 - val_accuracy: 0.1644 - 239ms/epoch - 17ms/step\n",
            "Epoch 29/100\n",
            "14/14 - 0s - loss: 1.9459 - accuracy: 0.1624 - val_loss: 1.9459 - val_accuracy: 0.1644 - 235ms/epoch - 17ms/step\n",
            "Epoch 30/100\n",
            "14/14 - 0s - loss: 1.9459 - accuracy: 0.1624 - val_loss: 1.9459 - val_accuracy: 0.1644 - 235ms/epoch - 17ms/step\n",
            "Epoch 31/100\n",
            "14/14 - 0s - loss: 1.9459 - accuracy: 0.1624 - val_loss: 1.9459 - val_accuracy: 0.1644 - 238ms/epoch - 17ms/step\n",
            "Epoch 32/100\n",
            "14/14 - 0s - loss: 1.9459 - accuracy: 0.1624 - val_loss: 1.9459 - val_accuracy: 0.1644 - 322ms/epoch - 23ms/step\n",
            "Epoch 33/100\n",
            "14/14 - 0s - loss: 1.9459 - accuracy: 0.1624 - val_loss: 1.9459 - val_accuracy: 0.1644 - 303ms/epoch - 22ms/step\n",
            "Epoch 34/100\n",
            "14/14 - 0s - loss: 1.9459 - accuracy: 0.1624 - val_loss: 1.9459 - val_accuracy: 0.1644 - 390ms/epoch - 28ms/step\n",
            "Epoch 35/100\n",
            "14/14 - 0s - loss: 1.9459 - accuracy: 0.1624 - val_loss: 1.9459 - val_accuracy: 0.1644 - 482ms/epoch - 34ms/step\n",
            "Epoch 36/100\n",
            "14/14 - 1s - loss: 1.9459 - accuracy: 0.1624 - val_loss: 1.9459 - val_accuracy: 0.1644 - 519ms/epoch - 37ms/step\n",
            "Epoch 37/100\n",
            "14/14 - 0s - loss: 1.9459 - accuracy: 0.1624 - val_loss: 1.9459 - val_accuracy: 0.1644 - 447ms/epoch - 32ms/step\n",
            "Epoch 38/100\n",
            "14/14 - 0s - loss: 1.9459 - accuracy: 0.1624 - val_loss: 1.9459 - val_accuracy: 0.1644 - 433ms/epoch - 31ms/step\n",
            "Epoch 39/100\n",
            "14/14 - 0s - loss: 1.9459 - accuracy: 0.1624 - val_loss: 1.9459 - val_accuracy: 0.1644 - 355ms/epoch - 25ms/step\n",
            "Epoch 40/100\n",
            "14/14 - 0s - loss: 1.9459 - accuracy: 0.1624 - val_loss: 1.9459 - val_accuracy: 0.1644 - 372ms/epoch - 27ms/step\n",
            "Epoch 41/100\n",
            "14/14 - 0s - loss: 1.9459 - accuracy: 0.1624 - val_loss: 1.9459 - val_accuracy: 0.1644 - 478ms/epoch - 34ms/step\n",
            "Epoch 42/100\n",
            "14/14 - 0s - loss: 1.9459 - accuracy: 0.1624 - val_loss: 1.9459 - val_accuracy: 0.1644 - 496ms/epoch - 35ms/step\n",
            "Epoch 43/100\n",
            "14/14 - 0s - loss: 1.9459 - accuracy: 0.1624 - val_loss: 1.9459 - val_accuracy: 0.1644 - 395ms/epoch - 28ms/step\n",
            "Epoch 44/100\n",
            "14/14 - 0s - loss: 1.9459 - accuracy: 0.1624 - val_loss: 1.9459 - val_accuracy: 0.1644 - 394ms/epoch - 28ms/step\n",
            "Epoch 45/100\n",
            "14/14 - 0s - loss: 1.9459 - accuracy: 0.1624 - val_loss: 1.9459 - val_accuracy: 0.1644 - 399ms/epoch - 29ms/step\n",
            "Epoch 46/100\n",
            "14/14 - 0s - loss: 1.9459 - accuracy: 0.1624 - val_loss: 1.9459 - val_accuracy: 0.1644 - 331ms/epoch - 24ms/step\n",
            "Epoch 47/100\n",
            "14/14 - 0s - loss: 1.9459 - accuracy: 0.1624 - val_loss: 1.9459 - val_accuracy: 0.1644 - 448ms/epoch - 32ms/step\n",
            "Epoch 48/100\n",
            "14/14 - 0s - loss: 1.9459 - accuracy: 0.1624 - val_loss: 1.9459 - val_accuracy: 0.1644 - 356ms/epoch - 25ms/step\n",
            "Epoch 49/100\n",
            "14/14 - 0s - loss: 1.9459 - accuracy: 0.1624 - val_loss: 1.9459 - val_accuracy: 0.1644 - 354ms/epoch - 25ms/step\n",
            "Epoch 50/100\n",
            "14/14 - 0s - loss: 1.9459 - accuracy: 0.1624 - val_loss: 1.9459 - val_accuracy: 0.1644 - 350ms/epoch - 25ms/step\n",
            "Epoch 51/100\n",
            "14/14 - 0s - loss: 1.9459 - accuracy: 0.1624 - val_loss: 1.9459 - val_accuracy: 0.1644 - 392ms/epoch - 28ms/step\n",
            "Epoch 52/100\n",
            "14/14 - 0s - loss: 1.9459 - accuracy: 0.1624 - val_loss: 1.9459 - val_accuracy: 0.1644 - 450ms/epoch - 32ms/step\n",
            "Epoch 53/100\n",
            "14/14 - 0s - loss: 1.9459 - accuracy: 0.1624 - val_loss: 1.9459 - val_accuracy: 0.1644 - 446ms/epoch - 32ms/step\n",
            "Epoch 54/100\n",
            "14/14 - 0s - loss: 1.9459 - accuracy: 0.1624 - val_loss: 1.9459 - val_accuracy: 0.1644 - 385ms/epoch - 27ms/step\n",
            "Epoch 55/100\n",
            "14/14 - 0s - loss: 1.9459 - accuracy: 0.1624 - val_loss: 1.9459 - val_accuracy: 0.1644 - 376ms/epoch - 27ms/step\n",
            "Epoch 56/100\n",
            "14/14 - 0s - loss: 1.9459 - accuracy: 0.1624 - val_loss: 1.9459 - val_accuracy: 0.1644 - 373ms/epoch - 27ms/step\n",
            "Epoch 57/100\n",
            "14/14 - 0s - loss: 1.9459 - accuracy: 0.1624 - val_loss: 1.9459 - val_accuracy: 0.1644 - 358ms/epoch - 26ms/step\n",
            "Epoch 58/100\n",
            "14/14 - 0s - loss: 1.9459 - accuracy: 0.1624 - val_loss: 1.9459 - val_accuracy: 0.1644 - 284ms/epoch - 20ms/step\n",
            "Epoch 59/100\n",
            "14/14 - 0s - loss: 1.9459 - accuracy: 0.1624 - val_loss: 1.9459 - val_accuracy: 0.1644 - 293ms/epoch - 21ms/step\n",
            "Epoch 60/100\n",
            "14/14 - 0s - loss: 1.9459 - accuracy: 0.1624 - val_loss: 1.9459 - val_accuracy: 0.1644 - 309ms/epoch - 22ms/step\n",
            "Epoch 61/100\n",
            "14/14 - 0s - loss: 1.9459 - accuracy: 0.1624 - val_loss: 1.9459 - val_accuracy: 0.1644 - 322ms/epoch - 23ms/step\n",
            "Epoch 62/100\n",
            "14/14 - 0s - loss: 1.9459 - accuracy: 0.1624 - val_loss: 1.9459 - val_accuracy: 0.1644 - 275ms/epoch - 20ms/step\n",
            "Epoch 63/100\n",
            "14/14 - 0s - loss: 1.9459 - accuracy: 0.1624 - val_loss: 1.9459 - val_accuracy: 0.1644 - 303ms/epoch - 22ms/step\n",
            "Epoch 64/100\n",
            "14/14 - 0s - loss: 1.9459 - accuracy: 0.1624 - val_loss: 1.9459 - val_accuracy: 0.1644 - 332ms/epoch - 24ms/step\n",
            "Epoch 65/100\n",
            "14/14 - 0s - loss: 1.9459 - accuracy: 0.1624 - val_loss: 1.9459 - val_accuracy: 0.1644 - 344ms/epoch - 25ms/step\n",
            "Epoch 66/100\n"
          ]
        },
        {
          "name": "stdout",
          "output_type": "stream",
          "text": [
            "14/14 - 0s - loss: 1.9459 - accuracy: 0.1624 - val_loss: 1.9459 - val_accuracy: 0.1644 - 296ms/epoch - 21ms/step\n",
            "Epoch 67/100\n",
            "14/14 - 0s - loss: 1.9459 - accuracy: 0.1624 - val_loss: 1.9459 - val_accuracy: 0.1644 - 334ms/epoch - 24ms/step\n",
            "Epoch 68/100\n",
            "14/14 - 0s - loss: 1.9459 - accuracy: 0.1624 - val_loss: 1.9459 - val_accuracy: 0.1644 - 288ms/epoch - 21ms/step\n",
            "Epoch 69/100\n",
            "14/14 - 0s - loss: 1.9459 - accuracy: 0.1624 - val_loss: 1.9459 - val_accuracy: 0.1644 - 283ms/epoch - 20ms/step\n",
            "Epoch 70/100\n",
            "14/14 - 0s - loss: 1.9459 - accuracy: 0.1624 - val_loss: 1.9459 - val_accuracy: 0.1644 - 312ms/epoch - 22ms/step\n",
            "Epoch 71/100\n",
            "14/14 - 0s - loss: 1.9459 - accuracy: 0.1624 - val_loss: 1.9459 - val_accuracy: 0.1644 - 362ms/epoch - 26ms/step\n",
            "Epoch 72/100\n",
            "14/14 - 0s - loss: 1.9459 - accuracy: 0.1624 - val_loss: 1.9459 - val_accuracy: 0.1644 - 375ms/epoch - 27ms/step\n",
            "Epoch 73/100\n",
            "14/14 - 0s - loss: 1.9459 - accuracy: 0.1624 - val_loss: 1.9459 - val_accuracy: 0.1644 - 292ms/epoch - 21ms/step\n",
            "Epoch 74/100\n",
            "14/14 - 0s - loss: 1.9459 - accuracy: 0.1624 - val_loss: 1.9459 - val_accuracy: 0.1644 - 306ms/epoch - 22ms/step\n",
            "Epoch 75/100\n",
            "14/14 - 0s - loss: 1.9459 - accuracy: 0.1624 - val_loss: 1.9459 - val_accuracy: 0.1644 - 404ms/epoch - 29ms/step\n",
            "Epoch 76/100\n",
            "14/14 - 0s - loss: 1.9459 - accuracy: 0.1624 - val_loss: 1.9459 - val_accuracy: 0.1644 - 348ms/epoch - 25ms/step\n",
            "Epoch 77/100\n",
            "14/14 - 0s - loss: 1.9459 - accuracy: 0.1624 - val_loss: 1.9459 - val_accuracy: 0.1644 - 306ms/epoch - 22ms/step\n",
            "Epoch 78/100\n",
            "14/14 - 0s - loss: 1.9459 - accuracy: 0.1624 - val_loss: 1.9459 - val_accuracy: 0.1644 - 382ms/epoch - 27ms/step\n",
            "Epoch 79/100\n",
            "14/14 - 0s - loss: 1.9459 - accuracy: 0.1624 - val_loss: 1.9459 - val_accuracy: 0.1644 - 317ms/epoch - 23ms/step\n",
            "Epoch 80/100\n",
            "14/14 - 0s - loss: 1.9459 - accuracy: 0.1624 - val_loss: 1.9459 - val_accuracy: 0.1644 - 301ms/epoch - 22ms/step\n",
            "Epoch 81/100\n",
            "14/14 - 0s - loss: 1.9459 - accuracy: 0.1624 - val_loss: 1.9459 - val_accuracy: 0.1644 - 271ms/epoch - 19ms/step\n",
            "Epoch 82/100\n",
            "14/14 - 0s - loss: 1.9459 - accuracy: 0.1624 - val_loss: 1.9459 - val_accuracy: 0.1644 - 296ms/epoch - 21ms/step\n",
            "Epoch 83/100\n",
            "14/14 - 0s - loss: 1.9459 - accuracy: 0.1624 - val_loss: 1.9459 - val_accuracy: 0.1644 - 329ms/epoch - 23ms/step\n",
            "Epoch 84/100\n",
            "14/14 - 0s - loss: 1.9459 - accuracy: 0.1624 - val_loss: 1.9459 - val_accuracy: 0.1644 - 358ms/epoch - 26ms/step\n",
            "Epoch 85/100\n",
            "14/14 - 0s - loss: 1.9459 - accuracy: 0.1624 - val_loss: 1.9459 - val_accuracy: 0.1644 - 275ms/epoch - 20ms/step\n",
            "Epoch 86/100\n",
            "14/14 - 0s - loss: 1.9459 - accuracy: 0.1624 - val_loss: 1.9459 - val_accuracy: 0.1644 - 321ms/epoch - 23ms/step\n",
            "Epoch 87/100\n",
            "14/14 - 0s - loss: 1.9459 - accuracy: 0.1624 - val_loss: 1.9459 - val_accuracy: 0.1644 - 319ms/epoch - 23ms/step\n",
            "Epoch 88/100\n",
            "14/14 - 0s - loss: 1.9459 - accuracy: 0.1624 - val_loss: 1.9459 - val_accuracy: 0.1644 - 287ms/epoch - 21ms/step\n",
            "Epoch 89/100\n",
            "14/14 - 0s - loss: 1.9459 - accuracy: 0.1624 - val_loss: 1.9459 - val_accuracy: 0.1644 - 295ms/epoch - 21ms/step\n",
            "Epoch 90/100\n",
            "14/14 - 0s - loss: 1.9459 - accuracy: 0.1624 - val_loss: 1.9459 - val_accuracy: 0.1644 - 293ms/epoch - 21ms/step\n",
            "Epoch 91/100\n",
            "14/14 - 0s - loss: 1.9459 - accuracy: 0.1624 - val_loss: 1.9459 - val_accuracy: 0.1644 - 302ms/epoch - 22ms/step\n",
            "Epoch 92/100\n",
            "14/14 - 0s - loss: 1.9459 - accuracy: 0.1624 - val_loss: 1.9459 - val_accuracy: 0.1644 - 290ms/epoch - 21ms/step\n",
            "Epoch 93/100\n",
            "14/14 - 0s - loss: 1.9459 - accuracy: 0.1624 - val_loss: 1.9459 - val_accuracy: 0.1644 - 302ms/epoch - 22ms/step\n",
            "Epoch 94/100\n",
            "14/14 - 0s - loss: 1.9459 - accuracy: 0.1624 - val_loss: 1.9459 - val_accuracy: 0.1644 - 297ms/epoch - 21ms/step\n",
            "Epoch 95/100\n",
            "14/14 - 0s - loss: 1.9459 - accuracy: 0.1624 - val_loss: 1.9459 - val_accuracy: 0.1644 - 324ms/epoch - 23ms/step\n",
            "Epoch 96/100\n",
            "14/14 - 0s - loss: 1.9459 - accuracy: 0.1624 - val_loss: 1.9459 - val_accuracy: 0.1644 - 297ms/epoch - 21ms/step\n",
            "Epoch 97/100\n",
            "14/14 - 0s - loss: 1.9459 - accuracy: 0.1624 - val_loss: 1.9459 - val_accuracy: 0.1644 - 321ms/epoch - 23ms/step\n",
            "Epoch 98/100\n",
            "14/14 - 0s - loss: 1.9459 - accuracy: 0.1624 - val_loss: 1.9459 - val_accuracy: 0.1644 - 278ms/epoch - 20ms/step\n",
            "Epoch 99/100\n",
            "14/14 - 0s - loss: 1.9459 - accuracy: 0.1624 - val_loss: 1.9459 - val_accuracy: 0.1644 - 283ms/epoch - 20ms/step\n",
            "Epoch 100/100\n",
            "14/14 - 0s - loss: 1.9459 - accuracy: 0.1624 - val_loss: 1.9459 - val_accuracy: 0.1644 - 281ms/epoch - 20ms/step\n"
          ]
        }
      ],
      "source": [
        "model6 = Sequential()\n",
        "model6.add(Dense(1024,activation = 'relu',kernel_initializer = 'normal',input_dim = X_train.shape[1]))\n",
        "model6.add(Dense(256,activation = 'relu'))\n",
        "model6.add(Dense(64,activation = 'relu'))\n",
        "model6.add(Dense(7,activation=\"tanh\"))\n",
        "model6.compile(loss = 'sparse_categorical_crossentropy',optimizer = 'adam',metrics = \"accuracy\")\n",
        "history_model6 = model6.fit(X_train,Y_train, epochs = 100, batch_size = 128, validation_data = (X_test,Y_test),verbose = 2)"
      ],
      "id": "90997efc"
    },
    {
      "cell_type": "code",
      "execution_count": null,
      "metadata": {
        "id": "f8cbfda2",
        "outputId": "765792b5-2b58-435c-8250-d68fd802c0b5"
      },
      "outputs": [
        {
          "name": "stdout",
          "output_type": "stream",
          "text": [
            "23/23 [==============================] - 0s 4ms/step\n",
            "Macro score: 0.0532345386287295\n",
            "Recall Score 0.1905955364601981\n"
          ]
        }
      ],
      "source": [
        "pred = tf.argmax(model6.predict(X_test),axis=1)\n",
        "print(\"Macro score:\",precision_score(Y_test,pred,average='macro'))\n",
        "print(\"Recall Score\",recall_score(Y_test,pred,average='macro'))"
      ],
      "id": "f8cbfda2"
    },
    {
      "cell_type": "markdown",
      "metadata": {
        "id": "c0ea640d"
      },
      "source": [
        "### Macro score: 0.023315550286504644"
      ],
      "id": "c0ea640d"
    },
    {
      "cell_type": "markdown",
      "metadata": {
        "id": "fca03732"
      },
      "source": [
        "## Applying early stopping with patience=3 and dropout=0.3"
      ],
      "id": "fca03732"
    },
    {
      "cell_type": "code",
      "execution_count": null,
      "metadata": {
        "id": "e1d60173",
        "outputId": "580e6f1e-18c7-49ce-edb6-f950dccf6e58"
      },
      "outputs": [
        {
          "name": "stdout",
          "output_type": "stream",
          "text": [
            "Epoch 1/100\n",
            "14/14 - 2s - loss: 1.9927 - accuracy: 0.2833 - val_loss: 1.4291 - val_accuracy: 0.5014 - 2s/epoch - 110ms/step\n",
            "Epoch 2/100\n",
            "14/14 - 0s - loss: 1.4904 - accuracy: 0.4292 - val_loss: 1.2956 - val_accuracy: 0.5097 - 479ms/epoch - 34ms/step\n",
            "Epoch 3/100\n",
            "14/14 - 0s - loss: 1.3024 - accuracy: 0.5181 - val_loss: 1.1468 - val_accuracy: 0.5718 - 371ms/epoch - 26ms/step\n",
            "Epoch 4/100\n",
            "14/14 - 0s - loss: 1.2094 - accuracy: 0.5519 - val_loss: 1.1852 - val_accuracy: 0.5732 - 480ms/epoch - 34ms/step\n",
            "Epoch 5/100\n",
            "14/14 - 0s - loss: 1.1409 - accuracy: 0.5738 - val_loss: 0.9965 - val_accuracy: 0.6492 - 365ms/epoch - 26ms/step\n",
            "Epoch 6/100\n",
            "14/14 - 0s - loss: 1.0409 - accuracy: 0.6224 - val_loss: 0.9528 - val_accuracy: 0.6671 - 363ms/epoch - 26ms/step\n",
            "Epoch 7/100\n",
            "14/14 - 0s - loss: 0.9771 - accuracy: 0.6420 - val_loss: 0.9541 - val_accuracy: 0.6644 - 408ms/epoch - 29ms/step\n",
            "Epoch 8/100\n",
            "14/14 - 0s - loss: 0.9602 - accuracy: 0.6633 - val_loss: 0.9724 - val_accuracy: 0.6644 - 341ms/epoch - 24ms/step\n",
            "Epoch 9/100\n",
            "14/14 - 0s - loss: 0.9509 - accuracy: 0.6603 - val_loss: 0.8595 - val_accuracy: 0.7003 - 362ms/epoch - 26ms/step\n",
            "Epoch 10/100\n",
            "14/14 - 0s - loss: 0.8765 - accuracy: 0.6882 - val_loss: 0.8121 - val_accuracy: 0.7182 - 361ms/epoch - 26ms/step\n",
            "Epoch 11/100\n",
            "14/14 - 0s - loss: 0.8533 - accuracy: 0.7001 - val_loss: 0.7999 - val_accuracy: 0.7265 - 314ms/epoch - 22ms/step\n",
            "Epoch 12/100\n",
            "14/14 - 0s - loss: 0.8124 - accuracy: 0.7107 - val_loss: 0.8366 - val_accuracy: 0.7003 - 346ms/epoch - 25ms/step\n",
            "Epoch 13/100\n",
            "14/14 - 0s - loss: 0.8434 - accuracy: 0.6888 - val_loss: 0.8087 - val_accuracy: 0.7210 - 299ms/epoch - 21ms/step\n",
            "Epoch 14/100\n",
            "14/14 - 0s - loss: 0.7653 - accuracy: 0.7279 - val_loss: 0.7208 - val_accuracy: 0.7541 - 351ms/epoch - 25ms/step\n",
            "Epoch 15/100\n",
            "14/14 - 0s - loss: 0.7169 - accuracy: 0.7445 - val_loss: 0.7793 - val_accuracy: 0.7459 - 290ms/epoch - 21ms/step\n",
            "Epoch 16/100\n",
            "14/14 - 0s - loss: 0.7123 - accuracy: 0.7487 - val_loss: 0.7155 - val_accuracy: 0.7569 - 311ms/epoch - 22ms/step\n",
            "Epoch 17/100\n",
            "14/14 - 0s - loss: 0.7266 - accuracy: 0.7439 - val_loss: 0.7018 - val_accuracy: 0.7459 - 401ms/epoch - 29ms/step\n",
            "Epoch 18/100\n",
            "14/14 - 0s - loss: 0.6684 - accuracy: 0.7670 - val_loss: 0.8175 - val_accuracy: 0.7210 - 322ms/epoch - 23ms/step\n",
            "Epoch 19/100\n",
            "14/14 - 0s - loss: 0.7167 - accuracy: 0.7552 - val_loss: 0.7836 - val_accuracy: 0.7320 - 251ms/epoch - 18ms/step\n",
            "Epoch 20/100\n",
            "14/14 - 0s - loss: 0.6279 - accuracy: 0.7884 - val_loss: 0.6447 - val_accuracy: 0.7749 - 252ms/epoch - 18ms/step\n",
            "Epoch 21/100\n",
            "14/14 - 0s - loss: 0.6676 - accuracy: 0.7617 - val_loss: 0.6812 - val_accuracy: 0.7735 - 255ms/epoch - 18ms/step\n",
            "Epoch 22/100\n",
            "14/14 - 0s - loss: 0.6239 - accuracy: 0.7736 - val_loss: 0.6386 - val_accuracy: 0.7776 - 342ms/epoch - 24ms/step\n",
            "Epoch 23/100\n",
            "14/14 - 0s - loss: 0.6085 - accuracy: 0.7902 - val_loss: 0.6496 - val_accuracy: 0.7666 - 257ms/epoch - 18ms/step\n",
            "Epoch 24/100\n",
            "14/14 - 0s - loss: 0.6200 - accuracy: 0.7795 - val_loss: 0.6175 - val_accuracy: 0.7887 - 250ms/epoch - 18ms/step\n",
            "Epoch 25/100\n",
            "14/14 - 0s - loss: 0.5620 - accuracy: 0.8044 - val_loss: 0.6244 - val_accuracy: 0.7818 - 251ms/epoch - 18ms/step\n",
            "Epoch 26/100\n",
            "14/14 - 0s - loss: 0.5651 - accuracy: 0.7919 - val_loss: 0.6801 - val_accuracy: 0.7707 - 306ms/epoch - 22ms/step\n",
            "Epoch 27/100\n",
            "14/14 - 0s - loss: 0.5406 - accuracy: 0.8091 - val_loss: 0.5808 - val_accuracy: 0.8025 - 325ms/epoch - 23ms/step\n",
            "Epoch 28/100\n",
            "14/14 - 0s - loss: 0.5929 - accuracy: 0.7848 - val_loss: 0.6017 - val_accuracy: 0.7928 - 260ms/epoch - 19ms/step\n",
            "Epoch 29/100\n",
            "14/14 - 0s - loss: 0.5367 - accuracy: 0.8068 - val_loss: 0.5654 - val_accuracy: 0.8094 - 254ms/epoch - 18ms/step\n",
            "Epoch 30/100\n",
            "14/14 - 0s - loss: 0.5205 - accuracy: 0.8186 - val_loss: 0.5702 - val_accuracy: 0.8122 - 262ms/epoch - 19ms/step\n",
            "Epoch 31/100\n",
            "14/14 - 0s - loss: 0.5259 - accuracy: 0.8186 - val_loss: 0.6048 - val_accuracy: 0.7845 - 248ms/epoch - 18ms/step\n",
            "Epoch 32/100\n",
            "14/14 - 0s - loss: 0.5136 - accuracy: 0.8079 - val_loss: 0.5810 - val_accuracy: 0.7901 - 264ms/epoch - 19ms/step\n",
            "Epoch 33/100\n",
            "14/14 - 0s - loss: 0.5254 - accuracy: 0.8145 - val_loss: 0.5880 - val_accuracy: 0.7928 - 249ms/epoch - 18ms/step\n",
            "Epoch 34/100\n",
            "14/14 - 0s - loss: 0.5412 - accuracy: 0.8109 - val_loss: 0.6450 - val_accuracy: 0.7721 - 248ms/epoch - 18ms/step\n",
            "Epoch 35/100\n",
            "14/14 - 0s - loss: 0.5690 - accuracy: 0.7955 - val_loss: 0.6286 - val_accuracy: 0.7804 - 248ms/epoch - 18ms/step\n",
            "Epoch 36/100\n",
            "14/14 - 0s - loss: 0.4956 - accuracy: 0.8311 - val_loss: 0.6207 - val_accuracy: 0.7735 - 315ms/epoch - 23ms/step\n",
            "Epoch 37/100\n",
            "14/14 - 0s - loss: 0.4750 - accuracy: 0.8382 - val_loss: 0.5622 - val_accuracy: 0.8149 - 250ms/epoch - 18ms/step\n",
            "Epoch 38/100\n",
            "14/14 - 0s - loss: 0.4608 - accuracy: 0.8287 - val_loss: 0.6902 - val_accuracy: 0.7887 - 265ms/epoch - 19ms/step\n",
            "Epoch 39/100\n",
            "14/14 - 0s - loss: 0.4588 - accuracy: 0.8405 - val_loss: 0.5543 - val_accuracy: 0.8163 - 316ms/epoch - 23ms/step\n",
            "Epoch 40/100\n",
            "14/14 - 0s - loss: 0.4373 - accuracy: 0.8453 - val_loss: 0.5656 - val_accuracy: 0.8232 - 271ms/epoch - 19ms/step\n",
            "Epoch 41/100\n",
            "14/14 - 0s - loss: 0.4280 - accuracy: 0.8518 - val_loss: 0.5556 - val_accuracy: 0.8177 - 282ms/epoch - 20ms/step\n",
            "Epoch 42/100\n",
            "14/14 - 0s - loss: 0.4290 - accuracy: 0.8589 - val_loss: 0.6265 - val_accuracy: 0.7762 - 251ms/epoch - 18ms/step\n",
            "Epoch 43/100\n",
            "14/14 - 0s - loss: 0.4364 - accuracy: 0.8453 - val_loss: 0.5401 - val_accuracy: 0.8108 - 304ms/epoch - 22ms/step\n",
            "Epoch 44/100\n",
            "14/14 - 0s - loss: 0.3989 - accuracy: 0.8613 - val_loss: 0.5688 - val_accuracy: 0.7997 - 282ms/epoch - 20ms/step\n",
            "Epoch 45/100\n",
            "14/14 - 0s - loss: 0.4008 - accuracy: 0.8536 - val_loss: 0.6008 - val_accuracy: 0.7997 - 255ms/epoch - 18ms/step\n",
            "Epoch 46/100\n",
            "14/14 - 0s - loss: 0.4179 - accuracy: 0.8494 - val_loss: 0.5804 - val_accuracy: 0.8080 - 317ms/epoch - 23ms/step\n",
            "Epoch 47/100\n",
            "14/14 - 0s - loss: 0.4323 - accuracy: 0.8388 - val_loss: 0.6490 - val_accuracy: 0.7831 - 302ms/epoch - 22ms/step\n",
            "Epoch 48/100\n",
            "14/14 - 0s - loss: 0.4097 - accuracy: 0.8554 - val_loss: 0.5896 - val_accuracy: 0.8011 - 338ms/epoch - 24ms/step\n",
            "Epoch 49/100\n",
            "14/14 - 0s - loss: 0.4429 - accuracy: 0.8494 - val_loss: 0.6001 - val_accuracy: 0.7914 - 257ms/epoch - 18ms/step\n",
            "Epoch 50/100\n",
            "14/14 - 0s - loss: 0.4564 - accuracy: 0.8311 - val_loss: 0.5662 - val_accuracy: 0.7970 - 250ms/epoch - 18ms/step\n",
            "Epoch 51/100\n",
            "14/14 - 0s - loss: 0.3790 - accuracy: 0.8660 - val_loss: 0.4960 - val_accuracy: 0.8343 - 254ms/epoch - 18ms/step\n",
            "Epoch 52/100\n",
            "14/14 - 0s - loss: 0.3705 - accuracy: 0.8666 - val_loss: 0.5728 - val_accuracy: 0.7997 - 250ms/epoch - 18ms/step\n",
            "Epoch 53/100\n",
            "14/14 - 0s - loss: 0.4118 - accuracy: 0.8637 - val_loss: 0.5793 - val_accuracy: 0.8052 - 253ms/epoch - 18ms/step\n",
            "Epoch 54/100\n",
            "14/14 - 0s - loss: 0.3985 - accuracy: 0.8536 - val_loss: 0.5410 - val_accuracy: 0.8204 - 283ms/epoch - 20ms/step\n",
            "Epoch 55/100\n",
            "14/14 - 0s - loss: 0.3541 - accuracy: 0.8803 - val_loss: 0.5335 - val_accuracy: 0.8260 - 342ms/epoch - 24ms/step\n",
            "Epoch 56/100\n",
            "14/14 - 0s - loss: 0.3526 - accuracy: 0.8726 - val_loss: 0.5712 - val_accuracy: 0.8066 - 295ms/epoch - 21ms/step\n",
            "Epoch 57/100\n",
            "14/14 - 0s - loss: 0.3403 - accuracy: 0.8797 - val_loss: 0.4956 - val_accuracy: 0.8384 - 248ms/epoch - 18ms/step\n",
            "Epoch 58/100\n",
            "14/14 - 0s - loss: 0.3621 - accuracy: 0.8743 - val_loss: 0.5431 - val_accuracy: 0.8260 - 251ms/epoch - 18ms/step\n",
            "Epoch 59/100\n",
            "14/14 - 0s - loss: 0.3171 - accuracy: 0.8826 - val_loss: 0.6073 - val_accuracy: 0.8163 - 300ms/epoch - 21ms/step\n",
            "Epoch 60/100\n",
            "14/14 - 0s - loss: 0.3416 - accuracy: 0.8773 - val_loss: 0.6010 - val_accuracy: 0.8066 - 304ms/epoch - 22ms/step\n",
            "Epoch 61/100\n",
            "14/14 - 0s - loss: 0.3581 - accuracy: 0.8731 - val_loss: 0.5772 - val_accuracy: 0.8108 - 254ms/epoch - 18ms/step\n",
            "Epoch 62/100\n",
            "14/14 - 0s - loss: 0.3519 - accuracy: 0.8803 - val_loss: 0.5567 - val_accuracy: 0.8149 - 250ms/epoch - 18ms/step\n",
            "Epoch 63/100\n",
            "14/14 - 0s - loss: 0.3175 - accuracy: 0.8927 - val_loss: 0.5095 - val_accuracy: 0.8301 - 246ms/epoch - 18ms/step\n",
            "Epoch 64/100\n",
            "14/14 - 0s - loss: 0.3122 - accuracy: 0.8880 - val_loss: 0.5346 - val_accuracy: 0.8370 - 252ms/epoch - 18ms/step\n",
            "Epoch 65/100\n",
            "14/14 - 0s - loss: 0.3196 - accuracy: 0.8856 - val_loss: 0.5694 - val_accuracy: 0.8232 - 339ms/epoch - 24ms/step\n",
            "Epoch 66/100\n",
            "14/14 - 0s - loss: 0.3385 - accuracy: 0.8803 - val_loss: 0.6056 - val_accuracy: 0.8094 - 253ms/epoch - 18ms/step\n"
          ]
        },
        {
          "name": "stdout",
          "output_type": "stream",
          "text": [
            "Epoch 67/100\n",
            "14/14 - 0s - loss: 0.3268 - accuracy: 0.8826 - val_loss: 0.5872 - val_accuracy: 0.8232 - 271ms/epoch - 19ms/step\n",
            "Epoch 68/100\n",
            "14/14 - 0s - loss: 0.3085 - accuracy: 0.8909 - val_loss: 0.5249 - val_accuracy: 0.8246 - 253ms/epoch - 18ms/step\n",
            "Epoch 69/100\n",
            "14/14 - 0s - loss: 0.3180 - accuracy: 0.8886 - val_loss: 0.6934 - val_accuracy: 0.7928 - 245ms/epoch - 17ms/step\n",
            "Epoch 70/100\n",
            "14/14 - 0s - loss: 0.3239 - accuracy: 0.8927 - val_loss: 0.6025 - val_accuracy: 0.8177 - 247ms/epoch - 18ms/step\n",
            "Epoch 71/100\n",
            "14/14 - 0s - loss: 0.3244 - accuracy: 0.8880 - val_loss: 0.5698 - val_accuracy: 0.8149 - 250ms/epoch - 18ms/step\n",
            "Epoch 72/100\n",
            "14/14 - 0s - loss: 0.3644 - accuracy: 0.8731 - val_loss: 0.5962 - val_accuracy: 0.7983 - 249ms/epoch - 18ms/step\n",
            "Epoch 73/100\n",
            "14/14 - 0s - loss: 0.3705 - accuracy: 0.8690 - val_loss: 0.5226 - val_accuracy: 0.8287 - 244ms/epoch - 17ms/step\n",
            "Epoch 74/100\n",
            "14/14 - 0s - loss: 0.3341 - accuracy: 0.8826 - val_loss: 0.5485 - val_accuracy: 0.8287 - 248ms/epoch - 18ms/step\n",
            "Epoch 75/100\n",
            "14/14 - 0s - loss: 0.3492 - accuracy: 0.8743 - val_loss: 0.5166 - val_accuracy: 0.8343 - 244ms/epoch - 17ms/step\n",
            "Epoch 76/100\n",
            "14/14 - 0s - loss: 0.3004 - accuracy: 0.8909 - val_loss: 0.5755 - val_accuracy: 0.8094 - 248ms/epoch - 18ms/step\n",
            "Epoch 77/100\n",
            "14/14 - 0s - loss: 0.2959 - accuracy: 0.8969 - val_loss: 0.5445 - val_accuracy: 0.8287 - 304ms/epoch - 22ms/step\n",
            "Epoch 78/100\n",
            "14/14 - 0s - loss: 0.3060 - accuracy: 0.8933 - val_loss: 0.5578 - val_accuracy: 0.8177 - 261ms/epoch - 19ms/step\n",
            "Epoch 79/100\n",
            "14/14 - 0s - loss: 0.3403 - accuracy: 0.8773 - val_loss: 0.6873 - val_accuracy: 0.7845 - 247ms/epoch - 18ms/step\n",
            "Epoch 80/100\n",
            "14/14 - 0s - loss: 0.3422 - accuracy: 0.8814 - val_loss: 0.4863 - val_accuracy: 0.8315 - 249ms/epoch - 18ms/step\n",
            "Epoch 81/100\n",
            "14/14 - 0s - loss: 0.2948 - accuracy: 0.8998 - val_loss: 0.4749 - val_accuracy: 0.8577 - 247ms/epoch - 18ms/step\n",
            "Epoch 82/100\n",
            "14/14 - 0s - loss: 0.3017 - accuracy: 0.8897 - val_loss: 0.5153 - val_accuracy: 0.8481 - 248ms/epoch - 18ms/step\n",
            "Epoch 83/100\n",
            "14/14 - 0s - loss: 0.3209 - accuracy: 0.8903 - val_loss: 0.5505 - val_accuracy: 0.8191 - 247ms/epoch - 18ms/step\n",
            "Epoch 84/100\n",
            "14/14 - 0s - loss: 0.3284 - accuracy: 0.8767 - val_loss: 0.6005 - val_accuracy: 0.8135 - 247ms/epoch - 18ms/step\n",
            "Epoch 85/100\n",
            "14/14 - 0s - loss: 0.3033 - accuracy: 0.8886 - val_loss: 0.5613 - val_accuracy: 0.8039 - 320ms/epoch - 23ms/step\n",
            "Epoch 86/100\n",
            "14/14 - 0s - loss: 0.3144 - accuracy: 0.8844 - val_loss: 0.5849 - val_accuracy: 0.8218 - 252ms/epoch - 18ms/step\n",
            "Epoch 87/100\n",
            "14/14 - 0s - loss: 0.3399 - accuracy: 0.8749 - val_loss: 0.5919 - val_accuracy: 0.8135 - 246ms/epoch - 18ms/step\n",
            "Epoch 88/100\n",
            "14/14 - 0s - loss: 0.3404 - accuracy: 0.8809 - val_loss: 0.5848 - val_accuracy: 0.8094 - 248ms/epoch - 18ms/step\n",
            "Epoch 89/100\n",
            "14/14 - 0s - loss: 0.3402 - accuracy: 0.8773 - val_loss: 0.6015 - val_accuracy: 0.8080 - 250ms/epoch - 18ms/step\n",
            "Epoch 90/100\n",
            "14/14 - 0s - loss: 0.3320 - accuracy: 0.8838 - val_loss: 0.5649 - val_accuracy: 0.8025 - 247ms/epoch - 18ms/step\n",
            "Epoch 91/100\n",
            "14/14 - 0s - loss: 0.3469 - accuracy: 0.8803 - val_loss: 0.5377 - val_accuracy: 0.8204 - 248ms/epoch - 18ms/step\n",
            "Epoch 92/100\n",
            "14/14 - 0s - loss: 0.3006 - accuracy: 0.8969 - val_loss: 0.4996 - val_accuracy: 0.8453 - 248ms/epoch - 18ms/step\n",
            "Epoch 93/100\n",
            "14/14 - 0s - loss: 0.2942 - accuracy: 0.8915 - val_loss: 0.5760 - val_accuracy: 0.8204 - 251ms/epoch - 18ms/step\n",
            "Epoch 94/100\n",
            "14/14 - 0s - loss: 0.2915 - accuracy: 0.8969 - val_loss: 0.6322 - val_accuracy: 0.8052 - 250ms/epoch - 18ms/step\n",
            "Epoch 95/100\n",
            "14/14 - 0s - loss: 0.3592 - accuracy: 0.8660 - val_loss: 0.5200 - val_accuracy: 0.8329 - 252ms/epoch - 18ms/step\n",
            "Epoch 96/100\n",
            "14/14 - 0s - loss: 0.3457 - accuracy: 0.8785 - val_loss: 0.6409 - val_accuracy: 0.7845 - 247ms/epoch - 18ms/step\n",
            "Epoch 97/100\n",
            "14/14 - 0s - loss: 0.3456 - accuracy: 0.8731 - val_loss: 0.5479 - val_accuracy: 0.8232 - 247ms/epoch - 18ms/step\n",
            "Epoch 98/100\n",
            "14/14 - 0s - loss: 0.3277 - accuracy: 0.8785 - val_loss: 0.5245 - val_accuracy: 0.8301 - 249ms/epoch - 18ms/step\n",
            "Epoch 99/100\n",
            "14/14 - 0s - loss: 0.3589 - accuracy: 0.8648 - val_loss: 0.6329 - val_accuracy: 0.8011 - 249ms/epoch - 18ms/step\n",
            "Epoch 100/100\n",
            "14/14 - 0s - loss: 0.3673 - accuracy: 0.8702 - val_loss: 0.6177 - val_accuracy: 0.8094 - 273ms/epoch - 20ms/step\n"
          ]
        }
      ],
      "source": [
        "callback = tf.keras.callbacks.EarlyStopping(monitor='loss', patience=3)\n",
        "model7 = Sequential()\n",
        "model7.add(Dense(1024,activation = 'relu',kernel_initializer = 'normal',input_dim = X_train.shape[1]))\n",
        "model7.add(Dropout(0.3))\n",
        "model7.add(Dense(256,activation = 'relu'))\n",
        "model7.add(Dropout(0.3))\n",
        "model7.add(Dense(64,activation = 'relu'))\n",
        "model7.add(Dense(7,activation=\"sigmoid\"))\n",
        "model7.compile(loss = 'sparse_categorical_crossentropy',optimizer = 'adam',metrics =\"accuracy\")\n",
        "history_model7 = model7.fit(X_train,Y_train, epochs = 100, batch_size = 128, validation_data = (X_test,Y_test),verbose = 2)"
      ],
      "id": "e1d60173"
    },
    {
      "cell_type": "code",
      "execution_count": null,
      "metadata": {
        "id": "e8608375",
        "outputId": "35b01e28-d5ca-4cbc-c986-e2a9f131d8a8"
      },
      "outputs": [
        {
          "name": "stdout",
          "output_type": "stream",
          "text": [
            "23/23 [==============================] - 0s 4ms/step\n",
            "Macro score: 0.8244193829175657\n",
            "Recall Score 0.7949519839567982\n"
          ]
        }
      ],
      "source": [
        "pred = tf.argmax(model7.predict(X_test),axis=1)\n",
        "print(\"Macro score:\",precision_score(Y_test,pred,average='macro'))\n",
        "print(\"Recall Score\",recall_score(Y_test,pred,average='macro'))"
      ],
      "id": "e8608375"
    },
    {
      "cell_type": "markdown",
      "metadata": {
        "id": "ef7e86b5"
      },
      "source": [
        "### Macro score: 0.8256826227377789"
      ],
      "id": "ef7e86b5"
    },
    {
      "cell_type": "markdown",
      "metadata": {
        "id": "4ec87b95"
      },
      "source": [
        "## Playing with optimizers"
      ],
      "id": "4ec87b95"
    },
    {
      "cell_type": "markdown",
      "metadata": {
        "id": "9bd1db43"
      },
      "source": [
        "optimizer: Adagrad"
      ],
      "id": "9bd1db43"
    },
    {
      "cell_type": "code",
      "execution_count": null,
      "metadata": {
        "id": "04487ccd",
        "outputId": "cb0ad605-f5f6-4748-aba3-a27e48e411d6"
      },
      "outputs": [
        {
          "name": "stdout",
          "output_type": "stream",
          "text": [
            "Epoch 1/100\n",
            "14/14 - 1s - loss: 1.8499 - accuracy: 0.2780 - val_loss: 1.7447 - val_accuracy: 0.3536 - 646ms/epoch - 46ms/step\n",
            "Epoch 2/100\n",
            "14/14 - 0s - loss: 1.6655 - accuracy: 0.4078 - val_loss: 1.6316 - val_accuracy: 0.4448 - 231ms/epoch - 17ms/step\n",
            "Epoch 3/100\n",
            "14/14 - 0s - loss: 1.5577 - accuracy: 0.4849 - val_loss: 1.5438 - val_accuracy: 0.4738 - 232ms/epoch - 17ms/step\n",
            "Epoch 4/100\n",
            "14/14 - 0s - loss: 1.4718 - accuracy: 0.5193 - val_loss: 1.4703 - val_accuracy: 0.5456 - 230ms/epoch - 16ms/step\n",
            "Epoch 5/100\n",
            "14/14 - 0s - loss: 1.4088 - accuracy: 0.5519 - val_loss: 1.4280 - val_accuracy: 0.4765 - 226ms/epoch - 16ms/step\n",
            "Epoch 6/100\n",
            "14/14 - 0s - loss: 1.3556 - accuracy: 0.5738 - val_loss: 1.3611 - val_accuracy: 0.5704 - 275ms/epoch - 20ms/step\n",
            "Epoch 7/100\n",
            "14/14 - 0s - loss: 1.3057 - accuracy: 0.5993 - val_loss: 1.3291 - val_accuracy: 0.5746 - 310ms/epoch - 22ms/step\n",
            "Epoch 8/100\n",
            "14/14 - 0s - loss: 1.2667 - accuracy: 0.6218 - val_loss: 1.2731 - val_accuracy: 0.5898 - 228ms/epoch - 16ms/step\n",
            "Epoch 9/100\n",
            "14/14 - 0s - loss: 1.2288 - accuracy: 0.6230 - val_loss: 1.2705 - val_accuracy: 0.6091 - 235ms/epoch - 17ms/step\n",
            "Epoch 10/100\n",
            "14/14 - 0s - loss: 1.1977 - accuracy: 0.6520 - val_loss: 1.2371 - val_accuracy: 0.5856 - 226ms/epoch - 16ms/step\n",
            "Epoch 11/100\n",
            "14/14 - 0s - loss: 1.1693 - accuracy: 0.6520 - val_loss: 1.1937 - val_accuracy: 0.6285 - 236ms/epoch - 17ms/step\n",
            "Epoch 12/100\n",
            "14/14 - 0s - loss: 1.1362 - accuracy: 0.6615 - val_loss: 1.1575 - val_accuracy: 0.6588 - 225ms/epoch - 16ms/step\n",
            "Epoch 13/100\n",
            "14/14 - 0s - loss: 1.1118 - accuracy: 0.6781 - val_loss: 1.1528 - val_accuracy: 0.6450 - 228ms/epoch - 16ms/step\n",
            "Epoch 14/100\n",
            "14/14 - 0s - loss: 1.0877 - accuracy: 0.6805 - val_loss: 1.1250 - val_accuracy: 0.6436 - 223ms/epoch - 16ms/step\n",
            "Epoch 15/100\n",
            "14/14 - 0s - loss: 1.0683 - accuracy: 0.6888 - val_loss: 1.0923 - val_accuracy: 0.6547 - 233ms/epoch - 17ms/step\n",
            "Epoch 16/100\n",
            "14/14 - 0s - loss: 1.0461 - accuracy: 0.6894 - val_loss: 1.0767 - val_accuracy: 0.6823 - 248ms/epoch - 18ms/step\n",
            "Epoch 17/100\n",
            "14/14 - 0s - loss: 1.0293 - accuracy: 0.6995 - val_loss: 1.0640 - val_accuracy: 0.6851 - 224ms/epoch - 16ms/step\n",
            "Epoch 18/100\n",
            "14/14 - 0s - loss: 1.0139 - accuracy: 0.7048 - val_loss: 1.0717 - val_accuracy: 0.6436 - 230ms/epoch - 16ms/step\n",
            "Epoch 19/100\n",
            "14/14 - 0s - loss: 1.0020 - accuracy: 0.7101 - val_loss: 1.0348 - val_accuracy: 0.6851 - 230ms/epoch - 16ms/step\n",
            "Epoch 20/100\n",
            "14/14 - 0s - loss: 0.9841 - accuracy: 0.7119 - val_loss: 1.0228 - val_accuracy: 0.6823 - 226ms/epoch - 16ms/step\n",
            "Epoch 21/100\n",
            "14/14 - 0s - loss: 0.9739 - accuracy: 0.7119 - val_loss: 1.0068 - val_accuracy: 0.6934 - 230ms/epoch - 16ms/step\n",
            "Epoch 22/100\n",
            "14/14 - 0s - loss: 0.9585 - accuracy: 0.7214 - val_loss: 0.9939 - val_accuracy: 0.6975 - 222ms/epoch - 16ms/step\n",
            "Epoch 23/100\n",
            "14/14 - 0s - loss: 0.9471 - accuracy: 0.7143 - val_loss: 0.9875 - val_accuracy: 0.6837 - 239ms/epoch - 17ms/step\n",
            "Epoch 24/100\n",
            "14/14 - 0s - loss: 0.9354 - accuracy: 0.7220 - val_loss: 0.9711 - val_accuracy: 0.7058 - 233ms/epoch - 17ms/step\n",
            "Epoch 25/100\n",
            "14/14 - 0s - loss: 0.9248 - accuracy: 0.7279 - val_loss: 0.9601 - val_accuracy: 0.7169 - 228ms/epoch - 16ms/step\n",
            "Epoch 26/100\n",
            "14/14 - 0s - loss: 0.9130 - accuracy: 0.7309 - val_loss: 0.9510 - val_accuracy: 0.7030 - 234ms/epoch - 17ms/step\n",
            "Epoch 27/100\n",
            "14/14 - 0s - loss: 0.9060 - accuracy: 0.7261 - val_loss: 0.9584 - val_accuracy: 0.6989 - 228ms/epoch - 16ms/step\n",
            "Epoch 28/100\n",
            "14/14 - 0s - loss: 0.8966 - accuracy: 0.7255 - val_loss: 0.9591 - val_accuracy: 0.7044 - 229ms/epoch - 16ms/step\n",
            "Epoch 29/100\n",
            "14/14 - 0s - loss: 0.8864 - accuracy: 0.7439 - val_loss: 0.9306 - val_accuracy: 0.7058 - 239ms/epoch - 17ms/step\n",
            "Epoch 30/100\n",
            "14/14 - 0s - loss: 0.8756 - accuracy: 0.7344 - val_loss: 0.9202 - val_accuracy: 0.7265 - 245ms/epoch - 17ms/step\n",
            "Epoch 31/100\n",
            "14/14 - 0s - loss: 0.8701 - accuracy: 0.7374 - val_loss: 0.9217 - val_accuracy: 0.7224 - 238ms/epoch - 17ms/step\n",
            "Epoch 32/100\n",
            "14/14 - 0s - loss: 0.8619 - accuracy: 0.7457 - val_loss: 0.9103 - val_accuracy: 0.7210 - 225ms/epoch - 16ms/step\n",
            "Epoch 33/100\n",
            "14/14 - 0s - loss: 0.8511 - accuracy: 0.7392 - val_loss: 0.8993 - val_accuracy: 0.7307 - 234ms/epoch - 17ms/step\n",
            "Epoch 34/100\n",
            "14/14 - 0s - loss: 0.8457 - accuracy: 0.7463 - val_loss: 0.8955 - val_accuracy: 0.7390 - 236ms/epoch - 17ms/step\n",
            "Epoch 35/100\n",
            "14/14 - 0s - loss: 0.8393 - accuracy: 0.7445 - val_loss: 0.8971 - val_accuracy: 0.7030 - 354ms/epoch - 25ms/step\n",
            "Epoch 36/100\n",
            "14/14 - 0s - loss: 0.8329 - accuracy: 0.7487 - val_loss: 0.8789 - val_accuracy: 0.7293 - 268ms/epoch - 19ms/step\n",
            "Epoch 37/100\n",
            "14/14 - 0s - loss: 0.8268 - accuracy: 0.7558 - val_loss: 0.8775 - val_accuracy: 0.7348 - 243ms/epoch - 17ms/step\n",
            "Epoch 38/100\n",
            "14/14 - 0s - loss: 0.8191 - accuracy: 0.7582 - val_loss: 0.8950 - val_accuracy: 0.7086 - 225ms/epoch - 16ms/step\n",
            "Epoch 39/100\n",
            "14/14 - 0s - loss: 0.8154 - accuracy: 0.7576 - val_loss: 0.8674 - val_accuracy: 0.7362 - 225ms/epoch - 16ms/step\n",
            "Epoch 40/100\n",
            "14/14 - 0s - loss: 0.8075 - accuracy: 0.7617 - val_loss: 0.8812 - val_accuracy: 0.7099 - 237ms/epoch - 17ms/step\n",
            "Epoch 41/100\n",
            "14/14 - 0s - loss: 0.7998 - accuracy: 0.7653 - val_loss: 0.8753 - val_accuracy: 0.7251 - 228ms/epoch - 16ms/step\n",
            "Epoch 42/100\n",
            "14/14 - 0s - loss: 0.7978 - accuracy: 0.7582 - val_loss: 0.8673 - val_accuracy: 0.7155 - 295ms/epoch - 21ms/step\n",
            "Epoch 43/100\n",
            "14/14 - 0s - loss: 0.7910 - accuracy: 0.7659 - val_loss: 0.8632 - val_accuracy: 0.7210 - 235ms/epoch - 17ms/step\n",
            "Epoch 44/100\n",
            "14/14 - 0s - loss: 0.7844 - accuracy: 0.7659 - val_loss: 0.8441 - val_accuracy: 0.7348 - 237ms/epoch - 17ms/step\n",
            "Epoch 45/100\n",
            "14/14 - 0s - loss: 0.7778 - accuracy: 0.7736 - val_loss: 0.8503 - val_accuracy: 0.7155 - 237ms/epoch - 17ms/step\n",
            "Epoch 46/100\n",
            "14/14 - 0s - loss: 0.7767 - accuracy: 0.7664 - val_loss: 0.8353 - val_accuracy: 0.7362 - 224ms/epoch - 16ms/step\n",
            "Epoch 47/100\n",
            "14/14 - 0s - loss: 0.7688 - accuracy: 0.7730 - val_loss: 0.8311 - val_accuracy: 0.7431 - 235ms/epoch - 17ms/step\n",
            "Epoch 48/100\n",
            "14/14 - 0s - loss: 0.7645 - accuracy: 0.7664 - val_loss: 0.8548 - val_accuracy: 0.7182 - 223ms/epoch - 16ms/step\n",
            "Epoch 49/100\n",
            "14/14 - 0s - loss: 0.7608 - accuracy: 0.7736 - val_loss: 0.8281 - val_accuracy: 0.7417 - 229ms/epoch - 16ms/step\n",
            "Epoch 50/100\n",
            "14/14 - 0s - loss: 0.7563 - accuracy: 0.7759 - val_loss: 0.8405 - val_accuracy: 0.7334 - 242ms/epoch - 17ms/step\n",
            "Epoch 51/100\n",
            "14/14 - 0s - loss: 0.7515 - accuracy: 0.7819 - val_loss: 0.8171 - val_accuracy: 0.7376 - 299ms/epoch - 21ms/step\n",
            "Epoch 52/100\n",
            "14/14 - 0s - loss: 0.7473 - accuracy: 0.7807 - val_loss: 0.8118 - val_accuracy: 0.7445 - 273ms/epoch - 20ms/step\n",
            "Epoch 53/100\n",
            "14/14 - 0s - loss: 0.7416 - accuracy: 0.7789 - val_loss: 0.8197 - val_accuracy: 0.7417 - 234ms/epoch - 17ms/step\n",
            "Epoch 54/100\n",
            "14/14 - 0s - loss: 0.7384 - accuracy: 0.7819 - val_loss: 0.8051 - val_accuracy: 0.7514 - 232ms/epoch - 17ms/step\n",
            "Epoch 55/100\n",
            "14/14 - 0s - loss: 0.7336 - accuracy: 0.7836 - val_loss: 0.8219 - val_accuracy: 0.7376 - 233ms/epoch - 17ms/step\n",
            "Epoch 56/100\n",
            "14/14 - 0s - loss: 0.7344 - accuracy: 0.7730 - val_loss: 0.8177 - val_accuracy: 0.7390 - 235ms/epoch - 17ms/step\n",
            "Epoch 57/100\n",
            "14/14 - 0s - loss: 0.7263 - accuracy: 0.7771 - val_loss: 0.8079 - val_accuracy: 0.7431 - 225ms/epoch - 16ms/step\n",
            "Epoch 58/100\n",
            "14/14 - 0s - loss: 0.7231 - accuracy: 0.7866 - val_loss: 0.7938 - val_accuracy: 0.7486 - 234ms/epoch - 17ms/step\n",
            "Epoch 59/100\n",
            "14/14 - 0s - loss: 0.7168 - accuracy: 0.7919 - val_loss: 0.8451 - val_accuracy: 0.7044 - 229ms/epoch - 16ms/step\n",
            "Epoch 60/100\n",
            "14/14 - 0s - loss: 0.7197 - accuracy: 0.7771 - val_loss: 0.8149 - val_accuracy: 0.7320 - 231ms/epoch - 17ms/step\n",
            "Epoch 61/100\n",
            "14/14 - 0s - loss: 0.7092 - accuracy: 0.7860 - val_loss: 0.7854 - val_accuracy: 0.7555 - 230ms/epoch - 16ms/step\n",
            "Epoch 62/100\n",
            "14/14 - 0s - loss: 0.7087 - accuracy: 0.7813 - val_loss: 0.7783 - val_accuracy: 0.7528 - 258ms/epoch - 18ms/step\n",
            "Epoch 63/100\n",
            "14/14 - 0s - loss: 0.7032 - accuracy: 0.7931 - val_loss: 0.7847 - val_accuracy: 0.7541 - 301ms/epoch - 22ms/step\n",
            "Epoch 64/100\n",
            "14/14 - 0s - loss: 0.6988 - accuracy: 0.7973 - val_loss: 0.7793 - val_accuracy: 0.7583 - 240ms/epoch - 17ms/step\n",
            "Epoch 65/100\n",
            "14/14 - 0s - loss: 0.6952 - accuracy: 0.7955 - val_loss: 0.7785 - val_accuracy: 0.7610 - 288ms/epoch - 21ms/step\n",
            "Epoch 66/100\n"
          ]
        },
        {
          "name": "stdout",
          "output_type": "stream",
          "text": [
            "14/14 - 0s - loss: 0.6920 - accuracy: 0.7985 - val_loss: 0.7899 - val_accuracy: 0.7500 - 311ms/epoch - 22ms/step\n",
            "Epoch 67/100\n",
            "14/14 - 0s - loss: 0.6914 - accuracy: 0.7896 - val_loss: 0.7663 - val_accuracy: 0.7541 - 305ms/epoch - 22ms/step\n",
            "Epoch 68/100\n",
            "14/14 - 0s - loss: 0.6869 - accuracy: 0.7979 - val_loss: 0.7701 - val_accuracy: 0.7569 - 221ms/epoch - 16ms/step\n",
            "Epoch 69/100\n",
            "14/14 - 0s - loss: 0.6837 - accuracy: 0.8050 - val_loss: 0.7750 - val_accuracy: 0.7583 - 228ms/epoch - 16ms/step\n",
            "Epoch 70/100\n",
            "14/14 - 0s - loss: 0.6809 - accuracy: 0.7985 - val_loss: 0.7684 - val_accuracy: 0.7597 - 225ms/epoch - 16ms/step\n",
            "Epoch 71/100\n",
            "14/14 - 0s - loss: 0.6768 - accuracy: 0.8020 - val_loss: 0.7626 - val_accuracy: 0.7597 - 224ms/epoch - 16ms/step\n",
            "Epoch 72/100\n",
            "14/14 - 0s - loss: 0.6721 - accuracy: 0.8068 - val_loss: 0.7887 - val_accuracy: 0.7362 - 223ms/epoch - 16ms/step\n",
            "Epoch 73/100\n",
            "14/14 - 0s - loss: 0.6719 - accuracy: 0.7985 - val_loss: 0.7564 - val_accuracy: 0.7652 - 227ms/epoch - 16ms/step\n",
            "Epoch 74/100\n",
            "14/14 - 0s - loss: 0.6665 - accuracy: 0.8079 - val_loss: 0.7630 - val_accuracy: 0.7486 - 220ms/epoch - 16ms/step\n",
            "Epoch 75/100\n",
            "14/14 - 0s - loss: 0.6660 - accuracy: 0.8091 - val_loss: 0.7673 - val_accuracy: 0.7569 - 225ms/epoch - 16ms/step\n",
            "Epoch 76/100\n",
            "14/14 - 0s - loss: 0.6642 - accuracy: 0.8026 - val_loss: 0.7544 - val_accuracy: 0.7624 - 224ms/epoch - 16ms/step\n",
            "Epoch 77/100\n",
            "14/14 - 0s - loss: 0.6581 - accuracy: 0.8079 - val_loss: 0.7474 - val_accuracy: 0.7638 - 225ms/epoch - 16ms/step\n",
            "Epoch 78/100\n",
            "14/14 - 0s - loss: 0.6583 - accuracy: 0.8109 - val_loss: 0.7725 - val_accuracy: 0.7486 - 224ms/epoch - 16ms/step\n",
            "Epoch 79/100\n",
            "14/14 - 0s - loss: 0.6547 - accuracy: 0.8133 - val_loss: 0.7897 - val_accuracy: 0.7265 - 283ms/epoch - 20ms/step\n",
            "Epoch 80/100\n",
            "14/14 - 0s - loss: 0.6553 - accuracy: 0.8002 - val_loss: 0.7436 - val_accuracy: 0.7666 - 226ms/epoch - 16ms/step\n",
            "Epoch 81/100\n",
            "14/14 - 0s - loss: 0.6471 - accuracy: 0.8174 - val_loss: 0.7430 - val_accuracy: 0.7680 - 289ms/epoch - 21ms/step\n",
            "Epoch 82/100\n",
            "14/14 - 0s - loss: 0.6454 - accuracy: 0.8151 - val_loss: 0.7329 - val_accuracy: 0.7721 - 233ms/epoch - 17ms/step\n",
            "Epoch 83/100\n",
            "14/14 - 0s - loss: 0.6409 - accuracy: 0.8139 - val_loss: 0.7430 - val_accuracy: 0.7680 - 292ms/epoch - 21ms/step\n",
            "Epoch 84/100\n",
            "14/14 - 0s - loss: 0.6405 - accuracy: 0.8139 - val_loss: 0.7414 - val_accuracy: 0.7638 - 273ms/epoch - 20ms/step\n",
            "Epoch 85/100\n",
            "14/14 - 0s - loss: 0.6356 - accuracy: 0.8186 - val_loss: 0.7475 - val_accuracy: 0.7541 - 228ms/epoch - 16ms/step\n",
            "Epoch 86/100\n",
            "14/14 - 0s - loss: 0.6345 - accuracy: 0.8068 - val_loss: 0.7493 - val_accuracy: 0.7569 - 227ms/epoch - 16ms/step\n",
            "Epoch 87/100\n",
            "14/14 - 0s - loss: 0.6308 - accuracy: 0.8228 - val_loss: 0.7316 - val_accuracy: 0.7652 - 229ms/epoch - 16ms/step\n",
            "Epoch 88/100\n",
            "14/14 - 0s - loss: 0.6298 - accuracy: 0.8151 - val_loss: 0.7482 - val_accuracy: 0.7638 - 229ms/epoch - 16ms/step\n",
            "Epoch 89/100\n",
            "14/14 - 0s - loss: 0.6291 - accuracy: 0.8156 - val_loss: 0.7236 - val_accuracy: 0.7652 - 222ms/epoch - 16ms/step\n",
            "Epoch 90/100\n",
            "14/14 - 0s - loss: 0.6256 - accuracy: 0.8192 - val_loss: 0.7507 - val_accuracy: 0.7569 - 230ms/epoch - 16ms/step\n",
            "Epoch 91/100\n",
            "14/14 - 0s - loss: 0.6238 - accuracy: 0.8186 - val_loss: 0.7275 - val_accuracy: 0.7749 - 225ms/epoch - 16ms/step\n",
            "Epoch 92/100\n",
            "14/14 - 0s - loss: 0.6205 - accuracy: 0.8216 - val_loss: 0.7253 - val_accuracy: 0.7666 - 223ms/epoch - 16ms/step\n",
            "Epoch 93/100\n",
            "14/14 - 0s - loss: 0.6158 - accuracy: 0.8281 - val_loss: 0.7182 - val_accuracy: 0.7735 - 222ms/epoch - 16ms/step\n",
            "Epoch 94/100\n",
            "14/14 - 0s - loss: 0.6139 - accuracy: 0.8234 - val_loss: 0.7279 - val_accuracy: 0.7680 - 225ms/epoch - 16ms/step\n",
            "Epoch 95/100\n",
            "14/14 - 0s - loss: 0.6122 - accuracy: 0.8216 - val_loss: 0.7312 - val_accuracy: 0.7569 - 229ms/epoch - 16ms/step\n",
            "Epoch 96/100\n",
            "14/14 - 0s - loss: 0.6097 - accuracy: 0.8234 - val_loss: 0.7136 - val_accuracy: 0.7776 - 225ms/epoch - 16ms/step\n",
            "Epoch 97/100\n",
            "14/14 - 0s - loss: 0.6088 - accuracy: 0.8245 - val_loss: 0.7492 - val_accuracy: 0.7638 - 225ms/epoch - 16ms/step\n",
            "Epoch 98/100\n",
            "14/14 - 0s - loss: 0.6094 - accuracy: 0.8204 - val_loss: 0.7145 - val_accuracy: 0.7749 - 222ms/epoch - 16ms/step\n",
            "Epoch 99/100\n",
            "14/14 - 0s - loss: 0.6040 - accuracy: 0.8234 - val_loss: 0.7418 - val_accuracy: 0.7569 - 221ms/epoch - 16ms/step\n",
            "Epoch 100/100\n",
            "14/14 - 0s - loss: 0.6006 - accuracy: 0.8251 - val_loss: 0.7189 - val_accuracy: 0.7638 - 226ms/epoch - 16ms/step\n"
          ]
        }
      ],
      "source": [
        "model8 = Sequential()\n",
        "model8.add(Dense(1024,activation = 'relu',kernel_initializer = 'normal',input_dim = X_train.shape[1]))\n",
        "model8.add(Dense(256,activation = 'relu'))\n",
        "model8.add(Dense(64,activation = 'relu'))\n",
        "model8.add(Dense(7,activation=\"sigmoid\"))\n",
        "model8.compile(loss = 'sparse_categorical_crossentropy',optimizer = 'Adagrad',metrics = \"accuracy\")\n",
        "history_model8 = model8.fit(X_train,Y_train, epochs = 100, batch_size = 128, validation_data = (X_test,Y_test),verbose = 2)"
      ],
      "id": "04487ccd"
    },
    {
      "cell_type": "code",
      "execution_count": null,
      "metadata": {
        "id": "e970c310",
        "outputId": "5e2d6711-9f74-451b-fa1b-8884b662f5b0"
      },
      "outputs": [
        {
          "name": "stdout",
          "output_type": "stream",
          "text": [
            "23/23 [==============================] - 0s 3ms/step\n",
            "Macro score: 0.7850351916089732\n",
            "Recall Score 0.7271484228867375\n"
          ]
        }
      ],
      "source": [
        "pred = tf.argmax(model8.predict(X_test),axis=1)\n",
        "print(\"Macro score:\",precision_score(Y_test,pred,average='macro'))\n",
        "print(\"Recall Score\",recall_score(Y_test,pred,average='macro'))"
      ],
      "id": "e970c310"
    },
    {
      "cell_type": "markdown",
      "metadata": {
        "id": "7d70c84e"
      },
      "source": [
        "### Macro score: 0.8037465090556944"
      ],
      "id": "7d70c84e"
    },
    {
      "cell_type": "markdown",
      "metadata": {
        "id": "d764f34f"
      },
      "source": [
        "Optimizer: Ftrl"
      ],
      "id": "d764f34f"
    },
    {
      "cell_type": "code",
      "execution_count": null,
      "metadata": {
        "id": "e75af23c",
        "outputId": "a89a067b-a81d-47d5-80f2-88828bd578d6"
      },
      "outputs": [
        {
          "name": "stdout",
          "output_type": "stream",
          "text": [
            "Epoch 1/100\n",
            "14/14 - 1s - loss: 1.9733 - accuracy: 0.2110 - val_loss: 1.9453 - val_accuracy: 0.2182 - 1s/epoch - 72ms/step\n",
            "Epoch 2/100\n",
            "14/14 - 0s - loss: 1.9451 - accuracy: 0.2170 - val_loss: 1.9447 - val_accuracy: 0.2182 - 299ms/epoch - 21ms/step\n",
            "Epoch 3/100\n",
            "14/14 - 0s - loss: 1.9446 - accuracy: 0.2170 - val_loss: 1.9442 - val_accuracy: 0.2182 - 272ms/epoch - 19ms/step\n",
            "Epoch 4/100\n",
            "14/14 - 0s - loss: 1.9442 - accuracy: 0.2170 - val_loss: 1.9438 - val_accuracy: 0.2182 - 269ms/epoch - 19ms/step\n",
            "Epoch 5/100\n",
            "14/14 - 0s - loss: 1.9438 - accuracy: 0.2170 - val_loss: 1.9434 - val_accuracy: 0.2182 - 270ms/epoch - 19ms/step\n",
            "Epoch 6/100\n",
            "14/14 - 0s - loss: 1.9434 - accuracy: 0.2170 - val_loss: 1.9431 - val_accuracy: 0.2182 - 272ms/epoch - 19ms/step\n",
            "Epoch 7/100\n",
            "14/14 - 0s - loss: 1.9431 - accuracy: 0.2170 - val_loss: 1.9428 - val_accuracy: 0.2182 - 272ms/epoch - 19ms/step\n",
            "Epoch 8/100\n",
            "14/14 - 0s - loss: 1.9428 - accuracy: 0.2170 - val_loss: 1.9424 - val_accuracy: 0.2182 - 281ms/epoch - 20ms/step\n",
            "Epoch 9/100\n",
            "14/14 - 0s - loss: 1.9425 - accuracy: 0.2170 - val_loss: 1.9421 - val_accuracy: 0.2182 - 283ms/epoch - 20ms/step\n",
            "Epoch 10/100\n",
            "14/14 - 0s - loss: 1.9422 - accuracy: 0.2170 - val_loss: 1.9419 - val_accuracy: 0.2182 - 265ms/epoch - 19ms/step\n",
            "Epoch 11/100\n",
            "14/14 - 0s - loss: 1.9420 - accuracy: 0.2170 - val_loss: 1.9416 - val_accuracy: 0.2182 - 273ms/epoch - 19ms/step\n",
            "Epoch 12/100\n",
            "14/14 - 0s - loss: 1.9417 - accuracy: 0.2170 - val_loss: 1.9414 - val_accuracy: 0.2182 - 277ms/epoch - 20ms/step\n",
            "Epoch 13/100\n",
            "14/14 - 0s - loss: 1.9415 - accuracy: 0.2170 - val_loss: 1.9411 - val_accuracy: 0.2182 - 267ms/epoch - 19ms/step\n",
            "Epoch 14/100\n",
            "14/14 - 0s - loss: 1.9413 - accuracy: 0.2170 - val_loss: 1.9409 - val_accuracy: 0.2182 - 275ms/epoch - 20ms/step\n",
            "Epoch 15/100\n",
            "14/14 - 0s - loss: 1.9411 - accuracy: 0.2170 - val_loss: 1.9407 - val_accuracy: 0.2182 - 272ms/epoch - 19ms/step\n",
            "Epoch 16/100\n",
            "14/14 - 0s - loss: 1.9409 - accuracy: 0.2170 - val_loss: 1.9404 - val_accuracy: 0.2182 - 276ms/epoch - 20ms/step\n",
            "Epoch 17/100\n",
            "14/14 - 0s - loss: 1.9407 - accuracy: 0.2170 - val_loss: 1.9402 - val_accuracy: 0.2182 - 270ms/epoch - 19ms/step\n",
            "Epoch 18/100\n",
            "14/14 - 0s - loss: 1.9405 - accuracy: 0.2170 - val_loss: 1.9400 - val_accuracy: 0.2182 - 269ms/epoch - 19ms/step\n",
            "Epoch 19/100\n",
            "14/14 - 0s - loss: 1.9403 - accuracy: 0.2170 - val_loss: 1.9398 - val_accuracy: 0.2182 - 267ms/epoch - 19ms/step\n",
            "Epoch 20/100\n",
            "14/14 - 0s - loss: 1.9401 - accuracy: 0.2170 - val_loss: 1.9396 - val_accuracy: 0.2182 - 273ms/epoch - 19ms/step\n",
            "Epoch 21/100\n",
            "14/14 - 0s - loss: 1.9399 - accuracy: 0.2170 - val_loss: 1.9394 - val_accuracy: 0.2182 - 268ms/epoch - 19ms/step\n",
            "Epoch 22/100\n",
            "14/14 - 0s - loss: 1.9397 - accuracy: 0.2170 - val_loss: 1.9392 - val_accuracy: 0.2182 - 386ms/epoch - 28ms/step\n",
            "Epoch 23/100\n",
            "14/14 - 0s - loss: 1.9395 - accuracy: 0.2170 - val_loss: 1.9390 - val_accuracy: 0.2182 - 282ms/epoch - 20ms/step\n",
            "Epoch 24/100\n",
            "14/14 - 0s - loss: 1.9394 - accuracy: 0.2170 - val_loss: 1.9388 - val_accuracy: 0.2182 - 268ms/epoch - 19ms/step\n",
            "Epoch 25/100\n",
            "14/14 - 0s - loss: 1.9392 - accuracy: 0.2170 - val_loss: 1.9387 - val_accuracy: 0.2182 - 294ms/epoch - 21ms/step\n",
            "Epoch 26/100\n",
            "14/14 - 0s - loss: 1.9390 - accuracy: 0.2170 - val_loss: 1.9385 - val_accuracy: 0.2182 - 311ms/epoch - 22ms/step\n",
            "Epoch 27/100\n",
            "14/14 - 0s - loss: 1.9389 - accuracy: 0.2170 - val_loss: 1.9383 - val_accuracy: 0.2182 - 297ms/epoch - 21ms/step\n",
            "Epoch 28/100\n",
            "14/14 - 0s - loss: 1.9387 - accuracy: 0.2170 - val_loss: 1.9381 - val_accuracy: 0.2182 - 271ms/epoch - 19ms/step\n",
            "Epoch 29/100\n",
            "14/14 - 0s - loss: 1.9386 - accuracy: 0.2170 - val_loss: 1.9380 - val_accuracy: 0.2182 - 270ms/epoch - 19ms/step\n",
            "Epoch 30/100\n",
            "14/14 - 0s - loss: 1.9384 - accuracy: 0.2170 - val_loss: 1.9378 - val_accuracy: 0.2182 - 304ms/epoch - 22ms/step\n",
            "Epoch 31/100\n",
            "14/14 - 0s - loss: 1.9383 - accuracy: 0.2170 - val_loss: 1.9377 - val_accuracy: 0.2182 - 329ms/epoch - 23ms/step\n",
            "Epoch 32/100\n",
            "14/14 - 0s - loss: 1.9381 - accuracy: 0.2170 - val_loss: 1.9375 - val_accuracy: 0.2182 - 272ms/epoch - 19ms/step\n",
            "Epoch 33/100\n",
            "14/14 - 0s - loss: 1.9379 - accuracy: 0.2170 - val_loss: 1.9373 - val_accuracy: 0.2182 - 270ms/epoch - 19ms/step\n",
            "Epoch 34/100\n",
            "14/14 - 0s - loss: 1.9378 - accuracy: 0.2170 - val_loss: 1.9372 - val_accuracy: 0.2182 - 274ms/epoch - 20ms/step\n",
            "Epoch 35/100\n",
            "14/14 - 0s - loss: 1.9377 - accuracy: 0.2170 - val_loss: 1.9370 - val_accuracy: 0.2182 - 272ms/epoch - 19ms/step\n",
            "Epoch 36/100\n",
            "14/14 - 0s - loss: 1.9375 - accuracy: 0.2170 - val_loss: 1.9369 - val_accuracy: 0.2182 - 273ms/epoch - 19ms/step\n",
            "Epoch 37/100\n",
            "14/14 - 0s - loss: 1.9374 - accuracy: 0.2170 - val_loss: 1.9368 - val_accuracy: 0.2182 - 271ms/epoch - 19ms/step\n",
            "Epoch 38/100\n",
            "14/14 - 0s - loss: 1.9373 - accuracy: 0.2170 - val_loss: 1.9366 - val_accuracy: 0.2182 - 272ms/epoch - 19ms/step\n",
            "Epoch 39/100\n",
            "14/14 - 0s - loss: 1.9371 - accuracy: 0.2170 - val_loss: 1.9365 - val_accuracy: 0.2182 - 278ms/epoch - 20ms/step\n",
            "Epoch 40/100\n",
            "14/14 - 0s - loss: 1.9370 - accuracy: 0.2170 - val_loss: 1.9363 - val_accuracy: 0.2182 - 273ms/epoch - 20ms/step\n",
            "Epoch 41/100\n",
            "14/14 - 0s - loss: 1.9369 - accuracy: 0.2170 - val_loss: 1.9362 - val_accuracy: 0.2182 - 271ms/epoch - 19ms/step\n",
            "Epoch 42/100\n",
            "14/14 - 0s - loss: 1.9367 - accuracy: 0.2170 - val_loss: 1.9361 - val_accuracy: 0.2182 - 270ms/epoch - 19ms/step\n",
            "Epoch 43/100\n",
            "14/14 - 0s - loss: 1.9366 - accuracy: 0.2170 - val_loss: 1.9359 - val_accuracy: 0.2182 - 268ms/epoch - 19ms/step\n",
            "Epoch 44/100\n",
            "14/14 - 0s - loss: 1.9365 - accuracy: 0.2170 - val_loss: 1.9358 - val_accuracy: 0.2182 - 273ms/epoch - 20ms/step\n",
            "Epoch 45/100\n",
            "14/14 - 0s - loss: 1.9364 - accuracy: 0.2170 - val_loss: 1.9357 - val_accuracy: 0.2182 - 272ms/epoch - 19ms/step\n",
            "Epoch 46/100\n",
            "14/14 - 0s - loss: 1.9363 - accuracy: 0.2170 - val_loss: 1.9356 - val_accuracy: 0.2182 - 272ms/epoch - 19ms/step\n",
            "Epoch 47/100\n",
            "14/14 - 0s - loss: 1.9361 - accuracy: 0.2170 - val_loss: 1.9354 - val_accuracy: 0.2182 - 269ms/epoch - 19ms/step\n",
            "Epoch 48/100\n",
            "14/14 - 0s - loss: 1.9360 - accuracy: 0.2170 - val_loss: 1.9353 - val_accuracy: 0.2182 - 275ms/epoch - 20ms/step\n",
            "Epoch 49/100\n",
            "14/14 - 0s - loss: 1.9359 - accuracy: 0.2170 - val_loss: 1.9352 - val_accuracy: 0.2182 - 269ms/epoch - 19ms/step\n",
            "Epoch 50/100\n",
            "14/14 - 0s - loss: 1.9358 - accuracy: 0.2170 - val_loss: 1.9351 - val_accuracy: 0.2182 - 303ms/epoch - 22ms/step\n",
            "Epoch 51/100\n",
            "14/14 - 0s - loss: 1.9357 - accuracy: 0.2170 - val_loss: 1.9349 - val_accuracy: 0.2182 - 358ms/epoch - 26ms/step\n",
            "Epoch 52/100\n",
            "14/14 - 0s - loss: 1.9356 - accuracy: 0.2170 - val_loss: 1.9348 - val_accuracy: 0.2182 - 282ms/epoch - 20ms/step\n",
            "Epoch 53/100\n",
            "14/14 - 0s - loss: 1.9355 - accuracy: 0.2170 - val_loss: 1.9347 - val_accuracy: 0.2182 - 312ms/epoch - 22ms/step\n",
            "Epoch 54/100\n",
            "14/14 - 0s - loss: 1.9353 - accuracy: 0.2170 - val_loss: 1.9346 - val_accuracy: 0.2182 - 328ms/epoch - 23ms/step\n",
            "Epoch 55/100\n",
            "14/14 - 0s - loss: 1.9352 - accuracy: 0.2170 - val_loss: 1.9345 - val_accuracy: 0.2182 - 372ms/epoch - 27ms/step\n",
            "Epoch 56/100\n",
            "14/14 - 0s - loss: 1.9351 - accuracy: 0.2170 - val_loss: 1.9344 - val_accuracy: 0.2182 - 321ms/epoch - 23ms/step\n",
            "Epoch 57/100\n",
            "14/14 - 0s - loss: 1.9350 - accuracy: 0.2170 - val_loss: 1.9343 - val_accuracy: 0.2182 - 352ms/epoch - 25ms/step\n",
            "Epoch 58/100\n",
            "14/14 - 0s - loss: 1.9349 - accuracy: 0.2170 - val_loss: 1.9341 - val_accuracy: 0.2182 - 269ms/epoch - 19ms/step\n",
            "Epoch 59/100\n",
            "14/14 - 0s - loss: 1.9348 - accuracy: 0.2170 - val_loss: 1.9340 - val_accuracy: 0.2182 - 280ms/epoch - 20ms/step\n",
            "Epoch 60/100\n",
            "14/14 - 0s - loss: 1.9347 - accuracy: 0.2170 - val_loss: 1.9339 - val_accuracy: 0.2182 - 272ms/epoch - 19ms/step\n",
            "Epoch 61/100\n",
            "14/14 - 0s - loss: 1.9346 - accuracy: 0.2170 - val_loss: 1.9338 - val_accuracy: 0.2182 - 273ms/epoch - 19ms/step\n",
            "Epoch 62/100\n",
            "14/14 - 0s - loss: 1.9345 - accuracy: 0.2170 - val_loss: 1.9337 - val_accuracy: 0.2182 - 275ms/epoch - 20ms/step\n",
            "Epoch 63/100\n",
            "14/14 - 0s - loss: 1.9344 - accuracy: 0.2170 - val_loss: 1.9336 - val_accuracy: 0.2182 - 264ms/epoch - 19ms/step\n",
            "Epoch 64/100\n",
            "14/14 - 0s - loss: 1.9343 - accuracy: 0.2170 - val_loss: 1.9335 - val_accuracy: 0.2182 - 311ms/epoch - 22ms/step\n",
            "Epoch 65/100\n",
            "14/14 - 0s - loss: 1.9342 - accuracy: 0.2170 - val_loss: 1.9334 - val_accuracy: 0.2182 - 269ms/epoch - 19ms/step\n",
            "Epoch 66/100\n",
            "14/14 - 0s - loss: 1.9341 - accuracy: 0.2170 - val_loss: 1.9333 - val_accuracy: 0.2182 - 273ms/epoch - 20ms/step\n"
          ]
        },
        {
          "name": "stdout",
          "output_type": "stream",
          "text": [
            "Epoch 67/100\n",
            "14/14 - 0s - loss: 1.9340 - accuracy: 0.2170 - val_loss: 1.9332 - val_accuracy: 0.2182 - 264ms/epoch - 19ms/step\n",
            "Epoch 68/100\n",
            "14/14 - 0s - loss: 1.9339 - accuracy: 0.2170 - val_loss: 1.9331 - val_accuracy: 0.2182 - 274ms/epoch - 20ms/step\n",
            "Epoch 69/100\n",
            "14/14 - 0s - loss: 1.9338 - accuracy: 0.2170 - val_loss: 1.9330 - val_accuracy: 0.2182 - 273ms/epoch - 19ms/step\n",
            "Epoch 70/100\n",
            "14/14 - 0s - loss: 1.9337 - accuracy: 0.2170 - val_loss: 1.9329 - val_accuracy: 0.2182 - 270ms/epoch - 19ms/step\n",
            "Epoch 71/100\n",
            "14/14 - 0s - loss: 1.9336 - accuracy: 0.2170 - val_loss: 1.9328 - val_accuracy: 0.2182 - 273ms/epoch - 19ms/step\n",
            "Epoch 72/100\n",
            "14/14 - 0s - loss: 1.9336 - accuracy: 0.2170 - val_loss: 1.9327 - val_accuracy: 0.2182 - 275ms/epoch - 20ms/step\n",
            "Epoch 73/100\n",
            "14/14 - 0s - loss: 1.9335 - accuracy: 0.2170 - val_loss: 1.9326 - val_accuracy: 0.2182 - 275ms/epoch - 20ms/step\n",
            "Epoch 74/100\n",
            "14/14 - 0s - loss: 1.9334 - accuracy: 0.2170 - val_loss: 1.9325 - val_accuracy: 0.2182 - 272ms/epoch - 19ms/step\n",
            "Epoch 75/100\n",
            "14/14 - 0s - loss: 1.9333 - accuracy: 0.2170 - val_loss: 1.9324 - val_accuracy: 0.2182 - 270ms/epoch - 19ms/step\n",
            "Epoch 76/100\n",
            "14/14 - 0s - loss: 1.9332 - accuracy: 0.2170 - val_loss: 1.9323 - val_accuracy: 0.2182 - 311ms/epoch - 22ms/step\n",
            "Epoch 77/100\n",
            "14/14 - 0s - loss: 1.9331 - accuracy: 0.2170 - val_loss: 1.9322 - val_accuracy: 0.2182 - 275ms/epoch - 20ms/step\n",
            "Epoch 78/100\n",
            "14/14 - 0s - loss: 1.9330 - accuracy: 0.2170 - val_loss: 1.9321 - val_accuracy: 0.2182 - 278ms/epoch - 20ms/step\n",
            "Epoch 79/100\n",
            "14/14 - 0s - loss: 1.9329 - accuracy: 0.2170 - val_loss: 1.9320 - val_accuracy: 0.2182 - 282ms/epoch - 20ms/step\n",
            "Epoch 80/100\n",
            "14/14 - 0s - loss: 1.9328 - accuracy: 0.2170 - val_loss: 1.9319 - val_accuracy: 0.2182 - 262ms/epoch - 19ms/step\n",
            "Epoch 81/100\n",
            "14/14 - 0s - loss: 1.9328 - accuracy: 0.2170 - val_loss: 1.9318 - val_accuracy: 0.2182 - 267ms/epoch - 19ms/step\n",
            "Epoch 82/100\n",
            "14/14 - 0s - loss: 1.9327 - accuracy: 0.2170 - val_loss: 1.9317 - val_accuracy: 0.2182 - 263ms/epoch - 19ms/step\n",
            "Epoch 83/100\n",
            "14/14 - 0s - loss: 1.9326 - accuracy: 0.2170 - val_loss: 1.9316 - val_accuracy: 0.2182 - 288ms/epoch - 21ms/step\n",
            "Epoch 84/100\n",
            "14/14 - 0s - loss: 1.9325 - accuracy: 0.2170 - val_loss: 1.9316 - val_accuracy: 0.2182 - 265ms/epoch - 19ms/step\n",
            "Epoch 85/100\n",
            "14/14 - 0s - loss: 1.9324 - accuracy: 0.2170 - val_loss: 1.9315 - val_accuracy: 0.2182 - 273ms/epoch - 19ms/step\n",
            "Epoch 86/100\n",
            "14/14 - 0s - loss: 1.9323 - accuracy: 0.2170 - val_loss: 1.9314 - val_accuracy: 0.2182 - 266ms/epoch - 19ms/step\n",
            "Epoch 87/100\n",
            "14/14 - 0s - loss: 1.9323 - accuracy: 0.2170 - val_loss: 1.9313 - val_accuracy: 0.2182 - 279ms/epoch - 20ms/step\n",
            "Epoch 88/100\n",
            "14/14 - 0s - loss: 1.9322 - accuracy: 0.2170 - val_loss: 1.9312 - val_accuracy: 0.2182 - 266ms/epoch - 19ms/step\n",
            "Epoch 89/100\n",
            "14/14 - 0s - loss: 1.9321 - accuracy: 0.2170 - val_loss: 1.9311 - val_accuracy: 0.2182 - 274ms/epoch - 20ms/step\n",
            "Epoch 90/100\n",
            "14/14 - 0s - loss: 1.9320 - accuracy: 0.2170 - val_loss: 1.9310 - val_accuracy: 0.2182 - 266ms/epoch - 19ms/step\n",
            "Epoch 91/100\n",
            "14/14 - 0s - loss: 1.9319 - accuracy: 0.2170 - val_loss: 1.9309 - val_accuracy: 0.2182 - 273ms/epoch - 20ms/step\n",
            "Epoch 92/100\n",
            "14/14 - 0s - loss: 1.9319 - accuracy: 0.2170 - val_loss: 1.9309 - val_accuracy: 0.2182 - 268ms/epoch - 19ms/step\n",
            "Epoch 93/100\n",
            "14/14 - 0s - loss: 1.9318 - accuracy: 0.2170 - val_loss: 1.9308 - val_accuracy: 0.2182 - 270ms/epoch - 19ms/step\n",
            "Epoch 94/100\n",
            "14/14 - 0s - loss: 1.9317 - accuracy: 0.2170 - val_loss: 1.9307 - val_accuracy: 0.2182 - 269ms/epoch - 19ms/step\n",
            "Epoch 95/100\n",
            "14/14 - 0s - loss: 1.9316 - accuracy: 0.2170 - val_loss: 1.9306 - val_accuracy: 0.2182 - 274ms/epoch - 20ms/step\n",
            "Epoch 96/100\n",
            "14/14 - 0s - loss: 1.9315 - accuracy: 0.2170 - val_loss: 1.9305 - val_accuracy: 0.2182 - 267ms/epoch - 19ms/step\n",
            "Epoch 97/100\n",
            "14/14 - 0s - loss: 1.9315 - accuracy: 0.2170 - val_loss: 1.9304 - val_accuracy: 0.2182 - 284ms/epoch - 20ms/step\n",
            "Epoch 98/100\n",
            "14/14 - 0s - loss: 1.9314 - accuracy: 0.2170 - val_loss: 1.9304 - val_accuracy: 0.2182 - 268ms/epoch - 19ms/step\n",
            "Epoch 99/100\n",
            "14/14 - 0s - loss: 1.9313 - accuracy: 0.2170 - val_loss: 1.9303 - val_accuracy: 0.2182 - 278ms/epoch - 20ms/step\n",
            "Epoch 100/100\n",
            "14/14 - 0s - loss: 1.9312 - accuracy: 0.2170 - val_loss: 1.9302 - val_accuracy: 0.2182 - 389ms/epoch - 28ms/step\n"
          ]
        }
      ],
      "source": [
        "model9 = Sequential()\n",
        "model9.add(Dense(1024,activation = 'relu',kernel_initializer = 'normal',input_dim = X_train.shape[1]))\n",
        "model9.add(Dense(256,activation = 'relu'))\n",
        "model9.add(Dense(64,activation = 'relu'))\n",
        "model9.add(Dense(7,activation=\"sigmoid\"))\n",
        "model9.compile(loss = 'sparse_categorical_crossentropy',optimizer = 'Ftrl',metrics = \"accuracy\")\n",
        "history_model9 = model9.fit(X_train,Y_train, epochs = 100, batch_size = 128, validation_data = (X_test,Y_test),verbose = 2)"
      ],
      "id": "e75af23c"
    },
    {
      "cell_type": "code",
      "execution_count": null,
      "metadata": {
        "id": "dde8722e",
        "outputId": "00d4c47f-a5cf-464d-9c38-455dedb55b60"
      },
      "outputs": [
        {
          "name": "stdout",
          "output_type": "stream",
          "text": [
            "23/23 [==============================] - 0s 3ms/step\n",
            "Macro score: 0.031176006314127862\n",
            "Recall Score 0.14285714285714285\n"
          ]
        }
      ],
      "source": [
        "pred = tf.argmax(model9.predict(X_test),axis=1)\n",
        "print(\"Macro score:\",precision_score(Y_test,pred,average='macro'))\n",
        "print(\"Recall Score\",recall_score(Y_test,pred,average='macro'))"
      ],
      "id": "dde8722e"
    },
    {
      "cell_type": "markdown",
      "metadata": {
        "id": "7d00f283"
      },
      "source": [
        "### Macro score: 0.03260225251926497"
      ],
      "id": "7d00f283"
    },
    {
      "cell_type": "markdown",
      "metadata": {
        "id": "d4c80079"
      },
      "source": [
        "Optimizer: SGD"
      ],
      "id": "d4c80079"
    },
    {
      "cell_type": "code",
      "execution_count": null,
      "metadata": {
        "id": "7ac8041a",
        "outputId": "cc704d7e-7e4b-4dbe-9294-388323927661"
      },
      "outputs": [
        {
          "name": "stdout",
          "output_type": "stream",
          "text": [
            "Epoch 1/100\n",
            "14/14 - 1s - loss: 1.7497 - accuracy: 0.3349 - val_loss: 1.5497 - val_accuracy: 0.4296 - 757ms/epoch - 54ms/step\n",
            "Epoch 2/100\n",
            "14/14 - 0s - loss: 1.4384 - accuracy: 0.5080 - val_loss: 1.4209 - val_accuracy: 0.4475 - 209ms/epoch - 15ms/step\n",
            "Epoch 3/100\n",
            "14/14 - 0s - loss: 1.3026 - accuracy: 0.5566 - val_loss: 1.5075 - val_accuracy: 0.4116 - 204ms/epoch - 15ms/step\n",
            "Epoch 4/100\n",
            "14/14 - 0s - loss: 1.2507 - accuracy: 0.5667 - val_loss: 1.1949 - val_accuracy: 0.5622 - 202ms/epoch - 14ms/step\n",
            "Epoch 5/100\n",
            "14/14 - 0s - loss: 1.1274 - accuracy: 0.6378 - val_loss: 1.1209 - val_accuracy: 0.6354 - 213ms/epoch - 15ms/step\n",
            "Epoch 6/100\n",
            "14/14 - 0s - loss: 1.0866 - accuracy: 0.6360 - val_loss: 1.0575 - val_accuracy: 0.6823 - 198ms/epoch - 14ms/step\n",
            "Epoch 7/100\n",
            "14/14 - 0s - loss: 1.0565 - accuracy: 0.6408 - val_loss: 1.3239 - val_accuracy: 0.4213 - 194ms/epoch - 14ms/step\n",
            "Epoch 8/100\n",
            "14/14 - 0s - loss: 1.0202 - accuracy: 0.6408 - val_loss: 1.0431 - val_accuracy: 0.6464 - 191ms/epoch - 14ms/step\n",
            "Epoch 9/100\n",
            "14/14 - 0s - loss: 0.9678 - accuracy: 0.6781 - val_loss: 0.9859 - val_accuracy: 0.6436 - 195ms/epoch - 14ms/step\n",
            "Epoch 10/100\n",
            "14/14 - 0s - loss: 0.9342 - accuracy: 0.6882 - val_loss: 1.0434 - val_accuracy: 0.6367 - 203ms/epoch - 14ms/step\n",
            "Epoch 11/100\n",
            "14/14 - 0s - loss: 0.9378 - accuracy: 0.6763 - val_loss: 1.0117 - val_accuracy: 0.6271 - 195ms/epoch - 14ms/step\n",
            "Epoch 12/100\n",
            "14/14 - 0s - loss: 0.8695 - accuracy: 0.7107 - val_loss: 0.9507 - val_accuracy: 0.6796 - 197ms/epoch - 14ms/step\n",
            "Epoch 13/100\n",
            "14/14 - 0s - loss: 0.8556 - accuracy: 0.7208 - val_loss: 1.0112 - val_accuracy: 0.6312 - 200ms/epoch - 14ms/step\n",
            "Epoch 14/100\n",
            "14/14 - 0s - loss: 0.8761 - accuracy: 0.7036 - val_loss: 1.2446 - val_accuracy: 0.5359 - 197ms/epoch - 14ms/step\n",
            "Epoch 15/100\n",
            "14/14 - 0s - loss: 0.8606 - accuracy: 0.7072 - val_loss: 0.8632 - val_accuracy: 0.7251 - 199ms/epoch - 14ms/step\n",
            "Epoch 16/100\n",
            "14/14 - 0s - loss: 0.8017 - accuracy: 0.7368 - val_loss: 0.8747 - val_accuracy: 0.6837 - 199ms/epoch - 14ms/step\n",
            "Epoch 17/100\n",
            "14/14 - 0s - loss: 0.7646 - accuracy: 0.7522 - val_loss: 0.8978 - val_accuracy: 0.6823 - 196ms/epoch - 14ms/step\n",
            "Epoch 18/100\n",
            "14/14 - 0s - loss: 0.8048 - accuracy: 0.7261 - val_loss: 0.8937 - val_accuracy: 0.6948 - 205ms/epoch - 15ms/step\n",
            "Epoch 19/100\n",
            "14/14 - 0s - loss: 0.7738 - accuracy: 0.7386 - val_loss: 0.8293 - val_accuracy: 0.7348 - 198ms/epoch - 14ms/step\n",
            "Epoch 20/100\n",
            "14/14 - 0s - loss: 0.7393 - accuracy: 0.7558 - val_loss: 0.9015 - val_accuracy: 0.6878 - 197ms/epoch - 14ms/step\n",
            "Epoch 21/100\n",
            "14/14 - 0s - loss: 0.7336 - accuracy: 0.7582 - val_loss: 0.8962 - val_accuracy: 0.6768 - 208ms/epoch - 15ms/step\n",
            "Epoch 22/100\n",
            "14/14 - 0s - loss: 0.7913 - accuracy: 0.7309 - val_loss: 0.7899 - val_accuracy: 0.7334 - 268ms/epoch - 19ms/step\n",
            "Epoch 23/100\n",
            "14/14 - 0s - loss: 0.7124 - accuracy: 0.7593 - val_loss: 0.8349 - val_accuracy: 0.7072 - 251ms/epoch - 18ms/step\n",
            "Epoch 24/100\n",
            "14/14 - 0s - loss: 0.6889 - accuracy: 0.7700 - val_loss: 0.9553 - val_accuracy: 0.6354 - 200ms/epoch - 14ms/step\n",
            "Epoch 25/100\n",
            "14/14 - 0s - loss: 0.7190 - accuracy: 0.7516 - val_loss: 0.7971 - val_accuracy: 0.7320 - 199ms/epoch - 14ms/step\n",
            "Epoch 26/100\n",
            "14/14 - 0s - loss: 0.6700 - accuracy: 0.7854 - val_loss: 0.9041 - val_accuracy: 0.6727 - 203ms/epoch - 15ms/step\n",
            "Epoch 27/100\n",
            "14/14 - 0s - loss: 0.6914 - accuracy: 0.7682 - val_loss: 0.8521 - val_accuracy: 0.7003 - 219ms/epoch - 16ms/step\n",
            "Epoch 28/100\n",
            "14/14 - 0s - loss: 0.6647 - accuracy: 0.7771 - val_loss: 0.9904 - val_accuracy: 0.6340 - 214ms/epoch - 15ms/step\n",
            "Epoch 29/100\n",
            "14/14 - 0s - loss: 0.6963 - accuracy: 0.7647 - val_loss: 0.7526 - val_accuracy: 0.7652 - 221ms/epoch - 16ms/step\n",
            "Epoch 30/100\n",
            "14/14 - 0s - loss: 0.6766 - accuracy: 0.7801 - val_loss: 0.8634 - val_accuracy: 0.6961 - 202ms/epoch - 14ms/step\n",
            "Epoch 31/100\n",
            "14/14 - 0s - loss: 0.6266 - accuracy: 0.7937 - val_loss: 0.7243 - val_accuracy: 0.7693 - 220ms/epoch - 16ms/step\n",
            "Epoch 32/100\n",
            "14/14 - 0s - loss: 0.6186 - accuracy: 0.7943 - val_loss: 0.7711 - val_accuracy: 0.7307 - 203ms/epoch - 14ms/step\n",
            "Epoch 33/100\n",
            "14/14 - 0s - loss: 0.6367 - accuracy: 0.7842 - val_loss: 0.7998 - val_accuracy: 0.7307 - 196ms/epoch - 14ms/step\n",
            "Epoch 34/100\n",
            "14/14 - 0s - loss: 0.6137 - accuracy: 0.7908 - val_loss: 0.6916 - val_accuracy: 0.7666 - 198ms/epoch - 14ms/step\n",
            "Epoch 35/100\n",
            "14/14 - 0s - loss: 0.5901 - accuracy: 0.8079 - val_loss: 0.7078 - val_accuracy: 0.7638 - 203ms/epoch - 15ms/step\n",
            "Epoch 36/100\n",
            "14/14 - 0s - loss: 0.5804 - accuracy: 0.8162 - val_loss: 0.6898 - val_accuracy: 0.7762 - 207ms/epoch - 15ms/step\n",
            "Epoch 37/100\n",
            "14/14 - 0s - loss: 0.5587 - accuracy: 0.8210 - val_loss: 0.9048 - val_accuracy: 0.6699 - 204ms/epoch - 15ms/step\n",
            "Epoch 38/100\n",
            "14/14 - 0s - loss: 0.5744 - accuracy: 0.8145 - val_loss: 0.7014 - val_accuracy: 0.7721 - 198ms/epoch - 14ms/step\n",
            "Epoch 39/100\n",
            "14/14 - 0s - loss: 0.5740 - accuracy: 0.8133 - val_loss: 0.7332 - val_accuracy: 0.7500 - 192ms/epoch - 14ms/step\n",
            "Epoch 40/100\n",
            "14/14 - 0s - loss: 0.6419 - accuracy: 0.7836 - val_loss: 0.8154 - val_accuracy: 0.6975 - 196ms/epoch - 14ms/step\n",
            "Epoch 41/100\n",
            "14/14 - 0s - loss: 0.5571 - accuracy: 0.8204 - val_loss: 0.7595 - val_accuracy: 0.7224 - 325ms/epoch - 23ms/step\n",
            "Epoch 42/100\n",
            "14/14 - 0s - loss: 0.5516 - accuracy: 0.8115 - val_loss: 1.2008 - val_accuracy: 0.5801 - 215ms/epoch - 15ms/step\n",
            "Epoch 43/100\n",
            "14/14 - 0s - loss: 0.5790 - accuracy: 0.8115 - val_loss: 0.7934 - val_accuracy: 0.7058 - 199ms/epoch - 14ms/step\n",
            "Epoch 44/100\n",
            "14/14 - 0s - loss: 0.5364 - accuracy: 0.8322 - val_loss: 0.7065 - val_accuracy: 0.7680 - 197ms/epoch - 14ms/step\n",
            "Epoch 45/100\n",
            "14/14 - 0s - loss: 0.5248 - accuracy: 0.8334 - val_loss: 0.6873 - val_accuracy: 0.7776 - 209ms/epoch - 15ms/step\n",
            "Epoch 46/100\n",
            "14/14 - 0s - loss: 0.5074 - accuracy: 0.8441 - val_loss: 0.8013 - val_accuracy: 0.7127 - 200ms/epoch - 14ms/step\n",
            "Epoch 47/100\n",
            "14/14 - 0s - loss: 0.5509 - accuracy: 0.8228 - val_loss: 0.8000 - val_accuracy: 0.6975 - 200ms/epoch - 14ms/step\n",
            "Epoch 48/100\n",
            "14/14 - 0s - loss: 0.5194 - accuracy: 0.8299 - val_loss: 0.7536 - val_accuracy: 0.7514 - 202ms/epoch - 14ms/step\n",
            "Epoch 49/100\n",
            "14/14 - 0s - loss: 0.4996 - accuracy: 0.8370 - val_loss: 0.7290 - val_accuracy: 0.7472 - 239ms/epoch - 17ms/step\n",
            "Epoch 50/100\n",
            "14/14 - 0s - loss: 0.5579 - accuracy: 0.8097 - val_loss: 0.6962 - val_accuracy: 0.7431 - 264ms/epoch - 19ms/step\n",
            "Epoch 51/100\n",
            "14/14 - 0s - loss: 0.4939 - accuracy: 0.8453 - val_loss: 0.8073 - val_accuracy: 0.7113 - 277ms/epoch - 20ms/step\n",
            "Epoch 52/100\n",
            "14/14 - 0s - loss: 0.5123 - accuracy: 0.8317 - val_loss: 0.6410 - val_accuracy: 0.7914 - 489ms/epoch - 35ms/step\n",
            "Epoch 53/100\n",
            "14/14 - 0s - loss: 0.4697 - accuracy: 0.8494 - val_loss: 0.6894 - val_accuracy: 0.7486 - 363ms/epoch - 26ms/step\n",
            "Epoch 54/100\n",
            "14/14 - 0s - loss: 0.4767 - accuracy: 0.8500 - val_loss: 0.6576 - val_accuracy: 0.7707 - 356ms/epoch - 25ms/step\n",
            "Epoch 55/100\n",
            "14/14 - 0s - loss: 0.4580 - accuracy: 0.8577 - val_loss: 0.7069 - val_accuracy: 0.7610 - 314ms/epoch - 22ms/step\n",
            "Epoch 56/100\n",
            "14/14 - 0s - loss: 0.4666 - accuracy: 0.8477 - val_loss: 0.6409 - val_accuracy: 0.7790 - 309ms/epoch - 22ms/step\n",
            "Epoch 57/100\n",
            "14/14 - 0s - loss: 0.4854 - accuracy: 0.8417 - val_loss: 0.7071 - val_accuracy: 0.7431 - 306ms/epoch - 22ms/step\n",
            "Epoch 58/100\n",
            "14/14 - 0s - loss: 0.4678 - accuracy: 0.8506 - val_loss: 0.8804 - val_accuracy: 0.6685 - 360ms/epoch - 26ms/step\n",
            "Epoch 59/100\n",
            "14/14 - 0s - loss: 0.5060 - accuracy: 0.8352 - val_loss: 0.6355 - val_accuracy: 0.7956 - 358ms/epoch - 26ms/step\n",
            "Epoch 60/100\n",
            "14/14 - 0s - loss: 0.4633 - accuracy: 0.8500 - val_loss: 0.6299 - val_accuracy: 0.8108 - 373ms/epoch - 27ms/step\n",
            "Epoch 61/100\n",
            "14/14 - 0s - loss: 0.4411 - accuracy: 0.8637 - val_loss: 0.7223 - val_accuracy: 0.7251 - 317ms/epoch - 23ms/step\n",
            "Epoch 62/100\n",
            "14/14 - 0s - loss: 0.4512 - accuracy: 0.8518 - val_loss: 0.7399 - val_accuracy: 0.7362 - 303ms/epoch - 22ms/step\n",
            "Epoch 63/100\n",
            "14/14 - 0s - loss: 0.4692 - accuracy: 0.8506 - val_loss: 0.7721 - val_accuracy: 0.7086 - 319ms/epoch - 23ms/step\n",
            "Epoch 64/100\n",
            "14/14 - 0s - loss: 0.4343 - accuracy: 0.8595 - val_loss: 1.2254 - val_accuracy: 0.6326 - 284ms/epoch - 20ms/step\n",
            "Epoch 65/100\n",
            "14/14 - 0s - loss: 0.5267 - accuracy: 0.8293 - val_loss: 0.9787 - val_accuracy: 0.6657 - 289ms/epoch - 21ms/step\n",
            "Epoch 66/100\n"
          ]
        },
        {
          "name": "stdout",
          "output_type": "stream",
          "text": [
            "14/14 - 0s - loss: 0.4600 - accuracy: 0.8488 - val_loss: 0.6085 - val_accuracy: 0.8039 - 291ms/epoch - 21ms/step\n",
            "Epoch 67/100\n",
            "14/14 - 0s - loss: 0.4252 - accuracy: 0.8737 - val_loss: 0.6741 - val_accuracy: 0.7334 - 318ms/epoch - 23ms/step\n",
            "Epoch 68/100\n",
            "14/14 - 0s - loss: 0.4074 - accuracy: 0.8708 - val_loss: 0.6502 - val_accuracy: 0.7818 - 303ms/epoch - 22ms/step\n",
            "Epoch 69/100\n",
            "14/14 - 0s - loss: 0.4132 - accuracy: 0.8743 - val_loss: 0.7864 - val_accuracy: 0.7251 - 297ms/epoch - 21ms/step\n",
            "Epoch 70/100\n",
            "14/14 - 0s - loss: 0.4540 - accuracy: 0.8548 - val_loss: 0.7284 - val_accuracy: 0.7721 - 301ms/epoch - 22ms/step\n",
            "Epoch 71/100\n",
            "14/14 - 0s - loss: 0.3937 - accuracy: 0.8779 - val_loss: 0.8596 - val_accuracy: 0.6685 - 298ms/epoch - 21ms/step\n",
            "Epoch 72/100\n",
            "14/14 - 0s - loss: 0.4098 - accuracy: 0.8690 - val_loss: 0.6121 - val_accuracy: 0.7887 - 276ms/epoch - 20ms/step\n",
            "Epoch 73/100\n",
            "14/14 - 0s - loss: 0.3909 - accuracy: 0.8737 - val_loss: 0.8853 - val_accuracy: 0.7058 - 423ms/epoch - 30ms/step\n",
            "Epoch 74/100\n",
            "14/14 - 0s - loss: 0.4295 - accuracy: 0.8619 - val_loss: 0.6489 - val_accuracy: 0.7831 - 267ms/epoch - 19ms/step\n",
            "Epoch 75/100\n",
            "14/14 - 0s - loss: 0.3914 - accuracy: 0.8797 - val_loss: 0.7643 - val_accuracy: 0.7334 - 318ms/epoch - 23ms/step\n",
            "Epoch 76/100\n",
            "14/14 - 0s - loss: 0.3920 - accuracy: 0.8773 - val_loss: 0.5918 - val_accuracy: 0.8149 - 294ms/epoch - 21ms/step\n",
            "Epoch 77/100\n",
            "14/14 - 0s - loss: 0.3861 - accuracy: 0.8844 - val_loss: 0.6305 - val_accuracy: 0.7721 - 307ms/epoch - 22ms/step\n",
            "Epoch 78/100\n",
            "14/14 - 0s - loss: 0.3652 - accuracy: 0.8921 - val_loss: 0.6325 - val_accuracy: 0.7804 - 241ms/epoch - 17ms/step\n",
            "Epoch 79/100\n",
            "14/14 - 0s - loss: 0.3691 - accuracy: 0.8874 - val_loss: 0.5801 - val_accuracy: 0.7997 - 249ms/epoch - 18ms/step\n",
            "Epoch 80/100\n",
            "14/14 - 0s - loss: 0.3709 - accuracy: 0.8909 - val_loss: 0.7621 - val_accuracy: 0.7293 - 246ms/epoch - 18ms/step\n",
            "Epoch 81/100\n",
            "14/14 - 0s - loss: 0.3624 - accuracy: 0.8975 - val_loss: 0.6010 - val_accuracy: 0.8011 - 254ms/epoch - 18ms/step\n",
            "Epoch 82/100\n",
            "14/14 - 0s - loss: 0.3625 - accuracy: 0.8921 - val_loss: 0.7690 - val_accuracy: 0.7044 - 243ms/epoch - 17ms/step\n",
            "Epoch 83/100\n",
            "14/14 - 0s - loss: 0.3784 - accuracy: 0.8803 - val_loss: 0.6399 - val_accuracy: 0.8011 - 263ms/epoch - 19ms/step\n",
            "Epoch 84/100\n",
            "14/14 - 0s - loss: 0.3562 - accuracy: 0.9004 - val_loss: 0.6184 - val_accuracy: 0.7859 - 272ms/epoch - 19ms/step\n",
            "Epoch 85/100\n",
            "14/14 - 0s - loss: 0.3488 - accuracy: 0.8998 - val_loss: 0.6612 - val_accuracy: 0.7666 - 235ms/epoch - 17ms/step\n",
            "Epoch 86/100\n",
            "14/14 - 0s - loss: 0.3550 - accuracy: 0.8921 - val_loss: 0.7379 - val_accuracy: 0.7348 - 258ms/epoch - 18ms/step\n",
            "Epoch 87/100\n",
            "14/14 - 0s - loss: 0.3450 - accuracy: 0.8862 - val_loss: 0.6228 - val_accuracy: 0.7970 - 286ms/epoch - 20ms/step\n",
            "Epoch 88/100\n",
            "14/14 - 0s - loss: 0.3504 - accuracy: 0.8862 - val_loss: 0.5592 - val_accuracy: 0.8163 - 292ms/epoch - 21ms/step\n",
            "Epoch 89/100\n",
            "14/14 - 0s - loss: 0.3367 - accuracy: 0.9040 - val_loss: 0.5836 - val_accuracy: 0.8135 - 253ms/epoch - 18ms/step\n",
            "Epoch 90/100\n",
            "14/14 - 0s - loss: 0.3240 - accuracy: 0.9093 - val_loss: 0.6282 - val_accuracy: 0.7956 - 267ms/epoch - 19ms/step\n",
            "Epoch 91/100\n",
            "14/14 - 0s - loss: 0.3245 - accuracy: 0.9052 - val_loss: 0.6298 - val_accuracy: 0.7928 - 297ms/epoch - 21ms/step\n",
            "Epoch 92/100\n",
            "14/14 - 0s - loss: 0.3374 - accuracy: 0.9004 - val_loss: 0.7357 - val_accuracy: 0.7472 - 254ms/epoch - 18ms/step\n",
            "Epoch 93/100\n",
            "14/14 - 0s - loss: 0.4630 - accuracy: 0.8542 - val_loss: 0.6081 - val_accuracy: 0.7790 - 263ms/epoch - 19ms/step\n",
            "Epoch 94/100\n",
            "14/14 - 0s - loss: 0.3158 - accuracy: 0.9105 - val_loss: 0.5677 - val_accuracy: 0.8039 - 276ms/epoch - 20ms/step\n",
            "Epoch 95/100\n",
            "14/14 - 0s - loss: 0.3111 - accuracy: 0.9117 - val_loss: 0.5754 - val_accuracy: 0.8177 - 285ms/epoch - 20ms/step\n",
            "Epoch 96/100\n",
            "14/14 - 0s - loss: 0.3320 - accuracy: 0.9004 - val_loss: 0.9046 - val_accuracy: 0.6934 - 258ms/epoch - 18ms/step\n",
            "Epoch 97/100\n",
            "14/14 - 0s - loss: 0.3445 - accuracy: 0.8969 - val_loss: 0.9123 - val_accuracy: 0.7141 - 253ms/epoch - 18ms/step\n",
            "Epoch 98/100\n",
            "14/14 - 0s - loss: 0.3325 - accuracy: 0.9075 - val_loss: 0.6595 - val_accuracy: 0.7721 - 305ms/epoch - 22ms/step\n",
            "Epoch 99/100\n",
            "14/14 - 0s - loss: 0.3044 - accuracy: 0.9135 - val_loss: 0.5801 - val_accuracy: 0.8066 - 284ms/epoch - 20ms/step\n",
            "Epoch 100/100\n",
            "14/14 - 0s - loss: 0.3674 - accuracy: 0.8862 - val_loss: 0.7319 - val_accuracy: 0.7279 - 269ms/epoch - 19ms/step\n"
          ]
        }
      ],
      "source": [
        "model10 = Sequential()\n",
        "model10.add(Dense(1024,activation = 'relu',kernel_initializer = 'normal',input_dim = X_train.shape[1]))\n",
        "model10.add(Dense(256,activation = 'relu'))\n",
        "model10.add(Dense(64,activation = 'relu'))\n",
        "model10.add(Dense(7,activation=\"sigmoid\"))\n",
        "model10.compile(loss = 'sparse_categorical_crossentropy',optimizer = 'SGD',metrics = \"accuracy\")\n",
        "history_model10 = model10.fit(X_train,Y_train, epochs = 100, batch_size = 128, validation_data = (X_test,Y_test),verbose = 2)"
      ],
      "id": "7ac8041a"
    },
    {
      "cell_type": "code",
      "execution_count": null,
      "metadata": {
        "id": "f998d991",
        "outputId": "3ddb6d16-8e82-41a4-efc3-995780e04cfc"
      },
      "outputs": [
        {
          "name": "stdout",
          "output_type": "stream",
          "text": [
            "23/23 [==============================] - 0s 4ms/step\n",
            "Macro score: 0.7823659400490133\n",
            "Recall Score 0.7302215831716004\n"
          ]
        }
      ],
      "source": [
        "pred = tf.argmax(model10.predict(X_test),axis=1)\n",
        "print(\"Macro score:\",precision_score(Y_test,pred,average='macro'))\n",
        "print(\"Recall Score\",recall_score(Y_test,pred,average='macro'))"
      ],
      "id": "f998d991"
    },
    {
      "cell_type": "markdown",
      "metadata": {
        "id": "6fdb3e5f"
      },
      "source": [
        "### Macro score: 0.8159472885292376"
      ],
      "id": "6fdb3e5f"
    },
    {
      "cell_type": "code",
      "source": [],
      "metadata": {
        "id": "I9fRLGY143jd"
      },
      "id": "I9fRLGY143jd",
      "execution_count": null,
      "outputs": []
    },
    {
      "cell_type": "markdown",
      "metadata": {
        "id": "af33e0c6"
      },
      "source": [
        "# Conclusion:\n",
        "## The best Macro Score is : 0.8389959148430156, when \n",
        "## number of layers=3 and neurons per layer=2048,1024,7 respectively."
      ],
      "id": "af33e0c6"
    },
    {
      "cell_type": "markdown",
      "metadata": {
        "id": "8b089871"
      },
      "source": [
        "## Checking the accuracy using our best model"
      ],
      "id": "8b089871"
    },
    {
      "cell_type": "code",
      "execution_count": null,
      "metadata": {
        "id": "dc7ff3ca",
        "outputId": "16af259d-1219-405d-e5a3-abbc063e9b7b"
      },
      "outputs": [
        {
          "name": "stdout",
          "output_type": "stream",
          "text": [
            "Epoch 1/100\n",
            "14/14 - 1s - loss: 5.0140 - accuracy: 0.2810 - val_loss: 1.7024 - val_accuracy: 0.3550 - 1s/epoch - 104ms/step\n",
            "Epoch 2/100\n",
            "14/14 - 1s - loss: 1.4811 - accuracy: 0.4552 - val_loss: 1.2682 - val_accuracy: 0.5566 - 747ms/epoch - 53ms/step\n",
            "Epoch 3/100\n",
            "14/14 - 1s - loss: 1.1287 - accuracy: 0.5999 - val_loss: 1.1631 - val_accuracy: 0.5304 - 684ms/epoch - 49ms/step\n",
            "Epoch 4/100\n",
            "14/14 - 1s - loss: 1.0191 - accuracy: 0.6331 - val_loss: 0.9243 - val_accuracy: 0.6671 - 705ms/epoch - 50ms/step\n",
            "Epoch 5/100\n",
            "14/14 - 1s - loss: 0.8698 - accuracy: 0.7024 - val_loss: 0.8370 - val_accuracy: 0.7251 - 720ms/epoch - 51ms/step\n",
            "Epoch 6/100\n",
            "14/14 - 1s - loss: 0.7789 - accuracy: 0.7475 - val_loss: 0.8626 - val_accuracy: 0.6920 - 710ms/epoch - 51ms/step\n",
            "Epoch 7/100\n",
            "14/14 - 1s - loss: 0.7244 - accuracy: 0.7445 - val_loss: 0.7763 - val_accuracy: 0.7390 - 750ms/epoch - 54ms/step\n",
            "Epoch 8/100\n",
            "14/14 - 1s - loss: 0.6456 - accuracy: 0.7896 - val_loss: 0.7270 - val_accuracy: 0.7472 - 765ms/epoch - 55ms/step\n",
            "Epoch 9/100\n",
            "14/14 - 1s - loss: 0.6121 - accuracy: 0.7996 - val_loss: 0.8419 - val_accuracy: 0.7182 - 693ms/epoch - 49ms/step\n",
            "Epoch 10/100\n",
            "14/14 - 1s - loss: 0.5921 - accuracy: 0.8008 - val_loss: 0.7485 - val_accuracy: 0.7569 - 689ms/epoch - 49ms/step\n",
            "Epoch 11/100\n",
            "14/14 - 1s - loss: 0.5604 - accuracy: 0.8151 - val_loss: 0.6590 - val_accuracy: 0.7652 - 656ms/epoch - 47ms/step\n",
            "Epoch 12/100\n",
            "14/14 - 1s - loss: 0.5249 - accuracy: 0.8228 - val_loss: 0.8527 - val_accuracy: 0.7113 - 665ms/epoch - 48ms/step\n",
            "Epoch 13/100\n",
            "14/14 - 1s - loss: 0.6237 - accuracy: 0.7771 - val_loss: 0.6569 - val_accuracy: 0.7569 - 708ms/epoch - 51ms/step\n",
            "Epoch 14/100\n",
            "14/14 - 1s - loss: 0.5083 - accuracy: 0.8322 - val_loss: 0.6252 - val_accuracy: 0.7928 - 747ms/epoch - 53ms/step\n",
            "Epoch 15/100\n",
            "14/14 - 1s - loss: 0.4404 - accuracy: 0.8613 - val_loss: 0.6699 - val_accuracy: 0.7859 - 706ms/epoch - 50ms/step\n",
            "Epoch 16/100\n",
            "14/14 - 1s - loss: 0.4217 - accuracy: 0.8542 - val_loss: 0.6073 - val_accuracy: 0.7983 - 738ms/epoch - 53ms/step\n",
            "Epoch 17/100\n",
            "14/14 - 1s - loss: 0.4164 - accuracy: 0.8684 - val_loss: 0.6407 - val_accuracy: 0.7845 - 729ms/epoch - 52ms/step\n",
            "Epoch 18/100\n",
            "14/14 - 1s - loss: 0.4121 - accuracy: 0.8648 - val_loss: 0.6616 - val_accuracy: 0.7845 - 719ms/epoch - 51ms/step\n",
            "Epoch 19/100\n",
            "14/14 - 1s - loss: 0.4102 - accuracy: 0.8554 - val_loss: 0.5776 - val_accuracy: 0.7914 - 787ms/epoch - 56ms/step\n",
            "Epoch 20/100\n",
            "14/14 - 1s - loss: 0.3737 - accuracy: 0.8826 - val_loss: 0.7141 - val_accuracy: 0.7610 - 763ms/epoch - 54ms/step\n",
            "Epoch 21/100\n",
            "14/14 - 1s - loss: 0.3972 - accuracy: 0.8690 - val_loss: 0.5560 - val_accuracy: 0.8163 - 750ms/epoch - 54ms/step\n",
            "Epoch 22/100\n",
            "14/14 - 1s - loss: 0.3011 - accuracy: 0.9022 - val_loss: 0.5951 - val_accuracy: 0.7997 - 731ms/epoch - 52ms/step\n",
            "Epoch 23/100\n",
            "14/14 - 1s - loss: 0.3113 - accuracy: 0.8963 - val_loss: 0.7799 - val_accuracy: 0.7334 - 703ms/epoch - 50ms/step\n",
            "Epoch 24/100\n",
            "14/14 - 1s - loss: 0.3605 - accuracy: 0.8761 - val_loss: 0.6230 - val_accuracy: 0.7790 - 721ms/epoch - 51ms/step\n",
            "Epoch 25/100\n",
            "14/14 - 1s - loss: 0.3084 - accuracy: 0.8880 - val_loss: 0.6738 - val_accuracy: 0.7528 - 714ms/epoch - 51ms/step\n",
            "Epoch 26/100\n",
            "14/14 - 1s - loss: 0.2751 - accuracy: 0.9081 - val_loss: 0.6685 - val_accuracy: 0.7541 - 702ms/epoch - 50ms/step\n",
            "Epoch 27/100\n",
            "14/14 - 1s - loss: 0.2951 - accuracy: 0.9004 - val_loss: 0.6155 - val_accuracy: 0.7901 - 676ms/epoch - 48ms/step\n",
            "Epoch 28/100\n",
            "14/14 - 1s - loss: 0.2726 - accuracy: 0.9140 - val_loss: 0.5904 - val_accuracy: 0.7735 - 668ms/epoch - 48ms/step\n",
            "Epoch 29/100\n",
            "14/14 - 1s - loss: 0.2338 - accuracy: 0.9212 - val_loss: 0.5881 - val_accuracy: 0.8039 - 716ms/epoch - 51ms/step\n",
            "Epoch 30/100\n",
            "14/14 - 1s - loss: 0.2385 - accuracy: 0.9223 - val_loss: 0.5902 - val_accuracy: 0.7859 - 667ms/epoch - 48ms/step\n",
            "Epoch 31/100\n",
            "14/14 - 1s - loss: 0.1991 - accuracy: 0.9336 - val_loss: 0.6224 - val_accuracy: 0.8025 - 620ms/epoch - 44ms/step\n",
            "Epoch 32/100\n",
            "14/14 - 1s - loss: 0.1977 - accuracy: 0.9354 - val_loss: 0.6677 - val_accuracy: 0.7804 - 590ms/epoch - 42ms/step\n",
            "Epoch 33/100\n",
            "14/14 - 1s - loss: 0.2214 - accuracy: 0.9318 - val_loss: 0.6766 - val_accuracy: 0.7845 - 590ms/epoch - 42ms/step\n",
            "Epoch 34/100\n",
            "14/14 - 1s - loss: 0.1833 - accuracy: 0.9425 - val_loss: 0.6025 - val_accuracy: 0.8011 - 633ms/epoch - 45ms/step\n",
            "Epoch 35/100\n",
            "14/14 - 1s - loss: 0.1493 - accuracy: 0.9526 - val_loss: 0.6499 - val_accuracy: 0.7804 - 598ms/epoch - 43ms/step\n",
            "Epoch 36/100\n",
            "14/14 - 1s - loss: 0.1642 - accuracy: 0.9472 - val_loss: 0.6521 - val_accuracy: 0.7721 - 595ms/epoch - 42ms/step\n",
            "Epoch 37/100\n",
            "14/14 - 1s - loss: 0.1692 - accuracy: 0.9413 - val_loss: 0.5974 - val_accuracy: 0.8177 - 615ms/epoch - 44ms/step\n",
            "Epoch 38/100\n",
            "14/14 - 1s - loss: 0.1490 - accuracy: 0.9561 - val_loss: 0.6178 - val_accuracy: 0.7928 - 624ms/epoch - 45ms/step\n",
            "Epoch 39/100\n",
            "14/14 - 1s - loss: 0.1303 - accuracy: 0.9609 - val_loss: 0.5891 - val_accuracy: 0.8122 - 735ms/epoch - 52ms/step\n",
            "Epoch 40/100\n",
            "14/14 - 1s - loss: 0.0992 - accuracy: 0.9680 - val_loss: 0.6597 - val_accuracy: 0.8039 - 595ms/epoch - 42ms/step\n",
            "Epoch 41/100\n",
            "14/14 - 1s - loss: 0.1206 - accuracy: 0.9609 - val_loss: 0.6345 - val_accuracy: 0.8066 - 616ms/epoch - 44ms/step\n",
            "Epoch 42/100\n",
            "14/14 - 1s - loss: 0.0948 - accuracy: 0.9733 - val_loss: 0.7253 - val_accuracy: 0.7818 - 616ms/epoch - 44ms/step\n",
            "Epoch 43/100\n",
            "14/14 - 1s - loss: 0.1125 - accuracy: 0.9638 - val_loss: 0.7018 - val_accuracy: 0.7914 - 609ms/epoch - 44ms/step\n",
            "Epoch 44/100\n",
            "14/14 - 1s - loss: 0.1455 - accuracy: 0.9484 - val_loss: 0.7127 - val_accuracy: 0.7859 - 604ms/epoch - 43ms/step\n",
            "Epoch 45/100\n",
            "14/14 - 1s - loss: 0.1679 - accuracy: 0.9384 - val_loss: 0.7077 - val_accuracy: 0.7831 - 642ms/epoch - 46ms/step\n",
            "Epoch 46/100\n",
            "14/14 - 1s - loss: 0.2285 - accuracy: 0.9129 - val_loss: 0.7566 - val_accuracy: 0.7859 - 594ms/epoch - 42ms/step\n",
            "Epoch 47/100\n",
            "14/14 - 1s - loss: 0.2683 - accuracy: 0.9081 - val_loss: 0.7829 - val_accuracy: 0.7804 - 619ms/epoch - 44ms/step\n",
            "Epoch 48/100\n",
            "14/14 - 1s - loss: 0.2568 - accuracy: 0.9200 - val_loss: 1.0109 - val_accuracy: 0.7307 - 590ms/epoch - 42ms/step\n",
            "Epoch 49/100\n",
            "14/14 - 1s - loss: 0.2661 - accuracy: 0.9117 - val_loss: 0.6676 - val_accuracy: 0.7997 - 589ms/epoch - 42ms/step\n",
            "Epoch 50/100\n",
            "14/14 - 1s - loss: 0.1650 - accuracy: 0.9461 - val_loss: 0.5895 - val_accuracy: 0.8052 - 594ms/epoch - 42ms/step\n",
            "Epoch 51/100\n",
            "14/14 - 1s - loss: 0.1251 - accuracy: 0.9609 - val_loss: 0.6560 - val_accuracy: 0.8080 - 610ms/epoch - 44ms/step\n",
            "Epoch 52/100\n",
            "14/14 - 1s - loss: 0.1019 - accuracy: 0.9668 - val_loss: 0.5948 - val_accuracy: 0.8122 - 600ms/epoch - 43ms/step\n",
            "Epoch 53/100\n",
            "14/14 - 1s - loss: 0.0899 - accuracy: 0.9727 - val_loss: 0.6445 - val_accuracy: 0.8011 - 624ms/epoch - 45ms/step\n",
            "Epoch 54/100\n",
            "14/14 - 1s - loss: 0.0967 - accuracy: 0.9656 - val_loss: 0.7286 - val_accuracy: 0.7928 - 592ms/epoch - 42ms/step\n",
            "Epoch 55/100\n",
            "14/14 - 1s - loss: 0.0837 - accuracy: 0.9757 - val_loss: 0.5975 - val_accuracy: 0.8135 - 601ms/epoch - 43ms/step\n",
            "Epoch 56/100\n",
            "14/14 - 1s - loss: 0.0954 - accuracy: 0.9715 - val_loss: 0.6343 - val_accuracy: 0.8149 - 604ms/epoch - 43ms/step\n",
            "Epoch 57/100\n",
            "14/14 - 1s - loss: 0.0863 - accuracy: 0.9715 - val_loss: 0.6462 - val_accuracy: 0.8204 - 604ms/epoch - 43ms/step\n",
            "Epoch 58/100\n",
            "14/14 - 1s - loss: 0.1079 - accuracy: 0.9609 - val_loss: 0.8338 - val_accuracy: 0.7666 - 624ms/epoch - 45ms/step\n",
            "Epoch 59/100\n",
            "14/14 - 1s - loss: 0.1586 - accuracy: 0.9425 - val_loss: 0.6351 - val_accuracy: 0.8011 - 603ms/epoch - 43ms/step\n",
            "Epoch 60/100\n",
            "14/14 - 1s - loss: 0.0910 - accuracy: 0.9733 - val_loss: 0.6263 - val_accuracy: 0.8066 - 600ms/epoch - 43ms/step\n",
            "Epoch 61/100\n",
            "14/14 - 1s - loss: 0.0558 - accuracy: 0.9870 - val_loss: 0.7363 - val_accuracy: 0.8011 - 606ms/epoch - 43ms/step\n",
            "Epoch 62/100\n",
            "14/14 - 1s - loss: 0.0549 - accuracy: 0.9822 - val_loss: 0.7439 - val_accuracy: 0.8080 - 609ms/epoch - 44ms/step\n",
            "Epoch 63/100\n",
            "14/14 - 1s - loss: 0.0705 - accuracy: 0.9763 - val_loss: 0.6670 - val_accuracy: 0.8135 - 594ms/epoch - 42ms/step\n",
            "Epoch 64/100\n",
            "14/14 - 1s - loss: 0.0648 - accuracy: 0.9781 - val_loss: 0.7029 - val_accuracy: 0.8094 - 603ms/epoch - 43ms/step\n",
            "Epoch 65/100\n",
            "14/14 - 1s - loss: 0.1216 - accuracy: 0.9591 - val_loss: 0.7075 - val_accuracy: 0.8080 - 595ms/epoch - 42ms/step\n",
            "Epoch 66/100\n",
            "14/14 - 1s - loss: 0.1146 - accuracy: 0.9632 - val_loss: 0.8446 - val_accuracy: 0.7804 - 629ms/epoch - 45ms/step\n"
          ]
        },
        {
          "name": "stdout",
          "output_type": "stream",
          "text": [
            "Epoch 67/100\n",
            "14/14 - 1s - loss: 0.1528 - accuracy: 0.9478 - val_loss: 0.6730 - val_accuracy: 0.8094 - 641ms/epoch - 46ms/step\n",
            "Epoch 68/100\n",
            "14/14 - 1s - loss: 0.0679 - accuracy: 0.9810 - val_loss: 0.7270 - val_accuracy: 0.8011 - 593ms/epoch - 42ms/step\n",
            "Epoch 69/100\n",
            "14/14 - 1s - loss: 0.0604 - accuracy: 0.9804 - val_loss: 0.6820 - val_accuracy: 0.8218 - 613ms/epoch - 44ms/step\n",
            "Epoch 70/100\n",
            "14/14 - 1s - loss: 0.0390 - accuracy: 0.9923 - val_loss: 0.6505 - val_accuracy: 0.8122 - 608ms/epoch - 43ms/step\n",
            "Epoch 71/100\n",
            "14/14 - 1s - loss: 0.0300 - accuracy: 0.9917 - val_loss: 0.7160 - val_accuracy: 0.8122 - 610ms/epoch - 44ms/step\n",
            "Epoch 72/100\n",
            "14/14 - 1s - loss: 0.0277 - accuracy: 0.9953 - val_loss: 0.6671 - val_accuracy: 0.8135 - 603ms/epoch - 43ms/step\n",
            "Epoch 73/100\n",
            "14/14 - 1s - loss: 0.0218 - accuracy: 0.9959 - val_loss: 0.6568 - val_accuracy: 0.8218 - 592ms/epoch - 42ms/step\n",
            "Epoch 74/100\n",
            "14/14 - 1s - loss: 0.0164 - accuracy: 0.9982 - val_loss: 0.6791 - val_accuracy: 0.8273 - 610ms/epoch - 44ms/step\n",
            "Epoch 75/100\n",
            "14/14 - 1s - loss: 0.0164 - accuracy: 0.9976 - val_loss: 0.7087 - val_accuracy: 0.8218 - 611ms/epoch - 44ms/step\n",
            "Epoch 76/100\n",
            "14/14 - 1s - loss: 0.0162 - accuracy: 0.9976 - val_loss: 0.6536 - val_accuracy: 0.8315 - 605ms/epoch - 43ms/step\n",
            "Epoch 77/100\n",
            "14/14 - 1s - loss: 0.0161 - accuracy: 0.9976 - val_loss: 0.6996 - val_accuracy: 0.8273 - 676ms/epoch - 48ms/step\n",
            "Epoch 78/100\n",
            "14/14 - 1s - loss: 0.0165 - accuracy: 0.9982 - val_loss: 0.6917 - val_accuracy: 0.8246 - 586ms/epoch - 42ms/step\n",
            "Epoch 79/100\n",
            "14/14 - 1s - loss: 0.0156 - accuracy: 0.9976 - val_loss: 0.8269 - val_accuracy: 0.8066 - 600ms/epoch - 43ms/step\n",
            "Epoch 80/100\n",
            "14/14 - 1s - loss: 0.0240 - accuracy: 0.9947 - val_loss: 0.6636 - val_accuracy: 0.8273 - 600ms/epoch - 43ms/step\n",
            "Epoch 81/100\n",
            "14/14 - 1s - loss: 0.0136 - accuracy: 0.9976 - val_loss: 0.7225 - val_accuracy: 0.8191 - 585ms/epoch - 42ms/step\n",
            "Epoch 82/100\n",
            "14/14 - 1s - loss: 0.0155 - accuracy: 0.9970 - val_loss: 0.6992 - val_accuracy: 0.8273 - 690ms/epoch - 49ms/step\n",
            "Epoch 83/100\n",
            "14/14 - 1s - loss: 0.0160 - accuracy: 0.9959 - val_loss: 0.7376 - val_accuracy: 0.8204 - 679ms/epoch - 49ms/step\n",
            "Epoch 84/100\n",
            "14/14 - 1s - loss: 0.0128 - accuracy: 0.9982 - val_loss: 0.7001 - val_accuracy: 0.8218 - 610ms/epoch - 44ms/step\n",
            "Epoch 85/100\n",
            "14/14 - 1s - loss: 0.0078 - accuracy: 1.0000 - val_loss: 0.7072 - val_accuracy: 0.8356 - 676ms/epoch - 48ms/step\n",
            "Epoch 86/100\n",
            "14/14 - 1s - loss: 0.0076 - accuracy: 1.0000 - val_loss: 0.7208 - val_accuracy: 0.8246 - 596ms/epoch - 43ms/step\n",
            "Epoch 87/100\n",
            "14/14 - 1s - loss: 0.0101 - accuracy: 0.9982 - val_loss: 0.7200 - val_accuracy: 0.8273 - 765ms/epoch - 55ms/step\n",
            "Epoch 88/100\n",
            "14/14 - 1s - loss: 0.0118 - accuracy: 0.9976 - val_loss: 0.7846 - val_accuracy: 0.8149 - 659ms/epoch - 47ms/step\n",
            "Epoch 89/100\n",
            "14/14 - 1s - loss: 0.0136 - accuracy: 0.9982 - val_loss: 0.7712 - val_accuracy: 0.8122 - 670ms/epoch - 48ms/step\n",
            "Epoch 90/100\n",
            "14/14 - 1s - loss: 0.0090 - accuracy: 0.9994 - val_loss: 0.7521 - val_accuracy: 0.8218 - 591ms/epoch - 42ms/step\n",
            "Epoch 91/100\n",
            "14/14 - 1s - loss: 0.0070 - accuracy: 1.0000 - val_loss: 0.7812 - val_accuracy: 0.8149 - 590ms/epoch - 42ms/step\n",
            "Epoch 92/100\n",
            "14/14 - 1s - loss: 0.0072 - accuracy: 0.9994 - val_loss: 0.7739 - val_accuracy: 0.8218 - 593ms/epoch - 42ms/step\n",
            "Epoch 93/100\n",
            "14/14 - 1s - loss: 0.0059 - accuracy: 1.0000 - val_loss: 0.7246 - val_accuracy: 0.8287 - 589ms/epoch - 42ms/step\n",
            "Epoch 94/100\n",
            "14/14 - 1s - loss: 0.0046 - accuracy: 1.0000 - val_loss: 0.7594 - val_accuracy: 0.8287 - 597ms/epoch - 43ms/step\n",
            "Epoch 95/100\n",
            "14/14 - 1s - loss: 0.0042 - accuracy: 1.0000 - val_loss: 0.7831 - val_accuracy: 0.8122 - 606ms/epoch - 43ms/step\n",
            "Epoch 96/100\n",
            "14/14 - 1s - loss: 0.0059 - accuracy: 0.9994 - val_loss: 0.7858 - val_accuracy: 0.8204 - 608ms/epoch - 43ms/step\n",
            "Epoch 97/100\n",
            "14/14 - 1s - loss: 0.0058 - accuracy: 0.9994 - val_loss: 0.7700 - val_accuracy: 0.8287 - 612ms/epoch - 44ms/step\n",
            "Epoch 98/100\n",
            "14/14 - 1s - loss: 0.0042 - accuracy: 1.0000 - val_loss: 0.7788 - val_accuracy: 0.8273 - 590ms/epoch - 42ms/step\n",
            "Epoch 99/100\n",
            "14/14 - 1s - loss: 0.0091 - accuracy: 0.9982 - val_loss: 0.8025 - val_accuracy: 0.8135 - 608ms/epoch - 43ms/step\n",
            "Epoch 100/100\n",
            "14/14 - 1s - loss: 0.0068 - accuracy: 0.9994 - val_loss: 0.7877 - val_accuracy: 0.8149 - 599ms/epoch - 43ms/step\n",
            "The best accuracy is 1.0\n"
          ]
        }
      ],
      "source": [
        "best_model = Sequential()\n",
        "best_model.add(Dense(2048,activation = 'relu',kernel_initializer = 'normal',input_dim = X_train.shape[1]))\n",
        "best_model.add(Dense(1024,activation = 'relu'))\n",
        "best_model.add(Dense(7,activation=\"softmax\"))\n",
        "best_model.compile(loss = 'sparse_categorical_crossentropy',optimizer = 'adam',metrics = \"accuracy\")\n",
        "history_best_model = best_model.fit(X_train,Y_train, epochs = 100, batch_size = 128, validation_data = (X_test,Y_test),verbose = 2)\n",
        "best_score = max(history_best_model.history['accuracy'])\n",
        "print(\"The best accuracy is\",best_score)"
      ],
      "id": "dc7ff3ca"
    },
    {
      "cell_type": "markdown",
      "metadata": {
        "id": "d319838e"
      },
      "source": [
        "### Preparing the test data"
      ],
      "id": "d319838e"
    },
    {
      "cell_type": "code",
      "execution_count": null,
      "metadata": {
        "id": "26b458d6",
        "outputId": "094f4639-51d4-4f22-e99d-a780f047b2b5"
      },
      "outputs": [
        {
          "data": {
            "text/plain": [
              "array([[0.87843137, 0.80784314, 0.85882353, ..., 0.89803922, 0.90196078,\n",
              "        0.90196078],\n",
              "       [0.55294118, 0.50196078, 0.45098039, ..., 0.4627451 , 0.50980392,\n",
              "        0.56078431],\n",
              "       [0.99607843, 0.99607843, 0.99607843, ..., 1.        , 1.        ,\n",
              "        1.        ],\n",
              "       ...,\n",
              "       [1.        , 1.        , 1.        , ..., 1.        , 1.        ,\n",
              "        1.        ],\n",
              "       [1.        , 0.99607843, 0.99607843, ..., 0.99215686, 1.        ,\n",
              "        1.        ],\n",
              "       [0.95294118, 0.96862745, 0.97254902, ..., 0.59215686, 0.59215686,\n",
              "        0.59215686]])"
            ]
          },
          "execution_count": 187,
          "metadata": {},
          "output_type": "execute_result"
        }
      ],
      "source": [
        "X_test"
      ],
      "id": "26b458d6"
    },
    {
      "cell_type": "code",
      "execution_count": null,
      "metadata": {
        "id": "dec912ce",
        "outputId": "b5324f0d-a4f4-46dc-8b85-88629954d11b"
      },
      "outputs": [
        {
          "name": "stdout",
          "output_type": "stream",
          "text": [
            "['boat', 'motorcycle', 'airplane', 'truck', 'seaplane', 'bicycle', 'motorbus']\n"
          ]
        }
      ],
      "source": [
        "import os                     \n",
        "my_classes = os.listdir(\"hcaptcha_dataset/test/\")\n",
        "print(my_classes)"
      ],
      "id": "dec912ce"
    },
    {
      "cell_type": "code",
      "execution_count": null,
      "metadata": {
        "id": "bcbaf8b5",
        "outputId": "485193ee-345f-4d8c-9f77-82bfdb55789c"
      },
      "outputs": [
        {
          "data": {
            "text/html": [
              "<div>\n",
              "<style scoped>\n",
              "    .dataframe tbody tr th:only-of-type {\n",
              "        vertical-align: middle;\n",
              "    }\n",
              "\n",
              "    .dataframe tbody tr th {\n",
              "        vertical-align: top;\n",
              "    }\n",
              "\n",
              "    .dataframe thead th {\n",
              "        text-align: right;\n",
              "    }\n",
              "</style>\n",
              "<table border=\"1\" class=\"dataframe\">\n",
              "  <thead>\n",
              "    <tr style=\"text-align: right;\">\n",
              "      <th></th>\n",
              "      <th>Label</th>\n",
              "      <th>Number(training)</th>\n",
              "      <th>Number(testing)</th>\n",
              "      <th>Total</th>\n",
              "    </tr>\n",
              "  </thead>\n",
              "  <tbody>\n",
              "    <tr>\n",
              "      <th>0</th>\n",
              "      <td>boat</td>\n",
              "      <td>528</td>\n",
              "      <td>134</td>\n",
              "      <td>662</td>\n",
              "    </tr>\n",
              "    <tr>\n",
              "      <th>1</th>\n",
              "      <td>motorcycle</td>\n",
              "      <td>592</td>\n",
              "      <td>141</td>\n",
              "      <td>733</td>\n",
              "    </tr>\n",
              "    <tr>\n",
              "      <th>2</th>\n",
              "      <td>airplane</td>\n",
              "      <td>402</td>\n",
              "      <td>101</td>\n",
              "      <td>503</td>\n",
              "    </tr>\n",
              "    <tr>\n",
              "      <th>3</th>\n",
              "      <td>truck</td>\n",
              "      <td>656</td>\n",
              "      <td>163</td>\n",
              "      <td>819</td>\n",
              "    </tr>\n",
              "    <tr>\n",
              "      <th>4</th>\n",
              "      <td>seaplane</td>\n",
              "      <td>280</td>\n",
              "      <td>75</td>\n",
              "      <td>355</td>\n",
              "    </tr>\n",
              "    <tr>\n",
              "      <th>5</th>\n",
              "      <td>bicycle</td>\n",
              "      <td>304</td>\n",
              "      <td>71</td>\n",
              "      <td>375</td>\n",
              "    </tr>\n",
              "    <tr>\n",
              "      <th>6</th>\n",
              "      <td>motorbus</td>\n",
              "      <td>256</td>\n",
              "      <td>61</td>\n",
              "      <td>317</td>\n",
              "    </tr>\n",
              "  </tbody>\n",
              "</table>\n",
              "</div>"
            ],
            "text/plain": [
              "        Label  Number(training)  Number(testing)  Total\n",
              "0        boat               528              134    662\n",
              "1  motorcycle               592              141    733\n",
              "2    airplane               402              101    503\n",
              "3       truck               656              163    819\n",
              "4    seaplane               280               75    355\n",
              "5     bicycle               304               71    375\n",
              "6    motorbus               256               61    317"
            ]
          },
          "execution_count": 189,
          "metadata": {},
          "output_type": "execute_result"
        }
      ],
      "source": [
        "import pandas as pd\n",
        "\n",
        "names=[]\n",
        "my_train=[]\n",
        "my_test=[]\n",
        "my_total = []\n",
        "\n",
        "for name in labels:\n",
        "    im_num_train = len(os.listdir(f\"./hcaptcha_dataset/train/{name}\"))\n",
        "    im_num_test = len(os.listdir(f\"./hcaptcha_dataset/test/{name}\"))\n",
        "    \n",
        "    names.append(name)\n",
        "    my_train.append(im_num_train)\n",
        "    my_test.append(im_num_test)\n",
        "    my_total.append(im_num_train+im_num_test)\n",
        "dic = {'Label': names, 'Number(training)': my_train, 'Number(testing)': my_test, 'Total': my_total} \n",
        "    \n",
        "my_dataframe = pd.DataFrame(dic)\n",
        "my_dataframe"
      ],
      "id": "bcbaf8b5"
    },
    {
      "cell_type": "code",
      "execution_count": null,
      "metadata": {
        "id": "810b96f5"
      },
      "outputs": [],
      "source": [
        "from PIL import Image\n",
        "import cv2\n",
        "import matplotlib.pyplot as plt\n",
        "\n",
        "\n",
        "for my_label in os.listdir(\"./hcaptcha_dataset/test/\"):\n",
        "    my_images = os.listdir(f\"./hcaptcha_dataset/test/{my_label}\")\n",
        "    for image in my_images:\n",
        "        try:\n",
        "            my_img = cv2.imread(f\"./hcaptcha_dataset/test/{my_label}/{image}\")\n",
        "            gray = cv2.cvtColor(my_img, cv2.COLOR_BGR2GRAY)\n",
        "            cv2.imwrite(f\"./hcaptcha_dataset/test/{my_label}/{image}\", gray)\n",
        "        except:\n",
        "            continue"
      ],
      "id": "810b96f5"
    },
    {
      "cell_type": "code",
      "execution_count": null,
      "metadata": {
        "id": "8af511b3",
        "outputId": "19e809b5-bb9c-458d-9d74-01ffab00ea37"
      },
      "outputs": [
        {
          "name": "stdout",
          "output_type": "stream",
          "text": [
            "Class boat processessing done!\n",
            "Class motorcycle processessing done!\n",
            "Class airplane processessing done!\n",
            "Class truck processessing done!\n",
            "Class seaplane processessing done!\n",
            "Class bicycle processessing done!\n",
            "Class motorbus processessing done!\n",
            "All classes have been processed\n"
          ]
        }
      ],
      "source": [
        "class_number = 0\n",
        "num_classes = len(os.listdir(f\"./hcaptcha_dataset/test/\"))\n",
        "count = 0\n",
        "\n",
        "x_test = []\n",
        "y_test = []\n",
        "\n",
        "\n",
        "for classes in os.listdir(\"./hcaptcha_dataset/test/\"):\n",
        "    y_array = class_number\n",
        "    all_images = os.listdir(f\"./hcaptcha_dataset/test/{classes}\")\n",
        "    tot = len(all_images)\n",
        "    count = 0\n",
        "    for images in all_images:\n",
        "        try:\n",
        "            img = resize_and_normalise(f\"./hcaptcha_dataset/test/{classes}/{images}\")\n",
        "            x_test.append(img)\n",
        "            y_test.append(y_array)\n",
        "            count+=1\n",
        "        except:\n",
        "            continue\n",
        "    class_number+=1\n",
        "    print(f\"Class {classes} processessing done!\")\n",
        "\n",
        "print(\"All classes have been processed\")"
      ],
      "id": "8af511b3"
    },
    {
      "cell_type": "code",
      "execution_count": null,
      "metadata": {
        "id": "ee3b5dc9"
      },
      "outputs": [],
      "source": [
        "x_test = np.array(x_test)\n",
        "y_test = np.array(y_test)"
      ],
      "id": "ee3b5dc9"
    },
    {
      "cell_type": "code",
      "execution_count": null,
      "metadata": {
        "id": "c16220bd",
        "outputId": "df72e1c0-61c4-4523-aca1-a1bf76c50ed5"
      },
      "outputs": [
        {
          "data": {
            "text/plain": [
              "(746, 40, 40)"
            ]
          },
          "execution_count": 195,
          "metadata": {},
          "output_type": "execute_result"
        }
      ],
      "source": [
        "x_test.shape"
      ],
      "id": "c16220bd"
    },
    {
      "cell_type": "code",
      "execution_count": null,
      "metadata": {
        "id": "2392c375"
      },
      "outputs": [],
      "source": [
        "x_test =  (np.array(x_test).reshape(np.array(x_test).shape[0],-1))\n"
      ],
      "id": "2392c375"
    },
    {
      "cell_type": "code",
      "execution_count": null,
      "metadata": {
        "id": "6a134863",
        "outputId": "4b4af7b4-af2a-4728-b8e4-c0a03318a412"
      },
      "outputs": [
        {
          "data": {
            "text/plain": [
              "(746, 1600)"
            ]
          },
          "execution_count": 197,
          "metadata": {},
          "output_type": "execute_result"
        }
      ],
      "source": [
        "x_test.shape"
      ],
      "id": "6a134863"
    },
    {
      "cell_type": "code",
      "execution_count": null,
      "metadata": {
        "id": "fa48950d",
        "outputId": "8005d95f-cbe2-46a6-a228-5e6e706a1808"
      },
      "outputs": [
        {
          "name": "stdout",
          "output_type": "stream",
          "text": [
            "24/24 [==============================] - 0s 5ms/step\n"
          ]
        }
      ],
      "source": [
        "y_result = best_model.predict(x_test)"
      ],
      "id": "fa48950d"
    },
    {
      "cell_type": "code",
      "execution_count": null,
      "metadata": {
        "id": "06855d41",
        "outputId": "927df249-ec52-44c7-87c0-2f026607f7f9"
      },
      "outputs": [
        {
          "data": {
            "text/plain": [
              "(746, 7)"
            ]
          },
          "execution_count": 199,
          "metadata": {},
          "output_type": "execute_result"
        }
      ],
      "source": [
        "y_result.shape"
      ],
      "id": "06855d41"
    },
    {
      "cell_type": "code",
      "execution_count": null,
      "metadata": {
        "id": "c82558bf"
      },
      "outputs": [],
      "source": [
        "y_result=list(y_result)"
      ],
      "id": "c82558bf"
    },
    {
      "cell_type": "code",
      "execution_count": null,
      "metadata": {
        "id": "b40d9427"
      },
      "outputs": [],
      "source": [
        "my_data = {'id_of_image': [],'predicted_class_of_image': [],'actual_class_of_image': []}"
      ],
      "id": "b40d9427"
    },
    {
      "cell_type": "code",
      "execution_count": null,
      "metadata": {
        "id": "d54851d9",
        "outputId": "91cd7009-0e07-4014-aae3-8b37823d5de3"
      },
      "outputs": [
        {
          "data": {
            "text/plain": [
              "0.8404825737265416"
            ]
          },
          "execution_count": 203,
          "metadata": {},
          "output_type": "execute_result"
        }
      ],
      "source": [
        "my_data = {'id_of_image': [],'predicted_class_of_image': [],'actual_class_of_image': []}\n",
        "count=0\n",
        "for i in range(746):\n",
        "    y_result[i] = list(y_result[i])\n",
        "    my_index = y_result[i].index(max(y_result[i]))\n",
        "    my_data['id_of_image'].append(i)\n",
        "    my_data['predicted_class_of_image'].append(my_index)\n",
        "    my_data['actual_class_of_image'].append(y_test[i])\n",
        "    if my_index==y_test[i]:\n",
        "        count+=1\n",
        "count/746"
      ],
      "id": "d54851d9"
    },
    {
      "cell_type": "code",
      "source": [],
      "metadata": {
        "id": "ubhjo1hT49hQ"
      },
      "id": "ubhjo1hT49hQ",
      "execution_count": null,
      "outputs": []
    },
    {
      "cell_type": "markdown",
      "metadata": {
        "id": "992194a5"
      },
      "source": [
        "# The accuracy of our model is 84.048%"
      ],
      "id": "992194a5"
    }
  ],
  "metadata": {
    "kernelspec": {
      "display_name": "Python 3 (ipykernel)",
      "language": "python",
      "name": "python3"
    },
    "language_info": {
      "codemirror_mode": {
        "name": "ipython",
        "version": 3
      },
      "file_extension": ".py",
      "mimetype": "text/x-python",
      "name": "python",
      "nbconvert_exporter": "python",
      "pygments_lexer": "ipython3",
      "version": "3.8.10"
    },
    "vscode": {
      "interpreter": {
        "hash": "31f2aee4e71d21fbe5cf8b01ff0e069b9275f58929596ceb00d14d90e3e16cd6"
      }
    },
    "colab": {
      "provenance": [],
      "collapsed_sections": [
        "e37f4e2a",
        "34899586",
        "c92d9b1f",
        "8efa9473",
        "dd67a42b",
        "3f4d61f3",
        "c379a749",
        "e347ea4a",
        "316496b7",
        "0c328312",
        "77c7dc26",
        "c0ea640d",
        "fca03732",
        "ef7e86b5",
        "4ec87b95",
        "7d70c84e",
        "7d00f283",
        "6fdb3e5f",
        "af33e0c6",
        "992194a5"
      ]
    }
  },
  "nbformat": 4,
  "nbformat_minor": 5
}